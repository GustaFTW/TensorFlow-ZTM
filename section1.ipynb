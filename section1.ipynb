{
  "nbformat": 4,
  "nbformat_minor": 0,
  "metadata": {
    "colab": {
      "provenance": [],
      "toc_visible": true,
      "authorship_tag": "ABX9TyMNzgm0lKW8jfLobsBuHQSC",
      "include_colab_link": true
    },
    "kernelspec": {
      "name": "python3",
      "display_name": "Python 3"
    },
    "language_info": {
      "name": "python"
    }
  },
  "cells": [
    {
      "cell_type": "markdown",
      "metadata": {
        "id": "view-in-github",
        "colab_type": "text"
      },
      "source": [
        "<a href=\"https://colab.research.google.com/github/GustaFTW/TensorFlow-ZTM/blob/main/section1.ipynb\" target=\"_parent\"><img src=\"https://colab.research.google.com/assets/colab-badge.svg\" alt=\"Open In Colab\"/></a>"
      ]
    },
    {
      "cell_type": "markdown",
      "source": [
        "# Introduction to Regression with Neural Networks in TensorFlow\n",
        "\n",
        "There are many definitions for a regression problem, but in our case, we're going to simplify it: predicting a numerical variable based on some other combination of variables, even shorter...predicting a number"
      ],
      "metadata": {
        "id": "g1tmHhVuPRuK"
      }
    },
    {
      "cell_type": "code",
      "source": [
        "# Import TensorFlow\n",
        "import tensorflow as tf\n",
        "print(tf.__version__)"
      ],
      "metadata": {
        "colab": {
          "base_uri": "https://localhost:8080/"
        },
        "id": "TqhZPxUAckB1",
        "outputId": "b9ba84bc-4ebf-4095-949b-38b87d309b54"
      },
      "execution_count": null,
      "outputs": [
        {
          "output_type": "stream",
          "name": "stdout",
          "text": [
            "2.9.2\n"
          ]
        }
      ]
    },
    {
      "cell_type": "markdown",
      "source": [
        "## Creating data to view and fit"
      ],
      "metadata": {
        "id": "bqsYc60mcufN"
      }
    },
    {
      "cell_type": "code",
      "source": [
        "import numpy as np\n",
        "import matplotlib.pyplot as plt\n",
        "\n",
        "# Create features\n",
        "X = np.array([-7.0, -4.0, -1., 2., 5., 8., 11., 14.])\n",
        "\n",
        "# Create labels\n",
        "y = np.array([3.0, 6.0, 9.0, 12., 15., 18., 21., 24.])\n",
        "\n",
        "# Visualize it\n",
        "plt.scatter(X, y)"
      ],
      "metadata": {
        "colab": {
          "base_uri": "https://localhost:8080/",
          "height": 287
        },
        "id": "b4Thg5Cqc5hx",
        "outputId": "9d653a38-9fee-46e4-dbe7-7aa02c6cae16"
      },
      "execution_count": null,
      "outputs": [
        {
          "output_type": "execute_result",
          "data": {
            "text/plain": [
              "<matplotlib.collections.PathCollection at 0x7fa9aea1d350>"
            ]
          },
          "metadata": {},
          "execution_count": 2
        },
        {
          "output_type": "display_data",
          "data": {
            "text/plain": [
              "<Figure size 432x288 with 1 Axes>"
            ],
            "image/png": "[encoded data removed]"
          },
          "metadata": {
            "needs_background": "light"
          }
        }
      ]
    },
    {
      "cell_type": "code",
      "source": [
        "y == X + 10"
      ],
      "metadata": {
        "colab": {
          "base_uri": "https://localhost:8080/"
        },
        "id": "nvYYbZC0dT8m",
        "outputId": "11c50abc-2458-4710-af72-d99f1fcd6e0d"
      },
      "execution_count": null,
      "outputs": [
        {
          "output_type": "execute_result",
          "data": {
            "text/plain": [
              "array([ True,  True,  True,  True,  True,  True,  True,  True])"
            ]
          },
          "metadata": {},
          "execution_count": 3
        }
      ]
    },
    {
      "cell_type": "markdown",
      "source": [
        "### Input and output shapes"
      ],
      "metadata": {
        "id": "I_msz0cqdpe-"
      }
    },
    {
      "cell_type": "code",
      "source": [
        "# Create a demo tensor for our housing price prediction problem\n",
        "house_info = tf.constant([\"bedroom\", \"bathroom\", \"garage\"])\n",
        "house_price = tf.constant([939700])\n",
        "house_info, house_price"
      ],
      "metadata": {
        "colab": {
          "base_uri": "https://localhost:8080/"
        },
        "id": "mGVXRHd7dtbL",
        "outputId": "f1d5b0b9-6b15-48cd-a0d9-707e6740d87a"
      },
      "execution_count": null,
      "outputs": [
        {
          "output_type": "execute_result",
          "data": {
            "text/plain": [
              "(<tf.Tensor: shape=(3,), dtype=string, numpy=array([b'bedroom', b'bathroom', b'garage'], dtype=object)>,\n",
              " <tf.Tensor: shape=(1,), dtype=int32, numpy=array([939700], dtype=int32)>)"
            ]
          },
          "metadata": {},
          "execution_count": 4
        }
      ]
    },
    {
      "cell_type": "code",
      "source": [
        "X[0], y[0]"
      ],
      "metadata": {
        "colab": {
          "base_uri": "https://localhost:8080/"
        },
        "id": "CUGhP_mqeWC9",
        "outputId": "c03c366d-d476-4e3c-ffbb-3dff8807f8fa"
      },
      "execution_count": null,
      "outputs": [
        {
          "output_type": "execute_result",
          "data": {
            "text/plain": [
              "(-7.0, 3.0)"
            ]
          },
          "metadata": {},
          "execution_count": 5
        }
      ]
    },
    {
      "cell_type": "code",
      "source": [
        "X[1], y[1]"
      ],
      "metadata": {
        "colab": {
          "base_uri": "https://localhost:8080/"
        },
        "id": "2LMHPaCJefet",
        "outputId": "8f6fd441-90d3-4310-c679-ef63e318fb16"
      },
      "execution_count": null,
      "outputs": [
        {
          "output_type": "execute_result",
          "data": {
            "text/plain": [
              "(-4.0, 6.0)"
            ]
          },
          "metadata": {},
          "execution_count": 6
        }
      ]
    },
    {
      "cell_type": "code",
      "source": [
        "input_shape = X[0].shape\n",
        "output_shape = y[0].shape\n",
        "input_shape, output_shape"
      ],
      "metadata": {
        "colab": {
          "base_uri": "https://localhost:8080/"
        },
        "id": "dcGjzeoVeP8o",
        "outputId": "f54afd02-7161-44c5-a9a1-10598dbe3b2a"
      },
      "execution_count": null,
      "outputs": [
        {
          "output_type": "execute_result",
          "data": {
            "text/plain": [
              "((), ())"
            ]
          },
          "metadata": {},
          "execution_count": 7
        }
      ]
    },
    {
      "cell_type": "code",
      "source": [
        "X[0].ndim"
      ],
      "metadata": {
        "colab": {
          "base_uri": "https://localhost:8080/"
        },
        "id": "25xNIsDieuHm",
        "outputId": "ccb00aa6-d5e3-4e7c-bfdd-20a1f43efb3f"
      },
      "execution_count": null,
      "outputs": [
        {
          "output_type": "execute_result",
          "data": {
            "text/plain": [
              "0"
            ]
          },
          "metadata": {},
          "execution_count": 8
        }
      ]
    },
    {
      "cell_type": "code",
      "source": [
        "X[0], y[0]"
      ],
      "metadata": {
        "colab": {
          "base_uri": "https://localhost:8080/"
        },
        "id": "bP7ysBbkewaH",
        "outputId": "57764d68-1089-4051-e031-f25079d1ea4d"
      },
      "execution_count": null,
      "outputs": [
        {
          "output_type": "execute_result",
          "data": {
            "text/plain": [
              "(-7.0, 3.0)"
            ]
          },
          "metadata": {},
          "execution_count": 9
        }
      ]
    },
    {
      "cell_type": "code",
      "source": [
        "# Turn our NumPy arrays into tensors\n",
        "X = tf.constant(X)\n",
        "y = tf.constant(y)\n",
        "X, y"
      ],
      "metadata": {
        "colab": {
          "base_uri": "https://localhost:8080/"
        },
        "id": "I1U4wVtqey86",
        "outputId": "c51667ea-3ab8-4e25-affa-f6d8a51ef4ad"
      },
      "execution_count": null,
      "outputs": [
        {
          "output_type": "execute_result",
          "data": {
            "text/plain": [
              "(<tf.Tensor: shape=(8,), dtype=float64, numpy=array([-7., -4., -1.,  2.,  5.,  8., 11., 14.])>,\n",
              " <tf.Tensor: shape=(8,), dtype=float64, numpy=array([ 3.,  6.,  9., 12., 15., 18., 21., 24.])>)"
            ]
          },
          "metadata": {},
          "execution_count": 10
        }
      ]
    },
    {
      "cell_type": "code",
      "source": [
        "input_shape = X[0].shape\n",
        "output_shape = y[0].shape\n",
        "input_shape, output_shape"
      ],
      "metadata": {
        "colab": {
          "base_uri": "https://localhost:8080/"
        },
        "id": "KfLsDo0vfWnO",
        "outputId": "58b1676e-6d4f-4c71-f15a-29b0533d1504"
      },
      "execution_count": null,
      "outputs": [
        {
          "output_type": "execute_result",
          "data": {
            "text/plain": [
              "(TensorShape([]), TensorShape([]))"
            ]
          },
          "metadata": {},
          "execution_count": 11
        }
      ]
    },
    {
      "cell_type": "code",
      "source": [
        "plt.scatter(X, y)"
      ],
      "metadata": {
        "colab": {
          "base_uri": "https://localhost:8080/",
          "height": 287
        },
        "id": "w4evkdh6fdk5",
        "outputId": "5be98edc-0394-48b9-9a66-bf66addc33fc"
      },
      "execution_count": null,
      "outputs": [
        {
          "output_type": "execute_result",
          "data": {
            "text/plain": [
              "<matplotlib.collections.PathCollection at 0x7fa9aea1d190>"
            ]
          },
          "metadata": {},
          "execution_count": 12
        },
        {
          "output_type": "display_data",
          "data": {
            "text/plain": [
              "<Figure size 432x288 with 1 Axes>"
            ],
            "image/png": "[encoded data removed]"
          },
          "metadata": {
            "needs_background": "light"
          }
        }
      ]
    },
    {
      "cell_type": "markdown",
      "source": [
        "## Steps in modelling with TensorFlow\n",
        "\n",
        "1. **Creating a model** - define the input and output layers, as well as the hidden layers of a deep learning model.\n",
        "2. **Compiling a model** - define the loss function (in others words, the function which tells our model how wrong it is) and the optimizer (tells our model how to improve the patterns its learning) and evaluation metrics (what we can use to interpret the performance of our model).\n",
        "3. Fitting a model - letting the model try to find patterns between X & y (features and labels)."
      ],
      "metadata": {
        "id": "t5mqDBV2fibv"
      }
    },
    {
      "cell_type": "code",
      "source": [
        "# Set random seed\n",
        "tf.random.set_seed(42)\n",
        "\n",
        "# 1. Create a model using the Sequential API\n",
        "model = tf.keras.Sequential([\n",
        "    tf.keras.layers.Dense(1)\n",
        "])\n",
        "\n",
        "# 2. Compile the model\n",
        "model.compile(loss=tf.keras.losses.mae, # mae is short for mean absolute error\n",
        "              optimizer =tf.keras.optimizers.SGD(), # SGD is short for stochastic gradient descent\n",
        "              metrics=[\"mae\"])\n",
        "\n",
        "# 3. Fit the model\n",
        "model.fit(tf.expand_dims(X, axis=-1), y, epochs=10)  "
      ],
      "metadata": {
        "colab": {
          "base_uri": "https://localhost:8080/"
        },
        "id": "XTp2HsShgbs7",
        "outputId": "d16818db-f31a-44a3-8abd-2fca8f44f3e3"
      },
      "execution_count": null,
      "outputs": [
        {
          "output_type": "stream",
          "name": "stdout",
          "text": [
            "Epoch 1/10\n",
            "1/1 [==============================] - 1s 631ms/step - loss: 11.5048 - mae: 11.5048\n",
            "Epoch 2/10\n",
            "1/1 [==============================] - 0s 11ms/step - loss: 11.3723 - mae: 11.3723\n",
            "Epoch 3/10\n",
            "1/1 [==============================] - 0s 23ms/step - loss: 11.2398 - mae: 11.2398\n",
            "Epoch 4/10\n",
            "1/1 [==============================] - 0s 12ms/step - loss: 11.1073 - mae: 11.1073\n",
            "Epoch 5/10\n",
            "1/1 [==============================] - 0s 13ms/step - loss: 10.9748 - mae: 10.9748\n",
            "Epoch 6/10\n",
            "1/1 [==============================] - 0s 15ms/step - loss: 10.8423 - mae: 10.8423\n",
            "Epoch 7/10\n",
            "1/1 [==============================] - 0s 11ms/step - loss: 10.7098 - mae: 10.7098\n",
            "Epoch 8/10\n",
            "1/1 [==============================] - 0s 15ms/step - loss: 10.5773 - mae: 10.5773\n",
            "Epoch 9/10\n",
            "1/1 [==============================] - 0s 10ms/step - loss: 10.4448 - mae: 10.4448\n",
            "Epoch 10/10\n",
            "1/1 [==============================] - 0s 12ms/step - loss: 10.3123 - mae: 10.3123\n"
          ]
        },
        {
          "output_type": "execute_result",
          "data": {
            "text/plain": [
              "<keras.callbacks.History at 0x7fa9aa146b90>"
            ]
          },
          "metadata": {},
          "execution_count": 13
        }
      ]
    },
    {
      "cell_type": "code",
      "source": [
        "# Check out X and y\n",
        "X, y"
      ],
      "metadata": {
        "colab": {
          "base_uri": "https://localhost:8080/"
        },
        "id": "HqYaPX7Vfl41",
        "outputId": "2a71e6a6-bd5b-4fa9-9a1f-8d109932a663"
      },
      "execution_count": null,
      "outputs": [
        {
          "output_type": "execute_result",
          "data": {
            "text/plain": [
              "(<tf.Tensor: shape=(8,), dtype=float64, numpy=array([-7., -4., -1.,  2.,  5.,  8., 11., 14.])>,\n",
              " <tf.Tensor: shape=(8,), dtype=float64, numpy=array([ 3.,  6.,  9., 12., 15., 18., 21., 24.])>)"
            ]
          },
          "metadata": {},
          "execution_count": 14
        }
      ]
    },
    {
      "cell_type": "code",
      "source": [
        "# Try and make a prediction using our model\n",
        "y_pred = model.predict([17.])\n",
        "y_pred"
      ],
      "metadata": {
        "colab": {
          "base_uri": "https://localhost:8080/"
        },
        "id": "NePSrRzlkE1t",
        "outputId": "73816362-9a69-48f4-d15b-d42d156e5a36"
      },
      "execution_count": null,
      "outputs": [
        {
          "output_type": "stream",
          "name": "stdout",
          "text": [
            "1/1 [==============================] - 0s 119ms/step\n"
          ]
        },
        {
          "output_type": "execute_result",
          "data": {
            "text/plain": [
              "array([[15.741023]], dtype=float32)"
            ]
          },
          "metadata": {},
          "execution_count": 15
        }
      ]
    },
    {
      "cell_type": "code",
      "source": [
        "y_pred + 11"
      ],
      "metadata": {
        "colab": {
          "base_uri": "https://localhost:8080/"
        },
        "id": "eyXVmZuEkMY-",
        "outputId": "369925fe-bb00-428c-c6a5-0fb35ab1f37d"
      },
      "execution_count": null,
      "outputs": [
        {
          "output_type": "execute_result",
          "data": {
            "text/plain": [
              "array([[26.741024]], dtype=float32)"
            ]
          },
          "metadata": {},
          "execution_count": 16
        }
      ]
    },
    {
      "cell_type": "markdown",
      "source": [
        "## Improving our model\n",
        "\n",
        "We can improve our model, by altering the steps we took to create a model.\n",
        "\n",
        "1. **Creating a model** - here we might add more layers, increase the number of hidden units (also called neurons) within each of the hidden layers, change the activation function of each layer.\n",
        "2. **Compiling a model** - here we might change the optimization function or perhaps the **learning rate** of the optimization function.\n",
        "3. **Fitting a model** - here we might fit a model for more **epochs** (leave it training for longer) or on more data (give the models more examples to learn from)\n"
      ],
      "metadata": {
        "id": "xEHZIKD-kv_x"
      }
    },
    {
      "cell_type": "code",
      "source": [
        "# Let's rebuild our model\n",
        "\n",
        "# 1. Create the model\n",
        "model = tf.keras.Sequential([\n",
        "    tf.keras.layers.Dense(1)\n",
        "])\n",
        "\n",
        "# 2. Compile the model\n",
        "model.compile(loss=tf.keras.losses.mae,\n",
        "              optimizer=tf.keras.optimizers.SGD(),\n",
        "              metrics=[\"mae\"])\n",
        "\n",
        "# 3. Fit the model (this time we'll train for longer)\n",
        "model.fit(tf.expand_dims(X, axis=-1), y, epochs=100)  "
      ],
      "metadata": {
        "id": "EO78tadPk1jC",
        "colab": {
          "base_uri": "https://localhost:8080/"
        },
        "outputId": "2156f281-0adb-48b9-8067-0b99d92e9a17"
      },
      "execution_count": null,
      "outputs": [
        {
          "output_type": "stream",
          "name": "stdout",
          "text": [
            "Epoch 1/100\n",
            "1/1 [==============================] - 0s 325ms/step - loss: 11.2219 - mae: 11.2219\n",
            "Epoch 2/100\n",
            "1/1 [==============================] - 0s 11ms/step - loss: 11.0894 - mae: 11.0894\n",
            "Epoch 3/100\n",
            "1/1 [==============================] - 0s 13ms/step - loss: 10.9569 - mae: 10.9569\n",
            "Epoch 4/100\n",
            "1/1 [==============================] - 0s 9ms/step - loss: 10.8244 - mae: 10.8244\n",
            "Epoch 5/100\n",
            "1/1 [==============================] - 0s 16ms/step - loss: 10.6919 - mae: 10.6919\n",
            "Epoch 6/100\n",
            "1/1 [==============================] - 0s 11ms/step - loss: 10.5594 - mae: 10.5594\n",
            "Epoch 7/100\n",
            "1/1 [==============================] - 0s 14ms/step - loss: 10.4269 - mae: 10.4269\n",
            "Epoch 8/100\n",
            "1/1 [==============================] - 0s 11ms/step - loss: 10.2944 - mae: 10.2944\n",
            "Epoch 9/100\n",
            "1/1 [==============================] - 0s 6ms/step - loss: 10.1619 - mae: 10.1619\n",
            "Epoch 10/100\n",
            "1/1 [==============================] - 0s 8ms/step - loss: 10.0294 - mae: 10.0294\n",
            "Epoch 11/100\n",
            "1/1 [==============================] - 0s 7ms/step - loss: 9.8969 - mae: 9.8969\n",
            "Epoch 12/100\n",
            "1/1 [==============================] - 0s 14ms/step - loss: 9.7644 - mae: 9.7644\n",
            "Epoch 13/100\n",
            "1/1 [==============================] - 0s 8ms/step - loss: 9.6319 - mae: 9.6319\n",
            "Epoch 14/100\n",
            "1/1 [==============================] - 0s 8ms/step - loss: 9.4994 - mae: 9.4994\n",
            "Epoch 15/100\n",
            "1/1 [==============================] - 0s 8ms/step - loss: 9.3669 - mae: 9.3669\n",
            "Epoch 16/100\n",
            "1/1 [==============================] - 0s 8ms/step - loss: 9.2344 - mae: 9.2344\n",
            "Epoch 17/100\n",
            "1/1 [==============================] - 0s 11ms/step - loss: 9.1019 - mae: 9.1019\n",
            "Epoch 18/100\n",
            "1/1 [==============================] - 0s 8ms/step - loss: 8.9694 - mae: 8.9694\n",
            "Epoch 19/100\n",
            "1/1 [==============================] - 0s 7ms/step - loss: 8.8369 - mae: 8.8369\n",
            "Epoch 20/100\n",
            "1/1 [==============================] - 0s 7ms/step - loss: 8.7044 - mae: 8.7044\n",
            "Epoch 21/100\n",
            "1/1 [==============================] - 0s 8ms/step - loss: 8.5719 - mae: 8.5719\n",
            "Epoch 22/100\n",
            "1/1 [==============================] - 0s 7ms/step - loss: 8.4394 - mae: 8.4394\n",
            "Epoch 23/100\n",
            "1/1 [==============================] - 0s 8ms/step - loss: 8.3069 - mae: 8.3069\n",
            "Epoch 24/100\n",
            "1/1 [==============================] - 0s 11ms/step - loss: 8.1744 - mae: 8.1744\n",
            "Epoch 25/100\n",
            "1/1 [==============================] - 0s 10ms/step - loss: 8.0419 - mae: 8.0419\n",
            "Epoch 26/100\n",
            "1/1 [==============================] - 0s 10ms/step - loss: 7.9094 - mae: 7.9094\n",
            "Epoch 27/100\n",
            "1/1 [==============================] - 0s 6ms/step - loss: 7.7769 - mae: 7.7769\n",
            "Epoch 28/100\n",
            "1/1 [==============================] - 0s 12ms/step - loss: 7.6444 - mae: 7.6444\n",
            "Epoch 29/100\n",
            "1/1 [==============================] - 0s 7ms/step - loss: 7.5119 - mae: 7.5119\n",
            "Epoch 30/100\n",
            "1/1 [==============================] - 0s 8ms/step - loss: 7.3794 - mae: 7.3794\n",
            "Epoch 31/100\n",
            "1/1 [==============================] - 0s 7ms/step - loss: 7.2750 - mae: 7.2750\n",
            "Epoch 32/100\n",
            "1/1 [==============================] - 0s 8ms/step - loss: 7.2694 - mae: 7.2694\n",
            "Epoch 33/100\n",
            "1/1 [==============================] - 0s 7ms/step - loss: 7.2638 - mae: 7.2638\n",
            "Epoch 34/100\n",
            "1/1 [==============================] - 0s 7ms/step - loss: 7.2581 - mae: 7.2581\n",
            "Epoch 35/100\n",
            "1/1 [==============================] - 0s 7ms/step - loss: 7.2525 - mae: 7.2525\n",
            "Epoch 36/100\n",
            "1/1 [==============================] - 0s 7ms/step - loss: 7.2469 - mae: 7.2469\n",
            "Epoch 37/100\n",
            "1/1 [==============================] - 0s 9ms/step - loss: 7.2412 - mae: 7.2412\n",
            "Epoch 38/100\n",
            "1/1 [==============================] - 0s 7ms/step - loss: 7.2356 - mae: 7.2356\n",
            "Epoch 39/100\n",
            "1/1 [==============================] - 0s 7ms/step - loss: 7.2300 - mae: 7.2300\n",
            "Epoch 40/100\n",
            "1/1 [==============================] - 0s 8ms/step - loss: 7.2244 - mae: 7.2244\n",
            "Epoch 41/100\n",
            "1/1 [==============================] - 0s 9ms/step - loss: 7.2188 - mae: 7.2188\n",
            "Epoch 42/100\n",
            "1/1 [==============================] - 0s 7ms/step - loss: 7.2131 - mae: 7.2131\n",
            "Epoch 43/100\n",
            "1/1 [==============================] - 0s 10ms/step - loss: 7.2075 - mae: 7.2075\n",
            "Epoch 44/100\n",
            "1/1 [==============================] - 0s 7ms/step - loss: 7.2019 - mae: 7.2019\n",
            "Epoch 45/100\n",
            "1/1 [==============================] - 0s 8ms/step - loss: 7.1962 - mae: 7.1962\n",
            "Epoch 46/100\n",
            "1/1 [==============================] - 0s 9ms/step - loss: 7.1906 - mae: 7.1906\n",
            "Epoch 47/100\n",
            "1/1 [==============================] - 0s 7ms/step - loss: 7.1850 - mae: 7.1850\n",
            "Epoch 48/100\n",
            "1/1 [==============================] - 0s 9ms/step - loss: 7.1794 - mae: 7.1794\n",
            "Epoch 49/100\n",
            "1/1 [==============================] - 0s 11ms/step - loss: 7.1737 - mae: 7.1737\n",
            "Epoch 50/100\n",
            "1/1 [==============================] - 0s 8ms/step - loss: 7.1681 - mae: 7.1681\n",
            "Epoch 51/100\n",
            "1/1 [==============================] - 0s 8ms/step - loss: 7.1625 - mae: 7.1625\n",
            "Epoch 52/100\n",
            "1/1 [==============================] - 0s 8ms/step - loss: 7.1569 - mae: 7.1569\n",
            "Epoch 53/100\n",
            "1/1 [==============================] - 0s 8ms/step - loss: 7.1512 - mae: 7.1512\n",
            "Epoch 54/100\n",
            "1/1 [==============================] - 0s 9ms/step - loss: 7.1456 - mae: 7.1456\n",
            "Epoch 55/100\n",
            "1/1 [==============================] - 0s 10ms/step - loss: 7.1400 - mae: 7.1400\n",
            "Epoch 56/100\n",
            "1/1 [==============================] - 0s 10ms/step - loss: 7.1344 - mae: 7.1344\n",
            "Epoch 57/100\n",
            "1/1 [==============================] - 0s 10ms/step - loss: 7.1287 - mae: 7.1287\n",
            "Epoch 58/100\n",
            "1/1 [==============================] - 0s 9ms/step - loss: 7.1231 - mae: 7.1231\n",
            "Epoch 59/100\n",
            "1/1 [==============================] - 0s 14ms/step - loss: 7.1175 - mae: 7.1175\n",
            "Epoch 60/100\n",
            "1/1 [==============================] - 0s 10ms/step - loss: 7.1119 - mae: 7.1119\n",
            "Epoch 61/100\n",
            "1/1 [==============================] - 0s 11ms/step - loss: 7.1062 - mae: 7.1062\n",
            "Epoch 62/100\n",
            "1/1 [==============================] - 0s 10ms/step - loss: 7.1006 - mae: 7.1006\n",
            "Epoch 63/100\n",
            "1/1 [==============================] - 0s 11ms/step - loss: 7.0950 - mae: 7.0950\n",
            "Epoch 64/100\n",
            "1/1 [==============================] - 0s 26ms/step - loss: 7.0894 - mae: 7.0894\n",
            "Epoch 65/100\n",
            "1/1 [==============================] - 0s 9ms/step - loss: 7.0838 - mae: 7.0838\n",
            "Epoch 66/100\n",
            "1/1 [==============================] - 0s 8ms/step - loss: 7.0781 - mae: 7.0781\n",
            "Epoch 67/100\n",
            "1/1 [==============================] - 0s 11ms/step - loss: 7.0725 - mae: 7.0725\n",
            "Epoch 68/100\n",
            "1/1 [==============================] - 0s 12ms/step - loss: 7.0669 - mae: 7.0669\n",
            "Epoch 69/100\n",
            "1/1 [==============================] - 0s 9ms/step - loss: 7.0613 - mae: 7.0613\n",
            "Epoch 70/100\n",
            "1/1 [==============================] - 0s 8ms/step - loss: 7.0556 - mae: 7.0556\n",
            "Epoch 71/100\n",
            "1/1 [==============================] - 0s 9ms/step - loss: 7.0500 - mae: 7.0500\n",
            "Epoch 72/100\n",
            "1/1 [==============================] - 0s 8ms/step - loss: 7.0444 - mae: 7.0444\n",
            "Epoch 73/100\n",
            "1/1 [==============================] - 0s 8ms/step - loss: 7.0388 - mae: 7.0388\n",
            "Epoch 74/100\n",
            "1/1 [==============================] - 0s 8ms/step - loss: 7.0331 - mae: 7.0331\n",
            "Epoch 75/100\n",
            "1/1 [==============================] - 0s 8ms/step - loss: 7.0275 - mae: 7.0275\n",
            "Epoch 76/100\n",
            "1/1 [==============================] - 0s 8ms/step - loss: 7.0219 - mae: 7.0219\n",
            "Epoch 77/100\n",
            "1/1 [==============================] - 0s 8ms/step - loss: 7.0163 - mae: 7.0163\n",
            "Epoch 78/100\n",
            "1/1 [==============================] - 0s 8ms/step - loss: 7.0106 - mae: 7.0106\n",
            "Epoch 79/100\n",
            "1/1 [==============================] - 0s 8ms/step - loss: 7.0050 - mae: 7.0050\n",
            "Epoch 80/100\n",
            "1/1 [==============================] - 0s 8ms/step - loss: 6.9994 - mae: 6.9994\n",
            "Epoch 81/100\n",
            "1/1 [==============================] - 0s 7ms/step - loss: 6.9938 - mae: 6.9938\n",
            "Epoch 82/100\n",
            "1/1 [==============================] - 0s 7ms/step - loss: 6.9881 - mae: 6.9881\n",
            "Epoch 83/100\n",
            "1/1 [==============================] - 0s 8ms/step - loss: 6.9825 - mae: 6.9825\n",
            "Epoch 84/100\n",
            "1/1 [==============================] - 0s 8ms/step - loss: 6.9769 - mae: 6.9769\n",
            "Epoch 85/100\n",
            "1/1 [==============================] - 0s 7ms/step - loss: 6.9713 - mae: 6.9713\n",
            "Epoch 86/100\n",
            "1/1 [==============================] - 0s 7ms/step - loss: 6.9656 - mae: 6.9656\n",
            "Epoch 87/100\n",
            "1/1 [==============================] - 0s 8ms/step - loss: 6.9600 - mae: 6.9600\n",
            "Epoch 88/100\n",
            "1/1 [==============================] - 0s 7ms/step - loss: 6.9544 - mae: 6.9544\n",
            "Epoch 89/100\n",
            "1/1 [==============================] - 0s 7ms/step - loss: 6.9488 - mae: 6.9488\n",
            "Epoch 90/100\n",
            "1/1 [==============================] - 0s 8ms/step - loss: 6.9431 - mae: 6.9431\n",
            "Epoch 91/100\n",
            "1/1 [==============================] - 0s 9ms/step - loss: 6.9375 - mae: 6.9375\n",
            "Epoch 92/100\n",
            "1/1 [==============================] - 0s 10ms/step - loss: 6.9319 - mae: 6.9319\n",
            "Epoch 93/100\n",
            "1/1 [==============================] - 0s 7ms/step - loss: 6.9263 - mae: 6.9263\n",
            "Epoch 94/100\n",
            "1/1 [==============================] - 0s 8ms/step - loss: 6.9206 - mae: 6.9206\n",
            "Epoch 95/100\n",
            "1/1 [==============================] - 0s 8ms/step - loss: 6.9150 - mae: 6.9150\n",
            "Epoch 96/100\n",
            "1/1 [==============================] - 0s 7ms/step - loss: 6.9094 - mae: 6.9094\n",
            "Epoch 97/100\n",
            "1/1 [==============================] - 0s 7ms/step - loss: 6.9038 - mae: 6.9038\n",
            "Epoch 98/100\n",
            "1/1 [==============================] - 0s 9ms/step - loss: 6.8981 - mae: 6.8981\n",
            "Epoch 99/100\n",
            "1/1 [==============================] - 0s 7ms/step - loss: 6.8925 - mae: 6.8925\n",
            "Epoch 100/100\n",
            "1/1 [==============================] - 0s 7ms/step - loss: 6.8869 - mae: 6.8869\n"
          ]
        },
        {
          "output_type": "execute_result",
          "data": {
            "text/plain": [
              "<keras.callbacks.History at 0x7fa9a893e9d0>"
            ]
          },
          "metadata": {},
          "execution_count": 17
        }
      ]
    },
    {
      "cell_type": "code",
      "source": [
        "# Remind ourselves of the data\n",
        "X, y"
      ],
      "metadata": {
        "colab": {
          "base_uri": "https://localhost:8080/"
        },
        "id": "4JMy4Cw0DTGS",
        "outputId": "9aef8dab-7eb7-4a39-945b-18ac36aa0174"
      },
      "execution_count": null,
      "outputs": [
        {
          "output_type": "execute_result",
          "data": {
            "text/plain": [
              "(<tf.Tensor: shape=(8,), dtype=float64, numpy=array([-7., -4., -1.,  2.,  5.,  8., 11., 14.])>,\n",
              " <tf.Tensor: shape=(8,), dtype=float64, numpy=array([ 3.,  6.,  9., 12., 15., 18., 21., 24.])>)"
            ]
          },
          "metadata": {},
          "execution_count": 18
        }
      ]
    },
    {
      "cell_type": "code",
      "source": [
        "# Let's see if our model's prediction has improved...\n",
        "model.predict([17.])"
      ],
      "metadata": {
        "colab": {
          "base_uri": "https://localhost:8080/"
        },
        "id": "6LG_CwNeEMo_",
        "outputId": "cd3eb01b-c4f9-4004-d3d9-c5006c4d6f3d"
      },
      "execution_count": null,
      "outputs": [
        {
          "output_type": "stream",
          "name": "stdout",
          "text": [
            "1/1 [==============================] - 0s 225ms/step\n"
          ]
        },
        {
          "output_type": "execute_result",
          "data": {
            "text/plain": [
              "array([[29.739855]], dtype=float32)"
            ]
          },
          "metadata": {},
          "execution_count": 19
        }
      ]
    },
    {
      "cell_type": "code",
      "source": [
        "# Rebuild our model\n",
        "model = tf.keras.Sequential([\n",
        "    tf.keras.layers.Dense(10),\n",
        "    tf.keras.layers.Dense(10),\n",
        "    tf.keras.layers.Dense(10)\n",
        "])\n",
        "\n",
        "# Recompile our model\n",
        "model.compile(loss=tf.keras.losses.mae,\n",
        "              optimizer=tf.keras.optimizers.Adam(lr=0.01),\n",
        "              metrics=[\"mae\"])\n",
        "\n",
        "# Refit our model\n",
        "model.fit(tf.expand_dims(X, axis=-1), y, epochs=100)"
      ],
      "metadata": {
        "id": "XcDvU5tcESli",
        "colab": {
          "base_uri": "https://localhost:8080/"
        },
        "outputId": "fb309508-6511-4a8c-baa1-fa88fbb58757"
      },
      "execution_count": null,
      "outputs": [
        {
          "output_type": "stream",
          "name": "stdout",
          "text": [
            "Epoch 1/100\n"
          ]
        },
        {
          "output_type": "stream",
          "name": "stderr",
          "text": [
            "/usr/local/lib/python3.7/dist-packages/keras/optimizers/optimizer_v2/adam.py:110: UserWarning: The `lr` argument is deprecated, use `learning_rate` instead.\n",
            "  super(Adam, self).__init__(name, **kwargs)\n"
          ]
        },
        {
          "output_type": "stream",
          "name": "stdout",
          "text": [
            "1/1 [==============================] - 1s 622ms/step - loss: 14.2008 - mae: 14.2008\n",
            "Epoch 2/100\n",
            "1/1 [==============================] - 0s 8ms/step - loss: 13.8439 - mae: 13.8439\n",
            "Epoch 3/100\n",
            "1/1 [==============================] - 0s 8ms/step - loss: 13.5592 - mae: 13.5592\n",
            "Epoch 4/100\n",
            "1/1 [==============================] - 0s 8ms/step - loss: 13.3192 - mae: 13.3192\n",
            "Epoch 5/100\n",
            "1/1 [==============================] - 0s 8ms/step - loss: 13.0991 - mae: 13.0991\n",
            "Epoch 6/100\n",
            "1/1 [==============================] - 0s 7ms/step - loss: 12.8901 - mae: 12.8901\n",
            "Epoch 7/100\n",
            "1/1 [==============================] - 0s 8ms/step - loss: 12.6860 - mae: 12.6860\n",
            "Epoch 8/100\n",
            "1/1 [==============================] - 0s 8ms/step - loss: 12.4801 - mae: 12.4801\n",
            "Epoch 9/100\n",
            "1/1 [==============================] - 0s 7ms/step - loss: 12.2658 - mae: 12.2658\n",
            "Epoch 10/100\n",
            "1/1 [==============================] - 0s 7ms/step - loss: 12.0366 - mae: 12.0366\n",
            "Epoch 11/100\n",
            "1/1 [==============================] - 0s 8ms/step - loss: 11.7867 - mae: 11.7867\n",
            "Epoch 12/100\n",
            "1/1 [==============================] - 0s 8ms/step - loss: 11.5111 - mae: 11.5111\n",
            "Epoch 13/100\n",
            "1/1 [==============================] - 0s 25ms/step - loss: 11.2049 - mae: 11.2049\n",
            "Epoch 14/100\n",
            "1/1 [==============================] - 0s 7ms/step - loss: 10.8634 - mae: 10.8634\n",
            "Epoch 15/100\n",
            "1/1 [==============================] - 0s 8ms/step - loss: 10.5157 - mae: 10.5157\n",
            "Epoch 16/100\n",
            "1/1 [==============================] - 0s 7ms/step - loss: 10.1795 - mae: 10.1795\n",
            "Epoch 17/100\n",
            "1/1 [==============================] - 0s 8ms/step - loss: 9.9041 - mae: 9.9041\n",
            "Epoch 18/100\n",
            "1/1 [==============================] - 0s 7ms/step - loss: 9.6756 - mae: 9.6756\n",
            "Epoch 19/100\n",
            "1/1 [==============================] - 0s 8ms/step - loss: 9.4942 - mae: 9.4942\n",
            "Epoch 20/100\n",
            "1/1 [==============================] - 0s 8ms/step - loss: 9.3055 - mae: 9.3055\n",
            "Epoch 21/100\n",
            "1/1 [==============================] - 0s 8ms/step - loss: 9.0775 - mae: 9.0775\n",
            "Epoch 22/100\n",
            "1/1 [==============================] - 0s 11ms/step - loss: 8.8572 - mae: 8.8572\n",
            "Epoch 23/100\n",
            "1/1 [==============================] - 0s 7ms/step - loss: 8.6327 - mae: 8.6327\n",
            "Epoch 24/100\n",
            "1/1 [==============================] - 0s 9ms/step - loss: 8.3897 - mae: 8.3897\n",
            "Epoch 25/100\n",
            "1/1 [==============================] - 0s 7ms/step - loss: 8.1888 - mae: 8.1888\n",
            "Epoch 26/100\n",
            "1/1 [==============================] - 0s 8ms/step - loss: 7.9779 - mae: 7.9779\n",
            "Epoch 27/100\n",
            "1/1 [==============================] - 0s 7ms/step - loss: 7.7980 - mae: 7.7980\n",
            "Epoch 28/100\n",
            "1/1 [==============================] - 0s 9ms/step - loss: 7.6586 - mae: 7.6586\n",
            "Epoch 29/100\n",
            "1/1 [==============================] - 0s 8ms/step - loss: 7.5481 - mae: 7.5481\n",
            "Epoch 30/100\n",
            "1/1 [==============================] - 0s 20ms/step - loss: 7.4147 - mae: 7.4147\n",
            "Epoch 31/100\n",
            "1/1 [==============================] - 0s 10ms/step - loss: 7.2879 - mae: 7.2879\n",
            "Epoch 32/100\n",
            "1/1 [==============================] - 0s 9ms/step - loss: 7.1544 - mae: 7.1544\n",
            "Epoch 33/100\n",
            "1/1 [==============================] - 0s 16ms/step - loss: 7.0023 - mae: 7.0023\n",
            "Epoch 34/100\n",
            "1/1 [==============================] - 0s 9ms/step - loss: 6.8432 - mae: 6.8432\n",
            "Epoch 35/100\n",
            "1/1 [==============================] - 0s 9ms/step - loss: 6.6723 - mae: 6.6723\n",
            "Epoch 36/100\n",
            "1/1 [==============================] - 0s 16ms/step - loss: 6.4762 - mae: 6.4762\n",
            "Epoch 37/100\n",
            "1/1 [==============================] - 0s 8ms/step - loss: 6.2719 - mae: 6.2719\n",
            "Epoch 38/100\n",
            "1/1 [==============================] - 0s 8ms/step - loss: 6.0757 - mae: 6.0757\n",
            "Epoch 39/100\n",
            "1/1 [==============================] - 0s 7ms/step - loss: 5.8784 - mae: 5.8784\n",
            "Epoch 40/100\n",
            "1/1 [==============================] - 0s 7ms/step - loss: 5.6830 - mae: 5.6830\n",
            "Epoch 41/100\n",
            "1/1 [==============================] - 0s 7ms/step - loss: 5.4713 - mae: 5.4713\n",
            "Epoch 42/100\n",
            "1/1 [==============================] - 0s 7ms/step - loss: 5.2599 - mae: 5.2599\n",
            "Epoch 43/100\n",
            "1/1 [==============================] - 0s 7ms/step - loss: 5.0417 - mae: 5.0417\n",
            "Epoch 44/100\n",
            "1/1 [==============================] - 0s 14ms/step - loss: 4.8260 - mae: 4.8260\n",
            "Epoch 45/100\n",
            "1/1 [==============================] - 0s 14ms/step - loss: 4.5988 - mae: 4.5988\n",
            "Epoch 46/100\n",
            "1/1 [==============================] - 0s 8ms/step - loss: 4.3569 - mae: 4.3569\n",
            "Epoch 47/100\n",
            "1/1 [==============================] - 0s 10ms/step - loss: 4.1409 - mae: 4.1409\n",
            "Epoch 48/100\n",
            "1/1 [==============================] - 0s 9ms/step - loss: 3.9425 - mae: 3.9425\n",
            "Epoch 49/100\n",
            "1/1 [==============================] - 0s 10ms/step - loss: 3.7448 - mae: 3.7448\n",
            "Epoch 50/100\n",
            "1/1 [==============================] - 0s 13ms/step - loss: 3.5312 - mae: 3.5312\n",
            "Epoch 51/100\n",
            "1/1 [==============================] - 0s 8ms/step - loss: 3.2969 - mae: 3.2969\n",
            "Epoch 52/100\n",
            "1/1 [==============================] - 0s 10ms/step - loss: 3.0469 - mae: 3.0469\n",
            "Epoch 53/100\n",
            "1/1 [==============================] - 0s 8ms/step - loss: 2.7601 - mae: 2.7601\n",
            "Epoch 54/100\n",
            "1/1 [==============================] - 0s 10ms/step - loss: 2.4503 - mae: 2.4503\n",
            "Epoch 55/100\n",
            "1/1 [==============================] - 0s 12ms/step - loss: 2.1098 - mae: 2.1098\n",
            "Epoch 56/100\n",
            "1/1 [==============================] - 0s 18ms/step - loss: 1.7431 - mae: 1.7431\n",
            "Epoch 57/100\n",
            "1/1 [==============================] - 0s 12ms/step - loss: 1.3485 - mae: 1.3485\n",
            "Epoch 58/100\n",
            "1/1 [==============================] - 0s 10ms/step - loss: 0.9435 - mae: 0.9435\n",
            "Epoch 59/100\n",
            "1/1 [==============================] - 0s 10ms/step - loss: 0.7754 - mae: 0.7754\n",
            "Epoch 60/100\n",
            "1/1 [==============================] - 0s 10ms/step - loss: 0.7202 - mae: 0.7202\n",
            "Epoch 61/100\n",
            "1/1 [==============================] - 0s 8ms/step - loss: 0.7215 - mae: 0.7215\n",
            "Epoch 62/100\n",
            "1/1 [==============================] - 0s 9ms/step - loss: 0.8664 - mae: 0.8664\n",
            "Epoch 63/100\n",
            "1/1 [==============================] - 0s 11ms/step - loss: 1.0522 - mae: 1.0522\n",
            "Epoch 64/100\n",
            "1/1 [==============================] - 0s 8ms/step - loss: 1.1693 - mae: 1.1693\n",
            "Epoch 65/100\n",
            "1/1 [==============================] - 0s 10ms/step - loss: 1.2271 - mae: 1.2271\n",
            "Epoch 66/100\n",
            "1/1 [==============================] - 0s 9ms/step - loss: 1.1507 - mae: 1.1507\n",
            "Epoch 67/100\n",
            "1/1 [==============================] - 0s 11ms/step - loss: 1.0949 - mae: 1.0949\n",
            "Epoch 68/100\n",
            "1/1 [==============================] - 0s 8ms/step - loss: 0.8812 - mae: 0.8812\n",
            "Epoch 69/100\n",
            "1/1 [==============================] - 0s 14ms/step - loss: 0.7190 - mae: 0.7190\n",
            "Epoch 70/100\n",
            "1/1 [==============================] - 0s 9ms/step - loss: 0.5050 - mae: 0.5050\n",
            "Epoch 71/100\n",
            "1/1 [==============================] - 0s 11ms/step - loss: 0.4248 - mae: 0.4248\n",
            "Epoch 72/100\n",
            "1/1 [==============================] - 0s 8ms/step - loss: 0.4073 - mae: 0.4073\n",
            "Epoch 73/100\n",
            "1/1 [==============================] - 0s 8ms/step - loss: 0.4122 - mae: 0.4122\n",
            "Epoch 74/100\n",
            "1/1 [==============================] - 0s 9ms/step - loss: 0.4627 - mae: 0.4627\n",
            "Epoch 75/100\n",
            "1/1 [==============================] - 0s 16ms/step - loss: 0.5033 - mae: 0.5033\n",
            "Epoch 76/100\n",
            "1/1 [==============================] - 0s 8ms/step - loss: 0.5307 - mae: 0.5307\n",
            "Epoch 77/100\n",
            "1/1 [==============================] - 0s 9ms/step - loss: 0.5165 - mae: 0.5165\n",
            "Epoch 78/100\n",
            "1/1 [==============================] - 0s 9ms/step - loss: 0.4350 - mae: 0.4350\n",
            "Epoch 79/100\n",
            "1/1 [==============================] - 0s 7ms/step - loss: 0.3514 - mae: 0.3514\n",
            "Epoch 80/100\n",
            "1/1 [==============================] - 0s 8ms/step - loss: 0.3442 - mae: 0.3442\n",
            "Epoch 81/100\n",
            "1/1 [==============================] - 0s 10ms/step - loss: 0.1955 - mae: 0.1955\n",
            "Epoch 82/100\n",
            "1/1 [==============================] - 0s 9ms/step - loss: 0.4181 - mae: 0.4181\n",
            "Epoch 83/100\n",
            "1/1 [==============================] - 0s 8ms/step - loss: 0.3283 - mae: 0.3283\n",
            "Epoch 84/100\n",
            "1/1 [==============================] - 0s 8ms/step - loss: 0.6058 - mae: 0.6058\n",
            "Epoch 85/100\n",
            "1/1 [==============================] - 0s 12ms/step - loss: 0.6074 - mae: 0.6074\n",
            "Epoch 86/100\n",
            "1/1 [==============================] - 0s 7ms/step - loss: 0.3794 - mae: 0.3794\n",
            "Epoch 87/100\n",
            "1/1 [==============================] - 0s 10ms/step - loss: 0.4894 - mae: 0.4894\n",
            "Epoch 88/100\n",
            "1/1 [==============================] - 0s 12ms/step - loss: 0.4044 - mae: 0.4044\n",
            "Epoch 89/100\n",
            "1/1 [==============================] - 0s 7ms/step - loss: 0.1735 - mae: 0.1735\n",
            "Epoch 90/100\n",
            "1/1 [==============================] - 0s 7ms/step - loss: 0.3639 - mae: 0.3639\n",
            "Epoch 91/100\n",
            "1/1 [==============================] - 0s 7ms/step - loss: 0.3090 - mae: 0.3090\n",
            "Epoch 92/100\n",
            "1/1 [==============================] - 0s 8ms/step - loss: 0.3132 - mae: 0.3132\n",
            "Epoch 93/100\n",
            "1/1 [==============================] - 0s 8ms/step - loss: 0.3464 - mae: 0.3464\n",
            "Epoch 94/100\n",
            "1/1 [==============================] - 0s 11ms/step - loss: 0.2017 - mae: 0.2017\n",
            "Epoch 95/100\n",
            "1/1 [==============================] - 0s 8ms/step - loss: 0.2195 - mae: 0.2195\n",
            "Epoch 96/100\n",
            "1/1 [==============================] - 0s 11ms/step - loss: 0.1156 - mae: 0.1156\n",
            "Epoch 97/100\n",
            "1/1 [==============================] - 0s 8ms/step - loss: 0.3383 - mae: 0.3383\n",
            "Epoch 98/100\n",
            "1/1 [==============================] - 0s 7ms/step - loss: 0.2851 - mae: 0.2851\n",
            "Epoch 99/100\n",
            "1/1 [==============================] - 0s 8ms/step - loss: 0.2375 - mae: 0.2375\n",
            "Epoch 100/100\n",
            "1/1 [==============================] - 0s 9ms/step - loss: 0.2925 - mae: 0.2925\n"
          ]
        },
        {
          "output_type": "execute_result",
          "data": {
            "text/plain": [
              "<keras.callbacks.History at 0x7fa9aa01c2d0>"
            ]
          },
          "metadata": {},
          "execution_count": 20
        }
      ]
    },
    {
      "cell_type": "code",
      "source": [
        "model.predict([23.])"
      ],
      "metadata": {
        "colab": {
          "base_uri": "https://localhost:8080/"
        },
        "id": "ps3D86JiFGq2",
        "outputId": "14ecab62-be5f-4794-88a7-b679fb1854d6"
      },
      "execution_count": null,
      "outputs": [
        {
          "output_type": "stream",
          "name": "stdout",
          "text": [
            "1/1 [==============================] - 0s 75ms/step\n"
          ]
        },
        {
          "output_type": "execute_result",
          "data": {
            "text/plain": [
              "array([[33.125557, 32.694893, 32.587185, 32.579975, 33.10867 , 33.40242 ,\n",
              "        33.0739  , 32.818253, 32.072685, 32.86491 ]], dtype=float32)"
            ]
          },
          "metadata": {},
          "execution_count": 21
        }
      ]
    },
    {
      "cell_type": "code",
      "source": [
        "# Let's see if we can make another to improve our model\n",
        "\n",
        "# 1. Creathe the model (this time with an extra hidden layer with 100 hidden units)\n",
        "model = tf.keras.Sequential([\n",
        "    tf.keras.layers.Dense(50, activation=None),\n",
        "    tf.keras.layers.Dense(1)\n",
        "])\n",
        "\n",
        "# 2. Compile the model\n",
        "model.compile(loss=\"mae\",\n",
        "              optimizer=tf.keras.optimizers.Adam(lr=0.01),\n",
        "              metrics=[\"mae\"])\n",
        "\n",
        "# 3. Fit the model\n",
        "model.fit(tf.expand_dims(X, axis=-1), y, epochs=100)"
      ],
      "metadata": {
        "colab": {
          "base_uri": "https://localhost:8080/"
        },
        "id": "FeqHe5PCGMwV",
        "outputId": "30e2a52e-f600-4247-d5a7-3e78dfb6cc9d"
      },
      "execution_count": null,
      "outputs": [
        {
          "output_type": "stream",
          "name": "stdout",
          "text": [
            "Epoch 1/100\n",
            "1/1 [==============================] - 0s 391ms/step - loss: 13.3252 - mae: 13.3252\n",
            "Epoch 2/100\n",
            "1/1 [==============================] - 0s 8ms/step - loss: 12.6189 - mae: 12.6189\n",
            "Epoch 3/100\n",
            "1/1 [==============================] - 0s 10ms/step - loss: 11.9164 - mae: 11.9164\n",
            "Epoch 4/100\n",
            "1/1 [==============================] - 0s 9ms/step - loss: 11.2153 - mae: 11.2153\n",
            "Epoch 5/100\n",
            "1/1 [==============================] - 0s 7ms/step - loss: 10.5129 - mae: 10.5129\n",
            "Epoch 6/100\n",
            "1/1 [==============================] - 0s 8ms/step - loss: 9.8064 - mae: 9.8064\n",
            "Epoch 7/100\n",
            "1/1 [==============================] - 0s 7ms/step - loss: 9.0930 - mae: 9.0930\n",
            "Epoch 8/100\n",
            "1/1 [==============================] - 0s 10ms/step - loss: 8.3699 - mae: 8.3699\n",
            "Epoch 9/100\n",
            "1/1 [==============================] - 0s 8ms/step - loss: 7.6340 - mae: 7.6340\n",
            "Epoch 10/100\n",
            "1/1 [==============================] - 0s 9ms/step - loss: 6.8821 - mae: 6.8821\n",
            "Epoch 11/100\n",
            "1/1 [==============================] - 0s 9ms/step - loss: 6.7092 - mae: 6.7092\n",
            "Epoch 12/100\n",
            "1/1 [==============================] - 0s 9ms/step - loss: 7.1086 - mae: 7.1086\n",
            "Epoch 13/100\n",
            "1/1 [==============================] - 0s 7ms/step - loss: 7.4259 - mae: 7.4259\n",
            "Epoch 14/100\n",
            "1/1 [==============================] - 0s 9ms/step - loss: 7.6865 - mae: 7.6865\n",
            "Epoch 15/100\n",
            "1/1 [==============================] - 0s 8ms/step - loss: 7.7212 - mae: 7.7212\n",
            "Epoch 16/100\n",
            "1/1 [==============================] - 0s 9ms/step - loss: 7.5844 - mae: 7.5844\n",
            "Epoch 17/100\n",
            "1/1 [==============================] - 0s 9ms/step - loss: 7.3167 - mae: 7.3167\n",
            "Epoch 18/100\n",
            "1/1 [==============================] - 0s 10ms/step - loss: 6.9720 - mae: 6.9720\n",
            "Epoch 19/100\n",
            "1/1 [==============================] - 0s 8ms/step - loss: 6.7193 - mae: 6.7193\n",
            "Epoch 20/100\n",
            "1/1 [==============================] - 0s 8ms/step - loss: 6.4525 - mae: 6.4525\n",
            "Epoch 21/100\n",
            "1/1 [==============================] - 0s 7ms/step - loss: 6.1748 - mae: 6.1748\n",
            "Epoch 22/100\n",
            "1/1 [==============================] - 0s 7ms/step - loss: 6.0572 - mae: 6.0572\n",
            "Epoch 23/100\n",
            "1/1 [==============================] - 0s 8ms/step - loss: 6.0125 - mae: 6.0125\n",
            "Epoch 24/100\n",
            "1/1 [==============================] - 0s 12ms/step - loss: 6.1412 - mae: 6.1412\n",
            "Epoch 25/100\n",
            "1/1 [==============================] - 0s 7ms/step - loss: 6.2179 - mae: 6.2179\n",
            "Epoch 26/100\n",
            "1/1 [==============================] - 0s 7ms/step - loss: 6.1971 - mae: 6.1971\n",
            "Epoch 27/100\n",
            "1/1 [==============================] - 0s 7ms/step - loss: 6.0908 - mae: 6.0908\n",
            "Epoch 28/100\n",
            "1/1 [==============================] - 0s 7ms/step - loss: 5.9080 - mae: 5.9080\n",
            "Epoch 29/100\n",
            "1/1 [==============================] - 0s 9ms/step - loss: 5.6554 - mae: 5.6554\n",
            "Epoch 30/100\n",
            "1/1 [==============================] - 0s 9ms/step - loss: 5.4528 - mae: 5.4528\n",
            "Epoch 31/100\n",
            "1/1 [==============================] - 0s 9ms/step - loss: 5.3421 - mae: 5.3421\n",
            "Epoch 32/100\n",
            "1/1 [==============================] - 0s 9ms/step - loss: 5.2553 - mae: 5.2553\n",
            "Epoch 33/100\n",
            "1/1 [==============================] - 0s 12ms/step - loss: 5.2566 - mae: 5.2566\n",
            "Epoch 34/100\n",
            "1/1 [==============================] - 0s 8ms/step - loss: 5.2154 - mae: 5.2154\n",
            "Epoch 35/100\n",
            "1/1 [==============================] - 0s 8ms/step - loss: 5.1347 - mae: 5.1347\n",
            "Epoch 36/100\n",
            "1/1 [==============================] - 0s 8ms/step - loss: 5.0175 - mae: 5.0175\n",
            "Epoch 37/100\n",
            "1/1 [==============================] - 0s 9ms/step - loss: 4.8666 - mae: 4.8666\n",
            "Epoch 38/100\n",
            "1/1 [==============================] - 0s 10ms/step - loss: 4.6846 - mae: 4.6846\n",
            "Epoch 39/100\n",
            "1/1 [==============================] - 0s 9ms/step - loss: 4.5386 - mae: 4.5386\n",
            "Epoch 40/100\n",
            "1/1 [==============================] - 0s 8ms/step - loss: 4.4408 - mae: 4.4408\n",
            "Epoch 41/100\n",
            "1/1 [==============================] - 0s 9ms/step - loss: 4.3352 - mae: 4.3352\n",
            "Epoch 42/100\n",
            "1/1 [==============================] - 0s 10ms/step - loss: 4.2475 - mae: 4.2475\n",
            "Epoch 43/100\n",
            "1/1 [==============================] - 0s 9ms/step - loss: 4.1165 - mae: 4.1165\n",
            "Epoch 44/100\n",
            "1/1 [==============================] - 0s 8ms/step - loss: 3.9441 - mae: 3.9441\n",
            "Epoch 45/100\n",
            "1/1 [==============================] - 0s 8ms/step - loss: 3.7902 - mae: 3.7902\n",
            "Epoch 46/100\n",
            "1/1 [==============================] - 0s 8ms/step - loss: 3.6292 - mae: 3.6292\n",
            "Epoch 47/100\n",
            "1/1 [==============================] - 0s 8ms/step - loss: 3.4994 - mae: 3.4994\n",
            "Epoch 48/100\n",
            "1/1 [==============================] - 0s 10ms/step - loss: 3.3714 - mae: 3.3714\n",
            "Epoch 49/100\n",
            "1/1 [==============================] - 0s 8ms/step - loss: 3.1931 - mae: 3.1931\n",
            "Epoch 50/100\n",
            "1/1 [==============================] - 0s 9ms/step - loss: 2.9708 - mae: 2.9708\n",
            "Epoch 51/100\n",
            "1/1 [==============================] - 0s 9ms/step - loss: 2.7988 - mae: 2.7988\n",
            "Epoch 52/100\n",
            "1/1 [==============================] - 0s 10ms/step - loss: 2.6161 - mae: 2.6161\n",
            "Epoch 53/100\n",
            "1/1 [==============================] - 0s 9ms/step - loss: 2.4227 - mae: 2.4227\n",
            "Epoch 54/100\n",
            "1/1 [==============================] - 0s 10ms/step - loss: 2.2184 - mae: 2.2184\n",
            "Epoch 55/100\n",
            "1/1 [==============================] - 0s 8ms/step - loss: 2.0030 - mae: 2.0030\n",
            "Epoch 56/100\n",
            "1/1 [==============================] - 0s 8ms/step - loss: 1.7763 - mae: 1.7763\n",
            "Epoch 57/100\n",
            "1/1 [==============================] - 0s 9ms/step - loss: 1.5381 - mae: 1.5381\n",
            "Epoch 58/100\n",
            "1/1 [==============================] - 0s 8ms/step - loss: 1.2882 - mae: 1.2882\n",
            "Epoch 59/100\n",
            "1/1 [==============================] - 0s 9ms/step - loss: 1.0264 - mae: 1.0264\n",
            "Epoch 60/100\n",
            "1/1 [==============================] - 0s 9ms/step - loss: 0.7772 - mae: 0.7772\n",
            "Epoch 61/100\n",
            "1/1 [==============================] - 0s 10ms/step - loss: 0.4794 - mae: 0.4794\n",
            "Epoch 62/100\n",
            "1/1 [==============================] - 0s 10ms/step - loss: 0.2194 - mae: 0.2194\n",
            "Epoch 63/100\n",
            "1/1 [==============================] - 0s 8ms/step - loss: 0.2200 - mae: 0.2200\n",
            "Epoch 64/100\n",
            "1/1 [==============================] - 0s 8ms/step - loss: 0.3832 - mae: 0.3832\n",
            "Epoch 65/100\n",
            "1/1 [==============================] - 0s 11ms/step - loss: 0.6435 - mae: 0.6435\n",
            "Epoch 66/100\n",
            "1/1 [==============================] - 0s 6ms/step - loss: 0.7387 - mae: 0.7387\n",
            "Epoch 67/100\n",
            "1/1 [==============================] - 0s 7ms/step - loss: 0.7081 - mae: 0.7081\n",
            "Epoch 68/100\n",
            "1/1 [==============================] - 0s 9ms/step - loss: 0.9016 - mae: 0.9016\n",
            "Epoch 69/100\n",
            "1/1 [==============================] - 0s 8ms/step - loss: 0.8609 - mae: 0.8609\n",
            "Epoch 70/100\n",
            "1/1 [==============================] - 0s 9ms/step - loss: 0.6678 - mae: 0.6678\n",
            "Epoch 71/100\n",
            "1/1 [==============================] - 0s 9ms/step - loss: 0.7507 - mae: 0.7507\n",
            "Epoch 72/100\n",
            "1/1 [==============================] - 0s 10ms/step - loss: 0.6468 - mae: 0.6468\n",
            "Epoch 73/100\n",
            "1/1 [==============================] - 0s 9ms/step - loss: 0.3668 - mae: 0.3668\n",
            "Epoch 74/100\n",
            "1/1 [==============================] - 0s 9ms/step - loss: 0.3505 - mae: 0.3505\n",
            "Epoch 75/100\n",
            "1/1 [==============================] - 0s 9ms/step - loss: 0.1820 - mae: 0.1820\n",
            "Epoch 76/100\n",
            "1/1 [==============================] - 0s 9ms/step - loss: 0.2013 - mae: 0.2013\n",
            "Epoch 77/100\n",
            "1/1 [==============================] - 0s 9ms/step - loss: 0.3195 - mae: 0.3195\n",
            "Epoch 78/100\n",
            "1/1 [==============================] - 0s 8ms/step - loss: 0.2859 - mae: 0.2859\n",
            "Epoch 79/100\n",
            "1/1 [==============================] - 0s 9ms/step - loss: 0.3504 - mae: 0.3504\n",
            "Epoch 80/100\n",
            "1/1 [==============================] - 0s 9ms/step - loss: 0.3342 - mae: 0.3342\n",
            "Epoch 81/100\n",
            "1/1 [==============================] - 0s 9ms/step - loss: 0.3996 - mae: 0.3996\n",
            "Epoch 82/100\n",
            "1/1 [==============================] - 0s 8ms/step - loss: 0.3206 - mae: 0.3206\n",
            "Epoch 83/100\n",
            "1/1 [==============================] - 0s 7ms/step - loss: 0.2763 - mae: 0.2763\n",
            "Epoch 84/100\n",
            "1/1 [==============================] - 0s 8ms/step - loss: 0.2142 - mae: 0.2142\n",
            "Epoch 85/100\n",
            "1/1 [==============================] - 0s 10ms/step - loss: 0.1442 - mae: 0.1442\n",
            "Epoch 86/100\n",
            "1/1 [==============================] - 0s 9ms/step - loss: 0.1198 - mae: 0.1198\n",
            "Epoch 87/100\n",
            "1/1 [==============================] - 0s 8ms/step - loss: 0.3025 - mae: 0.3025\n",
            "Epoch 88/100\n",
            "1/1 [==============================] - 0s 8ms/step - loss: 0.4050 - mae: 0.4050\n",
            "Epoch 89/100\n",
            "1/1 [==============================] - 0s 10ms/step - loss: 0.2695 - mae: 0.2695\n",
            "Epoch 90/100\n",
            "1/1 [==============================] - 0s 7ms/step - loss: 0.2264 - mae: 0.2264\n",
            "Epoch 91/100\n",
            "1/1 [==============================] - 0s 8ms/step - loss: 0.2391 - mae: 0.2391\n",
            "Epoch 92/100\n",
            "1/1 [==============================] - 0s 8ms/step - loss: 0.0548 - mae: 0.0548\n",
            "Epoch 93/100\n",
            "1/1 [==============================] - 0s 8ms/step - loss: 0.0572 - mae: 0.0572\n",
            "Epoch 94/100\n",
            "1/1 [==============================] - 0s 10ms/step - loss: 0.2081 - mae: 0.2081\n",
            "Epoch 95/100\n",
            "1/1 [==============================] - 0s 8ms/step - loss: 0.1792 - mae: 0.1792\n",
            "Epoch 96/100\n",
            "1/1 [==============================] - 0s 10ms/step - loss: 0.1272 - mae: 0.1272\n",
            "Epoch 97/100\n",
            "1/1 [==============================] - 0s 7ms/step - loss: 0.0606 - mae: 0.0606\n",
            "Epoch 98/100\n",
            "1/1 [==============================] - 0s 8ms/step - loss: 0.2675 - mae: 0.2675\n",
            "Epoch 99/100\n",
            "1/1 [==============================] - 0s 10ms/step - loss: 0.2640 - mae: 0.2640\n",
            "Epoch 100/100\n",
            "1/1 [==============================] - 0s 7ms/step - loss: 0.0898 - mae: 0.0898\n"
          ]
        },
        {
          "output_type": "execute_result",
          "data": {
            "text/plain": [
              "<keras.callbacks.History at 0x7fa9a91edad0>"
            ]
          },
          "metadata": {},
          "execution_count": 22
        }
      ]
    },
    {
      "cell_type": "code",
      "source": [
        "# Let's remind ourselves of the data\n",
        "X, y"
      ],
      "metadata": {
        "colab": {
          "base_uri": "https://localhost:8080/"
        },
        "id": "NbW6edjEG80D",
        "outputId": "b5393006-ecf3-4649-bad5-47ad69f1b1b9"
      },
      "execution_count": null,
      "outputs": [
        {
          "output_type": "execute_result",
          "data": {
            "text/plain": [
              "(<tf.Tensor: shape=(8,), dtype=float64, numpy=array([-7., -4., -1.,  2.,  5.,  8., 11., 14.])>,\n",
              " <tf.Tensor: shape=(8,), dtype=float64, numpy=array([ 3.,  6.,  9., 12., 15., 18., 21., 24.])>)"
            ]
          },
          "metadata": {},
          "execution_count": 23
        }
      ]
    },
    {
      "cell_type": "code",
      "source": [
        "# Let's try to make a prediction\n",
        "model.predict([17.])"
      ],
      "metadata": {
        "colab": {
          "base_uri": "https://localhost:8080/"
        },
        "id": "XJM_nuw-HAf8",
        "outputId": "d40ee9e2-7fed-411f-cbea-9c6f06d30fe6"
      },
      "execution_count": null,
      "outputs": [
        {
          "output_type": "stream",
          "name": "stdout",
          "text": [
            "1/1 [==============================] - 0s 164ms/step\n"
          ]
        },
        {
          "output_type": "execute_result",
          "data": {
            "text/plain": [
              "array([[27.324871]], dtype=float32)"
            ]
          },
          "metadata": {},
          "execution_count": 24
        }
      ]
    },
    {
      "cell_type": "markdown",
      "source": [
        "## Evaluating a model \n",
        "\n",
        "In practice, a typical workflow you'll go through when building a neural networks is:\n",
        "\n",
        "```\n",
        "Build a model -> fit it -> evaluate it -> tweak it -> fit it -> evaluate it -> tweak it -> fit it -> evaluate it...\n",
        "```"
      ],
      "metadata": {
        "id": "mQ2kvopbH66z"
      }
    },
    {
      "cell_type": "markdown",
      "source": [
        "When it comes to evaluation... there are 3 words you should memorize:\n",
        "\n",
        "> \"Visualize, visualize, visualize\"\n",
        "\n",
        "It's a good idea to visualize:\n",
        "* The data - what data are we working with? What does it look like?\n",
        "* The model itself - what does our model look like?\n",
        "* The training of a model - how does a model perform while it learns?\n",
        "* The predictions of the model - how do the predictions of a model line up against the ground truth (the original labels)?\n"
      ],
      "metadata": {
        "id": "vYD8iD41JmxA"
      }
    },
    {
      "cell_type": "code",
      "source": [
        "# Make a bigger dataset\n",
        "X = tf.range(-100, 100, 4)\n",
        "X"
      ],
      "metadata": {
        "colab": {
          "base_uri": "https://localhost:8080/"
        },
        "id": "BSiTu99yJ4_n",
        "outputId": "c934838a-4cf6-4e66-b5cf-ae497bdc0087"
      },
      "execution_count": null,
      "outputs": [
        {
          "output_type": "execute_result",
          "data": {
            "text/plain": [
              "<tf.Tensor: shape=(50,), dtype=int32, numpy=\n",
              "array([-100,  -96,  -92,  -88,  -84,  -80,  -76,  -72,  -68,  -64,  -60,\n",
              "        -56,  -52,  -48,  -44,  -40,  -36,  -32,  -28,  -24,  -20,  -16,\n",
              "        -12,   -8,   -4,    0,    4,    8,   12,   16,   20,   24,   28,\n",
              "         32,   36,   40,   44,   48,   52,   56,   60,   64,   68,   72,\n",
              "         76,   80,   84,   88,   92,   96], dtype=int32)>"
            ]
          },
          "metadata": {},
          "execution_count": 25
        }
      ]
    },
    {
      "cell_type": "code",
      "source": [
        "# Make labels for the dataset\n",
        "y = X + 10\n",
        "y"
      ],
      "metadata": {
        "colab": {
          "base_uri": "https://localhost:8080/"
        },
        "id": "k_lU_wNyKcSd",
        "outputId": "3954d6b2-a42d-4cba-91b2-64647b5adad4"
      },
      "execution_count": null,
      "outputs": [
        {
          "output_type": "execute_result",
          "data": {
            "text/plain": [
              "<tf.Tensor: shape=(50,), dtype=int32, numpy=\n",
              "array([-90, -86, -82, -78, -74, -70, -66, -62, -58, -54, -50, -46, -42,\n",
              "       -38, -34, -30, -26, -22, -18, -14, -10,  -6,  -2,   2,   6,  10,\n",
              "        14,  18,  22,  26,  30,  34,  38,  42,  46,  50,  54,  58,  62,\n",
              "        66,  70,  74,  78,  82,  86,  90,  94,  98, 102, 106], dtype=int32)>"
            ]
          },
          "metadata": {},
          "execution_count": 26
        }
      ]
    },
    {
      "cell_type": "code",
      "source": [
        "# Visualize the data\n",
        "plt.scatter(X, y)"
      ],
      "metadata": {
        "colab": {
          "base_uri": "https://localhost:8080/",
          "height": 283
        },
        "id": "_E3NAYI6Kf2T",
        "outputId": "e6dfe1bf-a6bb-4d8f-f1d6-d24a0202e472"
      },
      "execution_count": null,
      "outputs": [
        {
          "output_type": "execute_result",
          "data": {
            "text/plain": [
              "<matplotlib.collections.PathCollection at 0x7fa9a6ea33d0>"
            ]
          },
          "metadata": {},
          "execution_count": 27
        },
        {
          "output_type": "display_data",
          "data": {
            "text/plain": [
              "<Figure size 432x288 with 1 Axes>"
            ],
            "image/png": "[encoded data removed]"
          },
          "metadata": {
            "needs_background": "light"
          }
        }
      ]
    },
    {
      "cell_type": "markdown",
      "source": [
        "### The 3 sets...\n",
        "\n",
        "* **Training set** - the model learns from this data, which is typically 70-80% of the total data you have available.\n",
        "* **Validation set** - the model gets tuned on this data, which is typically 10-15% of the data available.\n",
        "* **Test set** - the model gets evaluated on this data to test what it has learned, this set is typically 10-15% of the total data available.\n"
      ],
      "metadata": {
        "id": "nhmotxGPKr2H"
      }
    },
    {
      "cell_type": "code",
      "source": [
        "# Check the length of how many samples we have\n",
        "len(X)"
      ],
      "metadata": {
        "colab": {
          "base_uri": "https://localhost:8080/"
        },
        "id": "40Tp1_hCLlOw",
        "outputId": "188f8d75-ab79-4af7-c5f6-fc607a527348"
      },
      "execution_count": null,
      "outputs": [
        {
          "output_type": "execute_result",
          "data": {
            "text/plain": [
              "50"
            ]
          },
          "metadata": {},
          "execution_count": 28
        }
      ]
    },
    {
      "cell_type": "code",
      "source": [
        "# Split the data into train and test sets\n",
        "X_train = X[:40] # first 40 are training samples (80% of the data) \n",
        "y_train = X[:40]\n",
        "X_test = X[40:] # last 10 are testing samples (20% of the data)\n",
        "y_test = X[40:]\n",
        "len(X_train), len(X_test), len(y_train), len(y_test)"
      ],
      "metadata": {
        "colab": {
          "base_uri": "https://localhost:8080/"
        },
        "id": "Rdn9JQBdL7AF",
        "outputId": "8b1eb265-b611-4563-f3a8-09b4ffce4607"
      },
      "execution_count": null,
      "outputs": [
        {
          "output_type": "execute_result",
          "data": {
            "text/plain": [
              "(40, 10, 40, 10)"
            ]
          },
          "metadata": {},
          "execution_count": 29
        }
      ]
    },
    {
      "cell_type": "markdown",
      "source": [
        "### Visualizing the data\n",
        "\n",
        "Now we've got our data in training and test sets...let's visualize it again!"
      ],
      "metadata": {
        "id": "OvXsln7JNA8u"
      }
    },
    {
      "cell_type": "code",
      "source": [
        "plt.figure(figsize=(10, 7))\n",
        "# Plot training data in blue\n",
        "plt.scatter(X_train, y_train, c=\"b\", label=\"Training data\")\n",
        "\n",
        "# Plot test data in green\n",
        "plt.scatter(X_test, y_test, c=\"g\", label=\"Testing data\")\n",
        "\n",
        "# Show a legend\n",
        "plt.legend();"
      ],
      "metadata": {
        "colab": {
          "base_uri": "https://localhost:8080/",
          "height": 428
        },
        "id": "Wtz5KseINYrl",
        "outputId": "9f8d6506-2a59-48e0-9092-524c3eedeaf9"
      },
      "execution_count": null,
      "outputs": [
        {
          "output_type": "display_data",
          "data": {
            "text/plain": [
              "<Figure size 720x504 with 1 Axes>"
            ],
            "image/png": "[encoded data removed]"
          },
          "metadata": {
            "needs_background": "light"
          }
        }
      ]
    },
    {
      "cell_type": "code",
      "source": [
        "# Let's have a look at how to build a neural network for our data\n",
        "\n",
        "# 1. Create a model\n",
        "model = tf.keras.Sequential([\n",
        "    tf.keras.layers.Dense(1)\n",
        "])\n",
        "\n",
        "# 2. Compile the model\n",
        "model.compile(loss=tf.keras.losses.mae,\n",
        "              optimizer=tf.keras.optimizers.SGD(),\n",
        "              metrics=[\"mae\"])\n",
        "\n",
        "# 3. Fit the model\n",
        "model.fit(tf.expand_dims(X_train, axis=-1), y_train, epochs=100)"
      ],
      "metadata": {
        "id": "4SUJvbUvOKvh",
        "colab": {
          "base_uri": "https://localhost:8080/"
        },
        "outputId": "4062fed6-c938-4889-c9c3-07bcf78323c9"
      },
      "execution_count": null,
      "outputs": [
        {
          "output_type": "stream",
          "name": "stdout",
          "text": [
            "Epoch 1/100\n",
            "2/2 [==============================] - 0s 5ms/step - loss: 92.9015 - mae: 92.9015\n",
            "Epoch 2/100\n",
            "2/2 [==============================] - 0s 5ms/step - loss: 56.9175 - mae: 56.9175\n",
            "Epoch 3/100\n",
            "2/2 [==============================] - 0s 4ms/step - loss: 18.7966 - mae: 18.7966\n",
            "Epoch 4/100\n",
            "2/2 [==============================] - 0s 5ms/step - loss: 12.2808 - mae: 12.2808\n",
            "Epoch 5/100\n",
            "2/2 [==============================] - 0s 5ms/step - loss: 12.9206 - mae: 12.9206\n",
            "Epoch 6/100\n",
            "2/2 [==============================] - 0s 5ms/step - loss: 10.6721 - mae: 10.6721\n",
            "Epoch 7/100\n",
            "2/2 [==============================] - 0s 5ms/step - loss: 7.6169 - mae: 7.6169\n",
            "Epoch 8/100\n",
            "2/2 [==============================] - 0s 9ms/step - loss: 6.7232 - mae: 6.7232\n",
            "Epoch 9/100\n",
            "2/2 [==============================] - 0s 5ms/step - loss: 12.2149 - mae: 12.2149\n",
            "Epoch 10/100\n",
            "2/2 [==============================] - 0s 8ms/step - loss: 15.1882 - mae: 15.1882\n",
            "Epoch 11/100\n",
            "2/2 [==============================] - 0s 5ms/step - loss: 11.1967 - mae: 11.1967\n",
            "Epoch 12/100\n",
            "2/2 [==============================] - 0s 4ms/step - loss: 14.6463 - mae: 14.6463\n",
            "Epoch 13/100\n",
            "2/2 [==============================] - 0s 5ms/step - loss: 15.3135 - mae: 15.3135\n",
            "Epoch 14/100\n",
            "2/2 [==============================] - 0s 10ms/step - loss: 18.1809 - mae: 18.1809\n",
            "Epoch 15/100\n",
            "2/2 [==============================] - 0s 5ms/step - loss: 14.3916 - mae: 14.3916\n",
            "Epoch 16/100\n",
            "2/2 [==============================] - 0s 8ms/step - loss: 12.4965 - mae: 12.4965\n",
            "Epoch 17/100\n",
            "2/2 [==============================] - 0s 15ms/step - loss: 13.2310 - mae: 13.2310\n",
            "Epoch 18/100\n",
            "2/2 [==============================] - 0s 4ms/step - loss: 15.4299 - mae: 15.4299\n",
            "Epoch 19/100\n",
            "2/2 [==============================] - 0s 5ms/step - loss: 15.5438 - mae: 15.5438\n",
            "Epoch 20/100\n",
            "2/2 [==============================] - 0s 4ms/step - loss: 13.0179 - mae: 13.0179\n",
            "Epoch 21/100\n",
            "2/2 [==============================] - 0s 9ms/step - loss: 13.4021 - mae: 13.4021\n",
            "Epoch 22/100\n",
            "2/2 [==============================] - 0s 5ms/step - loss: 16.4340 - mae: 16.4340\n",
            "Epoch 23/100\n",
            "2/2 [==============================] - 0s 4ms/step - loss: 12.3860 - mae: 12.3860\n",
            "Epoch 24/100\n",
            "2/2 [==============================] - 0s 4ms/step - loss: 9.0759 - mae: 9.0759\n",
            "Epoch 25/100\n",
            "2/2 [==============================] - 0s 4ms/step - loss: 9.9245 - mae: 9.9245\n",
            "Epoch 26/100\n",
            "2/2 [==============================] - 0s 4ms/step - loss: 12.9005 - mae: 12.9005\n",
            "Epoch 27/100\n",
            "2/2 [==============================] - 0s 7ms/step - loss: 12.4816 - mae: 12.4816\n",
            "Epoch 28/100\n",
            "2/2 [==============================] - 0s 4ms/step - loss: 18.6922 - mae: 18.6922\n",
            "Epoch 29/100\n",
            "2/2 [==============================] - 0s 5ms/step - loss: 10.5742 - mae: 10.5742\n",
            "Epoch 30/100\n",
            "2/2 [==============================] - 0s 4ms/step - loss: 19.9328 - mae: 19.9328\n",
            "Epoch 31/100\n",
            "2/2 [==============================] - 0s 6ms/step - loss: 17.8307 - mae: 17.8307\n",
            "Epoch 32/100\n",
            "2/2 [==============================] - 0s 7ms/step - loss: 12.7001 - mae: 12.7001\n",
            "Epoch 33/100\n",
            "2/2 [==============================] - 0s 4ms/step - loss: 12.4655 - mae: 12.4655\n",
            "Epoch 34/100\n",
            "2/2 [==============================] - 0s 5ms/step - loss: 13.2598 - mae: 13.2598\n",
            "Epoch 35/100\n",
            "2/2 [==============================] - 0s 6ms/step - loss: 9.7856 - mae: 9.7856\n",
            "Epoch 36/100\n",
            "2/2 [==============================] - 0s 5ms/step - loss: 11.7649 - mae: 11.7649\n",
            "Epoch 37/100\n",
            "2/2 [==============================] - 0s 4ms/step - loss: 7.3334 - mae: 7.3334\n",
            "Epoch 38/100\n",
            "2/2 [==============================] - 0s 5ms/step - loss: 7.0126 - mae: 7.0126\n",
            "Epoch 39/100\n",
            "2/2 [==============================] - 0s 11ms/step - loss: 6.8578 - mae: 6.8578\n",
            "Epoch 40/100\n",
            "2/2 [==============================] - 0s 5ms/step - loss: 6.8081 - mae: 6.8081\n",
            "Epoch 41/100\n",
            "2/2 [==============================] - 0s 4ms/step - loss: 5.8143 - mae: 5.8143\n",
            "Epoch 42/100\n",
            "2/2 [==============================] - 0s 4ms/step - loss: 4.5237 - mae: 4.5237\n",
            "Epoch 43/100\n",
            "2/2 [==============================] - 0s 5ms/step - loss: 6.3218 - mae: 6.3218\n",
            "Epoch 44/100\n",
            "2/2 [==============================] - 0s 5ms/step - loss: 10.5569 - mae: 10.5569\n",
            "Epoch 45/100\n",
            "2/2 [==============================] - 0s 6ms/step - loss: 10.3949 - mae: 10.3949\n",
            "Epoch 46/100\n",
            "2/2 [==============================] - 0s 5ms/step - loss: 10.7526 - mae: 10.7526\n",
            "Epoch 47/100\n",
            "2/2 [==============================] - 0s 5ms/step - loss: 3.4319 - mae: 3.4319\n",
            "Epoch 48/100\n",
            "2/2 [==============================] - 0s 5ms/step - loss: 4.9897 - mae: 4.9897\n",
            "Epoch 49/100\n",
            "2/2 [==============================] - 0s 4ms/step - loss: 4.6575 - mae: 4.6575\n",
            "Epoch 50/100\n",
            "2/2 [==============================] - 0s 5ms/step - loss: 3.7987 - mae: 3.7987\n",
            "Epoch 51/100\n",
            "2/2 [==============================] - 0s 6ms/step - loss: 6.0184 - mae: 6.0184\n",
            "Epoch 52/100\n",
            "2/2 [==============================] - 0s 6ms/step - loss: 10.6416 - mae: 10.6416\n",
            "Epoch 53/100\n",
            "2/2 [==============================] - 0s 5ms/step - loss: 11.0438 - mae: 11.0438\n",
            "Epoch 54/100\n",
            "2/2 [==============================] - 0s 5ms/step - loss: 19.7983 - mae: 19.7983\n",
            "Epoch 55/100\n",
            "2/2 [==============================] - 0s 5ms/step - loss: 14.5167 - mae: 14.5167\n",
            "Epoch 56/100\n",
            "2/2 [==============================] - 0s 8ms/step - loss: 13.0503 - mae: 13.0503\n",
            "Epoch 57/100\n",
            "2/2 [==============================] - 0s 6ms/step - loss: 13.6977 - mae: 13.6977\n",
            "Epoch 58/100\n",
            "2/2 [==============================] - 0s 5ms/step - loss: 10.4874 - mae: 10.4874\n",
            "Epoch 59/100\n",
            "2/2 [==============================] - 0s 5ms/step - loss: 8.7531 - mae: 8.7531\n",
            "Epoch 60/100\n",
            "2/2 [==============================] - 0s 8ms/step - loss: 6.9088 - mae: 6.9088\n",
            "Epoch 61/100\n",
            "2/2 [==============================] - 0s 6ms/step - loss: 6.6199 - mae: 6.6199\n",
            "Epoch 62/100\n",
            "2/2 [==============================] - 0s 4ms/step - loss: 6.8666 - mae: 6.8666\n",
            "Epoch 63/100\n",
            "2/2 [==============================] - 0s 9ms/step - loss: 5.7794 - mae: 5.7794\n",
            "Epoch 64/100\n",
            "2/2 [==============================] - 0s 8ms/step - loss: 5.7013 - mae: 5.7013\n",
            "Epoch 65/100\n",
            "2/2 [==============================] - 0s 5ms/step - loss: 6.3482 - mae: 6.3482\n",
            "Epoch 66/100\n",
            "2/2 [==============================] - 0s 5ms/step - loss: 7.2641 - mae: 7.2641\n",
            "Epoch 67/100\n",
            "2/2 [==============================] - 0s 9ms/step - loss: 7.8910 - mae: 7.8910\n",
            "Epoch 68/100\n",
            "2/2 [==============================] - 0s 6ms/step - loss: 7.2423 - mae: 7.2423\n",
            "Epoch 69/100\n",
            "2/2 [==============================] - 0s 6ms/step - loss: 6.9175 - mae: 6.9175\n",
            "Epoch 70/100\n",
            "2/2 [==============================] - 0s 12ms/step - loss: 3.9227 - mae: 3.9227\n",
            "Epoch 71/100\n",
            "2/2 [==============================] - 0s 5ms/step - loss: 4.2112 - mae: 4.2112\n",
            "Epoch 72/100\n",
            "2/2 [==============================] - 0s 5ms/step - loss: 4.2327 - mae: 4.2327\n",
            "Epoch 73/100\n",
            "2/2 [==============================] - 0s 6ms/step - loss: 2.7251 - mae: 2.7251\n",
            "Epoch 74/100\n",
            "2/2 [==============================] - 0s 5ms/step - loss: 13.5430 - mae: 13.5430\n",
            "Epoch 75/100\n",
            "2/2 [==============================] - 0s 5ms/step - loss: 11.3275 - mae: 11.3275\n",
            "Epoch 76/100\n",
            "2/2 [==============================] - 0s 5ms/step - loss: 12.4338 - mae: 12.4338\n",
            "Epoch 77/100\n",
            "2/2 [==============================] - 0s 4ms/step - loss: 13.5400 - mae: 13.5400\n",
            "Epoch 78/100\n",
            "2/2 [==============================] - 0s 6ms/step - loss: 12.8002 - mae: 12.8002\n",
            "Epoch 79/100\n",
            "2/2 [==============================] - 0s 8ms/step - loss: 18.6229 - mae: 18.6229\n",
            "Epoch 80/100\n",
            "2/2 [==============================] - 0s 6ms/step - loss: 15.3978 - mae: 15.3978\n",
            "Epoch 81/100\n",
            "2/2 [==============================] - 0s 4ms/step - loss: 17.0671 - mae: 17.0671\n",
            "Epoch 82/100\n",
            "2/2 [==============================] - 0s 5ms/step - loss: 6.0813 - mae: 6.0813\n",
            "Epoch 83/100\n",
            "2/2 [==============================] - 0s 6ms/step - loss: 2.9395 - mae: 2.9395\n",
            "Epoch 84/100\n",
            "2/2 [==============================] - 0s 5ms/step - loss: 8.3155 - mae: 8.3155\n",
            "Epoch 85/100\n",
            "2/2 [==============================] - 0s 6ms/step - loss: 12.3390 - mae: 12.3390\n",
            "Epoch 86/100\n",
            "2/2 [==============================] - 0s 4ms/step - loss: 14.0356 - mae: 14.0356\n",
            "Epoch 87/100\n",
            "2/2 [==============================] - 0s 5ms/step - loss: 15.0593 - mae: 15.0593\n",
            "Epoch 88/100\n",
            "2/2 [==============================] - 0s 6ms/step - loss: 17.4215 - mae: 17.4215\n",
            "Epoch 89/100\n",
            "2/2 [==============================] - 0s 6ms/step - loss: 12.1017 - mae: 12.1017\n",
            "Epoch 90/100\n",
            "2/2 [==============================] - 0s 5ms/step - loss: 14.8023 - mae: 14.8023\n",
            "Epoch 91/100\n",
            "2/2 [==============================] - 0s 5ms/step - loss: 13.5553 - mae: 13.5553\n",
            "Epoch 92/100\n",
            "2/2 [==============================] - 0s 6ms/step - loss: 18.6583 - mae: 18.6583\n",
            "Epoch 93/100\n",
            "2/2 [==============================] - 0s 5ms/step - loss: 11.9505 - mae: 11.9505\n",
            "Epoch 94/100\n",
            "2/2 [==============================] - 0s 6ms/step - loss: 11.0605 - mae: 11.0605\n",
            "Epoch 95/100\n",
            "2/2 [==============================] - 0s 5ms/step - loss: 13.4300 - mae: 13.4300\n",
            "Epoch 96/100\n",
            "2/2 [==============================] - 0s 5ms/step - loss: 11.5442 - mae: 11.5442\n",
            "Epoch 97/100\n",
            "2/2 [==============================] - 0s 12ms/step - loss: 14.8091 - mae: 14.8091\n",
            "Epoch 98/100\n",
            "2/2 [==============================] - 0s 13ms/step - loss: 12.5745 - mae: 12.5745\n",
            "Epoch 99/100\n",
            "2/2 [==============================] - 0s 5ms/step - loss: 11.4601 - mae: 11.4601\n",
            "Epoch 100/100\n",
            "2/2 [==============================] - 0s 11ms/step - loss: 15.5335 - mae: 15.5335\n"
          ]
        },
        {
          "output_type": "execute_result",
          "data": {
            "text/plain": [
              "<keras.callbacks.History at 0x7fa9aea86250>"
            ]
          },
          "metadata": {},
          "execution_count": 31
        }
      ]
    },
    {
      "cell_type": "markdown",
      "source": [
        "### Visualizing the model"
      ],
      "metadata": {
        "id": "oUn2hHfcR-Xe"
      }
    },
    {
      "cell_type": "code",
      "source": [
        "model.summary()"
      ],
      "metadata": {
        "colab": {
          "base_uri": "https://localhost:8080/"
        },
        "id": "X-q0qiooSJYp",
        "outputId": "95acffa2-4896-4e17-874d-2b3e06c265b6"
      },
      "execution_count": null,
      "outputs": [
        {
          "output_type": "stream",
          "name": "stdout",
          "text": [
            "Model: \"sequential_4\"\n",
            "_________________________________________________________________\n",
            " Layer (type)                Output Shape              Param #   \n",
            "=================================================================\n",
            " dense_7 (Dense)             (None, 1)                 2         \n",
            "                                                                 \n",
            "=================================================================\n",
            "Total params: 2\n",
            "Trainable params: 2\n",
            "Non-trainable params: 0\n",
            "_________________________________________________________________\n"
          ]
        }
      ]
    },
    {
      "cell_type": "code",
      "source": [
        "# Let's create a model which builds automatically by defining the input_shape argument\n",
        "tf.random.set_seed(42)\n",
        "\n",
        "# 1. Create a model (same as above)\n",
        "model = tf.keras.Sequential([\n",
        "    tf.keras.layers.Dense(1, input_shape=[1])\n",
        "])\n",
        "\n",
        "# 2. Compile the model\n",
        "model.compile(loss=tf.keras.losses.mae,\n",
        "              optimizer=tf.keras.optimizers.Adam(learning_rate=0.01),\n",
        "              metrics=[\"mae\"])"
      ],
      "metadata": {
        "id": "tjJ_ADV2SZIO"
      },
      "execution_count": null,
      "outputs": []
    },
    {
      "cell_type": "code",
      "source": [
        "model.summary()"
      ],
      "metadata": {
        "colab": {
          "base_uri": "https://localhost:8080/"
        },
        "id": "CYUqIxbbTBF1",
        "outputId": "0843ea92-d96e-4d2d-94b8-e6c1a978e2a5"
      },
      "execution_count": null,
      "outputs": [
        {
          "output_type": "stream",
          "name": "stdout",
          "text": [
            "Model: \"sequential_5\"\n",
            "_________________________________________________________________\n",
            " Layer (type)                Output Shape              Param #   \n",
            "=================================================================\n",
            " dense_8 (Dense)             (None, 1)                 2         \n",
            "                                                                 \n",
            "=================================================================\n",
            "Total params: 2\n",
            "Trainable params: 2\n",
            "Non-trainable params: 0\n",
            "_________________________________________________________________\n"
          ]
        }
      ]
    },
    {
      "cell_type": "markdown",
      "source": [
        "* Total params - total number of parameters in the model.\n",
        "* Trainable parameters - these are the parameters (patterns) the model can update as it trains.\n",
        "* Non-trainable params - these parameters aren't updated during training (this is typical when you bring in already learned patterns or parameters from other models during **transfer learning**)."
      ],
      "metadata": {
        "id": "PcQn5JxsTTzN"
      }
    },
    {
      "cell_type": "code",
      "source": [
        "# Let's fit our model to the training data\n",
        "model.fit(tf.expand_dims(X_train, axis=-1), y_train, epochs=1000, verbose=0)"
      ],
      "metadata": {
        "colab": {
          "base_uri": "https://localhost:8080/"
        },
        "id": "RhUjLDjcTiRo",
        "outputId": "2a7ebc8b-cc28-42bc-9a03-c3545cc14081"
      },
      "execution_count": null,
      "outputs": [
        {
          "output_type": "execute_result",
          "data": {
            "text/plain": [
              "<keras.callbacks.History at 0x7fa9aa2b1ad0>"
            ]
          },
          "metadata": {},
          "execution_count": 35
        }
      ]
    },
    {
      "cell_type": "code",
      "source": [
        "# Get a summary of our model\n",
        "model.summary()"
      ],
      "metadata": {
        "colab": {
          "base_uri": "https://localhost:8080/"
        },
        "id": "KePqx3yjWEQG",
        "outputId": "1c87057e-9dcd-4af2-e99e-5af6edebb2d1"
      },
      "execution_count": null,
      "outputs": [
        {
          "output_type": "stream",
          "name": "stdout",
          "text": [
            "Model: \"sequential_5\"\n",
            "_________________________________________________________________\n",
            " Layer (type)                Output Shape              Param #   \n",
            "=================================================================\n",
            " dense_8 (Dense)             (None, 1)                 2         \n",
            "                                                                 \n",
            "=================================================================\n",
            "Total params: 2\n",
            "Trainable params: 2\n",
            "Non-trainable params: 0\n",
            "_________________________________________________________________\n"
          ]
        }
      ]
    },
    {
      "cell_type": "code",
      "source": [
        "from tensorflow.keras.utils import plot_model as pltmdl\n",
        "pltmdl(model=model, show_shapes=True)"
      ],
      "metadata": {
        "colab": {
          "base_uri": "https://localhost:8080/",
          "height": 201
        },
        "id": "TQmMbNMRXLwf",
        "outputId": "64841a59-0dd5-4b88-94c1-c3845227c397"
      },
      "execution_count": null,
      "outputs": [
        {
          "output_type": "execute_result",
          "data": {
            "image/png": "[encoded data removed]",
            "text/plain": [
              "<IPython.core.display.Image object>"
            ]
          },
          "metadata": {},
          "execution_count": 37
        }
      ]
    },
    {
      "cell_type": "markdown",
      "source": [
        "### Visualizing our model's predictions\n",
        "\n",
        "To visualize predictions, it's a good idea to plot them against the ground truth labels.\n",
        "\n",
        "Often you'll see this in the form of `y_test` or `y_true` versus `y_pred` (ground truth versus your model predictions)."
      ],
      "metadata": {
        "id": "cUmDNlp4YHtS"
      }
    },
    {
      "cell_type": "code",
      "source": [
        "# Make some predictions\n",
        "y_pred = model.predict(X_test)\n",
        "y_pred"
      ],
      "metadata": {
        "colab": {
          "base_uri": "https://localhost:8080/"
        },
        "id": "lrCDpmygY2u-",
        "outputId": "5f775b9f-3bbe-4529-a028-ede0ffc5b821"
      },
      "execution_count": null,
      "outputs": [
        {
          "output_type": "stream",
          "name": "stderr",
          "text": [
            "WARNING:tensorflow:5 out of the last 5 calls to <function Model.make_predict_function.<locals>.predict_function at 0x7fa9a9e3a9e0> triggered tf.function retracing. Tracing is expensive and the excessive number of tracings could be due to (1) creating @tf.function repeatedly in a loop, (2) passing tensors with different shapes, (3) passing Python objects instead of tensors. For (1), please define your @tf.function outside of the loop. For (2), @tf.function has reduce_retracing=True option that can avoid unnecessary retracing. For (3), please refer to https://www.tensorflow.org/guide/function#controlling_retracing and https://www.tensorflow.org/api_docs/python/tf/function for  more details.\n"
          ]
        },
        {
          "output_type": "stream",
          "name": "stdout",
          "text": [
            "1/1 [==============================] - 0s 95ms/step\n"
          ]
        },
        {
          "output_type": "execute_result",
          "data": {
            "text/plain": [
              "array([[60.06665 ],\n",
              "       [64.07094 ],\n",
              "       [68.07523 ],\n",
              "       [72.07952 ],\n",
              "       [76.08382 ],\n",
              "       [80.08811 ],\n",
              "       [84.0924  ],\n",
              "       [88.096695],\n",
              "       [92.10099 ],\n",
              "       [96.10528 ]], dtype=float32)"
            ]
          },
          "metadata": {},
          "execution_count": 38
        }
      ]
    },
    {
      "cell_type": "code",
      "source": [
        "model.predict([0])"
      ],
      "metadata": {
        "colab": {
          "base_uri": "https://localhost:8080/"
        },
        "id": "-zcA11skcSzE",
        "outputId": "b3885907-d1ad-4d12-a008-46d30c4e7e35"
      },
      "execution_count": null,
      "outputs": [
        {
          "output_type": "stream",
          "name": "stderr",
          "text": [
            "WARNING:tensorflow:6 out of the last 6 calls to <function Model.make_predict_function.<locals>.predict_function at 0x7fa9a9e3a9e0> triggered tf.function retracing. Tracing is expensive and the excessive number of tracings could be due to (1) creating @tf.function repeatedly in a loop, (2) passing tensors with different shapes, (3) passing Python objects instead of tensors. For (1), please define your @tf.function outside of the loop. For (2), @tf.function has reduce_retracing=True option that can avoid unnecessary retracing. For (3), please refer to https://www.tensorflow.org/guide/function#controlling_retracing and https://www.tensorflow.org/api_docs/python/tf/function for  more details.\n"
          ]
        },
        {
          "output_type": "stream",
          "name": "stdout",
          "text": [
            "1/1 [==============================] - 0s 106ms/step\n"
          ]
        },
        {
          "output_type": "execute_result",
          "data": {
            "text/plain": [
              "array([[0.00225378]], dtype=float32)"
            ]
          },
          "metadata": {},
          "execution_count": 39
        }
      ]
    },
    {
      "cell_type": "code",
      "source": [
        "# Let's create a plotting function\n",
        "def plot_predictions(train_data=X_train,\n",
        "                     train_labels=y_train,\n",
        "                     test_data=X_test,\n",
        "                     test_labels=y_test,\n",
        "                     predictions=y_pred):\n",
        "  \"\"\"\n",
        "  Plots training data, test data and compares predictions to ground truth labels.\n",
        "  \"\"\"\n",
        "  plt.figure(figsize=(10, 7))\n",
        "  \n",
        "  # Plot training data in blue\n",
        "  plt.scatter(train_data, train_labels, c=\"b\", label=\"Training data\")\n",
        "\n",
        "  # Plot testing data in green\n",
        "  plt.scatter(test_data, test_labels, c=\"g\", label=\"Testing data\")\n",
        "\n",
        "  # Plot model's predictions in red\n",
        "  plt.scatter(test_data, predictions, c=\"r\", label=\"Predictions\")\n",
        "\n",
        "  # Show the legend\n",
        "  plt.legend();"
      ],
      "metadata": {
        "id": "t-4u3ENcZpVP"
      },
      "execution_count": null,
      "outputs": []
    },
    {
      "cell_type": "code",
      "source": [
        "plot_predictions()"
      ],
      "metadata": {
        "colab": {
          "base_uri": "https://localhost:8080/",
          "height": 428
        },
        "id": "f5uAFFU7a3Ex",
        "outputId": "3f5edb16-172e-421e-8ecb-bc8b58bc0755"
      },
      "execution_count": null,
      "outputs": [
        {
          "output_type": "display_data",
          "data": {
            "text/plain": [
              "<Figure size 720x504 with 1 Axes>"
            ],
            "image/png": "[encoded data removed]"
          },
          "metadata": {
            "needs_background": "light"
          }
        }
      ]
    },
    {
      "cell_type": "markdown",
      "source": [
        "### Evaluating our model's predictions with regression evaluation metrics\n",
        "\n",
        "Depending on the problem you're working on, there will be different evaluation metrics to evaluate your model's performance.\n",
        "\n",
        "Sincec we're working on a regression, two of the main metrics:\n",
        "* MAE - mean absolute error, \"on average, how wrong is each of my model's predictions\"\n",
        "* MSE - mean square error, \"square the average error\""
      ],
      "metadata": {
        "id": "GkVjqkHNa5U9"
      }
    },
    {
      "cell_type": "code",
      "source": [
        "# Evaluate the model on the test set\n",
        "model.evaluate(X_test, y_test)"
      ],
      "metadata": {
        "colab": {
          "base_uri": "https://localhost:8080/"
        },
        "id": "v01FDm-pCQf3",
        "outputId": "dc288f09-9431-484c-ec25-910b23c45e7b"
      },
      "execution_count": null,
      "outputs": [
        {
          "output_type": "stream",
          "name": "stdout",
          "text": [
            "1/1 [==============================] - 0s 263ms/step - loss: 0.0860 - mae: 0.0860\n"
          ]
        },
        {
          "output_type": "execute_result",
          "data": {
            "text/plain": [
              "[0.08596344292163849, 0.08596344292163849]"
            ]
          },
          "metadata": {},
          "execution_count": 42
        }
      ]
    },
    {
      "cell_type": "code",
      "source": [
        "tf.constant(y_pred)\n",
        "tf.squeeze(y_pred)\n",
        "y_pred"
      ],
      "metadata": {
        "colab": {
          "base_uri": "https://localhost:8080/"
        },
        "id": "EnN4HP7kFqJQ",
        "outputId": "ecb2940c-693b-4024-88a1-c7ef379e284b"
      },
      "execution_count": null,
      "outputs": [
        {
          "output_type": "execute_result",
          "data": {
            "text/plain": [
              "array([[60.06665 ],\n",
              "       [64.07094 ],\n",
              "       [68.07523 ],\n",
              "       [72.07952 ],\n",
              "       [76.08382 ],\n",
              "       [80.08811 ],\n",
              "       [84.0924  ],\n",
              "       [88.096695],\n",
              "       [92.10099 ],\n",
              "       [96.10528 ]], dtype=float32)"
            ]
          },
          "metadata": {},
          "execution_count": 43
        }
      ]
    },
    {
      "cell_type": "code",
      "source": [
        "# Calculate the mean absolute error\n",
        "mae = tf.metrics.mean_absolute_error(y_true=y_test,\n",
        "                                     y_pred=tf.squeeze(y_pred))\n",
        "mae"
      ],
      "metadata": {
        "colab": {
          "base_uri": "https://localhost:8080/"
        },
        "id": "RxQkyMKhEKJB",
        "outputId": "dc617ba6-eab5-438b-8a69-202b30500440"
      },
      "execution_count": null,
      "outputs": [
        {
          "output_type": "execute_result",
          "data": {
            "text/plain": [
              "<tf.Tensor: shape=(), dtype=float32, numpy=0.08596344>"
            ]
          },
          "metadata": {},
          "execution_count": 44
        }
      ]
    },
    {
      "cell_type": "code",
      "source": [
        "# Calculate the mean square error\n",
        "mse = tf.metrics.mean_squared_error(y_true = y_test,\n",
        "                                    y_pred=tf.squeeze(y_pred))\n",
        "mse"
      ],
      "metadata": {
        "colab": {
          "base_uri": "https://localhost:8080/"
        },
        "id": "dNbeZe1ZGHlk",
        "outputId": "3eef0da8-bd01-404e-eaee-5f0ca2f62a1e"
      },
      "execution_count": null,
      "outputs": [
        {
          "output_type": "execute_result",
          "data": {
            "text/plain": [
              "<tf.Tensor: shape=(), dtype=float32, numpy=0.007541719>"
            ]
          },
          "metadata": {},
          "execution_count": 45
        }
      ]
    },
    {
      "cell_type": "code",
      "source": [
        "# Make some functions to reuse MAE and MSE\n",
        "def mae(y_true, y_pred):\n",
        "  return tf.metrics.mean_absolute_error(y_true=y_true,\n",
        "                                        y_pred=tf.squeeze(y_pred))\n",
        "\n",
        "def mse(y_true, y_pred):\n",
        "  return tf.metrics.mean_absolute_error(y_true=y_true,\n",
        "                                        y_pred=tf.squeeze(y_pred))"
      ],
      "metadata": {
        "id": "3QMssXWXHVOL"
      },
      "execution_count": null,
      "outputs": []
    },
    {
      "cell_type": "markdown",
      "source": [
        "### Running experiments to improve our model\n",
        "```\n",
        "Build a model -> fit it -> evaluate it -> tweak it -> fit it ->...\n",
        "```\n",
        "\n",
        "1. Get more data - get more examples for your model to train on (more opportunities to learn patterns or relationships between features and labels).\n",
        "2. Make your model larger (using a more complex model) - this might come in the form of more layers or more hidden units in each layer.\n",
        "3. Train for longer - give your model more of a chance to find patterns in the data.\n",
        "\n",
        "Let's do 3 modelling experiments:\n",
        "\n",
        "1. `model_1` - same as the original model, 1 layer, trained for 100 epochs\n",
        "2. `model_2` - 2 layers, trained for 100 epochs\n",
        "3. `model_3` - 2 layers, trained for 500 epochs\n",
        "4. `model_4` - 4 layers, trained for 500 epochs\n",
        "5. `model_5` - 2 layers, trained for 500 epochs at a learning_rate of 0.01\n",
        "\n",
        "**Build ``model_1``**"
      ],
      "metadata": {
        "id": "E3D_oN4dGdps"
      }
    },
    {
      "cell_type": "code",
      "source": [
        "# Set random seed\n",
        "tf.random.set_seed(42)\n",
        "\n",
        "# 1. Create the model\n",
        "model_1 = tf.keras.Sequential([\n",
        "    tf.keras.layers.Dense(1)\n",
        "])\n",
        "\n",
        "# 2. Compile the model\n",
        "model_1.compile(loss=tf.keras.losses.mae,\n",
        "                optimizer=tf.keras.optimizers.SGD(),\n",
        "                metrics=[\"mae\"])\n",
        "\n",
        "# 3. Fit the model\n",
        "model_1.fit(tf.expand_dims(X_train, axis=-1), y_train, epochs=100)"
      ],
      "metadata": {
        "colab": {
          "base_uri": "https://localhost:8080/"
        },
        "id": "nKKRDyWNIY3C",
        "outputId": "010d2c7b-9c16-45ec-f192-9381fbfee774"
      },
      "execution_count": null,
      "outputs": [
        {
          "output_type": "stream",
          "name": "stdout",
          "text": [
            "Epoch 1/100\n",
            "2/2 [==============================] - 1s 15ms/step - loss: 15.3155 - mae: 15.3155\n",
            "Epoch 2/100\n",
            "2/2 [==============================] - 0s 17ms/step - loss: 12.7969 - mae: 12.7969\n",
            "Epoch 3/100\n",
            "2/2 [==============================] - 0s 7ms/step - loss: 14.6829 - mae: 14.6829\n",
            "Epoch 4/100\n",
            "2/2 [==============================] - 0s 9ms/step - loss: 14.4182 - mae: 14.4182\n",
            "Epoch 5/100\n",
            "2/2 [==============================] - 0s 8ms/step - loss: 15.2908 - mae: 15.2908\n",
            "Epoch 6/100\n",
            "2/2 [==============================] - 0s 17ms/step - loss: 13.1122 - mae: 13.1122\n",
            "Epoch 7/100\n",
            "2/2 [==============================] - 0s 4ms/step - loss: 9.8898 - mae: 9.8898\n",
            "Epoch 8/100\n",
            "2/2 [==============================] - 0s 7ms/step - loss: 8.2459 - mae: 8.2459\n",
            "Epoch 9/100\n",
            "2/2 [==============================] - 0s 5ms/step - loss: 14.4503 - mae: 14.4503\n",
            "Epoch 10/100\n",
            "2/2 [==============================] - 0s 14ms/step - loss: 17.1168 - mae: 17.1168\n",
            "Epoch 11/100\n",
            "2/2 [==============================] - 0s 10ms/step - loss: 11.4971 - mae: 11.4971\n",
            "Epoch 12/100\n",
            "2/2 [==============================] - 0s 14ms/step - loss: 15.2337 - mae: 15.2337\n",
            "Epoch 13/100\n",
            "2/2 [==============================] - 0s 8ms/step - loss: 14.7261 - mae: 14.7261\n",
            "Epoch 14/100\n",
            "2/2 [==============================] - 0s 7ms/step - loss: 18.7682 - mae: 18.7682\n",
            "Epoch 15/100\n",
            "2/2 [==============================] - 0s 10ms/step - loss: 14.0174 - mae: 14.0174\n",
            "Epoch 16/100\n",
            "2/2 [==============================] - 0s 6ms/step - loss: 12.1606 - mae: 12.1606\n",
            "Epoch 17/100\n",
            "2/2 [==============================] - 0s 6ms/step - loss: 12.9058 - mae: 12.9058\n",
            "Epoch 18/100\n",
            "2/2 [==============================] - 0s 5ms/step - loss: 14.8426 - mae: 14.8426\n",
            "Epoch 19/100\n",
            "2/2 [==============================] - 0s 7ms/step - loss: 16.0227 - mae: 16.0227\n",
            "Epoch 20/100\n",
            "2/2 [==============================] - 0s 5ms/step - loss: 13.0452 - mae: 13.0452\n",
            "Epoch 21/100\n",
            "2/2 [==============================] - 0s 17ms/step - loss: 13.4295 - mae: 13.4295\n",
            "Epoch 22/100\n",
            "2/2 [==============================] - 0s 10ms/step - loss: 16.4669 - mae: 16.4669\n",
            "Epoch 23/100\n",
            "2/2 [==============================] - 0s 5ms/step - loss: 12.4233 - mae: 12.4233\n",
            "Epoch 24/100\n",
            "2/2 [==============================] - 0s 7ms/step - loss: 9.1044 - mae: 9.1044\n",
            "Epoch 25/100\n",
            "2/2 [==============================] - 0s 9ms/step - loss: 9.9517 - mae: 9.9517\n",
            "Epoch 26/100\n",
            "2/2 [==============================] - 0s 8ms/step - loss: 12.9307 - mae: 12.9307\n",
            "Epoch 27/100\n",
            "2/2 [==============================] - 0s 17ms/step - loss: 12.5076 - mae: 12.5076\n",
            "Epoch 28/100\n",
            "2/2 [==============================] - 0s 8ms/step - loss: 18.7432 - mae: 18.7432\n",
            "Epoch 29/100\n",
            "2/2 [==============================] - 0s 8ms/step - loss: 10.5514 - mae: 10.5514\n",
            "Epoch 30/100\n",
            "2/2 [==============================] - 0s 21ms/step - loss: 19.8814 - mae: 19.8814\n",
            "Epoch 31/100\n",
            "2/2 [==============================] - 0s 9ms/step - loss: 17.8820 - mae: 17.8820\n",
            "Epoch 32/100\n",
            "2/2 [==============================] - 0s 6ms/step - loss: 12.6669 - mae: 12.6669\n",
            "Epoch 33/100\n",
            "2/2 [==============================] - 0s 8ms/step - loss: 12.4355 - mae: 12.4355\n",
            "Epoch 34/100\n",
            "2/2 [==============================] - 0s 8ms/step - loss: 13.2242 - mae: 13.2242\n",
            "Epoch 35/100\n",
            "2/2 [==============================] - 0s 8ms/step - loss: 9.7548 - mae: 9.7548\n",
            "Epoch 36/100\n",
            "2/2 [==============================] - 0s 4ms/step - loss: 11.7282 - mae: 11.7282\n",
            "Epoch 37/100\n",
            "2/2 [==============================] - 0s 7ms/step - loss: 7.3015 - mae: 7.3015\n",
            "Epoch 38/100\n",
            "2/2 [==============================] - 0s 6ms/step - loss: 6.9802 - mae: 6.9802\n",
            "Epoch 39/100\n",
            "2/2 [==============================] - 0s 5ms/step - loss: 6.8250 - mae: 6.8250\n",
            "Epoch 40/100\n",
            "2/2 [==============================] - 0s 12ms/step - loss: 6.7748 - mae: 6.7748\n",
            "Epoch 41/100\n",
            "2/2 [==============================] - 0s 6ms/step - loss: 5.7832 - mae: 5.7832\n",
            "Epoch 42/100\n",
            "2/2 [==============================] - 0s 9ms/step - loss: 4.4869 - mae: 4.4869\n",
            "Epoch 43/100\n",
            "2/2 [==============================] - 0s 9ms/step - loss: 6.3473 - mae: 6.3473\n",
            "Epoch 44/100\n",
            "2/2 [==============================] - 0s 5ms/step - loss: 10.5897 - mae: 10.5897\n",
            "Epoch 45/100\n",
            "2/2 [==============================] - 0s 6ms/step - loss: 10.4272 - mae: 10.4272\n",
            "Epoch 46/100\n",
            "2/2 [==============================] - 0s 4ms/step - loss: 10.7951 - mae: 10.7951\n",
            "Epoch 47/100\n",
            "2/2 [==============================] - 0s 11ms/step - loss: 3.3969 - mae: 3.3969\n",
            "Epoch 48/100\n",
            "2/2 [==============================] - 0s 9ms/step - loss: 5.0263 - mae: 5.0263\n",
            "Epoch 49/100\n",
            "2/2 [==============================] - 0s 4ms/step - loss: 4.6221 - mae: 4.6221\n",
            "Epoch 50/100\n",
            "2/2 [==============================] - 0s 14ms/step - loss: 3.8350 - mae: 3.8350\n",
            "Epoch 51/100\n",
            "2/2 [==============================] - 0s 12ms/step - loss: 5.9944 - mae: 5.9944\n",
            "Epoch 52/100\n",
            "2/2 [==============================] - 0s 9ms/step - loss: 10.6114 - mae: 10.6114\n",
            "Epoch 53/100\n",
            "2/2 [==============================] - 0s 8ms/step - loss: 11.0202 - mae: 11.0202\n",
            "Epoch 54/100\n",
            "2/2 [==============================] - 0s 9ms/step - loss: 19.7443 - mae: 19.7443\n",
            "Epoch 55/100\n",
            "2/2 [==============================] - 0s 5ms/step - loss: 14.5510 - mae: 14.5510\n",
            "Epoch 56/100\n",
            "2/2 [==============================] - 0s 10ms/step - loss: 13.0825 - mae: 13.0825\n",
            "Epoch 57/100\n",
            "2/2 [==============================] - 0s 4ms/step - loss: 13.7343 - mae: 13.7343\n",
            "Epoch 58/100\n",
            "2/2 [==============================] - 0s 10ms/step - loss: 10.5227 - mae: 10.5227\n",
            "Epoch 59/100\n",
            "2/2 [==============================] - 0s 11ms/step - loss: 8.7884 - mae: 8.7884\n",
            "Epoch 60/100\n",
            "2/2 [==============================] - 0s 7ms/step - loss: 6.9420 - mae: 6.9420\n",
            "Epoch 61/100\n",
            "2/2 [==============================] - 0s 23ms/step - loss: 6.6518 - mae: 6.6518\n",
            "Epoch 62/100\n",
            "2/2 [==============================] - 0s 8ms/step - loss: 6.9008 - mae: 6.9008\n",
            "Epoch 63/100\n",
            "2/2 [==============================] - 0s 19ms/step - loss: 5.8125 - mae: 5.8125\n",
            "Epoch 64/100\n",
            "2/2 [==============================] - 0s 13ms/step - loss: 5.7326 - mae: 5.7326\n",
            "Epoch 65/100\n",
            "2/2 [==============================] - 0s 17ms/step - loss: 6.3793 - mae: 6.3793\n",
            "Epoch 66/100\n",
            "2/2 [==============================] - 0s 5ms/step - loss: 7.2956 - mae: 7.2956\n",
            "Epoch 67/100\n",
            "2/2 [==============================] - 0s 22ms/step - loss: 7.9246 - mae: 7.9246\n",
            "Epoch 68/100\n",
            "2/2 [==============================] - 0s 7ms/step - loss: 7.2752 - mae: 7.2752\n",
            "Epoch 69/100\n",
            "2/2 [==============================] - 0s 7ms/step - loss: 6.9549 - mae: 6.9549\n",
            "Epoch 70/100\n",
            "2/2 [==============================] - 0s 10ms/step - loss: 3.9545 - mae: 3.9545\n",
            "Epoch 71/100\n",
            "2/2 [==============================] - 0s 5ms/step - loss: 4.2434 - mae: 4.2434\n",
            "Epoch 72/100\n",
            "2/2 [==============================] - 0s 9ms/step - loss: 4.2661 - mae: 4.2661\n",
            "Epoch 73/100\n",
            "2/2 [==============================] - 0s 8ms/step - loss: 4.6201 - mae: 4.6201\n",
            "Epoch 74/100\n",
            "2/2 [==============================] - 0s 11ms/step - loss: 9.2015 - mae: 9.2015\n",
            "Epoch 75/100\n",
            "2/2 [==============================] - 0s 13ms/step - loss: 7.5169 - mae: 7.5169\n",
            "Epoch 76/100\n",
            "2/2 [==============================] - 0s 6ms/step - loss: 8.5921 - mae: 8.5921\n",
            "Epoch 77/100\n",
            "2/2 [==============================] - 0s 7ms/step - loss: 9.5735 - mae: 9.5735\n",
            "Epoch 78/100\n",
            "2/2 [==============================] - 0s 8ms/step - loss: 9.4898 - mae: 9.4898\n",
            "Epoch 79/100\n",
            "2/2 [==============================] - 0s 4ms/step - loss: 11.9665 - mae: 11.9665\n",
            "Epoch 80/100\n",
            "2/2 [==============================] - 0s 9ms/step - loss: 21.9023 - mae: 21.9023\n",
            "Epoch 81/100\n",
            "2/2 [==============================] - 0s 6ms/step - loss: 11.5912 - mae: 11.5912\n",
            "Epoch 82/100\n",
            "2/2 [==============================] - 0s 9ms/step - loss: 4.6893 - mae: 4.6893\n",
            "Epoch 83/100\n",
            "2/2 [==============================] - 0s 6ms/step - loss: 3.7038 - mae: 3.7038\n",
            "Epoch 84/100\n",
            "2/2 [==============================] - 0s 6ms/step - loss: 7.8265 - mae: 7.8265\n",
            "Epoch 85/100\n",
            "2/2 [==============================] - 0s 9ms/step - loss: 11.7742 - mae: 11.7742\n",
            "Epoch 86/100\n",
            "2/2 [==============================] - 0s 8ms/step - loss: 13.4519 - mae: 13.4519\n",
            "Epoch 87/100\n",
            "2/2 [==============================] - 0s 6ms/step - loss: 14.0389 - mae: 14.0389\n",
            "Epoch 88/100\n",
            "2/2 [==============================] - 0s 15ms/step - loss: 18.4419 - mae: 18.4419\n",
            "Epoch 89/100\n",
            "2/2 [==============================] - 0s 12ms/step - loss: 11.5511 - mae: 11.5511\n",
            "Epoch 90/100\n",
            "2/2 [==============================] - 0s 6ms/step - loss: 14.1805 - mae: 14.1805\n",
            "Epoch 91/100\n",
            "2/2 [==============================] - 0s 5ms/step - loss: 12.8976 - mae: 12.8976\n",
            "Epoch 92/100\n",
            "2/2 [==============================] - 0s 8ms/step - loss: 18.1774 - mae: 18.1774\n",
            "Epoch 93/100\n",
            "2/2 [==============================] - 0s 7ms/step - loss: 12.2454 - mae: 12.2454\n",
            "Epoch 94/100\n",
            "2/2 [==============================] - 0s 17ms/step - loss: 11.3246 - mae: 11.3246\n",
            "Epoch 95/100\n",
            "2/2 [==============================] - 0s 11ms/step - loss: 13.7342 - mae: 13.7342\n",
            "Epoch 96/100\n",
            "2/2 [==============================] - 0s 12ms/step - loss: 11.8020 - mae: 11.8020\n",
            "Epoch 97/100\n",
            "2/2 [==============================] - 0s 11ms/step - loss: 15.1223 - mae: 15.1223\n",
            "Epoch 98/100\n",
            "2/2 [==============================] - 0s 26ms/step - loss: 12.8678 - mae: 12.8678\n",
            "Epoch 99/100\n",
            "2/2 [==============================] - 0s 6ms/step - loss: 11.7037 - mae: 11.7037\n",
            "Epoch 100/100\n",
            "2/2 [==============================] - 0s 23ms/step - loss: 16.0140 - mae: 16.0140\n"
          ]
        },
        {
          "output_type": "execute_result",
          "data": {
            "text/plain": [
              "<keras.callbacks.History at 0x7fa9a9e40190>"
            ]
          },
          "metadata": {},
          "execution_count": 47
        }
      ]
    },
    {
      "cell_type": "code",
      "source": [
        "# Make and plot predictions for model_1\n",
        "y_preds_1 = model_1.predict(X_test)\n",
        "plot_predictions(predictions=y_preds_1)"
      ],
      "metadata": {
        "colab": {
          "base_uri": "https://localhost:8080/",
          "height": 446
        },
        "id": "ZUNzL-FUH6nO",
        "outputId": "0c3aab17-db02-4c9f-82d0-470ab192a503"
      },
      "execution_count": null,
      "outputs": [
        {
          "output_type": "stream",
          "name": "stdout",
          "text": [
            "1/1 [==============================] - 0s 141ms/step\n"
          ]
        },
        {
          "output_type": "display_data",
          "data": {
            "text/plain": [
              "<Figure size 720x504 with 1 Axes>"
            ],
            "image/png": "[encoded data removed]"
          },
          "metadata": {
            "needs_background": "light"
          }
        }
      ]
    },
    {
      "cell_type": "code",
      "source": [
        "# Calculate model_1 evaluation metrics\n",
        "mae_1 = mae(y_test, y_preds_1)\n",
        "mse_1 = mse(y_test, y_preds_1)\n",
        "mae_1, mse_1"
      ],
      "metadata": {
        "colab": {
          "base_uri": "https://localhost:8080/"
        },
        "id": "LQMOb9SnKenN",
        "outputId": "a8ecd011-75d4-4b06-fc08-2af80864ac35"
      },
      "execution_count": null,
      "outputs": [
        {
          "output_type": "execute_result",
          "data": {
            "text/plain": [
              "(<tf.Tensor: shape=(), dtype=float32, numpy=33.441204>,\n",
              " <tf.Tensor: shape=(), dtype=float32, numpy=33.441204>)"
            ]
          },
          "metadata": {},
          "execution_count": 49
        }
      ]
    },
    {
      "cell_type": "markdown",
      "source": [
        "**Build ``model_2``**\n",
        " * 2 dense layers, trained for 100 epochs"
      ],
      "metadata": {
        "id": "vLf3X8qKMJNE"
      }
    },
    {
      "cell_type": "code",
      "source": [
        "tf.random.set_seed(42)\n",
        "\n",
        "# 1. Create model 2\n",
        "model_2 = tf.keras.Sequential([\n",
        "    tf.keras.layers.Dense(2),\n",
        "    tf.keras.layers.Dense(1)\n",
        "])\n",
        "\n",
        "# 2. Compile our model 2\n",
        "model_2.compile(loss=tf.keras.losses.mae,\n",
        "                optimizer=tf.keras.optimizers.SGD(),\n",
        "                metrics=[\"mae\"])\n",
        "\n",
        "# 3. Fit our model 2\n",
        "model_2.fit(tf.expand_dims(X_train, axis=-1), y_train, epochs=100)"
      ],
      "metadata": {
        "id": "wPS2eCWXKw-c",
        "colab": {
          "base_uri": "https://localhost:8080/"
        },
        "outputId": "3aa83228-68ea-4181-afca-035f78d61f4a"
      },
      "execution_count": null,
      "outputs": [
        {
          "output_type": "stream",
          "name": "stdout",
          "text": [
            "Epoch 1/100\n",
            "2/2 [==============================] - 1s 7ms/step - loss: 29.8909 - mae: 29.8909\n",
            "Epoch 2/100\n",
            "2/2 [==============================] - 0s 6ms/step - loss: 7.1468 - mae: 7.1468\n",
            "Epoch 3/100\n",
            "2/2 [==============================] - 0s 7ms/step - loss: 13.0898 - mae: 13.0898\n",
            "Epoch 4/100\n",
            "2/2 [==============================] - 0s 6ms/step - loss: 17.1342 - mae: 17.1342\n",
            "Epoch 5/100\n",
            "2/2 [==============================] - 0s 6ms/step - loss: 25.9949 - mae: 25.9949\n",
            "Epoch 6/100\n",
            "2/2 [==============================] - 0s 4ms/step - loss: 15.0455 - mae: 15.0455\n",
            "Epoch 7/100\n",
            "2/2 [==============================] - 0s 6ms/step - loss: 13.9189 - mae: 13.9189\n",
            "Epoch 8/100\n",
            "2/2 [==============================] - 0s 6ms/step - loss: 14.4987 - mae: 14.4987\n",
            "Epoch 9/100\n",
            "2/2 [==============================] - 0s 10ms/step - loss: 35.1853 - mae: 35.1853\n",
            "Epoch 10/100\n",
            "2/2 [==============================] - 0s 7ms/step - loss: 15.0550 - mae: 15.0550\n",
            "Epoch 11/100\n",
            "2/2 [==============================] - 0s 7ms/step - loss: 15.1723 - mae: 15.1723\n",
            "Epoch 12/100\n",
            "2/2 [==============================] - 0s 8ms/step - loss: 29.3186 - mae: 29.3186\n",
            "Epoch 13/100\n",
            "2/2 [==============================] - 0s 7ms/step - loss: 11.2586 - mae: 11.2586\n",
            "Epoch 14/100\n",
            "2/2 [==============================] - 0s 4ms/step - loss: 9.1686 - mae: 9.1686\n",
            "Epoch 15/100\n",
            "2/2 [==============================] - 0s 9ms/step - loss: 10.9974 - mae: 10.9974\n",
            "Epoch 16/100\n",
            "2/2 [==============================] - 0s 4ms/step - loss: 14.5006 - mae: 14.5006\n",
            "Epoch 17/100\n",
            "2/2 [==============================] - 0s 5ms/step - loss: 22.3200 - mae: 22.3200\n",
            "Epoch 18/100\n",
            "2/2 [==============================] - 0s 9ms/step - loss: 28.4265 - mae: 28.4265\n",
            "Epoch 19/100\n",
            "2/2 [==============================] - 0s 6ms/step - loss: 13.1952 - mae: 13.1952\n",
            "Epoch 20/100\n",
            "2/2 [==============================] - 0s 5ms/step - loss: 13.5741 - mae: 13.5741\n",
            "Epoch 21/100\n",
            "2/2 [==============================] - 0s 6ms/step - loss: 19.5160 - mae: 19.5160\n",
            "Epoch 22/100\n",
            "2/2 [==============================] - 0s 8ms/step - loss: 37.5700 - mae: 37.5700\n",
            "Epoch 23/100\n",
            "2/2 [==============================] - 0s 8ms/step - loss: 5.3028 - mae: 5.3028\n",
            "Epoch 24/100\n",
            "2/2 [==============================] - 0s 9ms/step - loss: 16.1564 - mae: 16.1564\n",
            "Epoch 25/100\n",
            "2/2 [==============================] - 0s 4ms/step - loss: 26.0195 - mae: 26.0195\n",
            "Epoch 26/100\n",
            "2/2 [==============================] - 0s 4ms/step - loss: 20.1533 - mae: 20.1533\n",
            "Epoch 27/100\n",
            "2/2 [==============================] - 0s 7ms/step - loss: 3.6131 - mae: 3.6131\n",
            "Epoch 28/100\n",
            "2/2 [==============================] - 0s 4ms/step - loss: 24.4053 - mae: 24.4053\n",
            "Epoch 29/100\n",
            "2/2 [==============================] - 0s 5ms/step - loss: 7.9060 - mae: 7.9060\n",
            "Epoch 30/100\n",
            "2/2 [==============================] - 0s 5ms/step - loss: 9.5265 - mae: 9.5265\n",
            "Epoch 31/100\n",
            "2/2 [==============================] - 0s 6ms/step - loss: 14.9166 - mae: 14.9166\n",
            "Epoch 32/100\n",
            "2/2 [==============================] - 0s 5ms/step - loss: 12.0149 - mae: 12.0149\n",
            "Epoch 33/100\n",
            "2/2 [==============================] - 0s 13ms/step - loss: 16.4221 - mae: 16.4221\n",
            "Epoch 34/100\n",
            "2/2 [==============================] - 0s 5ms/step - loss: 24.6978 - mae: 24.6978\n",
            "Epoch 35/100\n",
            "2/2 [==============================] - 0s 5ms/step - loss: 17.6957 - mae: 17.6957\n",
            "Epoch 36/100\n",
            "2/2 [==============================] - 0s 5ms/step - loss: 2.7652 - mae: 2.7652\n",
            "Epoch 37/100\n",
            "2/2 [==============================] - 0s 5ms/step - loss: 9.4253 - mae: 9.4253\n",
            "Epoch 38/100\n",
            "2/2 [==============================] - 0s 6ms/step - loss: 14.6051 - mae: 14.6051\n",
            "Epoch 39/100\n",
            "2/2 [==============================] - 0s 4ms/step - loss: 19.5169 - mae: 19.5169\n",
            "Epoch 40/100\n",
            "2/2 [==============================] - 0s 5ms/step - loss: 34.3114 - mae: 34.3114\n",
            "Epoch 41/100\n",
            "2/2 [==============================] - 0s 5ms/step - loss: 11.0674 - mae: 11.0674\n",
            "Epoch 42/100\n",
            "2/2 [==============================] - 0s 5ms/step - loss: 13.2798 - mae: 13.2798\n",
            "Epoch 43/100\n",
            "2/2 [==============================] - 0s 6ms/step - loss: 13.2911 - mae: 13.2911\n",
            "Epoch 44/100\n",
            "2/2 [==============================] - 0s 5ms/step - loss: 29.2887 - mae: 29.2887\n",
            "Epoch 45/100\n",
            "2/2 [==============================] - 0s 5ms/step - loss: 8.8662 - mae: 8.8662\n",
            "Epoch 46/100\n",
            "2/2 [==============================] - 0s 5ms/step - loss: 13.3473 - mae: 13.3473\n",
            "Epoch 47/100\n",
            "2/2 [==============================] - 0s 7ms/step - loss: 9.1128 - mae: 9.1128\n",
            "Epoch 48/100\n",
            "2/2 [==============================] - 0s 5ms/step - loss: 12.4797 - mae: 12.4797\n",
            "Epoch 49/100\n",
            "2/2 [==============================] - 0s 11ms/step - loss: 13.8690 - mae: 13.8690\n",
            "Epoch 50/100\n",
            "2/2 [==============================] - 0s 5ms/step - loss: 16.6350 - mae: 16.6350\n",
            "Epoch 51/100\n",
            "2/2 [==============================] - 0s 4ms/step - loss: 15.6613 - mae: 15.6613\n",
            "Epoch 52/100\n",
            "2/2 [==============================] - 0s 6ms/step - loss: 50.9765 - mae: 50.9765\n",
            "Epoch 53/100\n",
            "2/2 [==============================] - 0s 4ms/step - loss: 29.6760 - mae: 29.6760\n",
            "Epoch 54/100\n",
            "2/2 [==============================] - 0s 4ms/step - loss: 29.2194 - mae: 29.2194\n",
            "Epoch 55/100\n",
            "2/2 [==============================] - 0s 4ms/step - loss: 27.1107 - mae: 27.1107\n",
            "Epoch 56/100\n",
            "2/2 [==============================] - 0s 5ms/step - loss: 6.4778 - mae: 6.4778\n",
            "Epoch 57/100\n",
            "2/2 [==============================] - 0s 4ms/step - loss: 14.5595 - mae: 14.5595\n",
            "Epoch 58/100\n",
            "2/2 [==============================] - 0s 5ms/step - loss: 15.7949 - mae: 15.7949\n",
            "Epoch 59/100\n",
            "2/2 [==============================] - 0s 4ms/step - loss: 18.2537 - mae: 18.2537\n",
            "Epoch 60/100\n",
            "2/2 [==============================] - 0s 4ms/step - loss: 22.2981 - mae: 22.2981\n",
            "Epoch 61/100\n",
            "2/2 [==============================] - 0s 4ms/step - loss: 26.3227 - mae: 26.3227\n",
            "Epoch 62/100\n",
            "2/2 [==============================] - 0s 4ms/step - loss: 9.4105 - mae: 9.4105\n",
            "Epoch 63/100\n",
            "2/2 [==============================] - 0s 4ms/step - loss: 14.2434 - mae: 14.2434\n",
            "Epoch 64/100\n",
            "2/2 [==============================] - 0s 4ms/step - loss: 18.6278 - mae: 18.6278\n",
            "Epoch 65/100\n",
            "2/2 [==============================] - 0s 4ms/step - loss: 36.5431 - mae: 36.5431\n",
            "Epoch 66/100\n",
            "2/2 [==============================] - 0s 5ms/step - loss: 18.8853 - mae: 18.8853\n",
            "Epoch 67/100\n",
            "2/2 [==============================] - 0s 5ms/step - loss: 8.9844 - mae: 8.9844\n",
            "Epoch 68/100\n",
            "2/2 [==============================] - 0s 8ms/step - loss: 13.9533 - mae: 13.9533\n",
            "Epoch 69/100\n",
            "2/2 [==============================] - 0s 8ms/step - loss: 19.0823 - mae: 19.0823\n",
            "Epoch 70/100\n",
            "2/2 [==============================] - 0s 7ms/step - loss: 19.3396 - mae: 19.3396\n",
            "Epoch 71/100\n",
            "2/2 [==============================] - 0s 8ms/step - loss: 34.7091 - mae: 34.7091\n",
            "Epoch 72/100\n",
            "2/2 [==============================] - 0s 5ms/step - loss: 14.8633 - mae: 14.8633\n",
            "Epoch 73/100\n",
            "2/2 [==============================] - 0s 5ms/step - loss: 12.5278 - mae: 12.5278\n",
            "Epoch 74/100\n",
            "2/2 [==============================] - 0s 4ms/step - loss: 29.7429 - mae: 29.7429\n",
            "Epoch 75/100\n",
            "2/2 [==============================] - 0s 5ms/step - loss: 6.9479 - mae: 6.9479\n",
            "Epoch 76/100\n",
            "2/2 [==============================] - 0s 7ms/step - loss: 13.4068 - mae: 13.4068\n",
            "Epoch 77/100\n",
            "2/2 [==============================] - 0s 7ms/step - loss: 20.3269 - mae: 20.3269\n",
            "Epoch 78/100\n",
            "2/2 [==============================] - 0s 7ms/step - loss: 30.5744 - mae: 30.5744\n",
            "Epoch 79/100\n",
            "2/2 [==============================] - 0s 7ms/step - loss: 22.6447 - mae: 22.6447\n",
            "Epoch 80/100\n",
            "2/2 [==============================] - 0s 9ms/step - loss: 21.8519 - mae: 21.8519\n",
            "Epoch 81/100\n",
            "2/2 [==============================] - 0s 6ms/step - loss: 3.9949 - mae: 3.9949\n",
            "Epoch 82/100\n",
            "2/2 [==============================] - 0s 5ms/step - loss: 24.5538 - mae: 24.5538\n",
            "Epoch 83/100\n",
            "2/2 [==============================] - 0s 6ms/step - loss: 18.4532 - mae: 18.4532\n",
            "Epoch 84/100\n",
            "2/2 [==============================] - 0s 5ms/step - loss: 14.2775 - mae: 14.2775\n",
            "Epoch 85/100\n",
            "2/2 [==============================] - 0s 5ms/step - loss: 30.3139 - mae: 30.3139\n",
            "Epoch 86/100\n",
            "2/2 [==============================] - 0s 4ms/step - loss: 7.9224 - mae: 7.9224\n",
            "Epoch 87/100\n",
            "2/2 [==============================] - 0s 5ms/step - loss: 13.1535 - mae: 13.1535\n",
            "Epoch 88/100\n",
            "2/2 [==============================] - 0s 5ms/step - loss: 26.1303 - mae: 26.1303\n",
            "Epoch 89/100\n",
            "2/2 [==============================] - 0s 5ms/step - loss: 15.8351 - mae: 15.8351\n",
            "Epoch 90/100\n",
            "2/2 [==============================] - 0s 5ms/step - loss: 5.9847 - mae: 5.9847\n",
            "Epoch 91/100\n",
            "2/2 [==============================] - 0s 5ms/step - loss: 14.2472 - mae: 14.2472\n",
            "Epoch 92/100\n",
            "2/2 [==============================] - 0s 8ms/step - loss: 27.4736 - mae: 27.4736\n",
            "Epoch 93/100\n",
            "2/2 [==============================] - 0s 5ms/step - loss: 12.3456 - mae: 12.3456\n",
            "Epoch 94/100\n",
            "2/2 [==============================] - 0s 5ms/step - loss: 12.8409 - mae: 12.8409\n",
            "Epoch 95/100\n",
            "2/2 [==============================] - 0s 10ms/step - loss: 21.7316 - mae: 21.7316\n",
            "Epoch 96/100\n",
            "2/2 [==============================] - 0s 5ms/step - loss: 26.1717 - mae: 26.1717\n",
            "Epoch 97/100\n",
            "2/2 [==============================] - 0s 5ms/step - loss: 14.8764 - mae: 14.8764\n",
            "Epoch 98/100\n",
            "2/2 [==============================] - 0s 5ms/step - loss: 13.0576 - mae: 13.0576\n",
            "Epoch 99/100\n",
            "2/2 [==============================] - 0s 5ms/step - loss: 15.7998 - mae: 15.7998\n",
            "Epoch 100/100\n",
            "2/2 [==============================] - 0s 5ms/step - loss: 31.0061 - mae: 31.0061\n"
          ]
        },
        {
          "output_type": "execute_result",
          "data": {
            "text/plain": [
              "<keras.callbacks.History at 0x7fa9a9b8d890>"
            ]
          },
          "metadata": {},
          "execution_count": 50
        }
      ]
    },
    {
      "cell_type": "code",
      "source": [
        "# Make and plot predictions for model 2\n",
        "y_preds_2 = model_2.predict(X_test)\n",
        "plot_predictions(predictions=y_preds_2)"
      ],
      "metadata": {
        "colab": {
          "base_uri": "https://localhost:8080/",
          "height": 446
        },
        "id": "4IAhnWu5MBfz",
        "outputId": "31b1bf63-c7bc-4c06-a9d4-f7feff9e6f02"
      },
      "execution_count": null,
      "outputs": [
        {
          "output_type": "stream",
          "name": "stdout",
          "text": [
            "1/1 [==============================] - 0s 133ms/step\n"
          ]
        },
        {
          "output_type": "display_data",
          "data": {
            "text/plain": [
              "<Figure size 720x504 with 1 Axes>"
            ],
            "image/png": "[encoded data removed]"
          },
          "metadata": {
            "needs_background": "light"
          }
        }
      ]
    },
    {
      "cell_type": "code",
      "source": [
        "# Calculate model 2 evaluation metrics\n",
        "mae_2 = mae(y_test, y_preds_2)\n",
        "mse_2 = mse(y_test, y_preds_2)\n",
        "mae_1, mse_1"
      ],
      "metadata": {
        "colab": {
          "base_uri": "https://localhost:8080/"
        },
        "id": "-z8D10MsMsZg",
        "outputId": "abe06df7-3e65-42c9-942e-a0e0625be968"
      },
      "execution_count": null,
      "outputs": [
        {
          "output_type": "execute_result",
          "data": {
            "text/plain": [
              "(<tf.Tensor: shape=(), dtype=float32, numpy=33.441204>,\n",
              " <tf.Tensor: shape=(), dtype=float32, numpy=33.441204>)"
            ]
          },
          "metadata": {},
          "execution_count": 52
        }
      ]
    },
    {
      "cell_type": "markdown",
      "source": [
        "**Build ``model_3``**\n",
        "  * 2 layers, trained for 500 epochs"
      ],
      "metadata": {
        "id": "Z-YhLteZNETE"
      }
    },
    {
      "cell_type": "code",
      "source": [
        "tf.random.set_seed(42)\n",
        "\n",
        "# 1. Create the model 3\n",
        "model_3 = tf.keras.Sequential([\n",
        "    tf.keras.layers.Dense(20),\n",
        "    tf.keras.layers.Dense(1)\n",
        "])\n",
        "\n",
        "# 2. Compile the model 3\n",
        "model_3.compile(loss=tf.keras.losses.mae,\n",
        "                optimizer=tf.keras.optimizers.SGD(),\n",
        "                metrics=[\"mae\"])\n",
        "\n",
        "# 3. Fit the model 3\n",
        "model_3.fit(tf.expand_dims(X_train, axis=-1), y_train, epochs=500)\n"
      ],
      "metadata": {
        "id": "z5-w8LK2Q9VX",
        "colab": {
          "base_uri": "https://localhost:8080/"
        },
        "outputId": "dc72b138-7004-4026-f08a-b74a16c1cad3"
      },
      "execution_count": null,
      "outputs": [
        {
          "output_type": "stream",
          "name": "stdout",
          "text": [
            "Epoch 1/500\n",
            "2/2 [==============================] - 0s 5ms/step - loss: 23.5832 - mae: 23.5832\n",
            "Epoch 2/500\n",
            "2/2 [==============================] - 0s 6ms/step - loss: 20.7378 - mae: 20.7378\n",
            "Epoch 3/500\n",
            "2/2 [==============================] - 0s 7ms/step - loss: 25.9282 - mae: 25.9282\n",
            "Epoch 4/500\n",
            "2/2 [==============================] - 0s 7ms/step - loss: 38.8820 - mae: 38.8820\n",
            "Epoch 5/500\n",
            "2/2 [==============================] - 0s 11ms/step - loss: 17.6457 - mae: 17.6457\n",
            "Epoch 6/500\n",
            "2/2 [==============================] - 0s 9ms/step - loss: 12.5874 - mae: 12.5874\n",
            "Epoch 7/500\n",
            "2/2 [==============================] - 0s 7ms/step - loss: 14.0305 - mae: 14.0305\n",
            "Epoch 8/500\n",
            "2/2 [==============================] - 0s 8ms/step - loss: 14.5762 - mae: 14.5762\n",
            "Epoch 9/500\n",
            "2/2 [==============================] - 0s 7ms/step - loss: 35.2776 - mae: 35.2776\n",
            "Epoch 10/500\n",
            "2/2 [==============================] - 0s 7ms/step - loss: 14.9355 - mae: 14.9355\n",
            "Epoch 11/500\n",
            "2/2 [==============================] - 0s 4ms/step - loss: 15.1052 - mae: 15.1052\n",
            "Epoch 12/500\n",
            "2/2 [==============================] - 0s 5ms/step - loss: 29.1880 - mae: 29.1880\n",
            "Epoch 13/500\n",
            "2/2 [==============================] - 0s 7ms/step - loss: 11.5735 - mae: 11.5735\n",
            "Epoch 14/500\n",
            "2/2 [==============================] - 0s 4ms/step - loss: 9.5024 - mae: 9.5024\n",
            "Epoch 15/500\n",
            "2/2 [==============================] - 0s 5ms/step - loss: 10.8293 - mae: 10.8293\n",
            "Epoch 16/500\n",
            "2/2 [==============================] - 0s 7ms/step - loss: 14.3953 - mae: 14.3953\n",
            "Epoch 17/500\n",
            "2/2 [==============================] - 0s 6ms/step - loss: 22.1075 - mae: 22.1075\n",
            "Epoch 18/500\n",
            "2/2 [==============================] - 0s 5ms/step - loss: 28.9896 - mae: 28.9896\n",
            "Epoch 19/500\n",
            "2/2 [==============================] - 0s 6ms/step - loss: 13.6281 - mae: 13.6281\n",
            "Epoch 20/500\n",
            "2/2 [==============================] - 0s 6ms/step - loss: 13.4598 - mae: 13.4598\n",
            "Epoch 21/500\n",
            "2/2 [==============================] - 0s 6ms/step - loss: 19.2784 - mae: 19.2784\n",
            "Epoch 22/500\n",
            "2/2 [==============================] - 0s 10ms/step - loss: 38.2560 - mae: 38.2560\n",
            "Epoch 23/500\n",
            "2/2 [==============================] - 0s 6ms/step - loss: 5.6605 - mae: 5.6605\n",
            "Epoch 24/500\n",
            "2/2 [==============================] - 0s 5ms/step - loss: 16.0741 - mae: 16.0741\n",
            "Epoch 25/500\n",
            "2/2 [==============================] - 0s 6ms/step - loss: 25.8492 - mae: 25.8492\n",
            "Epoch 26/500\n",
            "2/2 [==============================] - 0s 9ms/step - loss: 20.6137 - mae: 20.6137\n",
            "Epoch 27/500\n",
            "2/2 [==============================] - 0s 7ms/step - loss: 7.2355 - mae: 7.2355\n",
            "Epoch 28/500\n",
            "2/2 [==============================] - 0s 6ms/step - loss: 11.2766 - mae: 11.2766\n",
            "Epoch 29/500\n",
            "2/2 [==============================] - 0s 11ms/step - loss: 13.8248 - mae: 13.8248\n",
            "Epoch 30/500\n",
            "2/2 [==============================] - 0s 5ms/step - loss: 34.4286 - mae: 34.4286\n",
            "Epoch 31/500\n",
            "2/2 [==============================] - 0s 5ms/step - loss: 11.3735 - mae: 11.3735\n",
            "Epoch 32/500\n",
            "2/2 [==============================] - 0s 5ms/step - loss: 15.5886 - mae: 15.5886\n",
            "Epoch 33/500\n",
            "2/2 [==============================] - 0s 8ms/step - loss: 21.5141 - mae: 21.5141\n",
            "Epoch 34/500\n",
            "2/2 [==============================] - 0s 5ms/step - loss: 29.8149 - mae: 29.8149\n",
            "Epoch 35/500\n",
            "2/2 [==============================] - 0s 9ms/step - loss: 10.3588 - mae: 10.3588\n",
            "Epoch 36/500\n",
            "2/2 [==============================] - 0s 6ms/step - loss: 17.9751 - mae: 17.9751\n",
            "Epoch 37/500\n",
            "2/2 [==============================] - 0s 4ms/step - loss: 16.7669 - mae: 16.7669\n",
            "Epoch 38/500\n",
            "2/2 [==============================] - 0s 5ms/step - loss: 23.5323 - mae: 23.5323\n",
            "Epoch 39/500\n",
            "2/2 [==============================] - 0s 6ms/step - loss: 23.4916 - mae: 23.4916\n",
            "Epoch 40/500\n",
            "2/2 [==============================] - 0s 12ms/step - loss: 6.6401 - mae: 6.6401\n",
            "Epoch 41/500\n",
            "2/2 [==============================] - 0s 12ms/step - loss: 15.1049 - mae: 15.1049\n",
            "Epoch 42/500\n",
            "2/2 [==============================] - 0s 10ms/step - loss: 19.4867 - mae: 19.4867\n",
            "Epoch 43/500\n",
            "2/2 [==============================] - 0s 10ms/step - loss: 26.4308 - mae: 26.4308\n",
            "Epoch 44/500\n",
            "2/2 [==============================] - 0s 6ms/step - loss: 22.7014 - mae: 22.7014\n",
            "Epoch 45/500\n",
            "2/2 [==============================] - 0s 11ms/step - loss: 5.9691 - mae: 5.9691\n",
            "Epoch 46/500\n",
            "2/2 [==============================] - 0s 7ms/step - loss: 14.8814 - mae: 14.8814\n",
            "Epoch 47/500\n",
            "2/2 [==============================] - 0s 6ms/step - loss: 10.5157 - mae: 10.5157\n",
            "Epoch 48/500\n",
            "2/2 [==============================] - 0s 7ms/step - loss: 13.7363 - mae: 13.7363\n",
            "Epoch 49/500\n",
            "2/2 [==============================] - 0s 8ms/step - loss: 14.9187 - mae: 14.9187\n",
            "Epoch 50/500\n",
            "2/2 [==============================] - 0s 8ms/step - loss: 17.5383 - mae: 17.5383\n",
            "Epoch 51/500\n",
            "2/2 [==============================] - 0s 8ms/step - loss: 17.6916 - mae: 17.6916\n",
            "Epoch 52/500\n",
            "2/2 [==============================] - 0s 10ms/step - loss: 45.4210 - mae: 45.4210\n",
            "Epoch 53/500\n",
            "2/2 [==============================] - 0s 6ms/step - loss: 26.0886 - mae: 26.0886\n",
            "Epoch 54/500\n",
            "2/2 [==============================] - 0s 6ms/step - loss: 25.5763 - mae: 25.5763\n",
            "Epoch 55/500\n",
            "2/2 [==============================] - 0s 5ms/step - loss: 23.0744 - mae: 23.0744\n",
            "Epoch 56/500\n",
            "2/2 [==============================] - 0s 4ms/step - loss: 9.8990 - mae: 9.8990\n",
            "Epoch 57/500\n",
            "2/2 [==============================] - 0s 4ms/step - loss: 15.6452 - mae: 15.6452\n",
            "Epoch 58/500\n",
            "2/2 [==============================] - 0s 5ms/step - loss: 16.6875 - mae: 16.6875\n",
            "Epoch 59/500\n",
            "2/2 [==============================] - 0s 4ms/step - loss: 19.7856 - mae: 19.7856\n",
            "Epoch 60/500\n",
            "2/2 [==============================] - 0s 5ms/step - loss: 30.8299 - mae: 30.8299\n",
            "Epoch 61/500\n",
            "2/2 [==============================] - 0s 4ms/step - loss: 10.9715 - mae: 10.9715\n",
            "Epoch 62/500\n",
            "2/2 [==============================] - 0s 4ms/step - loss: 12.3970 - mae: 12.3970\n",
            "Epoch 63/500\n",
            "2/2 [==============================] - 0s 5ms/step - loss: 15.7838 - mae: 15.7838\n",
            "Epoch 64/500\n",
            "2/2 [==============================] - 0s 4ms/step - loss: 21.8163 - mae: 21.8163\n",
            "Epoch 65/500\n",
            "2/2 [==============================] - 0s 7ms/step - loss: 28.5359 - mae: 28.5359\n",
            "Epoch 66/500\n",
            "2/2 [==============================] - 0s 5ms/step - loss: 13.1399 - mae: 13.1399\n",
            "Epoch 67/500\n",
            "2/2 [==============================] - 0s 4ms/step - loss: 11.2917 - mae: 11.2917\n",
            "Epoch 68/500\n",
            "2/2 [==============================] - 0s 4ms/step - loss: 15.5311 - mae: 15.5311\n",
            "Epoch 69/500\n",
            "2/2 [==============================] - 0s 4ms/step - loss: 22.0907 - mae: 22.0907\n",
            "Epoch 70/500\n",
            "2/2 [==============================] - 0s 4ms/step - loss: 23.2573 - mae: 23.2573\n",
            "Epoch 71/500\n",
            "2/2 [==============================] - 0s 4ms/step - loss: 7.6277 - mae: 7.6277\n",
            "Epoch 72/500\n",
            "2/2 [==============================] - 0s 5ms/step - loss: 13.8768 - mae: 13.8768\n",
            "Epoch 73/500\n",
            "2/2 [==============================] - 0s 5ms/step - loss: 15.4974 - mae: 15.4974\n",
            "Epoch 74/500\n",
            "2/2 [==============================] - 0s 6ms/step - loss: 54.6452 - mae: 54.6452\n",
            "Epoch 75/500\n",
            "2/2 [==============================] - 0s 7ms/step - loss: 20.7809 - mae: 20.7809\n",
            "Epoch 76/500\n",
            "2/2 [==============================] - 0s 6ms/step - loss: 8.0395 - mae: 8.0395\n",
            "Epoch 77/500\n",
            "2/2 [==============================] - 0s 11ms/step - loss: 13.1155 - mae: 13.1155\n",
            "Epoch 78/500\n",
            "2/2 [==============================] - 0s 9ms/step - loss: 17.1760 - mae: 17.1760\n",
            "Epoch 79/500\n",
            "2/2 [==============================] - 0s 7ms/step - loss: 40.9130 - mae: 40.9130\n",
            "Epoch 80/500\n",
            "2/2 [==============================] - 0s 5ms/step - loss: 42.4883 - mae: 42.4883\n",
            "Epoch 81/500\n",
            "2/2 [==============================] - 0s 5ms/step - loss: 21.6210 - mae: 21.6210\n",
            "Epoch 82/500\n",
            "2/2 [==============================] - 0s 10ms/step - loss: 17.7966 - mae: 17.7966\n",
            "Epoch 83/500\n",
            "2/2 [==============================] - 0s 6ms/step - loss: 20.9517 - mae: 20.9517\n",
            "Epoch 84/500\n",
            "2/2 [==============================] - 0s 5ms/step - loss: 22.6343 - mae: 22.6343\n",
            "Epoch 85/500\n",
            "2/2 [==============================] - 0s 6ms/step - loss: 17.7128 - mae: 17.7128\n",
            "Epoch 86/500\n",
            "2/2 [==============================] - 0s 5ms/step - loss: 6.8554 - mae: 6.8554\n",
            "Epoch 87/500\n",
            "2/2 [==============================] - 0s 5ms/step - loss: 13.4395 - mae: 13.4395\n",
            "Epoch 88/500\n",
            "2/2 [==============================] - 0s 6ms/step - loss: 26.6861 - mae: 26.6861\n",
            "Epoch 89/500\n",
            "2/2 [==============================] - 0s 6ms/step - loss: 14.5512 - mae: 14.5512\n",
            "Epoch 90/500\n",
            "2/2 [==============================] - 0s 5ms/step - loss: 9.2395 - mae: 9.2395\n",
            "Epoch 91/500\n",
            "2/2 [==============================] - 0s 6ms/step - loss: 14.0992 - mae: 14.0992\n",
            "Epoch 92/500\n",
            "2/2 [==============================] - 0s 5ms/step - loss: 27.1807 - mae: 27.1807\n",
            "Epoch 93/500\n",
            "2/2 [==============================] - 0s 6ms/step - loss: 13.0826 - mae: 13.0826\n",
            "Epoch 94/500\n",
            "2/2 [==============================] - 0s 4ms/step - loss: 12.6381 - mae: 12.6381\n",
            "Epoch 95/500\n",
            "2/2 [==============================] - 0s 6ms/step - loss: 21.3301 - mae: 21.3301\n",
            "Epoch 96/500\n",
            "2/2 [==============================] - 0s 4ms/step - loss: 27.1006 - mae: 27.1006\n",
            "Epoch 97/500\n",
            "2/2 [==============================] - 0s 5ms/step - loss: 15.6904 - mae: 15.6904\n",
            "Epoch 98/500\n",
            "2/2 [==============================] - 0s 4ms/step - loss: 12.8109 - mae: 12.8109\n",
            "Epoch 99/500\n",
            "2/2 [==============================] - 0s 8ms/step - loss: 15.6875 - mae: 15.6875\n",
            "Epoch 100/500\n",
            "2/2 [==============================] - 0s 5ms/step - loss: 30.7810 - mae: 30.7810\n",
            "Epoch 101/500\n",
            "2/2 [==============================] - 0s 5ms/step - loss: 6.3677 - mae: 6.3677\n",
            "Epoch 102/500\n",
            "2/2 [==============================] - 0s 5ms/step - loss: 14.1323 - mae: 14.1323\n",
            "Epoch 103/500\n",
            "2/2 [==============================] - 0s 4ms/step - loss: 15.6944 - mae: 15.6944\n",
            "Epoch 104/500\n",
            "2/2 [==============================] - 0s 4ms/step - loss: 30.3549 - mae: 30.3549\n",
            "Epoch 105/500\n",
            "2/2 [==============================] - 0s 5ms/step - loss: 7.2352 - mae: 7.2352\n",
            "Epoch 106/500\n",
            "2/2 [==============================] - 0s 4ms/step - loss: 14.4690 - mae: 14.4690\n",
            "Epoch 107/500\n",
            "2/2 [==============================] - 0s 9ms/step - loss: 26.1966 - mae: 26.1966\n",
            "Epoch 108/500\n",
            "2/2 [==============================] - 0s 4ms/step - loss: 15.6439 - mae: 15.6439\n",
            "Epoch 109/500\n",
            "2/2 [==============================] - 0s 4ms/step - loss: 11.7271 - mae: 11.7271\n",
            "Epoch 110/500\n",
            "2/2 [==============================] - 0s 5ms/step - loss: 12.9187 - mae: 12.9187\n",
            "Epoch 111/500\n",
            "2/2 [==============================] - 0s 5ms/step - loss: 17.1329 - mae: 17.1329\n",
            "Epoch 112/500\n",
            "2/2 [==============================] - 0s 5ms/step - loss: 26.7367 - mae: 26.7367\n",
            "Epoch 113/500\n",
            "2/2 [==============================] - 0s 6ms/step - loss: 17.7191 - mae: 17.7191\n",
            "Epoch 114/500\n",
            "2/2 [==============================] - 0s 5ms/step - loss: 12.9512 - mae: 12.9512\n",
            "Epoch 115/500\n",
            "2/2 [==============================] - 0s 4ms/step - loss: 11.3374 - mae: 11.3374\n",
            "Epoch 116/500\n",
            "2/2 [==============================] - 0s 5ms/step - loss: 19.1293 - mae: 19.1293\n",
            "Epoch 117/500\n",
            "2/2 [==============================] - 0s 5ms/step - loss: 34.3822 - mae: 34.3822\n",
            "Epoch 118/500\n",
            "2/2 [==============================] - 0s 4ms/step - loss: 8.7141 - mae: 8.7141\n",
            "Epoch 119/500\n",
            "2/2 [==============================] - 0s 5ms/step - loss: 13.7673 - mae: 13.7673\n",
            "Epoch 120/500\n",
            "2/2 [==============================] - 0s 5ms/step - loss: 35.5416 - mae: 35.5416\n",
            "Epoch 121/500\n",
            "2/2 [==============================] - 0s 6ms/step - loss: 14.5563 - mae: 14.5563\n",
            "Epoch 122/500\n",
            "2/2 [==============================] - 0s 5ms/step - loss: 32.7833 - mae: 32.7833\n",
            "Epoch 123/500\n",
            "2/2 [==============================] - 0s 4ms/step - loss: 10.6615 - mae: 10.6615\n",
            "Epoch 124/500\n",
            "2/2 [==============================] - 0s 5ms/step - loss: 18.6275 - mae: 18.6275\n",
            "Epoch 125/500\n",
            "2/2 [==============================] - 0s 4ms/step - loss: 35.7182 - mae: 35.7182\n",
            "Epoch 126/500\n",
            "2/2 [==============================] - 0s 5ms/step - loss: 11.5630 - mae: 11.5630\n",
            "Epoch 127/500\n",
            "2/2 [==============================] - 0s 5ms/step - loss: 12.8122 - mae: 12.8122\n",
            "Epoch 128/500\n",
            "2/2 [==============================] - 0s 4ms/step - loss: 18.8815 - mae: 18.8815\n",
            "Epoch 129/500\n",
            "2/2 [==============================] - 0s 5ms/step - loss: 36.7837 - mae: 36.7837\n",
            "Epoch 130/500\n",
            "2/2 [==============================] - 0s 8ms/step - loss: 19.0288 - mae: 19.0288\n",
            "Epoch 131/500\n",
            "2/2 [==============================] - 0s 10ms/step - loss: 6.6144 - mae: 6.6144\n",
            "Epoch 132/500\n",
            "2/2 [==============================] - 0s 5ms/step - loss: 14.8027 - mae: 14.8027\n",
            "Epoch 133/500\n",
            "2/2 [==============================] - 0s 7ms/step - loss: 19.7860 - mae: 19.7860\n",
            "Epoch 134/500\n",
            "2/2 [==============================] - 0s 6ms/step - loss: 33.8349 - mae: 33.8349\n",
            "Epoch 135/500\n",
            "2/2 [==============================] - 0s 5ms/step - loss: 15.4853 - mae: 15.4853\n",
            "Epoch 136/500\n",
            "2/2 [==============================] - 0s 11ms/step - loss: 7.5710 - mae: 7.5710\n",
            "Epoch 137/500\n",
            "2/2 [==============================] - 0s 5ms/step - loss: 9.2100 - mae: 9.2100\n",
            "Epoch 138/500\n",
            "2/2 [==============================] - 0s 6ms/step - loss: 13.9714 - mae: 13.9714\n",
            "Epoch 139/500\n",
            "2/2 [==============================] - 0s 4ms/step - loss: 15.2315 - mae: 15.2315\n",
            "Epoch 140/500\n",
            "2/2 [==============================] - 0s 5ms/step - loss: 27.4206 - mae: 27.4206\n",
            "Epoch 141/500\n",
            "2/2 [==============================] - 0s 5ms/step - loss: 15.0221 - mae: 15.0221\n",
            "Epoch 142/500\n",
            "2/2 [==============================] - 0s 8ms/step - loss: 13.0566 - mae: 13.0566\n",
            "Epoch 143/500\n",
            "2/2 [==============================] - 0s 5ms/step - loss: 8.8605 - mae: 8.8605\n",
            "Epoch 144/500\n",
            "2/2 [==============================] - 0s 8ms/step - loss: 12.2968 - mae: 12.2968\n",
            "Epoch 145/500\n",
            "2/2 [==============================] - 0s 5ms/step - loss: 24.0261 - mae: 24.0261\n",
            "Epoch 146/500\n",
            "2/2 [==============================] - 0s 8ms/step - loss: 20.9025 - mae: 20.9025\n",
            "Epoch 147/500\n",
            "2/2 [==============================] - 0s 5ms/step - loss: 15.5866 - mae: 15.5866\n",
            "Epoch 148/500\n",
            "2/2 [==============================] - 0s 4ms/step - loss: 20.1260 - mae: 20.1260\n",
            "Epoch 149/500\n",
            "2/2 [==============================] - 0s 5ms/step - loss: 29.2242 - mae: 29.2242\n",
            "Epoch 150/500\n",
            "2/2 [==============================] - 0s 6ms/step - loss: 10.5001 - mae: 10.5001\n",
            "Epoch 151/500\n",
            "2/2 [==============================] - 0s 4ms/step - loss: 17.9200 - mae: 17.9200\n",
            "Epoch 152/500\n",
            "2/2 [==============================] - 0s 7ms/step - loss: 36.8185 - mae: 36.8185\n",
            "Epoch 153/500\n",
            "2/2 [==============================] - 0s 4ms/step - loss: 30.3919 - mae: 30.3919\n",
            "Epoch 154/500\n",
            "2/2 [==============================] - 0s 5ms/step - loss: 11.4602 - mae: 11.4602\n",
            "Epoch 155/500\n",
            "2/2 [==============================] - 0s 5ms/step - loss: 14.3095 - mae: 14.3095\n",
            "Epoch 156/500\n",
            "2/2 [==============================] - 0s 5ms/step - loss: 29.7102 - mae: 29.7102\n",
            "Epoch 157/500\n",
            "2/2 [==============================] - 0s 4ms/step - loss: 11.6429 - mae: 11.6429\n",
            "Epoch 158/500\n",
            "2/2 [==============================] - 0s 5ms/step - loss: 12.4786 - mae: 12.4786\n",
            "Epoch 159/500\n",
            "2/2 [==============================] - 0s 5ms/step - loss: 13.2672 - mae: 13.2672\n",
            "Epoch 160/500\n",
            "2/2 [==============================] - 0s 9ms/step - loss: 24.6583 - mae: 24.6583\n",
            "Epoch 161/500\n",
            "2/2 [==============================] - 0s 5ms/step - loss: 21.8885 - mae: 21.8885\n",
            "Epoch 162/500\n",
            "2/2 [==============================] - 0s 6ms/step - loss: 16.0891 - mae: 16.0891\n",
            "Epoch 163/500\n",
            "2/2 [==============================] - 0s 6ms/step - loss: 11.5155 - mae: 11.5155\n",
            "Epoch 164/500\n",
            "2/2 [==============================] - 0s 4ms/step - loss: 9.0368 - mae: 9.0368\n",
            "Epoch 165/500\n",
            "2/2 [==============================] - 0s 6ms/step - loss: 4.5830 - mae: 4.5830\n",
            "Epoch 166/500\n",
            "2/2 [==============================] - 0s 10ms/step - loss: 12.0426 - mae: 12.0426\n",
            "Epoch 167/500\n",
            "2/2 [==============================] - 0s 5ms/step - loss: 11.2326 - mae: 11.2326\n",
            "Epoch 168/500\n",
            "2/2 [==============================] - 0s 5ms/step - loss: 15.3820 - mae: 15.3820\n",
            "Epoch 169/500\n",
            "2/2 [==============================] - 0s 5ms/step - loss: 29.1203 - mae: 29.1203\n",
            "Epoch 170/500\n",
            "2/2 [==============================] - 0s 5ms/step - loss: 7.2252 - mae: 7.2252\n",
            "Epoch 171/500\n",
            "2/2 [==============================] - 0s 4ms/step - loss: 13.2513 - mae: 13.2513\n",
            "Epoch 172/500\n",
            "2/2 [==============================] - 0s 5ms/step - loss: 25.5275 - mae: 25.5275\n",
            "Epoch 173/500\n",
            "2/2 [==============================] - 0s 5ms/step - loss: 20.1551 - mae: 20.1551\n",
            "Epoch 174/500\n",
            "2/2 [==============================] - 0s 5ms/step - loss: 12.2496 - mae: 12.2496\n",
            "Epoch 175/500\n",
            "2/2 [==============================] - 0s 4ms/step - loss: 26.1657 - mae: 26.1657\n",
            "Epoch 176/500\n",
            "2/2 [==============================] - 0s 5ms/step - loss: 15.9707 - mae: 15.9707\n",
            "Epoch 177/500\n",
            "2/2 [==============================] - 0s 5ms/step - loss: 14.5093 - mae: 14.5093\n",
            "Epoch 178/500\n",
            "2/2 [==============================] - 0s 5ms/step - loss: 22.2577 - mae: 22.2577\n",
            "Epoch 179/500\n",
            "2/2 [==============================] - 0s 5ms/step - loss: 24.1090 - mae: 24.1090\n",
            "Epoch 180/500\n",
            "2/2 [==============================] - 0s 5ms/step - loss: 14.4830 - mae: 14.4830\n",
            "Epoch 181/500\n",
            "2/2 [==============================] - 0s 5ms/step - loss: 23.2057 - mae: 23.2057\n",
            "Epoch 182/500\n",
            "2/2 [==============================] - 0s 5ms/step - loss: 26.3517 - mae: 26.3517\n",
            "Epoch 183/500\n",
            "2/2 [==============================] - 0s 4ms/step - loss: 9.0162 - mae: 9.0162\n",
            "Epoch 184/500\n",
            "2/2 [==============================] - 0s 5ms/step - loss: 8.7172 - mae: 8.7172\n",
            "Epoch 185/500\n",
            "2/2 [==============================] - 0s 5ms/step - loss: 15.0421 - mae: 15.0421\n",
            "Epoch 186/500\n",
            "2/2 [==============================] - 0s 5ms/step - loss: 24.4309 - mae: 24.4309\n",
            "Epoch 187/500\n",
            "2/2 [==============================] - 0s 5ms/step - loss: 19.1657 - mae: 19.1657\n",
            "Epoch 188/500\n",
            "2/2 [==============================] - 0s 10ms/step - loss: 9.7343 - mae: 9.7343\n",
            "Epoch 189/500\n",
            "2/2 [==============================] - 0s 5ms/step - loss: 16.7319 - mae: 16.7319\n",
            "Epoch 190/500\n",
            "2/2 [==============================] - 0s 4ms/step - loss: 24.5456 - mae: 24.5456\n",
            "Epoch 191/500\n",
            "2/2 [==============================] - 0s 5ms/step - loss: 19.8849 - mae: 19.8849\n",
            "Epoch 192/500\n",
            "2/2 [==============================] - 0s 4ms/step - loss: 12.6128 - mae: 12.6128\n",
            "Epoch 193/500\n",
            "2/2 [==============================] - 0s 5ms/step - loss: 27.9721 - mae: 27.9721\n",
            "Epoch 194/500\n",
            "2/2 [==============================] - 0s 4ms/step - loss: 8.4930 - mae: 8.4930\n",
            "Epoch 195/500\n",
            "2/2 [==============================] - 0s 4ms/step - loss: 15.8010 - mae: 15.8010\n",
            "Epoch 196/500\n",
            "2/2 [==============================] - 0s 6ms/step - loss: 29.5240 - mae: 29.5240\n",
            "Epoch 197/500\n",
            "2/2 [==============================] - 0s 7ms/step - loss: 4.1575 - mae: 4.1575\n",
            "Epoch 198/500\n",
            "2/2 [==============================] - 0s 4ms/step - loss: 16.5818 - mae: 16.5818\n",
            "Epoch 199/500\n",
            "2/2 [==============================] - 0s 5ms/step - loss: 10.3823 - mae: 10.3823\n",
            "Epoch 200/500\n",
            "2/2 [==============================] - 0s 8ms/step - loss: 9.5002 - mae: 9.5002\n",
            "Epoch 201/500\n",
            "2/2 [==============================] - 0s 4ms/step - loss: 13.5046 - mae: 13.5046\n",
            "Epoch 202/500\n",
            "2/2 [==============================] - 0s 9ms/step - loss: 25.0257 - mae: 25.0257\n",
            "Epoch 203/500\n",
            "2/2 [==============================] - 0s 4ms/step - loss: 19.0402 - mae: 19.0402\n",
            "Epoch 204/500\n",
            "2/2 [==============================] - 0s 4ms/step - loss: 12.8915 - mae: 12.8915\n",
            "Epoch 205/500\n",
            "2/2 [==============================] - 0s 4ms/step - loss: 11.7553 - mae: 11.7553\n",
            "Epoch 206/500\n",
            "2/2 [==============================] - 0s 8ms/step - loss: 15.9998 - mae: 15.9998\n",
            "Epoch 207/500\n",
            "2/2 [==============================] - 0s 4ms/step - loss: 29.6046 - mae: 29.6046\n",
            "Epoch 208/500\n",
            "2/2 [==============================] - 0s 4ms/step - loss: 11.3378 - mae: 11.3378\n",
            "Epoch 209/500\n",
            "2/2 [==============================] - 0s 6ms/step - loss: 11.2344 - mae: 11.2344\n",
            "Epoch 210/500\n",
            "2/2 [==============================] - 0s 8ms/step - loss: 27.4934 - mae: 27.4934\n",
            "Epoch 211/500\n",
            "2/2 [==============================] - 0s 4ms/step - loss: 14.2815 - mae: 14.2815\n",
            "Epoch 212/500\n",
            "2/2 [==============================] - 0s 6ms/step - loss: 5.6625 - mae: 5.6625\n",
            "Epoch 213/500\n",
            "2/2 [==============================] - 0s 4ms/step - loss: 17.8521 - mae: 17.8521\n",
            "Epoch 214/500\n",
            "2/2 [==============================] - 0s 4ms/step - loss: 23.9325 - mae: 23.9325\n",
            "Epoch 215/500\n",
            "2/2 [==============================] - 0s 5ms/step - loss: 26.2526 - mae: 26.2526\n",
            "Epoch 216/500\n",
            "2/2 [==============================] - 0s 4ms/step - loss: 12.0268 - mae: 12.0268\n",
            "Epoch 217/500\n",
            "2/2 [==============================] - 0s 4ms/step - loss: 21.4387 - mae: 21.4387\n",
            "Epoch 218/500\n",
            "2/2 [==============================] - 0s 4ms/step - loss: 15.0927 - mae: 15.0927\n",
            "Epoch 219/500\n",
            "2/2 [==============================] - 0s 4ms/step - loss: 11.1250 - mae: 11.1250\n",
            "Epoch 220/500\n",
            "2/2 [==============================] - 0s 4ms/step - loss: 12.7130 - mae: 12.7130\n",
            "Epoch 221/500\n",
            "2/2 [==============================] - 0s 5ms/step - loss: 32.4831 - mae: 32.4831\n",
            "Epoch 222/500\n",
            "2/2 [==============================] - 0s 5ms/step - loss: 8.2250 - mae: 8.2250\n",
            "Epoch 223/500\n",
            "2/2 [==============================] - 0s 3ms/step - loss: 5.1903 - mae: 5.1903\n",
            "Epoch 224/500\n",
            "2/2 [==============================] - 0s 5ms/step - loss: 13.7753 - mae: 13.7753\n",
            "Epoch 225/500\n",
            "2/2 [==============================] - 0s 4ms/step - loss: 33.3029 - mae: 33.3029\n",
            "Epoch 226/500\n",
            "2/2 [==============================] - 0s 8ms/step - loss: 13.3614 - mae: 13.3614\n",
            "Epoch 227/500\n",
            "2/2 [==============================] - 0s 4ms/step - loss: 21.9486 - mae: 21.9486\n",
            "Epoch 228/500\n",
            "2/2 [==============================] - 0s 4ms/step - loss: 25.9224 - mae: 25.9224\n",
            "Epoch 229/500\n",
            "2/2 [==============================] - 0s 4ms/step - loss: 6.9788 - mae: 6.9788\n",
            "Epoch 230/500\n",
            "2/2 [==============================] - 0s 4ms/step - loss: 14.9942 - mae: 14.9942\n",
            "Epoch 231/500\n",
            "2/2 [==============================] - 0s 9ms/step - loss: 22.6856 - mae: 22.6856\n",
            "Epoch 232/500\n",
            "2/2 [==============================] - 0s 5ms/step - loss: 24.7680 - mae: 24.7680\n",
            "Epoch 233/500\n",
            "2/2 [==============================] - 0s 5ms/step - loss: 16.8116 - mae: 16.8116\n",
            "Epoch 234/500\n",
            "2/2 [==============================] - 0s 5ms/step - loss: 9.4927 - mae: 9.4927\n",
            "Epoch 235/500\n",
            "2/2 [==============================] - 0s 5ms/step - loss: 14.9532 - mae: 14.9532\n",
            "Epoch 236/500\n",
            "2/2 [==============================] - 0s 4ms/step - loss: 21.2841 - mae: 21.2841\n",
            "Epoch 237/500\n",
            "2/2 [==============================] - 0s 5ms/step - loss: 26.4826 - mae: 26.4826\n",
            "Epoch 238/500\n",
            "2/2 [==============================] - 0s 6ms/step - loss: 10.7810 - mae: 10.7810\n",
            "Epoch 239/500\n",
            "2/2 [==============================] - 0s 4ms/step - loss: 16.8295 - mae: 16.8295\n",
            "Epoch 240/500\n",
            "2/2 [==============================] - 0s 7ms/step - loss: 26.4604 - mae: 26.4604\n",
            "Epoch 241/500\n",
            "2/2 [==============================] - 0s 5ms/step - loss: 15.9335 - mae: 15.9335\n",
            "Epoch 242/500\n",
            "2/2 [==============================] - 0s 8ms/step - loss: 10.2504 - mae: 10.2504\n",
            "Epoch 243/500\n",
            "2/2 [==============================] - 0s 4ms/step - loss: 19.6517 - mae: 19.6517\n",
            "Epoch 244/500\n",
            "2/2 [==============================] - 0s 5ms/step - loss: 17.2205 - mae: 17.2205\n",
            "Epoch 245/500\n",
            "2/2 [==============================] - 0s 5ms/step - loss: 21.7050 - mae: 21.7050\n",
            "Epoch 246/500\n",
            "2/2 [==============================] - 0s 5ms/step - loss: 26.1651 - mae: 26.1651\n",
            "Epoch 247/500\n",
            "2/2 [==============================] - 0s 4ms/step - loss: 19.0938 - mae: 19.0938\n",
            "Epoch 248/500\n",
            "2/2 [==============================] - 0s 6ms/step - loss: 14.2199 - mae: 14.2199\n",
            "Epoch 249/500\n",
            "2/2 [==============================] - 0s 5ms/step - loss: 15.0008 - mae: 15.0008\n",
            "Epoch 250/500\n",
            "2/2 [==============================] - 0s 8ms/step - loss: 29.5407 - mae: 29.5407\n",
            "Epoch 251/500\n",
            "2/2 [==============================] - 0s 5ms/step - loss: 8.1187 - mae: 8.1187\n",
            "Epoch 252/500\n",
            "2/2 [==============================] - 0s 7ms/step - loss: 8.6967 - mae: 8.6967\n",
            "Epoch 253/500\n",
            "2/2 [==============================] - 0s 9ms/step - loss: 12.5112 - mae: 12.5112\n",
            "Epoch 254/500\n",
            "2/2 [==============================] - 0s 5ms/step - loss: 15.2732 - mae: 15.2732\n",
            "Epoch 255/500\n",
            "2/2 [==============================] - 0s 5ms/step - loss: 30.3887 - mae: 30.3887\n",
            "Epoch 256/500\n",
            "2/2 [==============================] - 0s 5ms/step - loss: 7.0792 - mae: 7.0792\n",
            "Epoch 257/500\n",
            "2/2 [==============================] - 0s 5ms/step - loss: 13.8031 - mae: 13.8031\n",
            "Epoch 258/500\n",
            "2/2 [==============================] - 0s 5ms/step - loss: 17.8047 - mae: 17.8047\n",
            "Epoch 259/500\n",
            "2/2 [==============================] - 0s 5ms/step - loss: 36.5088 - mae: 36.5088\n",
            "Epoch 260/500\n",
            "2/2 [==============================] - 0s 5ms/step - loss: 49.8773 - mae: 49.8773\n",
            "Epoch 261/500\n",
            "2/2 [==============================] - 0s 5ms/step - loss: 21.3509 - mae: 21.3509\n",
            "Epoch 262/500\n",
            "2/2 [==============================] - 0s 4ms/step - loss: 10.2263 - mae: 10.2263\n",
            "Epoch 263/500\n",
            "2/2 [==============================] - 0s 5ms/step - loss: 12.7185 - mae: 12.7185\n",
            "Epoch 264/500\n",
            "2/2 [==============================] - 0s 5ms/step - loss: 20.2902 - mae: 20.2902\n",
            "Epoch 265/500\n",
            "2/2 [==============================] - 0s 5ms/step - loss: 27.7720 - mae: 27.7720\n",
            "Epoch 266/500\n",
            "2/2 [==============================] - 0s 5ms/step - loss: 9.0410 - mae: 9.0410\n",
            "Epoch 267/500\n",
            "2/2 [==============================] - 0s 4ms/step - loss: 7.7593 - mae: 7.7593\n",
            "Epoch 268/500\n",
            "2/2 [==============================] - 0s 5ms/step - loss: 12.6076 - mae: 12.6076\n",
            "Epoch 269/500\n",
            "2/2 [==============================] - 0s 7ms/step - loss: 31.5126 - mae: 31.5126\n",
            "Epoch 270/500\n",
            "2/2 [==============================] - 0s 10ms/step - loss: 8.9875 - mae: 8.9875\n",
            "Epoch 271/500\n",
            "2/2 [==============================] - 0s 9ms/step - loss: 8.6281 - mae: 8.6281\n",
            "Epoch 272/500\n",
            "2/2 [==============================] - 0s 9ms/step - loss: 10.1230 - mae: 10.1230\n",
            "Epoch 273/500\n",
            "2/2 [==============================] - 0s 8ms/step - loss: 15.2559 - mae: 15.2559\n",
            "Epoch 274/500\n",
            "2/2 [==============================] - 0s 11ms/step - loss: 14.0447 - mae: 14.0447\n",
            "Epoch 275/500\n",
            "2/2 [==============================] - 0s 17ms/step - loss: 32.5504 - mae: 32.5504\n",
            "Epoch 276/500\n",
            "2/2 [==============================] - 0s 8ms/step - loss: 12.9282 - mae: 12.9282\n",
            "Epoch 277/500\n",
            "2/2 [==============================] - 0s 8ms/step - loss: 30.7825 - mae: 30.7825\n",
            "Epoch 278/500\n",
            "2/2 [==============================] - 0s 8ms/step - loss: 10.5975 - mae: 10.5975\n",
            "Epoch 279/500\n",
            "2/2 [==============================] - 0s 5ms/step - loss: 14.6309 - mae: 14.6309\n",
            "Epoch 280/500\n",
            "2/2 [==============================] - 0s 10ms/step - loss: 28.1920 - mae: 28.1920\n",
            "Epoch 281/500\n",
            "2/2 [==============================] - 0s 9ms/step - loss: 10.5795 - mae: 10.5795\n",
            "Epoch 282/500\n",
            "2/2 [==============================] - 0s 4ms/step - loss: 12.9923 - mae: 12.9923\n",
            "Epoch 283/500\n",
            "2/2 [==============================] - 0s 7ms/step - loss: 14.9910 - mae: 14.9910\n",
            "Epoch 284/500\n",
            "2/2 [==============================] - 0s 11ms/step - loss: 30.0785 - mae: 30.0785\n",
            "Epoch 285/500\n",
            "2/2 [==============================] - 0s 9ms/step - loss: 8.7167 - mae: 8.7167\n",
            "Epoch 286/500\n",
            "2/2 [==============================] - 0s 6ms/step - loss: 13.8433 - mae: 13.8433\n",
            "Epoch 287/500\n",
            "2/2 [==============================] - 0s 10ms/step - loss: 23.5563 - mae: 23.5563\n",
            "Epoch 288/500\n",
            "2/2 [==============================] - 0s 11ms/step - loss: 26.9209 - mae: 26.9209\n",
            "Epoch 289/500\n",
            "2/2 [==============================] - 0s 8ms/step - loss: 11.3733 - mae: 11.3733\n",
            "Epoch 290/500\n",
            "2/2 [==============================] - 0s 11ms/step - loss: 15.3839 - mae: 15.3839\n",
            "Epoch 291/500\n",
            "2/2 [==============================] - 0s 8ms/step - loss: 16.6533 - mae: 16.6533\n",
            "Epoch 292/500\n",
            "2/2 [==============================] - 0s 6ms/step - loss: 19.5598 - mae: 19.5598\n",
            "Epoch 293/500\n",
            "2/2 [==============================] - 0s 7ms/step - loss: 30.9567 - mae: 30.9567\n",
            "Epoch 294/500\n",
            "2/2 [==============================] - 0s 6ms/step - loss: 21.9677 - mae: 21.9677\n",
            "Epoch 295/500\n",
            "2/2 [==============================] - 0s 5ms/step - loss: 10.4826 - mae: 10.4826\n",
            "Epoch 296/500\n",
            "2/2 [==============================] - 0s 7ms/step - loss: 16.8202 - mae: 16.8202\n",
            "Epoch 297/500\n",
            "2/2 [==============================] - 0s 7ms/step - loss: 13.5873 - mae: 13.5873\n",
            "Epoch 298/500\n",
            "2/2 [==============================] - 0s 10ms/step - loss: 25.5473 - mae: 25.5473\n",
            "Epoch 299/500\n",
            "2/2 [==============================] - 0s 5ms/step - loss: 18.3880 - mae: 18.3880\n",
            "Epoch 300/500\n",
            "2/2 [==============================] - 0s 7ms/step - loss: 8.3025 - mae: 8.3025\n",
            "Epoch 301/500\n",
            "2/2 [==============================] - 0s 10ms/step - loss: 13.3565 - mae: 13.3565\n",
            "Epoch 302/500\n",
            "2/2 [==============================] - 0s 9ms/step - loss: 18.3057 - mae: 18.3057\n",
            "Epoch 303/500\n",
            "2/2 [==============================] - 0s 7ms/step - loss: 36.8080 - mae: 36.8080\n",
            "Epoch 304/500\n",
            "2/2 [==============================] - 0s 9ms/step - loss: 23.2721 - mae: 23.2721\n",
            "Epoch 305/500\n",
            "2/2 [==============================] - 0s 5ms/step - loss: 7.7150 - mae: 7.7150\n",
            "Epoch 306/500\n",
            "2/2 [==============================] - 0s 4ms/step - loss: 12.5527 - mae: 12.5527\n",
            "Epoch 307/500\n",
            "2/2 [==============================] - 0s 4ms/step - loss: 15.1018 - mae: 15.1018\n",
            "Epoch 308/500\n",
            "2/2 [==============================] - 0s 6ms/step - loss: 24.6083 - mae: 24.6083\n",
            "Epoch 309/500\n",
            "2/2 [==============================] - 0s 8ms/step - loss: 18.8959 - mae: 18.8959\n",
            "Epoch 310/500\n",
            "2/2 [==============================] - 0s 4ms/step - loss: 8.2751 - mae: 8.2751\n",
            "Epoch 311/500\n",
            "2/2 [==============================] - 0s 4ms/step - loss: 11.1268 - mae: 11.1268\n",
            "Epoch 312/500\n",
            "2/2 [==============================] - 0s 4ms/step - loss: 26.8264 - mae: 26.8264\n",
            "Epoch 313/500\n",
            "2/2 [==============================] - 0s 6ms/step - loss: 18.1333 - mae: 18.1333\n",
            "Epoch 314/500\n",
            "2/2 [==============================] - 0s 4ms/step - loss: 13.9398 - mae: 13.9398\n",
            "Epoch 315/500\n",
            "2/2 [==============================] - 0s 5ms/step - loss: 27.9202 - mae: 27.9202\n",
            "Epoch 316/500\n",
            "2/2 [==============================] - 0s 4ms/step - loss: 12.8531 - mae: 12.8531\n",
            "Epoch 317/500\n",
            "2/2 [==============================] - 0s 5ms/step - loss: 12.7682 - mae: 12.7682\n",
            "Epoch 318/500\n",
            "2/2 [==============================] - 0s 4ms/step - loss: 10.4108 - mae: 10.4108\n",
            "Epoch 319/500\n",
            "2/2 [==============================] - 0s 4ms/step - loss: 14.5049 - mae: 14.5049\n",
            "Epoch 320/500\n",
            "2/2 [==============================] - 0s 4ms/step - loss: 26.6418 - mae: 26.6418\n",
            "Epoch 321/500\n",
            "2/2 [==============================] - 0s 5ms/step - loss: 14.7422 - mae: 14.7422\n",
            "Epoch 322/500\n",
            "2/2 [==============================] - 0s 4ms/step - loss: 14.1804 - mae: 14.1804\n",
            "Epoch 323/500\n",
            "2/2 [==============================] - 0s 4ms/step - loss: 20.1324 - mae: 20.1324\n",
            "Epoch 324/500\n",
            "2/2 [==============================] - 0s 4ms/step - loss: 32.4425 - mae: 32.4425\n",
            "Epoch 325/500\n",
            "2/2 [==============================] - 0s 6ms/step - loss: 9.9606 - mae: 9.9606\n",
            "Epoch 326/500\n",
            "2/2 [==============================] - 0s 4ms/step - loss: 12.0845 - mae: 12.0845\n",
            "Epoch 327/500\n",
            "2/2 [==============================] - 0s 4ms/step - loss: 19.6163 - mae: 19.6163\n",
            "Epoch 328/500\n",
            "2/2 [==============================] - 0s 7ms/step - loss: 17.2871 - mae: 17.2871\n",
            "Epoch 329/500\n",
            "2/2 [==============================] - 0s 7ms/step - loss: 23.1037 - mae: 23.1037\n",
            "Epoch 330/500\n",
            "2/2 [==============================] - 0s 4ms/step - loss: 21.8324 - mae: 21.8324\n",
            "Epoch 331/500\n",
            "2/2 [==============================] - 0s 4ms/step - loss: 12.1496 - mae: 12.1496\n",
            "Epoch 332/500\n",
            "2/2 [==============================] - 0s 5ms/step - loss: 11.3661 - mae: 11.3661\n",
            "Epoch 333/500\n",
            "2/2 [==============================] - 0s 5ms/step - loss: 21.1686 - mae: 21.1686\n",
            "Epoch 334/500\n",
            "2/2 [==============================] - 0s 4ms/step - loss: 27.8109 - mae: 27.8109\n",
            "Epoch 335/500\n",
            "2/2 [==============================] - 0s 4ms/step - loss: 12.2186 - mae: 12.2186\n",
            "Epoch 336/500\n",
            "2/2 [==============================] - 0s 5ms/step - loss: 32.0551 - mae: 32.0551\n",
            "Epoch 337/500\n",
            "2/2 [==============================] - 0s 5ms/step - loss: 10.2390 - mae: 10.2390\n",
            "Epoch 338/500\n",
            "2/2 [==============================] - 0s 4ms/step - loss: 15.8166 - mae: 15.8166\n",
            "Epoch 339/500\n",
            "2/2 [==============================] - 0s 6ms/step - loss: 29.0126 - mae: 29.0126\n",
            "Epoch 340/500\n",
            "2/2 [==============================] - 0s 4ms/step - loss: 8.7191 - mae: 8.7191\n",
            "Epoch 341/500\n",
            "2/2 [==============================] - 0s 6ms/step - loss: 10.6180 - mae: 10.6180\n",
            "Epoch 342/500\n",
            "2/2 [==============================] - 0s 4ms/step - loss: 6.0127 - mae: 6.0127\n",
            "Epoch 343/500\n",
            "2/2 [==============================] - 0s 8ms/step - loss: 8.6080 - mae: 8.6080\n",
            "Epoch 344/500\n",
            "2/2 [==============================] - 0s 4ms/step - loss: 16.3699 - mae: 16.3699\n",
            "Epoch 345/500\n",
            "2/2 [==============================] - 0s 4ms/step - loss: 52.2047 - mae: 52.2047\n",
            "Epoch 346/500\n",
            "2/2 [==============================] - 0s 4ms/step - loss: 24.4307 - mae: 24.4307\n",
            "Epoch 347/500\n",
            "2/2 [==============================] - 0s 4ms/step - loss: 17.9946 - mae: 17.9946\n",
            "Epoch 348/500\n",
            "2/2 [==============================] - 0s 6ms/step - loss: 9.8236 - mae: 9.8236\n",
            "Epoch 349/500\n",
            "2/2 [==============================] - 0s 5ms/step - loss: 11.3246 - mae: 11.3246\n",
            "Epoch 350/500\n",
            "2/2 [==============================] - 0s 4ms/step - loss: 13.8940 - mae: 13.8940\n",
            "Epoch 351/500\n",
            "2/2 [==============================] - 0s 4ms/step - loss: 33.1459 - mae: 33.1459\n",
            "Epoch 352/500\n",
            "2/2 [==============================] - 0s 5ms/step - loss: 13.2727 - mae: 13.2727\n",
            "Epoch 353/500\n",
            "2/2 [==============================] - 0s 4ms/step - loss: 17.4907 - mae: 17.4907\n",
            "Epoch 354/500\n",
            "2/2 [==============================] - 0s 5ms/step - loss: 23.9846 - mae: 23.9846\n",
            "Epoch 355/500\n",
            "2/2 [==============================] - 0s 4ms/step - loss: 27.3060 - mae: 27.3060\n",
            "Epoch 356/500\n",
            "2/2 [==============================] - 0s 5ms/step - loss: 10.4873 - mae: 10.4873\n",
            "Epoch 357/500\n",
            "2/2 [==============================] - 0s 8ms/step - loss: 20.8874 - mae: 20.8874\n",
            "Epoch 358/500\n",
            "2/2 [==============================] - 0s 5ms/step - loss: 37.1961 - mae: 37.1961\n",
            "Epoch 359/500\n",
            "2/2 [==============================] - 0s 6ms/step - loss: 11.4384 - mae: 11.4384\n",
            "Epoch 360/500\n",
            "2/2 [==============================] - 0s 4ms/step - loss: 9.5221 - mae: 9.5221\n",
            "Epoch 361/500\n",
            "2/2 [==============================] - 0s 4ms/step - loss: 12.2108 - mae: 12.2108\n",
            "Epoch 362/500\n",
            "2/2 [==============================] - 0s 4ms/step - loss: 16.2535 - mae: 16.2535\n",
            "Epoch 363/500\n",
            "2/2 [==============================] - 0s 5ms/step - loss: 41.6272 - mae: 41.6272\n",
            "Epoch 364/500\n",
            "2/2 [==============================] - 0s 4ms/step - loss: 52.1273 - mae: 52.1273\n",
            "Epoch 365/500\n",
            "2/2 [==============================] - 0s 4ms/step - loss: 22.2543 - mae: 22.2543\n",
            "Epoch 366/500\n",
            "2/2 [==============================] - 0s 5ms/step - loss: 12.4119 - mae: 12.4119\n",
            "Epoch 367/500\n",
            "2/2 [==============================] - 0s 12ms/step - loss: 30.6000 - mae: 30.6000\n",
            "Epoch 368/500\n",
            "2/2 [==============================] - 0s 5ms/step - loss: 9.7579 - mae: 9.7579\n",
            "Epoch 369/500\n",
            "2/2 [==============================] - 0s 5ms/step - loss: 13.9590 - mae: 13.9590\n",
            "Epoch 370/500\n",
            "2/2 [==============================] - 0s 12ms/step - loss: 16.9714 - mae: 16.9714\n",
            "Epoch 371/500\n",
            "2/2 [==============================] - 0s 4ms/step - loss: 44.5905 - mae: 44.5905\n",
            "Epoch 372/500\n",
            "2/2 [==============================] - 0s 18ms/step - loss: 9.9357 - mae: 9.9357\n",
            "Epoch 373/500\n",
            "2/2 [==============================] - 0s 7ms/step - loss: 9.0635 - mae: 9.0635\n",
            "Epoch 374/500\n",
            "2/2 [==============================] - 0s 7ms/step - loss: 11.2697 - mae: 11.2697\n",
            "Epoch 375/500\n",
            "2/2 [==============================] - 0s 7ms/step - loss: 13.2488 - mae: 13.2488\n",
            "Epoch 376/500\n",
            "2/2 [==============================] - 0s 11ms/step - loss: 15.3250 - mae: 15.3250\n",
            "Epoch 377/500\n",
            "2/2 [==============================] - 0s 7ms/step - loss: 15.0592 - mae: 15.0592\n",
            "Epoch 378/500\n",
            "2/2 [==============================] - 0s 9ms/step - loss: 18.2188 - mae: 18.2188\n",
            "Epoch 379/500\n",
            "2/2 [==============================] - 0s 5ms/step - loss: 39.4752 - mae: 39.4752\n",
            "Epoch 380/500\n",
            "2/2 [==============================] - 0s 5ms/step - loss: 35.4385 - mae: 35.4385\n",
            "Epoch 381/500\n",
            "2/2 [==============================] - 0s 8ms/step - loss: 9.7700 - mae: 9.7700\n",
            "Epoch 382/500\n",
            "2/2 [==============================] - 0s 4ms/step - loss: 14.1094 - mae: 14.1094\n",
            "Epoch 383/500\n",
            "2/2 [==============================] - 0s 5ms/step - loss: 20.0215 - mae: 20.0215\n",
            "Epoch 384/500\n",
            "2/2 [==============================] - 0s 5ms/step - loss: 16.5139 - mae: 16.5139\n",
            "Epoch 385/500\n",
            "2/2 [==============================] - 0s 4ms/step - loss: 13.4900 - mae: 13.4900\n",
            "Epoch 386/500\n",
            "2/2 [==============================] - 0s 5ms/step - loss: 22.0948 - mae: 22.0948\n",
            "Epoch 387/500\n",
            "2/2 [==============================] - 0s 5ms/step - loss: 25.9290 - mae: 25.9290\n",
            "Epoch 388/500\n",
            "2/2 [==============================] - 0s 4ms/step - loss: 9.1424 - mae: 9.1424\n",
            "Epoch 389/500\n",
            "2/2 [==============================] - 0s 5ms/step - loss: 14.2883 - mae: 14.2883\n",
            "Epoch 390/500\n",
            "2/2 [==============================] - 0s 5ms/step - loss: 19.9981 - mae: 19.9981\n",
            "Epoch 391/500\n",
            "2/2 [==============================] - 0s 5ms/step - loss: 31.1713 - mae: 31.1713\n",
            "Epoch 392/500\n",
            "2/2 [==============================] - 0s 5ms/step - loss: 10.8470 - mae: 10.8470\n",
            "Epoch 393/500\n",
            "2/2 [==============================] - 0s 5ms/step - loss: 11.8805 - mae: 11.8805\n",
            "Epoch 394/500\n",
            "2/2 [==============================] - 0s 13ms/step - loss: 14.3171 - mae: 14.3171\n",
            "Epoch 395/500\n",
            "2/2 [==============================] - 0s 8ms/step - loss: 29.5746 - mae: 29.5746\n",
            "Epoch 396/500\n",
            "2/2 [==============================] - 0s 11ms/step - loss: 9.2219 - mae: 9.2219\n",
            "Epoch 397/500\n",
            "2/2 [==============================] - 0s 5ms/step - loss: 14.5270 - mae: 14.5270\n",
            "Epoch 398/500\n",
            "2/2 [==============================] - 0s 10ms/step - loss: 24.0596 - mae: 24.0596\n",
            "Epoch 399/500\n",
            "2/2 [==============================] - 0s 4ms/step - loss: 21.3935 - mae: 21.3935\n",
            "Epoch 400/500\n",
            "2/2 [==============================] - 0s 9ms/step - loss: 10.3318 - mae: 10.3318\n",
            "Epoch 401/500\n",
            "2/2 [==============================] - 0s 6ms/step - loss: 15.0483 - mae: 15.0483\n",
            "Epoch 402/500\n",
            "2/2 [==============================] - 0s 4ms/step - loss: 27.6953 - mae: 27.6953\n",
            "Epoch 403/500\n",
            "2/2 [==============================] - 0s 4ms/step - loss: 12.3886 - mae: 12.3886\n",
            "Epoch 404/500\n",
            "2/2 [==============================] - 0s 4ms/step - loss: 9.6350 - mae: 9.6350\n",
            "Epoch 405/500\n",
            "2/2 [==============================] - 0s 4ms/step - loss: 15.0195 - mae: 15.0195\n",
            "Epoch 406/500\n",
            "2/2 [==============================] - 0s 4ms/step - loss: 26.0171 - mae: 26.0171\n",
            "Epoch 407/500\n",
            "2/2 [==============================] - 0s 4ms/step - loss: 16.0111 - mae: 16.0111\n",
            "Epoch 408/500\n",
            "2/2 [==============================] - 0s 7ms/step - loss: 7.3670 - mae: 7.3670\n",
            "Epoch 409/500\n",
            "2/2 [==============================] - 0s 8ms/step - loss: 11.3834 - mae: 11.3834\n",
            "Epoch 410/500\n",
            "2/2 [==============================] - 0s 4ms/step - loss: 11.3523 - mae: 11.3523\n",
            "Epoch 411/500\n",
            "2/2 [==============================] - 0s 7ms/step - loss: 14.4320 - mae: 14.4320\n",
            "Epoch 412/500\n",
            "2/2 [==============================] - 0s 4ms/step - loss: 22.1260 - mae: 22.1260\n",
            "Epoch 413/500\n",
            "2/2 [==============================] - 0s 4ms/step - loss: 23.3197 - mae: 23.3197\n",
            "Epoch 414/500\n",
            "2/2 [==============================] - 0s 4ms/step - loss: 5.6621 - mae: 5.6621\n",
            "Epoch 415/500\n",
            "2/2 [==============================] - 0s 9ms/step - loss: 15.5707 - mae: 15.5707\n",
            "Epoch 416/500\n",
            "2/2 [==============================] - 0s 4ms/step - loss: 31.3389 - mae: 31.3389\n",
            "Epoch 417/500\n",
            "2/2 [==============================] - 0s 5ms/step - loss: 8.1080 - mae: 8.1080\n",
            "Epoch 418/500\n",
            "2/2 [==============================] - 0s 7ms/step - loss: 10.1745 - mae: 10.1745\n",
            "Epoch 419/500\n",
            "2/2 [==============================] - 0s 7ms/step - loss: 13.8762 - mae: 13.8762\n",
            "Epoch 420/500\n",
            "2/2 [==============================] - 0s 5ms/step - loss: 27.7041 - mae: 27.7041\n",
            "Epoch 421/500\n",
            "2/2 [==============================] - 0s 10ms/step - loss: 13.0865 - mae: 13.0865\n",
            "Epoch 422/500\n",
            "2/2 [==============================] - 0s 9ms/step - loss: 12.4899 - mae: 12.4899\n",
            "Epoch 423/500\n",
            "2/2 [==============================] - 0s 5ms/step - loss: 24.6447 - mae: 24.6447\n",
            "Epoch 424/500\n",
            "2/2 [==============================] - 0s 18ms/step - loss: 19.9820 - mae: 19.9820\n",
            "Epoch 425/500\n",
            "2/2 [==============================] - 0s 5ms/step - loss: 10.8948 - mae: 10.8948\n",
            "Epoch 426/500\n",
            "2/2 [==============================] - 0s 6ms/step - loss: 11.8250 - mae: 11.8250\n",
            "Epoch 427/500\n",
            "2/2 [==============================] - 0s 10ms/step - loss: 16.4696 - mae: 16.4696\n",
            "Epoch 428/500\n",
            "2/2 [==============================] - 0s 6ms/step - loss: 23.7326 - mae: 23.7326\n",
            "Epoch 429/500\n",
            "2/2 [==============================] - 0s 7ms/step - loss: 26.5806 - mae: 26.5806\n",
            "Epoch 430/500\n",
            "2/2 [==============================] - 0s 6ms/step - loss: 19.7369 - mae: 19.7369\n",
            "Epoch 431/500\n",
            "2/2 [==============================] - 0s 12ms/step - loss: 11.8204 - mae: 11.8204\n",
            "Epoch 432/500\n",
            "2/2 [==============================] - 0s 9ms/step - loss: 9.1919 - mae: 9.1919\n",
            "Epoch 433/500\n",
            "2/2 [==============================] - 0s 9ms/step - loss: 13.2311 - mae: 13.2311\n",
            "Epoch 434/500\n",
            "2/2 [==============================] - 0s 9ms/step - loss: 32.9856 - mae: 32.9856\n",
            "Epoch 435/500\n",
            "2/2 [==============================] - 0s 8ms/step - loss: 12.7366 - mae: 12.7366\n",
            "Epoch 436/500\n",
            "2/2 [==============================] - 0s 7ms/step - loss: 30.2058 - mae: 30.2058\n",
            "Epoch 437/500\n",
            "2/2 [==============================] - 0s 6ms/step - loss: 9.5885 - mae: 9.5885\n",
            "Epoch 438/500\n",
            "2/2 [==============================] - 0s 8ms/step - loss: 12.5277 - mae: 12.5277\n",
            "Epoch 439/500\n",
            "2/2 [==============================] - 0s 11ms/step - loss: 34.3437 - mae: 34.3437\n",
            "Epoch 440/500\n",
            "2/2 [==============================] - 0s 6ms/step - loss: 13.6823 - mae: 13.6823\n",
            "Epoch 441/500\n",
            "2/2 [==============================] - 0s 8ms/step - loss: 16.5760 - mae: 16.5760\n",
            "Epoch 442/500\n",
            "2/2 [==============================] - 0s 4ms/step - loss: 26.7670 - mae: 26.7670\n",
            "Epoch 443/500\n",
            "2/2 [==============================] - 0s 5ms/step - loss: 15.2825 - mae: 15.2825\n",
            "Epoch 444/500\n",
            "2/2 [==============================] - 0s 5ms/step - loss: 7.2670 - mae: 7.2670\n",
            "Epoch 445/500\n",
            "2/2 [==============================] - 0s 6ms/step - loss: 8.5598 - mae: 8.5598\n",
            "Epoch 446/500\n",
            "2/2 [==============================] - 0s 5ms/step - loss: 14.1424 - mae: 14.1424\n",
            "Epoch 447/500\n",
            "2/2 [==============================] - 0s 8ms/step - loss: 19.3829 - mae: 19.3829\n",
            "Epoch 448/500\n",
            "2/2 [==============================] - 0s 4ms/step - loss: 16.2597 - mae: 16.2597\n",
            "Epoch 449/500\n",
            "2/2 [==============================] - 0s 4ms/step - loss: 18.2281 - mae: 18.2281\n",
            "Epoch 450/500\n",
            "2/2 [==============================] - 0s 11ms/step - loss: 35.4288 - mae: 35.4288\n",
            "Epoch 451/500\n",
            "2/2 [==============================] - 0s 9ms/step - loss: 15.9188 - mae: 15.9188\n",
            "Epoch 452/500\n",
            "2/2 [==============================] - 0s 3ms/step - loss: 17.6429 - mae: 17.6429\n",
            "Epoch 453/500\n",
            "2/2 [==============================] - 0s 4ms/step - loss: 7.4797 - mae: 7.4797\n",
            "Epoch 454/500\n",
            "2/2 [==============================] - 0s 8ms/step - loss: 10.6606 - mae: 10.6606\n",
            "Epoch 455/500\n",
            "2/2 [==============================] - 0s 6ms/step - loss: 18.0038 - mae: 18.0038\n",
            "Epoch 456/500\n",
            "2/2 [==============================] - 0s 7ms/step - loss: 16.9079 - mae: 16.9079\n",
            "Epoch 457/500\n",
            "2/2 [==============================] - 0s 6ms/step - loss: 22.9358 - mae: 22.9358\n",
            "Epoch 458/500\n",
            "2/2 [==============================] - 0s 4ms/step - loss: 23.4206 - mae: 23.4206\n",
            "Epoch 459/500\n",
            "2/2 [==============================] - 0s 5ms/step - loss: 15.5200 - mae: 15.5200\n",
            "Epoch 460/500\n",
            "2/2 [==============================] - 0s 4ms/step - loss: 10.5491 - mae: 10.5491\n",
            "Epoch 461/500\n",
            "2/2 [==============================] - 0s 4ms/step - loss: 13.9982 - mae: 13.9982\n",
            "Epoch 462/500\n",
            "2/2 [==============================] - 0s 4ms/step - loss: 14.8225 - mae: 14.8225\n",
            "Epoch 463/500\n",
            "2/2 [==============================] - 0s 7ms/step - loss: 32.0729 - mae: 32.0729\n",
            "Epoch 464/500\n",
            "2/2 [==============================] - 0s 10ms/step - loss: 11.8336 - mae: 11.8336\n",
            "Epoch 465/500\n",
            "2/2 [==============================] - 0s 6ms/step - loss: 19.5693 - mae: 19.5693\n",
            "Epoch 466/500\n",
            "2/2 [==============================] - 0s 11ms/step - loss: 32.5536 - mae: 32.5536\n",
            "Epoch 467/500\n",
            "2/2 [==============================] - 0s 7ms/step - loss: 20.4062 - mae: 20.4062\n",
            "Epoch 468/500\n",
            "2/2 [==============================] - 0s 10ms/step - loss: 11.4765 - mae: 11.4765\n",
            "Epoch 469/500\n",
            "2/2 [==============================] - 0s 9ms/step - loss: 25.8475 - mae: 25.8475\n",
            "Epoch 470/500\n",
            "2/2 [==============================] - 0s 6ms/step - loss: 18.6781 - mae: 18.6781\n",
            "Epoch 471/500\n",
            "2/2 [==============================] - 0s 9ms/step - loss: 13.5243 - mae: 13.5243\n",
            "Epoch 472/500\n",
            "2/2 [==============================] - 0s 10ms/step - loss: 16.0412 - mae: 16.0412\n",
            "Epoch 473/500\n",
            "2/2 [==============================] - 0s 10ms/step - loss: 20.1266 - mae: 20.1266\n",
            "Epoch 474/500\n",
            "2/2 [==============================] - 0s 9ms/step - loss: 40.5221 - mae: 40.5221\n",
            "Epoch 475/500\n",
            "2/2 [==============================] - 0s 6ms/step - loss: 16.9195 - mae: 16.9195\n",
            "Epoch 476/500\n",
            "2/2 [==============================] - 0s 9ms/step - loss: 13.7897 - mae: 13.7897\n",
            "Epoch 477/500\n",
            "2/2 [==============================] - 0s 8ms/step - loss: 30.9888 - mae: 30.9888\n",
            "Epoch 478/500\n",
            "2/2 [==============================] - 0s 4ms/step - loss: 7.9215 - mae: 7.9215\n",
            "Epoch 479/500\n",
            "2/2 [==============================] - 0s 4ms/step - loss: 9.4813 - mae: 9.4813\n",
            "Epoch 480/500\n",
            "2/2 [==============================] - 0s 6ms/step - loss: 16.1233 - mae: 16.1233\n",
            "Epoch 481/500\n",
            "2/2 [==============================] - 0s 7ms/step - loss: 18.8816 - mae: 18.8816\n",
            "Epoch 482/500\n",
            "2/2 [==============================] - 0s 5ms/step - loss: 37.3243 - mae: 37.3243\n",
            "Epoch 483/500\n",
            "2/2 [==============================] - 0s 5ms/step - loss: 18.1167 - mae: 18.1167\n",
            "Epoch 484/500\n",
            "2/2 [==============================] - 0s 10ms/step - loss: 14.4657 - mae: 14.4657\n",
            "Epoch 485/500\n",
            "2/2 [==============================] - 0s 4ms/step - loss: 11.9078 - mae: 11.9078\n",
            "Epoch 486/500\n",
            "2/2 [==============================] - 0s 11ms/step - loss: 18.9273 - mae: 18.9273\n",
            "Epoch 487/500\n",
            "2/2 [==============================] - 0s 5ms/step - loss: 13.9927 - mae: 13.9927\n",
            "Epoch 488/500\n",
            "2/2 [==============================] - 0s 5ms/step - loss: 31.4260 - mae: 31.4260\n",
            "Epoch 489/500\n",
            "2/2 [==============================] - 0s 6ms/step - loss: 11.8907 - mae: 11.8907\n",
            "Epoch 490/500\n",
            "2/2 [==============================] - 0s 13ms/step - loss: 13.0807 - mae: 13.0807\n",
            "Epoch 491/500\n",
            "2/2 [==============================] - 0s 9ms/step - loss: 23.7796 - mae: 23.7796\n",
            "Epoch 492/500\n",
            "2/2 [==============================] - 0s 4ms/step - loss: 22.4876 - mae: 22.4876\n",
            "Epoch 493/500\n",
            "2/2 [==============================] - 0s 4ms/step - loss: 6.4704 - mae: 6.4704\n",
            "Epoch 494/500\n",
            "2/2 [==============================] - 0s 4ms/step - loss: 16.3025 - mae: 16.3025\n",
            "Epoch 495/500\n",
            "2/2 [==============================] - 0s 4ms/step - loss: 16.9906 - mae: 16.9906\n",
            "Epoch 496/500\n",
            "2/2 [==============================] - 0s 4ms/step - loss: 15.1793 - mae: 15.1793\n",
            "Epoch 497/500\n",
            "2/2 [==============================] - 0s 4ms/step - loss: 21.2560 - mae: 21.2560\n",
            "Epoch 498/500\n",
            "2/2 [==============================] - 0s 4ms/step - loss: 32.1207 - mae: 32.1207\n",
            "Epoch 499/500\n",
            "2/2 [==============================] - 0s 4ms/step - loss: 16.3179 - mae: 16.3179\n",
            "Epoch 500/500\n",
            "2/2 [==============================] - 0s 6ms/step - loss: 14.1458 - mae: 14.1458\n"
          ]
        },
        {
          "output_type": "execute_result",
          "data": {
            "text/plain": [
              "<keras.callbacks.History at 0x7fa9a9a7d7d0>"
            ]
          },
          "metadata": {},
          "execution_count": 53
        }
      ]
    },
    {
      "cell_type": "code",
      "source": [
        "# Make and plot some predictions\n",
        "y_preds_3 = model_3.predict(X_test)\n",
        "plot_predictions(predictions=y_preds_3)"
      ],
      "metadata": {
        "colab": {
          "base_uri": "https://localhost:8080/",
          "height": 446
        },
        "id": "42Gkq917RhwH",
        "outputId": "8d4ab5c3-6f30-4dc9-c7ab-3c458ece9b5f"
      },
      "execution_count": null,
      "outputs": [
        {
          "output_type": "stream",
          "name": "stdout",
          "text": [
            "1/1 [==============================] - 0s 158ms/step\n"
          ]
        },
        {
          "output_type": "display_data",
          "data": {
            "text/plain": [
              "<Figure size 720x504 with 1 Axes>"
            ],
            "image/png": "[encoded data removed]"
          },
          "metadata": {
            "needs_background": "light"
          }
        }
      ]
    },
    {
      "cell_type": "code",
      "source": [
        "# Check our model evaluation metrics\n",
        "mae_3 = mae(y_test, y_preds_3)\n",
        "mse_3 = mse(y_test, y_preds_3)\n",
        "mae_3, mse_3\n"
      ],
      "metadata": {
        "colab": {
          "base_uri": "https://localhost:8080/"
        },
        "id": "hHwr6xZKTeJ1",
        "outputId": "7cc56b55-7429-454f-9f00-ad7c31bf2f44"
      },
      "execution_count": null,
      "outputs": [
        {
          "output_type": "execute_result",
          "data": {
            "text/plain": [
              "(<tf.Tensor: shape=(), dtype=float32, numpy=65.04007>,\n",
              " <tf.Tensor: shape=(), dtype=float32, numpy=65.04007>)"
            ]
          },
          "metadata": {},
          "execution_count": 55
        }
      ]
    },
    {
      "cell_type": "markdown",
      "source": [
        "**Build ```model 4```**\n",
        "  * 4 layers, trained for 500 epochs"
      ],
      "metadata": {
        "id": "s2wuoMZMUFso"
      }
    },
    {
      "cell_type": "code",
      "source": [
        "tf.random.set_seed(42)\n",
        "\n",
        "# Create our model 4\n",
        "model_4 = tf.keras.Sequential([\n",
        "    tf.keras.layers.Dense(20),\n",
        "    tf.keras.layers.Dense(10),\n",
        "    tf.keras.layers.Dense(10),\n",
        "    tf.keras.layers.Dense(1)\n",
        "])\n",
        "\n",
        "# Compile our model\n",
        "model_4.compile(loss=tf.keras.losses.mae,\n",
        "                optimizer=tf.keras.optimizers.SGD(),\n",
        "                metrics=[\"mae\"])\n",
        "\n",
        "# Fit our model\n",
        "model_4.fit(tf.expand_dims(X_train, axis=-1), y_train, epochs=500)"
      ],
      "metadata": {
        "id": "-30xJeUMUSmo",
        "colab": {
          "base_uri": "https://localhost:8080/"
        },
        "outputId": "3f44ac3c-866e-48ef-ce26-8dd695fcdd97"
      },
      "execution_count": null,
      "outputs": [
        {
          "output_type": "stream",
          "name": "stdout",
          "text": [
            "Epoch 1/500\n",
            "2/2 [==============================] - 1s 9ms/step - loss: 47.5389 - mae: 47.5389\n",
            "Epoch 2/500\n",
            "2/2 [==============================] - 0s 8ms/step - loss: 103.9558 - mae: 103.9558\n",
            "Epoch 3/500\n",
            "2/2 [==============================] - 0s 7ms/step - loss: 26.2687 - mae: 26.2687\n",
            "Epoch 4/500\n",
            "2/2 [==============================] - 0s 5ms/step - loss: 41.1358 - mae: 41.1358\n",
            "Epoch 5/500\n",
            "2/2 [==============================] - 0s 4ms/step - loss: 31.0213 - mae: 31.0213\n",
            "Epoch 6/500\n",
            "2/2 [==============================] - 0s 4ms/step - loss: 49.8937 - mae: 49.8937\n",
            "Epoch 7/500\n",
            "2/2 [==============================] - 0s 11ms/step - loss: 38.9088 - mae: 38.9088\n",
            "Epoch 8/500\n",
            "2/2 [==============================] - 0s 4ms/step - loss: 26.5741 - mae: 26.5741\n",
            "Epoch 9/500\n",
            "2/2 [==============================] - 0s 8ms/step - loss: 38.9995 - mae: 38.9995\n",
            "Epoch 10/500\n",
            "2/2 [==============================] - 0s 5ms/step - loss: 23.6767 - mae: 23.6767\n",
            "Epoch 11/500\n",
            "2/2 [==============================] - 0s 7ms/step - loss: 36.0933 - mae: 36.0933\n",
            "Epoch 12/500\n",
            "2/2 [==============================] - 0s 5ms/step - loss: 23.5678 - mae: 23.5678\n",
            "Epoch 13/500\n",
            "2/2 [==============================] - 0s 7ms/step - loss: 41.8054 - mae: 41.8054\n",
            "Epoch 14/500\n",
            "2/2 [==============================] - 0s 7ms/step - loss: 36.8330 - mae: 36.8330\n",
            "Epoch 15/500\n",
            "2/2 [==============================] - 0s 8ms/step - loss: 30.7710 - mae: 30.7710\n",
            "Epoch 16/500\n",
            "2/2 [==============================] - 0s 5ms/step - loss: 42.9539 - mae: 42.9539\n",
            "Epoch 17/500\n",
            "2/2 [==============================] - 0s 4ms/step - loss: 42.5393 - mae: 42.5393\n",
            "Epoch 18/500\n",
            "2/2 [==============================] - 0s 4ms/step - loss: 41.6330 - mae: 41.6330\n",
            "Epoch 19/500\n",
            "2/2 [==============================] - 0s 4ms/step - loss: 38.2238 - mae: 38.2238\n",
            "Epoch 20/500\n",
            "2/2 [==============================] - 0s 9ms/step - loss: 23.0144 - mae: 23.0144\n",
            "Epoch 21/500\n",
            "2/2 [==============================] - 0s 9ms/step - loss: 41.8652 - mae: 41.8652\n",
            "Epoch 22/500\n",
            "2/2 [==============================] - 0s 4ms/step - loss: 40.3332 - mae: 40.3332\n",
            "Epoch 23/500\n",
            "2/2 [==============================] - 0s 4ms/step - loss: 35.1501 - mae: 35.1501\n",
            "Epoch 24/500\n",
            "2/2 [==============================] - 0s 4ms/step - loss: 25.2245 - mae: 25.2245\n",
            "Epoch 25/500\n",
            "2/2 [==============================] - 0s 4ms/step - loss: 42.8304 - mae: 42.8304\n",
            "Epoch 26/500\n",
            "2/2 [==============================] - 0s 11ms/step - loss: 42.6315 - mae: 42.6315\n",
            "Epoch 27/500\n",
            "2/2 [==============================] - 0s 8ms/step - loss: 42.2807 - mae: 42.2807\n",
            "Epoch 28/500\n",
            "2/2 [==============================] - 0s 9ms/step - loss: 41.2806 - mae: 41.2806\n",
            "Epoch 29/500\n",
            "2/2 [==============================] - 0s 6ms/step - loss: 37.5795 - mae: 37.5795\n",
            "Epoch 30/500\n",
            "2/2 [==============================] - 0s 4ms/step - loss: 21.9662 - mae: 21.9662\n",
            "Epoch 31/500\n",
            "2/2 [==============================] - 0s 10ms/step - loss: 42.9808 - mae: 42.9808\n",
            "Epoch 32/500\n",
            "2/2 [==============================] - 0s 5ms/step - loss: 42.2785 - mae: 42.2785\n",
            "Epoch 33/500\n",
            "2/2 [==============================] - 0s 11ms/step - loss: 40.8157 - mae: 40.8157\n",
            "Epoch 34/500\n",
            "2/2 [==============================] - 0s 5ms/step - loss: 35.7482 - mae: 35.7482\n",
            "Epoch 35/500\n",
            "2/2 [==============================] - 0s 5ms/step - loss: 23.5849 - mae: 23.5849\n",
            "Epoch 36/500\n",
            "2/2 [==============================] - 0s 5ms/step - loss: 42.5980 - mae: 42.5980\n",
            "Epoch 37/500\n",
            "2/2 [==============================] - 0s 5ms/step - loss: 42.3773 - mae: 42.3773\n",
            "Epoch 38/500\n",
            "2/2 [==============================] - 0s 9ms/step - loss: 41.9272 - mae: 41.9272\n",
            "Epoch 39/500\n",
            "2/2 [==============================] - 0s 4ms/step - loss: 40.8592 - mae: 40.8592\n",
            "Epoch 40/500\n",
            "2/2 [==============================] - 0s 6ms/step - loss: 37.4709 - mae: 37.4709\n",
            "Epoch 41/500\n",
            "2/2 [==============================] - 0s 5ms/step - loss: 21.7961 - mae: 21.7961\n",
            "Epoch 42/500\n",
            "2/2 [==============================] - 0s 4ms/step - loss: 38.1716 - mae: 38.1716\n",
            "Epoch 43/500\n",
            "2/2 [==============================] - 0s 5ms/step - loss: 25.5735 - mae: 25.5735\n",
            "Epoch 44/500\n",
            "2/2 [==============================] - 0s 5ms/step - loss: 87.9619 - mae: 87.9619\n",
            "Epoch 45/500\n",
            "2/2 [==============================] - 0s 11ms/step - loss: 42.4623 - mae: 42.4623\n",
            "Epoch 46/500\n",
            "2/2 [==============================] - 0s 5ms/step - loss: 41.9906 - mae: 41.9906\n",
            "Epoch 47/500\n",
            "2/2 [==============================] - 0s 5ms/step - loss: 40.7967 - mae: 40.7967\n",
            "Epoch 48/500\n",
            "2/2 [==============================] - 0s 5ms/step - loss: 35.9626 - mae: 35.9626\n",
            "Epoch 49/500\n",
            "2/2 [==============================] - 0s 5ms/step - loss: 23.2275 - mae: 23.2275\n",
            "Epoch 50/500\n",
            "2/2 [==============================] - 0s 7ms/step - loss: 40.7918 - mae: 40.7918\n",
            "Epoch 51/500\n",
            "2/2 [==============================] - 0s 6ms/step - loss: 37.3079 - mae: 37.3079\n",
            "Epoch 52/500\n",
            "2/2 [==============================] - 0s 4ms/step - loss: 21.2215 - mae: 21.2215\n",
            "Epoch 53/500\n",
            "2/2 [==============================] - 0s 5ms/step - loss: 41.2601 - mae: 41.2601\n",
            "Epoch 54/500\n",
            "2/2 [==============================] - 0s 4ms/step - loss: 38.7972 - mae: 38.7972\n",
            "Epoch 55/500\n",
            "2/2 [==============================] - 0s 5ms/step - loss: 27.2027 - mae: 27.2027\n",
            "Epoch 56/500\n",
            "2/2 [==============================] - 0s 8ms/step - loss: 50.0479 - mae: 50.0479\n",
            "Epoch 57/500\n",
            "2/2 [==============================] - 0s 10ms/step - loss: 40.7522 - mae: 40.7522\n",
            "Epoch 58/500\n",
            "2/2 [==============================] - 0s 5ms/step - loss: 38.1330 - mae: 38.1330\n",
            "Epoch 59/500\n",
            "2/2 [==============================] - 0s 5ms/step - loss: 26.5704 - mae: 26.5704\n",
            "Epoch 60/500\n",
            "2/2 [==============================] - 0s 6ms/step - loss: 52.0391 - mae: 52.0391\n",
            "Epoch 61/500\n",
            "2/2 [==============================] - 0s 5ms/step - loss: 40.8966 - mae: 40.8966\n",
            "Epoch 62/500\n",
            "2/2 [==============================] - 0s 7ms/step - loss: 38.3980 - mae: 38.3980\n",
            "Epoch 63/500\n",
            "2/2 [==============================] - 0s 7ms/step - loss: 27.8284 - mae: 27.8284\n",
            "Epoch 64/500\n",
            "2/2 [==============================] - 0s 5ms/step - loss: 44.8472 - mae: 44.8472\n",
            "Epoch 65/500\n",
            "2/2 [==============================] - 0s 4ms/step - loss: 39.6667 - mae: 39.6667\n",
            "Epoch 66/500\n",
            "2/2 [==============================] - 0s 7ms/step - loss: 33.5951 - mae: 33.5951\n",
            "Epoch 67/500\n",
            "2/2 [==============================] - 0s 9ms/step - loss: 24.8673 - mae: 24.8673\n",
            "Epoch 68/500\n",
            "2/2 [==============================] - 0s 4ms/step - loss: 42.5818 - mae: 42.5818\n",
            "Epoch 69/500\n",
            "2/2 [==============================] - 0s 4ms/step - loss: 42.4505 - mae: 42.4505\n",
            "Epoch 70/500\n",
            "2/2 [==============================] - 0s 5ms/step - loss: 42.2478 - mae: 42.2478\n",
            "Epoch 71/500\n",
            "2/2 [==============================] - 0s 8ms/step - loss: 41.8572 - mae: 41.8572\n",
            "Epoch 72/500\n",
            "2/2 [==============================] - 0s 8ms/step - loss: 41.0423 - mae: 41.0423\n",
            "Epoch 73/500\n",
            "2/2 [==============================] - 0s 5ms/step - loss: 38.8366 - mae: 38.8366\n",
            "Epoch 74/500\n",
            "2/2 [==============================] - 0s 4ms/step - loss: 28.4461 - mae: 28.4461\n",
            "Epoch 75/500\n",
            "2/2 [==============================] - 0s 5ms/step - loss: 35.9917 - mae: 35.9917\n",
            "Epoch 76/500\n",
            "2/2 [==============================] - 0s 5ms/step - loss: 38.0399 - mae: 38.0399\n",
            "Epoch 77/500\n",
            "2/2 [==============================] - 0s 5ms/step - loss: 24.8834 - mae: 24.8834\n",
            "Epoch 78/500\n",
            "2/2 [==============================] - 0s 5ms/step - loss: 71.9035 - mae: 71.9035\n",
            "Epoch 79/500\n",
            "2/2 [==============================] - 0s 5ms/step - loss: 40.9739 - mae: 40.9739\n",
            "Epoch 80/500\n",
            "2/2 [==============================] - 0s 9ms/step - loss: 38.3060 - mae: 38.3060\n",
            "Epoch 81/500\n",
            "2/2 [==============================] - 0s 5ms/step - loss: 28.5878 - mae: 28.5878\n",
            "Epoch 82/500\n",
            "2/2 [==============================] - 0s 5ms/step - loss: 18.8424 - mae: 18.8424\n",
            "Epoch 83/500\n",
            "2/2 [==============================] - 0s 5ms/step - loss: 37.9673 - mae: 37.9673\n",
            "Epoch 84/500\n",
            "2/2 [==============================] - 0s 7ms/step - loss: 26.8121 - mae: 26.8121\n",
            "Epoch 85/500\n",
            "2/2 [==============================] - 0s 9ms/step - loss: 65.7124 - mae: 65.7124\n",
            "Epoch 86/500\n",
            "2/2 [==============================] - 0s 6ms/step - loss: 41.2345 - mae: 41.2345\n",
            "Epoch 87/500\n",
            "2/2 [==============================] - 0s 7ms/step - loss: 39.3804 - mae: 39.3804\n",
            "Epoch 88/500\n",
            "2/2 [==============================] - 0s 5ms/step - loss: 32.0481 - mae: 32.0481\n",
            "Epoch 89/500\n",
            "2/2 [==============================] - 0s 10ms/step - loss: 12.3550 - mae: 12.3550\n",
            "Epoch 90/500\n",
            "2/2 [==============================] - 0s 5ms/step - loss: 32.0975 - mae: 32.0975\n",
            "Epoch 91/500\n",
            "2/2 [==============================] - 0s 5ms/step - loss: 13.6009 - mae: 13.6009\n",
            "Epoch 92/500\n",
            "2/2 [==============================] - 0s 4ms/step - loss: 31.2940 - mae: 31.2940\n",
            "Epoch 93/500\n",
            "2/2 [==============================] - 0s 4ms/step - loss: 15.9364 - mae: 15.9364\n",
            "Epoch 94/500\n",
            "2/2 [==============================] - 0s 4ms/step - loss: 35.7470 - mae: 35.7470\n",
            "Epoch 95/500\n",
            "2/2 [==============================] - 0s 7ms/step - loss: 21.3721 - mae: 21.3721\n",
            "Epoch 96/500\n",
            "2/2 [==============================] - 0s 4ms/step - loss: 39.1003 - mae: 39.1003\n",
            "Epoch 97/500\n",
            "2/2 [==============================] - 0s 4ms/step - loss: 30.9481 - mae: 30.9481\n",
            "Epoch 98/500\n",
            "2/2 [==============================] - 0s 4ms/step - loss: 17.5744 - mae: 17.5744\n",
            "Epoch 99/500\n",
            "2/2 [==============================] - 0s 4ms/step - loss: 35.8327 - mae: 35.8327\n",
            "Epoch 100/500\n",
            "2/2 [==============================] - 0s 4ms/step - loss: 21.5549 - mae: 21.5549\n",
            "Epoch 101/500\n",
            "2/2 [==============================] - 0s 4ms/step - loss: 41.6984 - mae: 41.6984\n",
            "Epoch 102/500\n",
            "2/2 [==============================] - 0s 4ms/step - loss: 40.7067 - mae: 40.7067\n",
            "Epoch 103/500\n",
            "2/2 [==============================] - 0s 5ms/step - loss: 37.9284 - mae: 37.9284\n",
            "Epoch 104/500\n",
            "2/2 [==============================] - 0s 8ms/step - loss: 22.9987 - mae: 22.9987\n",
            "Epoch 105/500\n",
            "2/2 [==============================] - 0s 4ms/step - loss: 101.9430 - mae: 101.9430\n",
            "Epoch 106/500\n",
            "2/2 [==============================] - 0s 4ms/step - loss: 42.7840 - mae: 42.7840\n",
            "Epoch 107/500\n",
            "2/2 [==============================] - 0s 5ms/step - loss: 42.7574 - mae: 42.7574\n",
            "Epoch 108/500\n",
            "2/2 [==============================] - 0s 8ms/step - loss: 42.7248 - mae: 42.7248\n",
            "Epoch 109/500\n",
            "2/2 [==============================] - 0s 4ms/step - loss: 42.6820 - mae: 42.6820\n",
            "Epoch 110/500\n",
            "2/2 [==============================] - 0s 4ms/step - loss: 42.6255 - mae: 42.6255\n",
            "Epoch 111/500\n",
            "2/2 [==============================] - 0s 8ms/step - loss: 42.5383 - mae: 42.5383\n",
            "Epoch 112/500\n",
            "2/2 [==============================] - 0s 8ms/step - loss: 42.3997 - mae: 42.3997\n",
            "Epoch 113/500\n",
            "2/2 [==============================] - 0s 5ms/step - loss: 42.1505 - mae: 42.1505\n",
            "Epoch 114/500\n",
            "2/2 [==============================] - 0s 7ms/step - loss: 41.6570 - mae: 41.6570\n",
            "Epoch 115/500\n",
            "2/2 [==============================] - 0s 4ms/step - loss: 40.5765 - mae: 40.5765\n",
            "Epoch 116/500\n",
            "2/2 [==============================] - 0s 8ms/step - loss: 37.3548 - mae: 37.3548\n",
            "Epoch 117/500\n",
            "2/2 [==============================] - 0s 8ms/step - loss: 22.0371 - mae: 22.0371\n",
            "Epoch 118/500\n",
            "2/2 [==============================] - 0s 4ms/step - loss: 98.9713 - mae: 98.9713\n",
            "Epoch 119/500\n",
            "2/2 [==============================] - 0s 4ms/step - loss: 42.8001 - mae: 42.8001\n",
            "Epoch 120/500\n",
            "2/2 [==============================] - 0s 10ms/step - loss: 42.7802 - mae: 42.7802\n",
            "Epoch 121/500\n",
            "2/2 [==============================] - 0s 5ms/step - loss: 42.7583 - mae: 42.7583\n",
            "Epoch 122/500\n",
            "2/2 [==============================] - 0s 5ms/step - loss: 42.7226 - mae: 42.7226\n",
            "Epoch 123/500\n",
            "2/2 [==============================] - 0s 8ms/step - loss: 42.6677 - mae: 42.6677\n",
            "Epoch 124/500\n",
            "2/2 [==============================] - 0s 4ms/step - loss: 42.5805 - mae: 42.5805\n",
            "Epoch 125/500\n",
            "2/2 [==============================] - 0s 4ms/step - loss: 42.4200 - mae: 42.4200\n",
            "Epoch 126/500\n",
            "2/2 [==============================] - 0s 10ms/step - loss: 42.0594 - mae: 42.0594\n",
            "Epoch 127/500\n",
            "2/2 [==============================] - 0s 5ms/step - loss: 41.0376 - mae: 41.0376\n",
            "Epoch 128/500\n",
            "2/2 [==============================] - 0s 5ms/step - loss: 37.1025 - mae: 37.1025\n",
            "Epoch 129/500\n",
            "2/2 [==============================] - 0s 5ms/step - loss: 22.5828 - mae: 22.5828\n",
            "Epoch 130/500\n",
            "2/2 [==============================] - 0s 5ms/step - loss: 41.8163 - mae: 41.8163\n",
            "Epoch 131/500\n",
            "2/2 [==============================] - 0s 7ms/step - loss: 40.7305 - mae: 40.7305\n",
            "Epoch 132/500\n",
            "2/2 [==============================] - 0s 7ms/step - loss: 37.4136 - mae: 37.4136\n",
            "Epoch 133/500\n",
            "2/2 [==============================] - 0s 8ms/step - loss: 21.1560 - mae: 21.1560\n",
            "Epoch 134/500\n",
            "2/2 [==============================] - 0s 4ms/step - loss: 39.3661 - mae: 39.3661\n",
            "Epoch 135/500\n",
            "2/2 [==============================] - 0s 5ms/step - loss: 31.5693 - mae: 31.5693\n",
            "Epoch 136/500\n",
            "2/2 [==============================] - 0s 10ms/step - loss: 22.7695 - mae: 22.7695\n",
            "Epoch 137/500\n",
            "2/2 [==============================] - 0s 5ms/step - loss: 30.8604 - mae: 30.8604\n",
            "Epoch 138/500\n",
            "2/2 [==============================] - 0s 10ms/step - loss: 20.3558 - mae: 20.3558\n",
            "Epoch 139/500\n",
            "2/2 [==============================] - 0s 5ms/step - loss: 38.0207 - mae: 38.0207\n",
            "Epoch 140/500\n",
            "2/2 [==============================] - 0s 5ms/step - loss: 23.8379 - mae: 23.8379\n",
            "Epoch 141/500\n",
            "2/2 [==============================] - 0s 6ms/step - loss: 85.0375 - mae: 85.0375\n",
            "Epoch 142/500\n",
            "2/2 [==============================] - 0s 5ms/step - loss: 41.4011 - mae: 41.4011\n",
            "Epoch 143/500\n",
            "2/2 [==============================] - 0s 5ms/step - loss: 39.9443 - mae: 39.9443\n",
            "Epoch 144/500\n",
            "2/2 [==============================] - 0s 5ms/step - loss: 35.4213 - mae: 35.4213\n",
            "Epoch 145/500\n",
            "2/2 [==============================] - 0s 4ms/step - loss: 21.7031 - mae: 21.7031\n",
            "Epoch 146/500\n",
            "2/2 [==============================] - 0s 5ms/step - loss: 39.6885 - mae: 39.6885\n",
            "Epoch 147/500\n",
            "2/2 [==============================] - 0s 4ms/step - loss: 35.2985 - mae: 35.2985\n",
            "Epoch 148/500\n",
            "2/2 [==============================] - 0s 5ms/step - loss: 21.1102 - mae: 21.1102\n",
            "Epoch 149/500\n",
            "2/2 [==============================] - 0s 5ms/step - loss: 36.3634 - mae: 36.3634\n",
            "Epoch 150/500\n",
            "2/2 [==============================] - 0s 4ms/step - loss: 20.2764 - mae: 20.2764\n",
            "Epoch 151/500\n",
            "2/2 [==============================] - 0s 5ms/step - loss: 40.6376 - mae: 40.6376\n",
            "Epoch 152/500\n",
            "2/2 [==============================] - 0s 5ms/step - loss: 37.5974 - mae: 37.5974\n",
            "Epoch 153/500\n",
            "2/2 [==============================] - 0s 11ms/step - loss: 22.9235 - mae: 22.9235\n",
            "Epoch 154/500\n",
            "2/2 [==============================] - 0s 5ms/step - loss: 29.7464 - mae: 29.7464\n",
            "Epoch 155/500\n",
            "2/2 [==============================] - 0s 7ms/step - loss: 27.3326 - mae: 27.3326\n",
            "Epoch 156/500\n",
            "2/2 [==============================] - 0s 5ms/step - loss: 32.6370 - mae: 32.6370\n",
            "Epoch 157/500\n",
            "2/2 [==============================] - 0s 5ms/step - loss: 14.2057 - mae: 14.2057\n",
            "Epoch 158/500\n",
            "2/2 [==============================] - 0s 9ms/step - loss: 35.4972 - mae: 35.4972\n",
            "Epoch 159/500\n",
            "2/2 [==============================] - 0s 5ms/step - loss: 20.6886 - mae: 20.6886\n",
            "Epoch 160/500\n",
            "2/2 [==============================] - 0s 8ms/step - loss: 41.7150 - mae: 41.7150\n",
            "Epoch 161/500\n",
            "2/2 [==============================] - 0s 5ms/step - loss: 40.7504 - mae: 40.7504\n",
            "Epoch 162/500\n",
            "2/2 [==============================] - 0s 5ms/step - loss: 37.7409 - mae: 37.7409\n",
            "Epoch 163/500\n",
            "2/2 [==============================] - 0s 5ms/step - loss: 21.3030 - mae: 21.3030\n",
            "Epoch 164/500\n",
            "2/2 [==============================] - 0s 11ms/step - loss: 128.0787 - mae: 128.0787\n",
            "Epoch 165/500\n",
            "2/2 [==============================] - 0s 6ms/step - loss: 42.8512 - mae: 42.8512\n",
            "Epoch 166/500\n",
            "2/2 [==============================] - 0s 10ms/step - loss: 42.8501 - mae: 42.8501\n",
            "Epoch 167/500\n",
            "2/2 [==============================] - 0s 11ms/step - loss: 42.8484 - mae: 42.8484\n",
            "Epoch 168/500\n",
            "2/2 [==============================] - 0s 7ms/step - loss: 42.8471 - mae: 42.8471\n",
            "Epoch 169/500\n",
            "2/2 [==============================] - 0s 6ms/step - loss: 42.8456 - mae: 42.8456\n",
            "Epoch 170/500\n",
            "2/2 [==============================] - 0s 8ms/step - loss: 42.8438 - mae: 42.8438\n",
            "Epoch 171/500\n",
            "2/2 [==============================] - 0s 5ms/step - loss: 42.8425 - mae: 42.8425\n",
            "Epoch 172/500\n",
            "2/2 [==============================] - 0s 6ms/step - loss: 42.8413 - mae: 42.8413\n",
            "Epoch 173/500\n",
            "2/2 [==============================] - 0s 4ms/step - loss: 42.8391 - mae: 42.8391\n",
            "Epoch 174/500\n",
            "2/2 [==============================] - 0s 8ms/step - loss: 42.8367 - mae: 42.8367\n",
            "Epoch 175/500\n",
            "2/2 [==============================] - 0s 6ms/step - loss: 42.8338 - mae: 42.8338\n",
            "Epoch 176/500\n",
            "2/2 [==============================] - 0s 5ms/step - loss: 42.8297 - mae: 42.8297\n",
            "Epoch 177/500\n",
            "2/2 [==============================] - 0s 8ms/step - loss: 42.8254 - mae: 42.8254\n",
            "Epoch 178/500\n",
            "2/2 [==============================] - 0s 6ms/step - loss: 42.8184 - mae: 42.8184\n",
            "Epoch 179/500\n",
            "2/2 [==============================] - 0s 5ms/step - loss: 42.8084 - mae: 42.8084\n",
            "Epoch 180/500\n",
            "2/2 [==============================] - 0s 5ms/step - loss: 42.7914 - mae: 42.7914\n",
            "Epoch 181/500\n",
            "2/2 [==============================] - 0s 5ms/step - loss: 42.7533 - mae: 42.7533\n",
            "Epoch 182/500\n",
            "2/2 [==============================] - 0s 5ms/step - loss: 42.6786 - mae: 42.6786\n",
            "Epoch 183/500\n",
            "2/2 [==============================] - 0s 5ms/step - loss: 42.5210 - mae: 42.5210\n",
            "Epoch 184/500\n",
            "2/2 [==============================] - 0s 18ms/step - loss: 42.1049 - mae: 42.1049\n",
            "Epoch 185/500\n",
            "2/2 [==============================] - 0s 7ms/step - loss: 41.1467 - mae: 41.1467\n",
            "Epoch 186/500\n",
            "2/2 [==============================] - 0s 7ms/step - loss: 37.8104 - mae: 37.8104\n",
            "Epoch 187/500\n",
            "2/2 [==============================] - 0s 6ms/step - loss: 20.5181 - mae: 20.5181\n",
            "Epoch 188/500\n",
            "2/2 [==============================] - 0s 6ms/step - loss: 41.4558 - mae: 41.4558\n",
            "Epoch 189/500\n",
            "2/2 [==============================] - 0s 6ms/step - loss: 39.8703 - mae: 39.8703\n",
            "Epoch 190/500\n",
            "2/2 [==============================] - 0s 8ms/step - loss: 33.4385 - mae: 33.4385\n",
            "Epoch 191/500\n",
            "2/2 [==============================] - 0s 9ms/step - loss: 16.6898 - mae: 16.6898\n",
            "Epoch 192/500\n",
            "2/2 [==============================] - 0s 8ms/step - loss: 40.7593 - mae: 40.7593\n",
            "Epoch 193/500\n",
            "2/2 [==============================] - 0s 9ms/step - loss: 37.5478 - mae: 37.5478\n",
            "Epoch 194/500\n",
            "2/2 [==============================] - 0s 5ms/step - loss: 24.1039 - mae: 24.1039\n",
            "Epoch 195/500\n",
            "2/2 [==============================] - 0s 8ms/step - loss: 57.7784 - mae: 57.7784\n",
            "Epoch 196/500\n",
            "2/2 [==============================] - 0s 5ms/step - loss: 40.4322 - mae: 40.4322\n",
            "Epoch 197/500\n",
            "2/2 [==============================] - 0s 5ms/step - loss: 37.2505 - mae: 37.2505\n",
            "Epoch 198/500\n",
            "2/2 [==============================] - 0s 5ms/step - loss: 19.5402 - mae: 19.5402\n",
            "Epoch 199/500\n",
            "2/2 [==============================] - 0s 8ms/step - loss: 40.9360 - mae: 40.9360\n",
            "Epoch 200/500\n",
            "2/2 [==============================] - 0s 5ms/step - loss: 38.5319 - mae: 38.5319\n",
            "Epoch 201/500\n",
            "2/2 [==============================] - 0s 7ms/step - loss: 28.6954 - mae: 28.6954\n",
            "Epoch 202/500\n",
            "2/2 [==============================] - 0s 7ms/step - loss: 43.3000 - mae: 43.3000\n",
            "Epoch 203/500\n",
            "2/2 [==============================] - 0s 7ms/step - loss: 39.9134 - mae: 39.9134\n",
            "Epoch 204/500\n",
            "2/2 [==============================] - 0s 9ms/step - loss: 34.6164 - mae: 34.6164\n",
            "Epoch 205/500\n",
            "2/2 [==============================] - 0s 7ms/step - loss: 22.6532 - mae: 22.6532\n",
            "Epoch 206/500\n",
            "2/2 [==============================] - 0s 6ms/step - loss: 41.9841 - mae: 41.9841\n",
            "Epoch 207/500\n",
            "2/2 [==============================] - 0s 5ms/step - loss: 41.4075 - mae: 41.4075\n",
            "Epoch 208/500\n",
            "2/2 [==============================] - 0s 5ms/step - loss: 39.9690 - mae: 39.9690\n",
            "Epoch 209/500\n",
            "2/2 [==============================] - 0s 7ms/step - loss: 34.6910 - mae: 34.6910\n",
            "Epoch 210/500\n",
            "2/2 [==============================] - 0s 5ms/step - loss: 23.9229 - mae: 23.9229\n",
            "Epoch 211/500\n",
            "2/2 [==============================] - 0s 8ms/step - loss: 42.4436 - mae: 42.4436\n",
            "Epoch 212/500\n",
            "2/2 [==============================] - 0s 9ms/step - loss: 42.3021 - mae: 42.3021\n",
            "Epoch 213/500\n",
            "2/2 [==============================] - 0s 9ms/step - loss: 42.0989 - mae: 42.0989\n",
            "Epoch 214/500\n",
            "2/2 [==============================] - 0s 8ms/step - loss: 41.7002 - mae: 41.7002\n",
            "Epoch 215/500\n",
            "2/2 [==============================] - 0s 8ms/step - loss: 40.8267 - mae: 40.8267\n",
            "Epoch 216/500\n",
            "2/2 [==============================] - 0s 9ms/step - loss: 38.7252 - mae: 38.7252\n",
            "Epoch 217/500\n",
            "2/2 [==============================] - 0s 8ms/step - loss: 30.6399 - mae: 30.6399\n",
            "Epoch 218/500\n",
            "2/2 [==============================] - 0s 6ms/step - loss: 6.5114 - mae: 6.5114\n",
            "Epoch 219/500\n",
            "2/2 [==============================] - 0s 6ms/step - loss: 37.5327 - mae: 37.5327\n",
            "Epoch 220/500\n",
            "2/2 [==============================] - 0s 11ms/step - loss: 23.6021 - mae: 23.6021\n",
            "Epoch 221/500\n",
            "2/2 [==============================] - 0s 9ms/step - loss: 109.0832 - mae: 109.0832\n",
            "Epoch 222/500\n",
            "2/2 [==============================] - 0s 10ms/step - loss: 42.4102 - mae: 42.4102\n",
            "Epoch 223/500\n",
            "2/2 [==============================] - 0s 11ms/step - loss: 42.2793 - mae: 42.2793\n",
            "Epoch 224/500\n",
            "2/2 [==============================] - 0s 8ms/step - loss: 42.0438 - mae: 42.0438\n",
            "Epoch 225/500\n",
            "2/2 [==============================] - 0s 7ms/step - loss: 41.5443 - mae: 41.5443\n",
            "Epoch 226/500\n",
            "2/2 [==============================] - 0s 6ms/step - loss: 40.5547 - mae: 40.5547\n",
            "Epoch 227/500\n",
            "2/2 [==============================] - 0s 7ms/step - loss: 37.6074 - mae: 37.6074\n",
            "Epoch 228/500\n",
            "2/2 [==============================] - 0s 7ms/step - loss: 24.3188 - mae: 24.3188\n",
            "Epoch 229/500\n",
            "2/2 [==============================] - 0s 8ms/step - loss: 76.2242 - mae: 76.2242\n",
            "Epoch 230/500\n",
            "2/2 [==============================] - 0s 5ms/step - loss: 42.2113 - mae: 42.2113\n",
            "Epoch 231/500\n",
            "2/2 [==============================] - 0s 6ms/step - loss: 41.9221 - mae: 41.9221\n",
            "Epoch 232/500\n",
            "2/2 [==============================] - 0s 9ms/step - loss: 41.3583 - mae: 41.3583\n",
            "Epoch 233/500\n",
            "2/2 [==============================] - 0s 9ms/step - loss: 39.9251 - mae: 39.9251\n",
            "Epoch 234/500\n",
            "2/2 [==============================] - 0s 7ms/step - loss: 35.2806 - mae: 35.2806\n",
            "Epoch 235/500\n",
            "2/2 [==============================] - 0s 9ms/step - loss: 21.3316 - mae: 21.3316\n",
            "Epoch 236/500\n",
            "2/2 [==============================] - 0s 11ms/step - loss: 40.5481 - mae: 40.5481\n",
            "Epoch 237/500\n",
            "2/2 [==============================] - 0s 8ms/step - loss: 37.9954 - mae: 37.9954\n",
            "Epoch 238/500\n",
            "2/2 [==============================] - 0s 7ms/step - loss: 26.8410 - mae: 26.8410\n",
            "Epoch 239/500\n",
            "2/2 [==============================] - 0s 8ms/step - loss: 55.8228 - mae: 55.8228\n",
            "Epoch 240/500\n",
            "2/2 [==============================] - 0s 7ms/step - loss: 40.6126 - mae: 40.6126\n",
            "Epoch 241/500\n",
            "2/2 [==============================] - 0s 8ms/step - loss: 37.9073 - mae: 37.9073\n",
            "Epoch 242/500\n",
            "2/2 [==============================] - 0s 8ms/step - loss: 24.3227 - mae: 24.3227\n",
            "Epoch 243/500\n",
            "2/2 [==============================] - 0s 7ms/step - loss: 90.7113 - mae: 90.7113\n",
            "Epoch 244/500\n",
            "2/2 [==============================] - 0s 14ms/step - loss: 42.6729 - mae: 42.6729\n",
            "Epoch 245/500\n",
            "2/2 [==============================] - 0s 5ms/step - loss: 42.6568 - mae: 42.6568\n",
            "Epoch 246/500\n",
            "2/2 [==============================] - 0s 9ms/step - loss: 42.6359 - mae: 42.6359\n",
            "Epoch 247/500\n",
            "2/2 [==============================] - 0s 6ms/step - loss: 42.6074 - mae: 42.6074\n",
            "Epoch 248/500\n",
            "2/2 [==============================] - 0s 5ms/step - loss: 42.5757 - mae: 42.5757\n",
            "Epoch 249/500\n",
            "2/2 [==============================] - 0s 6ms/step - loss: 42.5305 - mae: 42.5305\n",
            "Epoch 250/500\n",
            "2/2 [==============================] - 0s 8ms/step - loss: 42.4611 - mae: 42.4611\n",
            "Epoch 251/500\n",
            "2/2 [==============================] - 0s 6ms/step - loss: 42.3651 - mae: 42.3651\n",
            "Epoch 252/500\n",
            "2/2 [==============================] - 0s 5ms/step - loss: 42.1821 - mae: 42.1821\n",
            "Epoch 253/500\n",
            "2/2 [==============================] - 0s 8ms/step - loss: 41.8923 - mae: 41.8923\n",
            "Epoch 254/500\n",
            "2/2 [==============================] - 0s 10ms/step - loss: 41.3347 - mae: 41.3347\n",
            "Epoch 255/500\n",
            "2/2 [==============================] - 0s 12ms/step - loss: 39.9031 - mae: 39.9031\n",
            "Epoch 256/500\n",
            "2/2 [==============================] - 0s 10ms/step - loss: 35.2808 - mae: 35.2808\n",
            "Epoch 257/500\n",
            "2/2 [==============================] - 0s 6ms/step - loss: 21.3338 - mae: 21.3338\n",
            "Epoch 258/500\n",
            "2/2 [==============================] - 0s 7ms/step - loss: 40.5201 - mae: 40.5201\n",
            "Epoch 259/500\n",
            "2/2 [==============================] - 0s 8ms/step - loss: 37.2157 - mae: 37.2157\n",
            "Epoch 260/500\n",
            "2/2 [==============================] - 0s 10ms/step - loss: 21.2896 - mae: 21.2896\n",
            "Epoch 261/500\n",
            "2/2 [==============================] - 0s 10ms/step - loss: 36.8959 - mae: 36.8959\n",
            "Epoch 262/500\n",
            "2/2 [==============================] - 0s 5ms/step - loss: 21.8175 - mae: 21.8175\n",
            "Epoch 263/500\n",
            "2/2 [==============================] - 0s 18ms/step - loss: 31.4301 - mae: 31.4301\n",
            "Epoch 264/500\n",
            "2/2 [==============================] - 0s 7ms/step - loss: 16.5747 - mae: 16.5747\n",
            "Epoch 265/500\n",
            "2/2 [==============================] - 0s 4ms/step - loss: 38.0247 - mae: 38.0247\n",
            "Epoch 266/500\n",
            "2/2 [==============================] - 0s 11ms/step - loss: 28.5068 - mae: 28.5068\n",
            "Epoch 267/500\n",
            "2/2 [==============================] - 0s 8ms/step - loss: 26.2835 - mae: 26.2835\n",
            "Epoch 268/500\n",
            "2/2 [==============================] - 0s 7ms/step - loss: 34.5753 - mae: 34.5753\n",
            "Epoch 269/500\n",
            "2/2 [==============================] - 0s 9ms/step - loss: 22.8490 - mae: 22.8490\n",
            "Epoch 270/500\n",
            "2/2 [==============================] - 0s 4ms/step - loss: 41.4317 - mae: 41.4317\n",
            "Epoch 271/500\n",
            "2/2 [==============================] - 0s 4ms/step - loss: 40.4428 - mae: 40.4428\n",
            "Epoch 272/500\n",
            "2/2 [==============================] - 0s 8ms/step - loss: 37.0508 - mae: 37.0508\n",
            "Epoch 273/500\n",
            "2/2 [==============================] - 0s 5ms/step - loss: 22.4825 - mae: 22.4825\n",
            "Epoch 274/500\n",
            "2/2 [==============================] - 0s 12ms/step - loss: 29.3808 - mae: 29.3808\n",
            "Epoch 275/500\n",
            "2/2 [==============================] - 0s 8ms/step - loss: 41.2062 - mae: 41.2062\n",
            "Epoch 276/500\n",
            "2/2 [==============================] - 0s 8ms/step - loss: 40.7456 - mae: 40.7456\n",
            "Epoch 277/500\n",
            "2/2 [==============================] - 0s 7ms/step - loss: 38.1397 - mae: 38.1397\n",
            "Epoch 278/500\n",
            "2/2 [==============================] - 0s 8ms/step - loss: 28.5554 - mae: 28.5554\n",
            "Epoch 279/500\n",
            "2/2 [==============================] - 0s 9ms/step - loss: 36.0482 - mae: 36.0482\n",
            "Epoch 280/500\n",
            "2/2 [==============================] - 0s 9ms/step - loss: 36.3411 - mae: 36.3411\n",
            "Epoch 281/500\n",
            "2/2 [==============================] - 0s 9ms/step - loss: 20.9901 - mae: 20.9901\n",
            "Epoch 282/500\n",
            "2/2 [==============================] - 0s 6ms/step - loss: 38.3003 - mae: 38.3003\n",
            "Epoch 283/500\n",
            "2/2 [==============================] - 0s 9ms/step - loss: 27.9991 - mae: 27.9991\n",
            "Epoch 284/500\n",
            "2/2 [==============================] - 0s 12ms/step - loss: 49.8524 - mae: 49.8524\n",
            "Epoch 285/500\n",
            "2/2 [==============================] - 0s 8ms/step - loss: 39.0324 - mae: 39.0324\n",
            "Epoch 286/500\n",
            "2/2 [==============================] - 0s 8ms/step - loss: 31.7044 - mae: 31.7044\n",
            "Epoch 287/500\n",
            "2/2 [==============================] - 0s 9ms/step - loss: 17.4807 - mae: 17.4807\n",
            "Epoch 288/500\n",
            "2/2 [==============================] - 0s 11ms/step - loss: 32.8200 - mae: 32.8200\n",
            "Epoch 289/500\n",
            "2/2 [==============================] - 0s 8ms/step - loss: 23.3122 - mae: 23.3122\n",
            "Epoch 290/500\n",
            "2/2 [==============================] - 0s 9ms/step - loss: 41.8944 - mae: 41.8944\n",
            "Epoch 291/500\n",
            "2/2 [==============================] - 0s 10ms/step - loss: 41.4158 - mae: 41.4158\n",
            "Epoch 292/500\n",
            "2/2 [==============================] - 0s 9ms/step - loss: 40.3581 - mae: 40.3581\n",
            "Epoch 293/500\n",
            "2/2 [==============================] - 0s 8ms/step - loss: 37.1883 - mae: 37.1883\n",
            "Epoch 294/500\n",
            "2/2 [==============================] - 0s 8ms/step - loss: 21.5395 - mae: 21.5395\n",
            "Epoch 295/500\n",
            "2/2 [==============================] - 0s 12ms/step - loss: 36.0289 - mae: 36.0289\n",
            "Epoch 296/500\n",
            "2/2 [==============================] - 0s 9ms/step - loss: 21.5343 - mae: 21.5343\n",
            "Epoch 297/500\n",
            "2/2 [==============================] - 0s 10ms/step - loss: 23.4933 - mae: 23.4933\n",
            "Epoch 298/500\n",
            "2/2 [==============================] - 0s 10ms/step - loss: 97.4153 - mae: 97.4153\n",
            "Epoch 299/500\n",
            "2/2 [==============================] - 0s 9ms/step - loss: 42.4862 - mae: 42.4862\n",
            "Epoch 300/500\n",
            "2/2 [==============================] - 0s 12ms/step - loss: 42.4159 - mae: 42.4159\n",
            "Epoch 301/500\n",
            "2/2 [==============================] - 0s 8ms/step - loss: 42.3155 - mae: 42.3155\n",
            "Epoch 302/500\n",
            "2/2 [==============================] - 0s 8ms/step - loss: 42.1612 - mae: 42.1612\n",
            "Epoch 303/500\n",
            "2/2 [==============================] - 0s 7ms/step - loss: 41.8882 - mae: 41.8882\n",
            "Epoch 304/500\n",
            "2/2 [==============================] - 0s 11ms/step - loss: 41.3525 - mae: 41.3525\n",
            "Epoch 305/500\n",
            "2/2 [==============================] - 0s 6ms/step - loss: 40.1500 - mae: 40.1500\n",
            "Epoch 306/500\n",
            "2/2 [==============================] - 0s 6ms/step - loss: 36.3910 - mae: 36.3910\n",
            "Epoch 307/500\n",
            "2/2 [==============================] - 0s 8ms/step - loss: 20.2194 - mae: 20.2194\n",
            "Epoch 308/500\n",
            "2/2 [==============================] - 0s 6ms/step - loss: 39.4501 - mae: 39.4501\n",
            "Epoch 309/500\n",
            "2/2 [==============================] - 0s 6ms/step - loss: 34.0871 - mae: 34.0871\n",
            "Epoch 310/500\n",
            "2/2 [==============================] - 0s 4ms/step - loss: 20.5046 - mae: 20.5046\n",
            "Epoch 311/500\n",
            "2/2 [==============================] - 0s 11ms/step - loss: 34.4543 - mae: 34.4543\n",
            "Epoch 312/500\n",
            "2/2 [==============================] - 0s 6ms/step - loss: 25.1283 - mae: 25.1283\n",
            "Epoch 313/500\n",
            "2/2 [==============================] - 0s 12ms/step - loss: 42.6813 - mae: 42.6813\n",
            "Epoch 314/500\n",
            "2/2 [==============================] - 0s 4ms/step - loss: 42.6795 - mae: 42.6795\n",
            "Epoch 315/500\n",
            "2/2 [==============================] - 0s 8ms/step - loss: 42.6764 - mae: 42.6764\n",
            "Epoch 316/500\n",
            "2/2 [==============================] - 0s 5ms/step - loss: 42.6732 - mae: 42.6732\n",
            "Epoch 317/500\n",
            "2/2 [==============================] - 0s 4ms/step - loss: 42.6689 - mae: 42.6689\n",
            "Epoch 318/500\n",
            "2/2 [==============================] - 0s 4ms/step - loss: 42.6661 - mae: 42.6661\n",
            "Epoch 319/500\n",
            "2/2 [==============================] - 0s 5ms/step - loss: 42.6623 - mae: 42.6623\n",
            "Epoch 320/500\n",
            "2/2 [==============================] - 0s 11ms/step - loss: 42.6580 - mae: 42.6580\n",
            "Epoch 321/500\n",
            "2/2 [==============================] - 0s 4ms/step - loss: 42.6539 - mae: 42.6539\n",
            "Epoch 322/500\n",
            "2/2 [==============================] - 0s 5ms/step - loss: 42.6499 - mae: 42.6499\n",
            "Epoch 323/500\n",
            "2/2 [==============================] - 0s 9ms/step - loss: 42.6443 - mae: 42.6443\n",
            "Epoch 324/500\n",
            "2/2 [==============================] - 0s 10ms/step - loss: 42.6378 - mae: 42.6378\n",
            "Epoch 325/500\n",
            "2/2 [==============================] - 0s 9ms/step - loss: 42.6301 - mae: 42.6301\n",
            "Epoch 326/500\n",
            "2/2 [==============================] - 0s 8ms/step - loss: 42.6215 - mae: 42.6215\n",
            "Epoch 327/500\n",
            "2/2 [==============================] - 0s 9ms/step - loss: 42.6104 - mae: 42.6104\n",
            "Epoch 328/500\n",
            "2/2 [==============================] - 0s 8ms/step - loss: 42.5986 - mae: 42.5986\n",
            "Epoch 329/500\n",
            "2/2 [==============================] - 0s 6ms/step - loss: 42.5820 - mae: 42.5820\n",
            "Epoch 330/500\n",
            "2/2 [==============================] - 0s 9ms/step - loss: 42.5579 - mae: 42.5579\n",
            "Epoch 331/500\n",
            "2/2 [==============================] - 0s 11ms/step - loss: 42.5163 - mae: 42.5163\n",
            "Epoch 332/500\n",
            "2/2 [==============================] - 0s 6ms/step - loss: 42.4437 - mae: 42.4437\n",
            "Epoch 333/500\n",
            "2/2 [==============================] - 0s 5ms/step - loss: 42.3110 - mae: 42.3110\n",
            "Epoch 334/500\n",
            "2/2 [==============================] - 0s 6ms/step - loss: 42.0676 - mae: 42.0676\n",
            "Epoch 335/500\n",
            "2/2 [==============================] - 0s 10ms/step - loss: 41.5114 - mae: 41.5114\n",
            "Epoch 336/500\n",
            "2/2 [==============================] - 0s 7ms/step - loss: 39.5547 - mae: 39.5547\n",
            "Epoch 337/500\n",
            "2/2 [==============================] - 0s 6ms/step - loss: 30.9230 - mae: 30.9230\n",
            "Epoch 338/500\n",
            "2/2 [==============================] - 0s 5ms/step - loss: 28.1691 - mae: 28.1691\n",
            "Epoch 339/500\n",
            "2/2 [==============================] - 0s 7ms/step - loss: 36.6273 - mae: 36.6273\n",
            "Epoch 340/500\n",
            "2/2 [==============================] - 0s 10ms/step - loss: 20.4549 - mae: 20.4549\n",
            "Epoch 341/500\n",
            "2/2 [==============================] - 0s 9ms/step - loss: 40.8569 - mae: 40.8569\n",
            "Epoch 342/500\n",
            "2/2 [==============================] - 0s 6ms/step - loss: 39.0773 - mae: 39.0773\n",
            "Epoch 343/500\n",
            "2/2 [==============================] - 0s 4ms/step - loss: 33.3269 - mae: 33.3269\n",
            "Epoch 344/500\n",
            "2/2 [==============================] - 0s 5ms/step - loss: 25.4955 - mae: 25.4955\n",
            "Epoch 345/500\n",
            "2/2 [==============================] - 0s 8ms/step - loss: 42.7051 - mae: 42.7051\n",
            "Epoch 346/500\n",
            "2/2 [==============================] - 0s 4ms/step - loss: 42.6890 - mae: 42.6890\n",
            "Epoch 347/500\n",
            "2/2 [==============================] - 0s 7ms/step - loss: 42.6750 - mae: 42.6750\n",
            "Epoch 348/500\n",
            "2/2 [==============================] - 0s 13ms/step - loss: 42.6626 - mae: 42.6626\n",
            "Epoch 349/500\n",
            "2/2 [==============================] - 0s 10ms/step - loss: 42.6487 - mae: 42.6487\n",
            "Epoch 350/500\n",
            "2/2 [==============================] - 0s 8ms/step - loss: 42.6283 - mae: 42.6283\n",
            "Epoch 351/500\n",
            "2/2 [==============================] - 0s 8ms/step - loss: 42.5933 - mae: 42.5933\n",
            "Epoch 352/500\n",
            "2/2 [==============================] - 0s 7ms/step - loss: 42.5452 - mae: 42.5452\n",
            "Epoch 353/500\n",
            "2/2 [==============================] - 0s 7ms/step - loss: 42.4602 - mae: 42.4602\n",
            "Epoch 354/500\n",
            "2/2 [==============================] - 0s 7ms/step - loss: 42.3001 - mae: 42.3001\n",
            "Epoch 355/500\n",
            "2/2 [==============================] - 0s 7ms/step - loss: 41.9546 - mae: 41.9546\n",
            "Epoch 356/500\n",
            "2/2 [==============================] - 0s 7ms/step - loss: 41.2156 - mae: 41.2156\n",
            "Epoch 357/500\n",
            "2/2 [==============================] - 0s 6ms/step - loss: 38.8327 - mae: 38.8327\n",
            "Epoch 358/500\n",
            "2/2 [==============================] - 0s 7ms/step - loss: 27.4070 - mae: 27.4070\n",
            "Epoch 359/500\n",
            "2/2 [==============================] - 0s 7ms/step - loss: 46.9979 - mae: 46.9979\n",
            "Epoch 360/500\n",
            "2/2 [==============================] - 0s 7ms/step - loss: 39.1838 - mae: 39.1838\n",
            "Epoch 361/500\n",
            "2/2 [==============================] - 0s 9ms/step - loss: 32.5297 - mae: 32.5297\n",
            "Epoch 362/500\n",
            "2/2 [==============================] - 0s 8ms/step - loss: 12.4467 - mae: 12.4467\n",
            "Epoch 363/500\n",
            "2/2 [==============================] - 0s 8ms/step - loss: 27.0573 - mae: 27.0573\n",
            "Epoch 364/500\n",
            "2/2 [==============================] - 0s 7ms/step - loss: 71.2623 - mae: 71.2623\n",
            "Epoch 365/500\n",
            "2/2 [==============================] - 0s 5ms/step - loss: 41.9172 - mae: 41.9172\n",
            "Epoch 366/500\n",
            "2/2 [==============================] - 0s 5ms/step - loss: 41.4794 - mae: 41.4794\n",
            "Epoch 367/500\n",
            "2/2 [==============================] - 0s 8ms/step - loss: 40.3729 - mae: 40.3729\n",
            "Epoch 368/500\n",
            "2/2 [==============================] - 0s 5ms/step - loss: 37.6164 - mae: 37.6164\n",
            "Epoch 369/500\n",
            "2/2 [==============================] - 0s 4ms/step - loss: 24.7177 - mae: 24.7177\n",
            "Epoch 370/500\n",
            "2/2 [==============================] - 0s 5ms/step - loss: 70.0884 - mae: 70.0884\n",
            "Epoch 371/500\n",
            "2/2 [==============================] - 0s 5ms/step - loss: 41.3645 - mae: 41.3645\n",
            "Epoch 372/500\n",
            "2/2 [==============================] - 0s 6ms/step - loss: 40.3364 - mae: 40.3364\n",
            "Epoch 373/500\n",
            "2/2 [==============================] - 0s 5ms/step - loss: 37.0059 - mae: 37.0059\n",
            "Epoch 374/500\n",
            "2/2 [==============================] - 0s 5ms/step - loss: 22.5847 - mae: 22.5847\n",
            "Epoch 375/500\n",
            "2/2 [==============================] - 0s 11ms/step - loss: 21.3964 - mae: 21.3964\n",
            "Epoch 376/500\n",
            "2/2 [==============================] - 0s 5ms/step - loss: 39.2859 - mae: 39.2859\n",
            "Epoch 377/500\n",
            "2/2 [==============================] - 0s 9ms/step - loss: 33.9548 - mae: 33.9548\n",
            "Epoch 378/500\n",
            "2/2 [==============================] - 0s 5ms/step - loss: 24.4608 - mae: 24.4608\n",
            "Epoch 379/500\n",
            "2/2 [==============================] - 0s 5ms/step - loss: 42.6183 - mae: 42.6183\n",
            "Epoch 380/500\n",
            "2/2 [==============================] - 0s 9ms/step - loss: 42.6141 - mae: 42.6141\n",
            "Epoch 381/500\n",
            "2/2 [==============================] - 0s 5ms/step - loss: 42.6101 - mae: 42.6101\n",
            "Epoch 382/500\n",
            "2/2 [==============================] - 0s 13ms/step - loss: 42.6059 - mae: 42.6059\n",
            "Epoch 383/500\n",
            "2/2 [==============================] - 0s 5ms/step - loss: 42.6004 - mae: 42.6004\n",
            "Epoch 384/500\n",
            "2/2 [==============================] - 0s 5ms/step - loss: 42.5966 - mae: 42.5966\n",
            "Epoch 385/500\n",
            "2/2 [==============================] - 0s 5ms/step - loss: 42.5917 - mae: 42.5917\n",
            "Epoch 386/500\n",
            "2/2 [==============================] - 0s 5ms/step - loss: 42.5845 - mae: 42.5845\n",
            "Epoch 387/500\n",
            "2/2 [==============================] - 0s 5ms/step - loss: 42.5766 - mae: 42.5766\n",
            "Epoch 388/500\n",
            "2/2 [==============================] - 0s 5ms/step - loss: 42.5672 - mae: 42.5672\n",
            "Epoch 389/500\n",
            "2/2 [==============================] - 0s 4ms/step - loss: 42.5561 - mae: 42.5561\n",
            "Epoch 390/500\n",
            "2/2 [==============================] - 0s 7ms/step - loss: 42.5415 - mae: 42.5415\n",
            "Epoch 391/500\n",
            "2/2 [==============================] - 0s 10ms/step - loss: 42.5253 - mae: 42.5253\n",
            "Epoch 392/500\n",
            "2/2 [==============================] - 0s 5ms/step - loss: 42.5050 - mae: 42.5050\n",
            "Epoch 393/500\n",
            "2/2 [==============================] - 0s 4ms/step - loss: 42.4791 - mae: 42.4791\n",
            "Epoch 394/500\n",
            "2/2 [==============================] - 0s 8ms/step - loss: 42.4445 - mae: 42.4445\n",
            "Epoch 395/500\n",
            "2/2 [==============================] - 0s 4ms/step - loss: 42.3904 - mae: 42.3904\n",
            "Epoch 396/500\n",
            "2/2 [==============================] - 0s 4ms/step - loss: 42.3173 - mae: 42.3173\n",
            "Epoch 397/500\n",
            "2/2 [==============================] - 0s 8ms/step - loss: 42.2131 - mae: 42.2131\n",
            "Epoch 398/500\n",
            "2/2 [==============================] - 0s 9ms/step - loss: 42.0337 - mae: 42.0337\n",
            "Epoch 399/500\n",
            "2/2 [==============================] - 0s 5ms/step - loss: 41.7245 - mae: 41.7245\n",
            "Epoch 400/500\n",
            "2/2 [==============================] - 0s 4ms/step - loss: 41.0883 - mae: 41.0883\n",
            "Epoch 401/500\n",
            "2/2 [==============================] - 0s 4ms/step - loss: 39.6812 - mae: 39.6812\n",
            "Epoch 402/500\n",
            "2/2 [==============================] - 0s 4ms/step - loss: 34.5173 - mae: 34.5173\n",
            "Epoch 403/500\n",
            "2/2 [==============================] - 0s 4ms/step - loss: 22.7119 - mae: 22.7119\n",
            "Epoch 404/500\n",
            "2/2 [==============================] - 0s 5ms/step - loss: 42.3344 - mae: 42.3344\n",
            "Epoch 405/500\n",
            "2/2 [==============================] - 0s 5ms/step - loss: 42.2393 - mae: 42.2393\n",
            "Epoch 406/500\n",
            "2/2 [==============================] - 0s 7ms/step - loss: 42.0856 - mae: 42.0856\n",
            "Epoch 407/500\n",
            "2/2 [==============================] - 0s 7ms/step - loss: 41.8357 - mae: 41.8357\n",
            "Epoch 408/500\n",
            "2/2 [==============================] - 0s 6ms/step - loss: 41.3198 - mae: 41.3198\n",
            "Epoch 409/500\n",
            "2/2 [==============================] - 0s 5ms/step - loss: 40.1634 - mae: 40.1634\n",
            "Epoch 410/500\n",
            "2/2 [==============================] - 0s 10ms/step - loss: 37.2106 - mae: 37.2106\n",
            "Epoch 411/500\n",
            "2/2 [==============================] - 0s 5ms/step - loss: 22.4754 - mae: 22.4754\n",
            "Epoch 412/500\n",
            "2/2 [==============================] - 0s 4ms/step - loss: 100.1398 - mae: 100.1398\n",
            "Epoch 413/500\n",
            "2/2 [==============================] - 0s 5ms/step - loss: 42.5100 - mae: 42.5100\n",
            "Epoch 414/500\n",
            "2/2 [==============================] - 0s 4ms/step - loss: 42.4873 - mae: 42.4873\n",
            "Epoch 415/500\n",
            "2/2 [==============================] - 0s 5ms/step - loss: 42.4561 - mae: 42.4561\n",
            "Epoch 416/500\n",
            "2/2 [==============================] - 0s 5ms/step - loss: 42.4022 - mae: 42.4022\n",
            "Epoch 417/500\n",
            "2/2 [==============================] - 0s 4ms/step - loss: 42.3188 - mae: 42.3188\n",
            "Epoch 418/500\n",
            "2/2 [==============================] - 0s 8ms/step - loss: 42.1876 - mae: 42.1876\n",
            "Epoch 419/500\n",
            "2/2 [==============================] - 0s 5ms/step - loss: 41.9308 - mae: 41.9308\n",
            "Epoch 420/500\n",
            "2/2 [==============================] - 0s 7ms/step - loss: 41.3280 - mae: 41.3280\n",
            "Epoch 421/500\n",
            "2/2 [==============================] - 0s 4ms/step - loss: 39.8128 - mae: 39.8128\n",
            "Epoch 422/500\n",
            "2/2 [==============================] - 0s 7ms/step - loss: 34.0243 - mae: 34.0243\n",
            "Epoch 423/500\n",
            "2/2 [==============================] - 0s 5ms/step - loss: 20.4144 - mae: 20.4144\n",
            "Epoch 424/500\n",
            "2/2 [==============================] - 0s 5ms/step - loss: 42.1563 - mae: 42.1563\n",
            "Epoch 425/500\n",
            "2/2 [==============================] - 0s 5ms/step - loss: 41.9300 - mae: 41.9300\n",
            "Epoch 426/500\n",
            "2/2 [==============================] - 0s 5ms/step - loss: 41.5196 - mae: 41.5196\n",
            "Epoch 427/500\n",
            "2/2 [==============================] - 0s 4ms/step - loss: 40.6464 - mae: 40.6464\n",
            "Epoch 428/500\n",
            "2/2 [==============================] - 0s 4ms/step - loss: 38.1371 - mae: 38.1371\n",
            "Epoch 429/500\n",
            "2/2 [==============================] - 0s 5ms/step - loss: 24.8864 - mae: 24.8864\n",
            "Epoch 430/500\n",
            "2/2 [==============================] - 0s 5ms/step - loss: 82.7795 - mae: 82.7795\n",
            "Epoch 431/500\n",
            "2/2 [==============================] - 0s 5ms/step - loss: 41.6253 - mae: 41.6253\n",
            "Epoch 432/500\n",
            "2/2 [==============================] - 0s 8ms/step - loss: 40.8989 - mae: 40.8989\n",
            "Epoch 433/500\n",
            "2/2 [==============================] - 0s 4ms/step - loss: 39.1016 - mae: 39.1016\n",
            "Epoch 434/500\n",
            "2/2 [==============================] - 0s 5ms/step - loss: 31.1386 - mae: 31.1386\n",
            "Epoch 435/500\n",
            "2/2 [==============================] - 0s 4ms/step - loss: 17.9120 - mae: 17.9120\n",
            "Epoch 436/500\n",
            "2/2 [==============================] - 0s 4ms/step - loss: 28.3941 - mae: 28.3941\n",
            "Epoch 437/500\n",
            "2/2 [==============================] - 0s 5ms/step - loss: 24.7765 - mae: 24.7765\n",
            "Epoch 438/500\n",
            "2/2 [==============================] - 0s 5ms/step - loss: 38.4398 - mae: 38.4398\n",
            "Epoch 439/500\n",
            "2/2 [==============================] - 0s 4ms/step - loss: 26.4751 - mae: 26.4751\n",
            "Epoch 440/500\n",
            "2/2 [==============================] - 0s 5ms/step - loss: 59.2702 - mae: 59.2702\n",
            "Epoch 441/500\n",
            "2/2 [==============================] - 0s 5ms/step - loss: 41.1290 - mae: 41.1290\n",
            "Epoch 442/500\n",
            "2/2 [==============================] - 0s 8ms/step - loss: 39.7745 - mae: 39.7745\n",
            "Epoch 443/500\n",
            "2/2 [==============================] - 0s 5ms/step - loss: 35.4367 - mae: 35.4367\n",
            "Epoch 444/500\n",
            "2/2 [==============================] - 0s 5ms/step - loss: 20.5124 - mae: 20.5124\n",
            "Epoch 445/500\n",
            "2/2 [==============================] - 0s 8ms/step - loss: 27.6791 - mae: 27.6791\n",
            "Epoch 446/500\n",
            "2/2 [==============================] - 0s 5ms/step - loss: 41.8524 - mae: 41.8524\n",
            "Epoch 447/500\n",
            "2/2 [==============================] - 0s 10ms/step - loss: 39.5958 - mae: 39.5958\n",
            "Epoch 448/500\n",
            "2/2 [==============================] - 0s 5ms/step - loss: 35.7185 - mae: 35.7185\n",
            "Epoch 449/500\n",
            "2/2 [==============================] - 0s 5ms/step - loss: 20.9079 - mae: 20.9079\n",
            "Epoch 450/500\n",
            "2/2 [==============================] - 0s 7ms/step - loss: 37.0488 - mae: 37.0488\n",
            "Epoch 451/500\n",
            "2/2 [==============================] - 0s 8ms/step - loss: 19.5474 - mae: 19.5474\n",
            "Epoch 452/500\n",
            "2/2 [==============================] - 0s 5ms/step - loss: 173.3115 - mae: 173.3115\n",
            "Epoch 453/500\n",
            "2/2 [==============================] - 0s 8ms/step - loss: 42.5604 - mae: 42.5604\n",
            "Epoch 454/500\n",
            "2/2 [==============================] - 0s 5ms/step - loss: 42.5588 - mae: 42.5588\n",
            "Epoch 455/500\n",
            "2/2 [==============================] - 0s 5ms/step - loss: 42.5569 - mae: 42.5569\n",
            "Epoch 456/500\n",
            "2/2 [==============================] - 0s 5ms/step - loss: 42.5557 - mae: 42.5557\n",
            "Epoch 457/500\n",
            "2/2 [==============================] - 0s 5ms/step - loss: 42.5537 - mae: 42.5537\n",
            "Epoch 458/500\n",
            "2/2 [==============================] - 0s 5ms/step - loss: 42.5523 - mae: 42.5523\n",
            "Epoch 459/500\n",
            "2/2 [==============================] - 0s 9ms/step - loss: 42.5496 - mae: 42.5496\n",
            "Epoch 460/500\n",
            "2/2 [==============================] - 0s 4ms/step - loss: 42.5481 - mae: 42.5481\n",
            "Epoch 461/500\n",
            "2/2 [==============================] - 0s 9ms/step - loss: 42.5459 - mae: 42.5459\n",
            "Epoch 462/500\n",
            "2/2 [==============================] - 0s 9ms/step - loss: 42.5430 - mae: 42.5430\n",
            "Epoch 463/500\n",
            "2/2 [==============================] - 0s 5ms/step - loss: 42.5403 - mae: 42.5403\n",
            "Epoch 464/500\n",
            "2/2 [==============================] - 0s 7ms/step - loss: 42.5379 - mae: 42.5379\n",
            "Epoch 465/500\n",
            "2/2 [==============================] - 0s 5ms/step - loss: 42.5349 - mae: 42.5349\n",
            "Epoch 466/500\n",
            "2/2 [==============================] - 0s 5ms/step - loss: 42.5306 - mae: 42.5306\n",
            "Epoch 467/500\n",
            "2/2 [==============================] - 0s 5ms/step - loss: 42.5244 - mae: 42.5244\n",
            "Epoch 468/500\n",
            "2/2 [==============================] - 0s 5ms/step - loss: 42.5164 - mae: 42.5164\n",
            "Epoch 469/500\n",
            "2/2 [==============================] - 0s 5ms/step - loss: 42.5049 - mae: 42.5049\n",
            "Epoch 470/500\n",
            "2/2 [==============================] - 0s 5ms/step - loss: 42.4896 - mae: 42.4896\n",
            "Epoch 471/500\n",
            "2/2 [==============================] - 0s 11ms/step - loss: 42.4675 - mae: 42.4675\n",
            "Epoch 472/500\n",
            "2/2 [==============================] - 0s 5ms/step - loss: 42.4400 - mae: 42.4400\n",
            "Epoch 473/500\n",
            "2/2 [==============================] - 0s 5ms/step - loss: 42.3962 - mae: 42.3962\n",
            "Epoch 474/500\n",
            "2/2 [==============================] - 0s 5ms/step - loss: 42.3196 - mae: 42.3196\n",
            "Epoch 475/500\n",
            "2/2 [==============================] - 0s 5ms/step - loss: 42.2101 - mae: 42.2101\n",
            "Epoch 476/500\n",
            "2/2 [==============================] - 0s 11ms/step - loss: 42.0303 - mae: 42.0303\n",
            "Epoch 477/500\n",
            "2/2 [==============================] - 0s 5ms/step - loss: 41.6229 - mae: 41.6229\n",
            "Epoch 478/500\n",
            "2/2 [==============================] - 0s 5ms/step - loss: 40.8007 - mae: 40.8007\n",
            "Epoch 479/500\n",
            "2/2 [==============================] - 0s 5ms/step - loss: 38.6965 - mae: 38.6965\n",
            "Epoch 480/500\n",
            "2/2 [==============================] - 0s 4ms/step - loss: 29.1818 - mae: 29.1818\n",
            "Epoch 481/500\n",
            "2/2 [==============================] - 0s 5ms/step - loss: 30.8423 - mae: 30.8423\n",
            "Epoch 482/500\n",
            "2/2 [==============================] - 0s 5ms/step - loss: 36.9193 - mae: 36.9193\n",
            "Epoch 483/500\n",
            "2/2 [==============================] - 0s 7ms/step - loss: 18.9500 - mae: 18.9500\n",
            "Epoch 484/500\n",
            "2/2 [==============================] - 0s 4ms/step - loss: 38.3783 - mae: 38.3783\n",
            "Epoch 485/500\n",
            "2/2 [==============================] - 0s 5ms/step - loss: 28.6883 - mae: 28.6883\n",
            "Epoch 486/500\n",
            "2/2 [==============================] - 0s 5ms/step - loss: 37.0771 - mae: 37.0771\n",
            "Epoch 487/500\n",
            "2/2 [==============================] - 0s 5ms/step - loss: 41.0358 - mae: 41.0358\n",
            "Epoch 488/500\n",
            "2/2 [==============================] - 0s 5ms/step - loss: 39.4872 - mae: 39.4872\n",
            "Epoch 489/500\n",
            "2/2 [==============================] - 0s 4ms/step - loss: 35.4881 - mae: 35.4881\n",
            "Epoch 490/500\n",
            "2/2 [==============================] - 0s 5ms/step - loss: 20.1766 - mae: 20.1766\n",
            "Epoch 491/500\n",
            "2/2 [==============================] - 0s 8ms/step - loss: 40.9636 - mae: 40.9636\n",
            "Epoch 492/500\n",
            "2/2 [==============================] - 0s 5ms/step - loss: 39.4359 - mae: 39.4359\n",
            "Epoch 493/500\n",
            "2/2 [==============================] - 0s 10ms/step - loss: 34.2988 - mae: 34.2988\n",
            "Epoch 494/500\n",
            "2/2 [==============================] - 0s 6ms/step - loss: 20.5245 - mae: 20.5245\n",
            "Epoch 495/500\n",
            "2/2 [==============================] - 0s 5ms/step - loss: 35.6135 - mae: 35.6135\n",
            "Epoch 496/500\n",
            "2/2 [==============================] - 0s 5ms/step - loss: 20.4816 - mae: 20.4816\n",
            "Epoch 497/500\n",
            "2/2 [==============================] - 0s 5ms/step - loss: 38.5459 - mae: 38.5459\n",
            "Epoch 498/500\n",
            "2/2 [==============================] - 0s 5ms/step - loss: 29.2957 - mae: 29.2957\n",
            "Epoch 499/500\n",
            "2/2 [==============================] - 0s 5ms/step - loss: 31.2172 - mae: 31.2172\n",
            "Epoch 500/500\n",
            "2/2 [==============================] - 0s 8ms/step - loss: 40.3113 - mae: 40.3113\n"
          ]
        },
        {
          "output_type": "execute_result",
          "data": {
            "text/plain": [
              "<keras.callbacks.History at 0x7fa9a9a809d0>"
            ]
          },
          "metadata": {},
          "execution_count": 56
        }
      ]
    },
    {
      "cell_type": "code",
      "source": [
        "# Make and plot predictions\n",
        "y_preds_4 = model_4.predict(X_test)\n",
        "plot_predictions(predictions=tf.reshape(y_preds_4, [10]))"
      ],
      "metadata": {
        "colab": {
          "base_uri": "https://localhost:8080/",
          "height": 446
        },
        "id": "BNFzRGd9VB6Z",
        "outputId": "60506f64-7a74-4d5e-ff76-aa40dda21139"
      },
      "execution_count": null,
      "outputs": [
        {
          "output_type": "stream",
          "name": "stdout",
          "text": [
            "1/1 [==============================] - 0s 95ms/step\n"
          ]
        },
        {
          "output_type": "display_data",
          "data": {
            "text/plain": [
              "<Figure size 720x504 with 1 Axes>"
            ],
            "image/png": "[encoded data removed]"
          },
          "metadata": {
            "needs_background": "light"
          }
        }
      ]
    },
    {
      "cell_type": "code",
      "source": [
        "# Check our model evaluation metrics\n",
        "mae_4 = mae(y_test, y_preds_4)\n",
        "mse_4 = mse(y_test, y_preds_4)\n",
        "mae_4, mse_4"
      ],
      "metadata": {
        "colab": {
          "base_uri": "https://localhost:8080/"
        },
        "id": "kXMu_yaIY_5i",
        "outputId": "a5cac383-ce1e-424f-81d8-46659cfc18e2"
      },
      "execution_count": null,
      "outputs": [
        {
          "output_type": "execute_result",
          "data": {
            "text/plain": [
              "(<tf.Tensor: shape=(), dtype=float32, numpy=71.46972>,\n",
              " <tf.Tensor: shape=(), dtype=float32, numpy=71.46972>)"
            ]
          },
          "metadata": {},
          "execution_count": 58
        }
      ]
    },
    {
      "cell_type": "markdown",
      "source": [
        "**Build ``Model 5``**\n",
        "  * 2 layers, trained for 500 epochs at a learning_rate of 0.01"
      ],
      "metadata": {
        "id": "RXyVikAaVZ_B"
      }
    },
    {
      "cell_type": "code",
      "source": [
        "tf.random.set_seed(42)\n",
        "\n",
        "# Build our model 5\n",
        "model_5 = tf.keras.Sequential([\n",
        "    tf.keras.layers.Dense(20),\n",
        "    tf.keras.layers.Dense(1)\n",
        "])\n",
        "\n",
        "# Compile our model 5\n",
        "model_5.compile(loss=tf.keras.losses.mae,\n",
        "                optimizer=tf.keras.optimizers.Adam(learning_rate=0.01),\n",
        "                metrics=[\"mae\"])\n",
        "\n",
        "# Fit our model 5\n",
        "model_5.fit(tf.expand_dims(X_train, axis=-1), y_train, epochs=500)"
      ],
      "metadata": {
        "id": "ntpmeGJGWbB-",
        "colab": {
          "base_uri": "https://localhost:8080/"
        },
        "outputId": "4dc913d3-9c41-45fc-b35d-5e514c5f4fea"
      },
      "execution_count": null,
      "outputs": [
        {
          "output_type": "stream",
          "name": "stdout",
          "text": [
            "Epoch 1/500\n",
            "2/2 [==============================] - 1s 7ms/step - loss: 17.1839 - mae: 17.1839\n",
            "Epoch 2/500\n",
            "2/2 [==============================] - 0s 8ms/step - loss: 8.3090 - mae: 8.3090\n",
            "Epoch 3/500\n",
            "2/2 [==============================] - 0s 6ms/step - loss: 1.1364 - mae: 1.1364\n",
            "Epoch 4/500\n",
            "2/2 [==============================] - 0s 7ms/step - loss: 7.0406 - mae: 7.0406\n",
            "Epoch 5/500\n",
            "2/2 [==============================] - 0s 6ms/step - loss: 7.7865 - mae: 7.7865\n",
            "Epoch 6/500\n",
            "2/2 [==============================] - 0s 5ms/step - loss: 5.5075 - mae: 5.5075\n",
            "Epoch 7/500\n",
            "2/2 [==============================] - 0s 5ms/step - loss: 1.6464 - mae: 1.6464\n",
            "Epoch 8/500\n",
            "2/2 [==============================] - 0s 7ms/step - loss: 2.2664 - mae: 2.2664\n",
            "Epoch 9/500\n",
            "2/2 [==============================] - 0s 4ms/step - loss: 2.7286 - mae: 2.7286\n",
            "Epoch 10/500\n",
            "2/2 [==============================] - 0s 10ms/step - loss: 1.1695 - mae: 1.1695\n",
            "Epoch 11/500\n",
            "2/2 [==============================] - 0s 5ms/step - loss: 1.5146 - mae: 1.5146\n",
            "Epoch 12/500\n",
            "2/2 [==============================] - 0s 7ms/step - loss: 1.9294 - mae: 1.9294\n",
            "Epoch 13/500\n",
            "2/2 [==============================] - 0s 5ms/step - loss: 0.6528 - mae: 0.6528\n",
            "Epoch 14/500\n",
            "2/2 [==============================] - 0s 9ms/step - loss: 1.0464 - mae: 1.0464\n",
            "Epoch 15/500\n",
            "2/2 [==============================] - 0s 4ms/step - loss: 0.4973 - mae: 0.4973\n",
            "Epoch 16/500\n",
            "2/2 [==============================] - 0s 5ms/step - loss: 0.8074 - mae: 0.8074\n",
            "Epoch 17/500\n",
            "2/2 [==============================] - 0s 4ms/step - loss: 0.3606 - mae: 0.3606\n",
            "Epoch 18/500\n",
            "2/2 [==============================] - 0s 5ms/step - loss: 0.8474 - mae: 0.8474\n",
            "Epoch 19/500\n",
            "2/2 [==============================] - 0s 5ms/step - loss: 0.2582 - mae: 0.2582\n",
            "Epoch 20/500\n",
            "2/2 [==============================] - 0s 5ms/step - loss: 1.3278 - mae: 1.3278\n",
            "Epoch 21/500\n",
            "2/2 [==============================] - 0s 10ms/step - loss: 0.7616 - mae: 0.7616\n",
            "Epoch 22/500\n",
            "2/2 [==============================] - 0s 5ms/step - loss: 1.0691 - mae: 1.0691\n",
            "Epoch 23/500\n",
            "2/2 [==============================] - 0s 8ms/step - loss: 1.7293 - mae: 1.7293\n",
            "Epoch 24/500\n",
            "2/2 [==============================] - 0s 10ms/step - loss: 0.7979 - mae: 0.7979\n",
            "Epoch 25/500\n",
            "2/2 [==============================] - 0s 4ms/step - loss: 1.1003 - mae: 1.1003\n",
            "Epoch 26/500\n",
            "2/2 [==============================] - 0s 5ms/step - loss: 1.4039 - mae: 1.4039\n",
            "Epoch 27/500\n",
            "2/2 [==============================] - 0s 8ms/step - loss: 0.4031 - mae: 0.4031\n",
            "Epoch 28/500\n",
            "2/2 [==============================] - 0s 10ms/step - loss: 1.3814 - mae: 1.3814\n",
            "Epoch 29/500\n",
            "2/2 [==============================] - 0s 10ms/step - loss: 0.8341 - mae: 0.8341\n",
            "Epoch 30/500\n",
            "2/2 [==============================] - 0s 5ms/step - loss: 1.1305 - mae: 1.1305\n",
            "Epoch 31/500\n",
            "2/2 [==============================] - 0s 5ms/step - loss: 1.5407 - mae: 1.5407\n",
            "Epoch 32/500\n",
            "2/2 [==============================] - 0s 5ms/step - loss: 0.4632 - mae: 0.4632\n",
            "Epoch 33/500\n",
            "2/2 [==============================] - 0s 4ms/step - loss: 1.2803 - mae: 1.2803\n",
            "Epoch 34/500\n",
            "2/2 [==============================] - 0s 8ms/step - loss: 0.9899 - mae: 0.9899\n",
            "Epoch 35/500\n",
            "2/2 [==============================] - 0s 4ms/step - loss: 0.6120 - mae: 0.6120\n",
            "Epoch 36/500\n",
            "2/2 [==============================] - 0s 4ms/step - loss: 0.8531 - mae: 0.8531\n",
            "Epoch 37/500\n",
            "2/2 [==============================] - 0s 8ms/step - loss: 0.3089 - mae: 0.3089\n",
            "Epoch 38/500\n",
            "2/2 [==============================] - 0s 5ms/step - loss: 0.3136 - mae: 0.3136\n",
            "Epoch 39/500\n",
            "2/2 [==============================] - 0s 4ms/step - loss: 0.2660 - mae: 0.2660\n",
            "Epoch 40/500\n",
            "2/2 [==============================] - 0s 5ms/step - loss: 0.6021 - mae: 0.6021\n",
            "Epoch 41/500\n",
            "2/2 [==============================] - 0s 5ms/step - loss: 0.4028 - mae: 0.4028\n",
            "Epoch 42/500\n",
            "2/2 [==============================] - 0s 5ms/step - loss: 0.3672 - mae: 0.3672\n",
            "Epoch 43/500\n",
            "2/2 [==============================] - 0s 4ms/step - loss: 0.3829 - mae: 0.3829\n",
            "Epoch 44/500\n",
            "2/2 [==============================] - 0s 8ms/step - loss: 0.0885 - mae: 0.0885\n",
            "Epoch 45/500\n",
            "2/2 [==============================] - 0s 6ms/step - loss: 0.2906 - mae: 0.2906\n",
            "Epoch 46/500\n",
            "2/2 [==============================] - 0s 5ms/step - loss: 0.1584 - mae: 0.1584\n",
            "Epoch 47/500\n",
            "2/2 [==============================] - 0s 5ms/step - loss: 0.4375 - mae: 0.4375\n",
            "Epoch 48/500\n",
            "2/2 [==============================] - 0s 4ms/step - loss: 0.3676 - mae: 0.3676\n",
            "Epoch 49/500\n",
            "2/2 [==============================] - 0s 4ms/step - loss: 0.2522 - mae: 0.2522\n",
            "Epoch 50/500\n",
            "2/2 [==============================] - 0s 5ms/step - loss: 0.5851 - mae: 0.5851\n",
            "Epoch 51/500\n",
            "2/2 [==============================] - 0s 5ms/step - loss: 0.2032 - mae: 0.2032\n",
            "Epoch 52/500\n",
            "2/2 [==============================] - 0s 5ms/step - loss: 0.1484 - mae: 0.1484\n",
            "Epoch 53/500\n",
            "2/2 [==============================] - 0s 8ms/step - loss: 0.3096 - mae: 0.3096\n",
            "Epoch 54/500\n",
            "2/2 [==============================] - 0s 6ms/step - loss: 0.2279 - mae: 0.2279\n",
            "Epoch 55/500\n",
            "2/2 [==============================] - 0s 5ms/step - loss: 0.1318 - mae: 0.1318\n",
            "Epoch 56/500\n",
            "2/2 [==============================] - 0s 5ms/step - loss: 0.2206 - mae: 0.2206\n",
            "Epoch 57/500\n",
            "2/2 [==============================] - 0s 5ms/step - loss: 0.3005 - mae: 0.3005\n",
            "Epoch 58/500\n",
            "2/2 [==============================] - 0s 8ms/step - loss: 0.0439 - mae: 0.0439\n",
            "Epoch 59/500\n",
            "2/2 [==============================] - 0s 4ms/step - loss: 0.1450 - mae: 0.1450\n",
            "Epoch 60/500\n",
            "2/2 [==============================] - 0s 5ms/step - loss: 0.0648 - mae: 0.0648\n",
            "Epoch 61/500\n",
            "2/2 [==============================] - 0s 5ms/step - loss: 0.0213 - mae: 0.0213\n",
            "Epoch 62/500\n",
            "2/2 [==============================] - 0s 4ms/step - loss: 0.3508 - mae: 0.3508\n",
            "Epoch 63/500\n",
            "2/2 [==============================] - 0s 8ms/step - loss: 0.1476 - mae: 0.1476\n",
            "Epoch 64/500\n",
            "2/2 [==============================] - 0s 8ms/step - loss: 0.2344 - mae: 0.2344\n",
            "Epoch 65/500\n",
            "2/2 [==============================] - 0s 9ms/step - loss: 0.2959 - mae: 0.2959\n",
            "Epoch 66/500\n",
            "2/2 [==============================] - 0s 10ms/step - loss: 0.0754 - mae: 0.0754\n",
            "Epoch 67/500\n",
            "2/2 [==============================] - 0s 5ms/step - loss: 0.4104 - mae: 0.4104\n",
            "Epoch 68/500\n",
            "2/2 [==============================] - 0s 5ms/step - loss: 0.1639 - mae: 0.1639\n",
            "Epoch 69/500\n",
            "2/2 [==============================] - 0s 6ms/step - loss: 0.9378 - mae: 0.9378\n",
            "Epoch 70/500\n",
            "2/2 [==============================] - 0s 4ms/step - loss: 0.3358 - mae: 0.3358\n",
            "Epoch 71/500\n",
            "2/2 [==============================] - 0s 5ms/step - loss: 0.9130 - mae: 0.9130\n",
            "Epoch 72/500\n",
            "2/2 [==============================] - 0s 5ms/step - loss: 0.3810 - mae: 0.3810\n",
            "Epoch 73/500\n",
            "2/2 [==============================] - 0s 6ms/step - loss: 0.8647 - mae: 0.8647\n",
            "Epoch 74/500\n",
            "2/2 [==============================] - 0s 7ms/step - loss: 0.3296 - mae: 0.3296\n",
            "Epoch 75/500\n",
            "2/2 [==============================] - 0s 4ms/step - loss: 1.2015 - mae: 1.2015\n",
            "Epoch 76/500\n",
            "2/2 [==============================] - 0s 10ms/step - loss: 0.6999 - mae: 0.6999\n",
            "Epoch 77/500\n",
            "2/2 [==============================] - 0s 4ms/step - loss: 1.0969 - mae: 1.0969\n",
            "Epoch 78/500\n",
            "2/2 [==============================] - 0s 5ms/step - loss: 1.5869 - mae: 1.5869\n",
            "Epoch 79/500\n",
            "2/2 [==============================] - 0s 4ms/step - loss: 0.5574 - mae: 0.5574\n",
            "Epoch 80/500\n",
            "2/2 [==============================] - 0s 4ms/step - loss: 0.8555 - mae: 0.8555\n",
            "Epoch 81/500\n",
            "2/2 [==============================] - 0s 6ms/step - loss: 0.3829 - mae: 0.3829\n",
            "Epoch 82/500\n",
            "2/2 [==============================] - 0s 5ms/step - loss: 1.1388 - mae: 1.1388\n",
            "Epoch 83/500\n",
            "2/2 [==============================] - 0s 5ms/step - loss: 0.9615 - mae: 0.9615\n",
            "Epoch 84/500\n",
            "2/2 [==============================] - 0s 11ms/step - loss: 0.5122 - mae: 0.5122\n",
            "Epoch 85/500\n",
            "2/2 [==============================] - 0s 5ms/step - loss: 0.4816 - mae: 0.4816\n",
            "Epoch 86/500\n",
            "2/2 [==============================] - 0s 4ms/step - loss: 0.7667 - mae: 0.7667\n",
            "Epoch 87/500\n",
            "2/2 [==============================] - 0s 4ms/step - loss: 0.6786 - mae: 0.6786\n",
            "Epoch 88/500\n",
            "2/2 [==============================] - 0s 4ms/step - loss: 0.7845 - mae: 0.7845\n",
            "Epoch 89/500\n",
            "2/2 [==============================] - 0s 5ms/step - loss: 1.1563 - mae: 1.1563\n",
            "Epoch 90/500\n",
            "2/2 [==============================] - 0s 5ms/step - loss: 0.3105 - mae: 0.3105\n",
            "Epoch 91/500\n",
            "2/2 [==============================] - 0s 4ms/step - loss: 1.5189 - mae: 1.5189\n",
            "Epoch 92/500\n",
            "2/2 [==============================] - 0s 5ms/step - loss: 1.1245 - mae: 1.1245\n",
            "Epoch 93/500\n",
            "2/2 [==============================] - 0s 9ms/step - loss: 0.6020 - mae: 0.6020\n",
            "Epoch 94/500\n",
            "2/2 [==============================] - 0s 9ms/step - loss: 1.0374 - mae: 1.0374\n",
            "Epoch 95/500\n",
            "2/2 [==============================] - 0s 8ms/step - loss: 0.2510 - mae: 0.2510\n",
            "Epoch 96/500\n",
            "2/2 [==============================] - 0s 9ms/step - loss: 1.4752 - mae: 1.4752\n",
            "Epoch 97/500\n",
            "2/2 [==============================] - 0s 7ms/step - loss: 1.0422 - mae: 1.0422\n",
            "Epoch 98/500\n",
            "2/2 [==============================] - 0s 12ms/step - loss: 0.6986 - mae: 0.6986\n",
            "Epoch 99/500\n",
            "2/2 [==============================] - 0s 9ms/step - loss: 1.1324 - mae: 1.1324\n",
            "Epoch 100/500\n",
            "2/2 [==============================] - 0s 6ms/step - loss: 0.3336 - mae: 0.3336\n",
            "Epoch 101/500\n",
            "2/2 [==============================] - 0s 8ms/step - loss: 1.3836 - mae: 1.3836\n",
            "Epoch 102/500\n",
            "2/2 [==============================] - 0s 7ms/step - loss: 0.9397 - mae: 0.9397\n",
            "Epoch 103/500\n",
            "2/2 [==============================] - 0s 11ms/step - loss: 0.7942 - mae: 0.7942\n",
            "Epoch 104/500\n",
            "2/2 [==============================] - 0s 7ms/step - loss: 1.1213 - mae: 1.1213\n",
            "Epoch 105/500\n",
            "2/2 [==============================] - 0s 7ms/step - loss: 0.2479 - mae: 0.2479\n",
            "Epoch 106/500\n",
            "2/2 [==============================] - 0s 8ms/step - loss: 1.6663 - mae: 1.6663\n",
            "Epoch 107/500\n",
            "2/2 [==============================] - 0s 8ms/step - loss: 1.3588 - mae: 1.3588\n",
            "Epoch 108/500\n",
            "2/2 [==============================] - 0s 7ms/step - loss: 0.2591 - mae: 0.2591\n",
            "Epoch 109/500\n",
            "2/2 [==============================] - 0s 9ms/step - loss: 0.6685 - mae: 0.6685\n",
            "Epoch 110/500\n",
            "2/2 [==============================] - 0s 7ms/step - loss: 0.2651 - mae: 0.2651\n",
            "Epoch 111/500\n",
            "2/2 [==============================] - 0s 10ms/step - loss: 0.2071 - mae: 0.2071\n",
            "Epoch 112/500\n",
            "2/2 [==============================] - 0s 6ms/step - loss: 0.5355 - mae: 0.5355\n",
            "Epoch 113/500\n",
            "2/2 [==============================] - 0s 6ms/step - loss: 0.4014 - mae: 0.4014\n",
            "Epoch 114/500\n",
            "2/2 [==============================] - 0s 10ms/step - loss: 0.3150 - mae: 0.3150\n",
            "Epoch 115/500\n",
            "2/2 [==============================] - 0s 9ms/step - loss: 0.4052 - mae: 0.4052\n",
            "Epoch 116/500\n",
            "2/2 [==============================] - 0s 9ms/step - loss: 0.4816 - mae: 0.4816\n",
            "Epoch 117/500\n",
            "2/2 [==============================] - 0s 7ms/step - loss: 0.3986 - mae: 0.3986\n",
            "Epoch 118/500\n",
            "2/2 [==============================] - 0s 8ms/step - loss: 0.2328 - mae: 0.2328\n",
            "Epoch 119/500\n",
            "2/2 [==============================] - 0s 8ms/step - loss: 0.5482 - mae: 0.5482\n",
            "Epoch 120/500\n",
            "2/2 [==============================] - 0s 13ms/step - loss: 0.2628 - mae: 0.2628\n",
            "Epoch 121/500\n",
            "2/2 [==============================] - 0s 10ms/step - loss: 1.0100 - mae: 1.0100\n",
            "Epoch 122/500\n",
            "2/2 [==============================] - 0s 8ms/step - loss: 0.4378 - mae: 0.4378\n",
            "Epoch 123/500\n",
            "2/2 [==============================] - 0s 9ms/step - loss: 0.4536 - mae: 0.4536\n",
            "Epoch 124/500\n",
            "2/2 [==============================] - 0s 16ms/step - loss: 0.3925 - mae: 0.3925\n",
            "Epoch 125/500\n",
            "2/2 [==============================] - 0s 6ms/step - loss: 0.3374 - mae: 0.3374\n",
            "Epoch 126/500\n",
            "2/2 [==============================] - 0s 5ms/step - loss: 0.3225 - mae: 0.3225\n",
            "Epoch 127/500\n",
            "2/2 [==============================] - 0s 6ms/step - loss: 0.5052 - mae: 0.5052\n",
            "Epoch 128/500\n",
            "2/2 [==============================] - 0s 6ms/step - loss: 0.3412 - mae: 0.3412\n",
            "Epoch 129/500\n",
            "2/2 [==============================] - 0s 14ms/step - loss: 0.3221 - mae: 0.3221\n",
            "Epoch 130/500\n",
            "2/2 [==============================] - 0s 5ms/step - loss: 0.5712 - mae: 0.5712\n",
            "Epoch 131/500\n",
            "2/2 [==============================] - 0s 7ms/step - loss: 0.4364 - mae: 0.4364\n",
            "Epoch 132/500\n",
            "2/2 [==============================] - 0s 5ms/step - loss: 0.2563 - mae: 0.2563\n",
            "Epoch 133/500\n",
            "2/2 [==============================] - 0s 4ms/step - loss: 0.4944 - mae: 0.4944\n",
            "Epoch 134/500\n",
            "2/2 [==============================] - 0s 4ms/step - loss: 0.3118 - mae: 0.3118\n",
            "Epoch 135/500\n",
            "2/2 [==============================] - 0s 6ms/step - loss: 0.4568 - mae: 0.4568\n",
            "Epoch 136/500\n",
            "2/2 [==============================] - 0s 4ms/step - loss: 0.3971 - mae: 0.3971\n",
            "Epoch 137/500\n",
            "2/2 [==============================] - 0s 6ms/step - loss: 0.2791 - mae: 0.2791\n",
            "Epoch 138/500\n",
            "2/2 [==============================] - 0s 11ms/step - loss: 0.6515 - mae: 0.6515\n",
            "Epoch 139/500\n",
            "2/2 [==============================] - 0s 6ms/step - loss: 0.1765 - mae: 0.1765\n",
            "Epoch 140/500\n",
            "2/2 [==============================] - 0s 6ms/step - loss: 0.6869 - mae: 0.6869\n",
            "Epoch 141/500\n",
            "2/2 [==============================] - 0s 6ms/step - loss: 0.2188 - mae: 0.2188\n",
            "Epoch 142/500\n",
            "2/2 [==============================] - 0s 5ms/step - loss: 0.1853 - mae: 0.1853\n",
            "Epoch 143/500\n",
            "2/2 [==============================] - 0s 5ms/step - loss: 0.6519 - mae: 0.6519\n",
            "Epoch 144/500\n",
            "2/2 [==============================] - 0s 5ms/step - loss: 0.1766 - mae: 0.1766\n",
            "Epoch 145/500\n",
            "2/2 [==============================] - 0s 5ms/step - loss: 0.0444 - mae: 0.0444\n",
            "Epoch 146/500\n",
            "2/2 [==============================] - 0s 5ms/step - loss: 0.1450 - mae: 0.1450\n",
            "Epoch 147/500\n",
            "2/2 [==============================] - 0s 5ms/step - loss: 0.1664 - mae: 0.1664\n",
            "Epoch 148/500\n",
            "2/2 [==============================] - 0s 11ms/step - loss: 0.1864 - mae: 0.1864\n",
            "Epoch 149/500\n",
            "2/2 [==============================] - 0s 8ms/step - loss: 0.3008 - mae: 0.3008\n",
            "Epoch 150/500\n",
            "2/2 [==============================] - 0s 5ms/step - loss: 0.3348 - mae: 0.3348\n",
            "Epoch 151/500\n",
            "2/2 [==============================] - 0s 5ms/step - loss: 0.1795 - mae: 0.1795\n",
            "Epoch 152/500\n",
            "2/2 [==============================] - 0s 6ms/step - loss: 0.1297 - mae: 0.1297\n",
            "Epoch 153/500\n",
            "2/2 [==============================] - 0s 7ms/step - loss: 0.4000 - mae: 0.4000\n",
            "Epoch 154/500\n",
            "2/2 [==============================] - 0s 6ms/step - loss: 0.2390 - mae: 0.2390\n",
            "Epoch 155/500\n",
            "2/2 [==============================] - 0s 6ms/step - loss: 0.5060 - mae: 0.5060\n",
            "Epoch 156/500\n",
            "2/2 [==============================] - 0s 6ms/step - loss: 0.3697 - mae: 0.3697\n",
            "Epoch 157/500\n",
            "2/2 [==============================] - 0s 4ms/step - loss: 0.2813 - mae: 0.2813\n",
            "Epoch 158/500\n",
            "2/2 [==============================] - 0s 5ms/step - loss: 0.5428 - mae: 0.5428\n",
            "Epoch 159/500\n",
            "2/2 [==============================] - 0s 5ms/step - loss: 0.1419 - mae: 0.1419\n",
            "Epoch 160/500\n",
            "2/2 [==============================] - 0s 5ms/step - loss: 0.1844 - mae: 0.1844\n",
            "Epoch 161/500\n",
            "2/2 [==============================] - 0s 5ms/step - loss: 0.2826 - mae: 0.2826\n",
            "Epoch 162/500\n",
            "2/2 [==============================] - 0s 5ms/step - loss: 0.1490 - mae: 0.1490\n",
            "Epoch 163/500\n",
            "2/2 [==============================] - 0s 5ms/step - loss: 0.2668 - mae: 0.2668\n",
            "Epoch 164/500\n",
            "2/2 [==============================] - 0s 5ms/step - loss: 0.1063 - mae: 0.1063\n",
            "Epoch 165/500\n",
            "2/2 [==============================] - 0s 6ms/step - loss: 0.1801 - mae: 0.1801\n",
            "Epoch 166/500\n",
            "2/2 [==============================] - 0s 5ms/step - loss: 0.4776 - mae: 0.4776\n",
            "Epoch 167/500\n",
            "2/2 [==============================] - 0s 5ms/step - loss: 0.2855 - mae: 0.2855\n",
            "Epoch 168/500\n",
            "2/2 [==============================] - 0s 11ms/step - loss: 0.5763 - mae: 0.5763\n",
            "Epoch 169/500\n",
            "2/2 [==============================] - 0s 5ms/step - loss: 0.1839 - mae: 0.1839\n",
            "Epoch 170/500\n",
            "2/2 [==============================] - 0s 12ms/step - loss: 0.1995 - mae: 0.1995\n",
            "Epoch 171/500\n",
            "2/2 [==============================] - 0s 5ms/step - loss: 0.3104 - mae: 0.3104\n",
            "Epoch 172/500\n",
            "2/2 [==============================] - 0s 5ms/step - loss: 0.6426 - mae: 0.6426\n",
            "Epoch 173/500\n",
            "2/2 [==============================] - 0s 5ms/step - loss: 0.5043 - mae: 0.5043\n",
            "Epoch 174/500\n",
            "2/2 [==============================] - 0s 5ms/step - loss: 0.5756 - mae: 0.5756\n",
            "Epoch 175/500\n",
            "2/2 [==============================] - 0s 9ms/step - loss: 0.3328 - mae: 0.3328\n",
            "Epoch 176/500\n",
            "2/2 [==============================] - 0s 5ms/step - loss: 0.6442 - mae: 0.6442\n",
            "Epoch 177/500\n",
            "2/2 [==============================] - 0s 4ms/step - loss: 0.2151 - mae: 0.2151\n",
            "Epoch 178/500\n",
            "2/2 [==============================] - 0s 5ms/step - loss: 0.8943 - mae: 0.8943\n",
            "Epoch 179/500\n",
            "2/2 [==============================] - 0s 4ms/step - loss: 0.3396 - mae: 0.3396\n",
            "Epoch 180/500\n",
            "2/2 [==============================] - 0s 5ms/step - loss: 1.0419 - mae: 1.0419\n",
            "Epoch 181/500\n",
            "2/2 [==============================] - 0s 9ms/step - loss: 0.6606 - mae: 0.6606\n",
            "Epoch 182/500\n",
            "2/2 [==============================] - 0s 5ms/step - loss: 0.9552 - mae: 0.9552\n",
            "Epoch 183/500\n",
            "2/2 [==============================] - 0s 11ms/step - loss: 1.4163 - mae: 1.4163\n",
            "Epoch 184/500\n",
            "2/2 [==============================] - 0s 5ms/step - loss: 0.4900 - mae: 0.4900\n",
            "Epoch 185/500\n",
            "2/2 [==============================] - 0s 4ms/step - loss: 1.3666 - mae: 1.3666\n",
            "Epoch 186/500\n",
            "2/2 [==============================] - 0s 7ms/step - loss: 1.2743 - mae: 1.2743\n",
            "Epoch 187/500\n",
            "2/2 [==============================] - 0s 5ms/step - loss: 0.1559 - mae: 0.1559\n",
            "Epoch 188/500\n",
            "2/2 [==============================] - 0s 7ms/step - loss: 0.6156 - mae: 0.6156\n",
            "Epoch 189/500\n",
            "2/2 [==============================] - 0s 5ms/step - loss: 0.2715 - mae: 0.2715\n",
            "Epoch 190/500\n",
            "2/2 [==============================] - 0s 4ms/step - loss: 0.1847 - mae: 0.1847\n",
            "Epoch 191/500\n",
            "2/2 [==============================] - 0s 5ms/step - loss: 0.6806 - mae: 0.6806\n",
            "Epoch 192/500\n",
            "2/2 [==============================] - 0s 5ms/step - loss: 0.2124 - mae: 0.2124\n",
            "Epoch 193/500\n",
            "2/2 [==============================] - 0s 5ms/step - loss: 0.9728 - mae: 0.9728\n",
            "Epoch 194/500\n",
            "2/2 [==============================] - 0s 6ms/step - loss: 0.3634 - mae: 0.3634\n",
            "Epoch 195/500\n",
            "2/2 [==============================] - 0s 5ms/step - loss: 0.9795 - mae: 0.9795\n",
            "Epoch 196/500\n",
            "2/2 [==============================] - 0s 9ms/step - loss: 0.5814 - mae: 0.5814\n",
            "Epoch 197/500\n",
            "2/2 [==============================] - 0s 5ms/step - loss: 0.4611 - mae: 0.4611\n",
            "Epoch 198/500\n",
            "2/2 [==============================] - 0s 5ms/step - loss: 0.1564 - mae: 0.1564\n",
            "Epoch 199/500\n",
            "2/2 [==============================] - 0s 5ms/step - loss: 0.5042 - mae: 0.5042\n",
            "Epoch 200/500\n",
            "2/2 [==============================] - 0s 10ms/step - loss: 0.5580 - mae: 0.5580\n",
            "Epoch 201/500\n",
            "2/2 [==============================] - 0s 5ms/step - loss: 0.6422 - mae: 0.6422\n",
            "Epoch 202/500\n",
            "2/2 [==============================] - 0s 7ms/step - loss: 0.5593 - mae: 0.5593\n",
            "Epoch 203/500\n",
            "2/2 [==============================] - 0s 6ms/step - loss: 0.7080 - mae: 0.7080\n",
            "Epoch 204/500\n",
            "2/2 [==============================] - 0s 8ms/step - loss: 0.4797 - mae: 0.4797\n",
            "Epoch 205/500\n",
            "2/2 [==============================] - 0s 6ms/step - loss: 0.6352 - mae: 0.6352\n",
            "Epoch 206/500\n",
            "2/2 [==============================] - 0s 5ms/step - loss: 0.5314 - mae: 0.5314\n",
            "Epoch 207/500\n",
            "2/2 [==============================] - 0s 10ms/step - loss: 0.5104 - mae: 0.5104\n",
            "Epoch 208/500\n",
            "2/2 [==============================] - 0s 5ms/step - loss: 0.8716 - mae: 0.8716\n",
            "Epoch 209/500\n",
            "2/2 [==============================] - 0s 5ms/step - loss: 1.0541 - mae: 1.0541\n",
            "Epoch 210/500\n",
            "2/2 [==============================] - 0s 5ms/step - loss: 0.1734 - mae: 0.1734\n",
            "Epoch 211/500\n",
            "2/2 [==============================] - 0s 4ms/step - loss: 0.4413 - mae: 0.4413\n",
            "Epoch 212/500\n",
            "2/2 [==============================] - 0s 4ms/step - loss: 0.6225 - mae: 0.6225\n",
            "Epoch 213/500\n",
            "2/2 [==============================] - 0s 5ms/step - loss: 0.8172 - mae: 0.8172\n",
            "Epoch 214/500\n",
            "2/2 [==============================] - 0s 4ms/step - loss: 0.2104 - mae: 0.2104\n",
            "Epoch 215/500\n",
            "2/2 [==============================] - 0s 5ms/step - loss: 0.2209 - mae: 0.2209\n",
            "Epoch 216/500\n",
            "2/2 [==============================] - 0s 5ms/step - loss: 0.5929 - mae: 0.5929\n",
            "Epoch 217/500\n",
            "2/2 [==============================] - 0s 7ms/step - loss: 0.0787 - mae: 0.0787\n",
            "Epoch 218/500\n",
            "2/2 [==============================] - 0s 4ms/step - loss: 0.2265 - mae: 0.2265\n",
            "Epoch 219/500\n",
            "2/2 [==============================] - 0s 6ms/step - loss: 0.2973 - mae: 0.2973\n",
            "Epoch 220/500\n",
            "2/2 [==============================] - 0s 4ms/step - loss: 0.4379 - mae: 0.4379\n",
            "Epoch 221/500\n",
            "2/2 [==============================] - 0s 5ms/step - loss: 0.2300 - mae: 0.2300\n",
            "Epoch 222/500\n",
            "2/2 [==============================] - 0s 5ms/step - loss: 0.8234 - mae: 0.8234\n",
            "Epoch 223/500\n",
            "2/2 [==============================] - 0s 11ms/step - loss: 0.2490 - mae: 0.2490\n",
            "Epoch 224/500\n",
            "2/2 [==============================] - 0s 5ms/step - loss: 1.0242 - mae: 1.0242\n",
            "Epoch 225/500\n",
            "2/2 [==============================] - 0s 12ms/step - loss: 0.4814 - mae: 0.4814\n",
            "Epoch 226/500\n",
            "2/2 [==============================] - 0s 5ms/step - loss: 0.8052 - mae: 0.8052\n",
            "Epoch 227/500\n",
            "2/2 [==============================] - 0s 4ms/step - loss: 0.4363 - mae: 0.4363\n",
            "Epoch 228/500\n",
            "2/2 [==============================] - 0s 12ms/step - loss: 0.5253 - mae: 0.5253\n",
            "Epoch 229/500\n",
            "2/2 [==============================] - 0s 5ms/step - loss: 0.1473 - mae: 0.1473\n",
            "Epoch 230/500\n",
            "2/2 [==============================] - 0s 5ms/step - loss: 0.7085 - mae: 0.7085\n",
            "Epoch 231/500\n",
            "2/2 [==============================] - 0s 13ms/step - loss: 0.0977 - mae: 0.0977\n",
            "Epoch 232/500\n",
            "2/2 [==============================] - 0s 5ms/step - loss: 0.2229 - mae: 0.2229\n",
            "Epoch 233/500\n",
            "2/2 [==============================] - 0s 6ms/step - loss: 0.1632 - mae: 0.1632\n",
            "Epoch 234/500\n",
            "2/2 [==============================] - 0s 4ms/step - loss: 0.2501 - mae: 0.2501\n",
            "Epoch 235/500\n",
            "2/2 [==============================] - 0s 5ms/step - loss: 0.1265 - mae: 0.1265\n",
            "Epoch 236/500\n",
            "2/2 [==============================] - 0s 5ms/step - loss: 0.2594 - mae: 0.2594\n",
            "Epoch 237/500\n",
            "2/2 [==============================] - 0s 4ms/step - loss: 0.1753 - mae: 0.1753\n",
            "Epoch 238/500\n",
            "2/2 [==============================] - 0s 4ms/step - loss: 0.1564 - mae: 0.1564\n",
            "Epoch 239/500\n",
            "2/2 [==============================] - 0s 5ms/step - loss: 0.1737 - mae: 0.1737\n",
            "Epoch 240/500\n",
            "2/2 [==============================] - 0s 9ms/step - loss: 0.2616 - mae: 0.2616\n",
            "Epoch 241/500\n",
            "2/2 [==============================] - 0s 5ms/step - loss: 0.1285 - mae: 0.1285\n",
            "Epoch 242/500\n",
            "2/2 [==============================] - 0s 11ms/step - loss: 0.1368 - mae: 0.1368\n",
            "Epoch 243/500\n",
            "2/2 [==============================] - 0s 5ms/step - loss: 0.2202 - mae: 0.2202\n",
            "Epoch 244/500\n",
            "2/2 [==============================] - 0s 5ms/step - loss: 0.4373 - mae: 0.4373\n",
            "Epoch 245/500\n",
            "2/2 [==============================] - 0s 12ms/step - loss: 0.2550 - mae: 0.2550\n",
            "Epoch 246/500\n",
            "2/2 [==============================] - 0s 5ms/step - loss: 0.1740 - mae: 0.1740\n",
            "Epoch 247/500\n",
            "2/2 [==============================] - 0s 5ms/step - loss: 0.5196 - mae: 0.5196\n",
            "Epoch 248/500\n",
            "2/2 [==============================] - 0s 5ms/step - loss: 0.3813 - mae: 0.3813\n",
            "Epoch 249/500\n",
            "2/2 [==============================] - 0s 5ms/step - loss: 0.2804 - mae: 0.2804\n",
            "Epoch 250/500\n",
            "2/2 [==============================] - 0s 6ms/step - loss: 0.2211 - mae: 0.2211\n",
            "Epoch 251/500\n",
            "2/2 [==============================] - 0s 4ms/step - loss: 0.1609 - mae: 0.1609\n",
            "Epoch 252/500\n",
            "2/2 [==============================] - 0s 5ms/step - loss: 0.2309 - mae: 0.2309\n",
            "Epoch 253/500\n",
            "2/2 [==============================] - 0s 5ms/step - loss: 0.3000 - mae: 0.3000\n",
            "Epoch 254/500\n",
            "2/2 [==============================] - 0s 5ms/step - loss: 0.1676 - mae: 0.1676\n",
            "Epoch 255/500\n",
            "2/2 [==============================] - 0s 5ms/step - loss: 0.6310 - mae: 0.6310\n",
            "Epoch 256/500\n",
            "2/2 [==============================] - 0s 5ms/step - loss: 0.2626 - mae: 0.2626\n",
            "Epoch 257/500\n",
            "2/2 [==============================] - 0s 4ms/step - loss: 0.2553 - mae: 0.2553\n",
            "Epoch 258/500\n",
            "2/2 [==============================] - 0s 7ms/step - loss: 0.3663 - mae: 0.3663\n",
            "Epoch 259/500\n",
            "2/2 [==============================] - 0s 8ms/step - loss: 0.5654 - mae: 0.5654\n",
            "Epoch 260/500\n",
            "2/2 [==============================] - 0s 16ms/step - loss: 0.3910 - mae: 0.3910\n",
            "Epoch 261/500\n",
            "2/2 [==============================] - 0s 5ms/step - loss: 0.4602 - mae: 0.4602\n",
            "Epoch 262/500\n",
            "2/2 [==============================] - 0s 5ms/step - loss: 0.1248 - mae: 0.1248\n",
            "Epoch 263/500\n",
            "2/2 [==============================] - 0s 4ms/step - loss: 0.0723 - mae: 0.0723\n",
            "Epoch 264/500\n",
            "2/2 [==============================] - 0s 6ms/step - loss: 0.1484 - mae: 0.1484\n",
            "Epoch 265/500\n",
            "2/2 [==============================] - 0s 7ms/step - loss: 0.3916 - mae: 0.3916\n",
            "Epoch 266/500\n",
            "2/2 [==============================] - 0s 5ms/step - loss: 0.1202 - mae: 0.1202\n",
            "Epoch 267/500\n",
            "2/2 [==============================] - 0s 6ms/step - loss: 0.9730 - mae: 0.9730\n",
            "Epoch 268/500\n",
            "2/2 [==============================] - 0s 6ms/step - loss: 0.4268 - mae: 0.4268\n",
            "Epoch 269/500\n",
            "2/2 [==============================] - 0s 8ms/step - loss: 0.2805 - mae: 0.2805\n",
            "Epoch 270/500\n",
            "2/2 [==============================] - 0s 7ms/step - loss: 0.4828 - mae: 0.4828\n",
            "Epoch 271/500\n",
            "2/2 [==============================] - 0s 5ms/step - loss: 0.3113 - mae: 0.3113\n",
            "Epoch 272/500\n",
            "2/2 [==============================] - 0s 5ms/step - loss: 0.1206 - mae: 0.1206\n",
            "Epoch 273/500\n",
            "2/2 [==============================] - 0s 5ms/step - loss: 0.2258 - mae: 0.2258\n",
            "Epoch 274/500\n",
            "2/2 [==============================] - 0s 7ms/step - loss: 0.2404 - mae: 0.2404\n",
            "Epoch 275/500\n",
            "2/2 [==============================] - 0s 8ms/step - loss: 0.6780 - mae: 0.6780\n",
            "Epoch 276/500\n",
            "2/2 [==============================] - 0s 6ms/step - loss: 0.7463 - mae: 0.7463\n",
            "Epoch 277/500\n",
            "2/2 [==============================] - 0s 5ms/step - loss: 0.4105 - mae: 0.4105\n",
            "Epoch 278/500\n",
            "2/2 [==============================] - 0s 4ms/step - loss: 0.7189 - mae: 0.7189\n",
            "Epoch 279/500\n",
            "2/2 [==============================] - 0s 6ms/step - loss: 0.2380 - mae: 0.2380\n",
            "Epoch 280/500\n",
            "2/2 [==============================] - 0s 7ms/step - loss: 0.2239 - mae: 0.2239\n",
            "Epoch 281/500\n",
            "2/2 [==============================] - 0s 5ms/step - loss: 0.5587 - mae: 0.5587\n",
            "Epoch 282/500\n",
            "2/2 [==============================] - 0s 5ms/step - loss: 0.1657 - mae: 0.1657\n",
            "Epoch 283/500\n",
            "2/2 [==============================] - 0s 8ms/step - loss: 0.1459 - mae: 0.1459\n",
            "Epoch 284/500\n",
            "2/2 [==============================] - 0s 9ms/step - loss: 0.3165 - mae: 0.3165\n",
            "Epoch 285/500\n",
            "2/2 [==============================] - 0s 5ms/step - loss: 0.8109 - mae: 0.8109\n",
            "Epoch 286/500\n",
            "2/2 [==============================] - 0s 4ms/step - loss: 0.9265 - mae: 0.9265\n",
            "Epoch 287/500\n",
            "2/2 [==============================] - 0s 4ms/step - loss: 0.2408 - mae: 0.2408\n",
            "Epoch 288/500\n",
            "2/2 [==============================] - 0s 5ms/step - loss: 0.3551 - mae: 0.3551\n",
            "Epoch 289/500\n",
            "2/2 [==============================] - 0s 5ms/step - loss: 0.2131 - mae: 0.2131\n",
            "Epoch 290/500\n",
            "2/2 [==============================] - 0s 6ms/step - loss: 0.5103 - mae: 0.5103\n",
            "Epoch 291/500\n",
            "2/2 [==============================] - 0s 6ms/step - loss: 0.3391 - mae: 0.3391\n",
            "Epoch 292/500\n",
            "2/2 [==============================] - 0s 5ms/step - loss: 0.3612 - mae: 0.3612\n",
            "Epoch 293/500\n",
            "2/2 [==============================] - 0s 10ms/step - loss: 0.3459 - mae: 0.3459\n",
            "Epoch 294/500\n",
            "2/2 [==============================] - 0s 5ms/step - loss: 0.1833 - mae: 0.1833\n",
            "Epoch 295/500\n",
            "2/2 [==============================] - 0s 4ms/step - loss: 0.8240 - mae: 0.8240\n",
            "Epoch 296/500\n",
            "2/2 [==============================] - 0s 10ms/step - loss: 0.3005 - mae: 0.3005\n",
            "Epoch 297/500\n",
            "2/2 [==============================] - 0s 5ms/step - loss: 1.1185 - mae: 1.1185\n",
            "Epoch 298/500\n",
            "2/2 [==============================] - 0s 4ms/step - loss: 0.7492 - mae: 0.7492\n",
            "Epoch 299/500\n",
            "2/2 [==============================] - 0s 6ms/step - loss: 0.8524 - mae: 0.8524\n",
            "Epoch 300/500\n",
            "2/2 [==============================] - 0s 5ms/step - loss: 1.2158 - mae: 1.2158\n",
            "Epoch 301/500\n",
            "2/2 [==============================] - 0s 5ms/step - loss: 0.3724 - mae: 0.3724\n",
            "Epoch 302/500\n",
            "2/2 [==============================] - 0s 5ms/step - loss: 1.1713 - mae: 1.1713\n",
            "Epoch 303/500\n",
            "2/2 [==============================] - 0s 4ms/step - loss: 0.7734 - mae: 0.7734\n",
            "Epoch 304/500\n",
            "2/2 [==============================] - 0s 5ms/step - loss: 0.8122 - mae: 0.8122\n",
            "Epoch 305/500\n",
            "2/2 [==============================] - 0s 5ms/step - loss: 1.2894 - mae: 1.2894\n",
            "Epoch 306/500\n",
            "2/2 [==============================] - 0s 5ms/step - loss: 0.4708 - mae: 0.4708\n",
            "Epoch 307/500\n",
            "2/2 [==============================] - 0s 6ms/step - loss: 1.0010 - mae: 1.0010\n",
            "Epoch 308/500\n",
            "2/2 [==============================] - 0s 5ms/step - loss: 0.6818 - mae: 0.6818\n",
            "Epoch 309/500\n",
            "2/2 [==============================] - 0s 5ms/step - loss: 0.8085 - mae: 0.8085\n",
            "Epoch 310/500\n",
            "2/2 [==============================] - 0s 5ms/step - loss: 1.1232 - mae: 1.1232\n",
            "Epoch 311/500\n",
            "2/2 [==============================] - 0s 4ms/step - loss: 0.3463 - mae: 0.3463\n",
            "Epoch 312/500\n",
            "2/2 [==============================] - 0s 5ms/step - loss: 0.8321 - mae: 0.8321\n",
            "Epoch 313/500\n",
            "2/2 [==============================] - 0s 5ms/step - loss: 0.2654 - mae: 0.2654\n",
            "Epoch 314/500\n",
            "2/2 [==============================] - 0s 5ms/step - loss: 1.2626 - mae: 1.2626\n",
            "Epoch 315/500\n",
            "2/2 [==============================] - 0s 11ms/step - loss: 0.9494 - mae: 0.9494\n",
            "Epoch 316/500\n",
            "2/2 [==============================] - 0s 5ms/step - loss: 0.6322 - mae: 0.6322\n",
            "Epoch 317/500\n",
            "2/2 [==============================] - 0s 5ms/step - loss: 0.8374 - mae: 0.8374\n",
            "Epoch 318/500\n",
            "2/2 [==============================] - 0s 12ms/step - loss: 0.3251 - mae: 0.3251\n",
            "Epoch 319/500\n",
            "2/2 [==============================] - 0s 6ms/step - loss: 0.4689 - mae: 0.4689\n",
            "Epoch 320/500\n",
            "2/2 [==============================] - 0s 6ms/step - loss: 0.6389 - mae: 0.6389\n",
            "Epoch 321/500\n",
            "2/2 [==============================] - 0s 5ms/step - loss: 0.7717 - mae: 0.7717\n",
            "Epoch 322/500\n",
            "2/2 [==============================] - 0s 6ms/step - loss: 0.3163 - mae: 0.3163\n",
            "Epoch 323/500\n",
            "2/2 [==============================] - 0s 4ms/step - loss: 0.3219 - mae: 0.3219\n",
            "Epoch 324/500\n",
            "2/2 [==============================] - 0s 5ms/step - loss: 0.1757 - mae: 0.1757\n",
            "Epoch 325/500\n",
            "2/2 [==============================] - 0s 5ms/step - loss: 0.1101 - mae: 0.1101\n",
            "Epoch 326/500\n",
            "2/2 [==============================] - 0s 4ms/step - loss: 0.2761 - mae: 0.2761\n",
            "Epoch 327/500\n",
            "2/2 [==============================] - 0s 5ms/step - loss: 0.0795 - mae: 0.0795\n",
            "Epoch 328/500\n",
            "2/2 [==============================] - 0s 4ms/step - loss: 0.2650 - mae: 0.2650\n",
            "Epoch 329/500\n",
            "2/2 [==============================] - 0s 5ms/step - loss: 0.3800 - mae: 0.3800\n",
            "Epoch 330/500\n",
            "2/2 [==============================] - 0s 5ms/step - loss: 0.1592 - mae: 0.1592\n",
            "Epoch 331/500\n",
            "2/2 [==============================] - 0s 4ms/step - loss: 0.6494 - mae: 0.6494\n",
            "Epoch 332/500\n",
            "2/2 [==============================] - 0s 5ms/step - loss: 0.2085 - mae: 0.2085\n",
            "Epoch 333/500\n",
            "2/2 [==============================] - 0s 5ms/step - loss: 0.2052 - mae: 0.2052\n",
            "Epoch 334/500\n",
            "2/2 [==============================] - 0s 4ms/step - loss: 0.5238 - mae: 0.5238\n",
            "Epoch 335/500\n",
            "2/2 [==============================] - 0s 5ms/step - loss: 0.2141 - mae: 0.2141\n",
            "Epoch 336/500\n",
            "2/2 [==============================] - 0s 8ms/step - loss: 0.0974 - mae: 0.0974\n",
            "Epoch 337/500\n",
            "2/2 [==============================] - 0s 5ms/step - loss: 0.1084 - mae: 0.1084\n",
            "Epoch 338/500\n",
            "2/2 [==============================] - 0s 5ms/step - loss: 0.3505 - mae: 0.3505\n",
            "Epoch 339/500\n",
            "2/2 [==============================] - 0s 5ms/step - loss: 0.0460 - mae: 0.0460\n",
            "Epoch 340/500\n",
            "2/2 [==============================] - 0s 5ms/step - loss: 0.2090 - mae: 0.2090\n",
            "Epoch 341/500\n",
            "2/2 [==============================] - 0s 5ms/step - loss: 0.3499 - mae: 0.3499\n",
            "Epoch 342/500\n",
            "2/2 [==============================] - 0s 11ms/step - loss: 0.2312 - mae: 0.2312\n",
            "Epoch 343/500\n",
            "2/2 [==============================] - 0s 5ms/step - loss: 0.5675 - mae: 0.5675\n",
            "Epoch 344/500\n",
            "2/2 [==============================] - 0s 5ms/step - loss: 0.2048 - mae: 0.2048\n",
            "Epoch 345/500\n",
            "2/2 [==============================] - 0s 4ms/step - loss: 0.4792 - mae: 0.4792\n",
            "Epoch 346/500\n",
            "2/2 [==============================] - 0s 5ms/step - loss: 0.5163 - mae: 0.5163\n",
            "Epoch 347/500\n",
            "2/2 [==============================] - 0s 8ms/step - loss: 0.4096 - mae: 0.4096\n",
            "Epoch 348/500\n",
            "2/2 [==============================] - 0s 5ms/step - loss: 0.2791 - mae: 0.2791\n",
            "Epoch 349/500\n",
            "2/2 [==============================] - 0s 12ms/step - loss: 0.2907 - mae: 0.2907\n",
            "Epoch 350/500\n",
            "2/2 [==============================] - 0s 5ms/step - loss: 0.0171 - mae: 0.0171\n",
            "Epoch 351/500\n",
            "2/2 [==============================] - 0s 5ms/step - loss: 0.5164 - mae: 0.5164\n",
            "Epoch 352/500\n",
            "2/2 [==============================] - 0s 10ms/step - loss: 0.3332 - mae: 0.3332\n",
            "Epoch 353/500\n",
            "2/2 [==============================] - 0s 5ms/step - loss: 0.2934 - mae: 0.2934\n",
            "Epoch 354/500\n",
            "2/2 [==============================] - 0s 9ms/step - loss: 0.4474 - mae: 0.4474\n",
            "Epoch 355/500\n",
            "2/2 [==============================] - 0s 5ms/step - loss: 0.2542 - mae: 0.2542\n",
            "Epoch 356/500\n",
            "2/2 [==============================] - 0s 8ms/step - loss: 0.7164 - mae: 0.7164\n",
            "Epoch 357/500\n",
            "2/2 [==============================] - 0s 5ms/step - loss: 0.2748 - mae: 0.2748\n",
            "Epoch 358/500\n",
            "2/2 [==============================] - 0s 5ms/step - loss: 0.8428 - mae: 0.8428\n",
            "Epoch 359/500\n",
            "2/2 [==============================] - 0s 13ms/step - loss: 0.3109 - mae: 0.3109\n",
            "Epoch 360/500\n",
            "2/2 [==============================] - 0s 5ms/step - loss: 0.7473 - mae: 0.7473\n",
            "Epoch 361/500\n",
            "2/2 [==============================] - 0s 5ms/step - loss: 0.2814 - mae: 0.2814\n",
            "Epoch 362/500\n",
            "2/2 [==============================] - 0s 7ms/step - loss: 0.7466 - mae: 0.7466\n",
            "Epoch 363/500\n",
            "2/2 [==============================] - 0s 5ms/step - loss: 0.2960 - mae: 0.2960\n",
            "Epoch 364/500\n",
            "2/2 [==============================] - 0s 5ms/step - loss: 0.7844 - mae: 0.7844\n",
            "Epoch 365/500\n",
            "2/2 [==============================] - 0s 6ms/step - loss: 0.2179 - mae: 0.2179\n",
            "Epoch 366/500\n",
            "2/2 [==============================] - 0s 5ms/step - loss: 1.1836 - mae: 1.1836\n",
            "Epoch 367/500\n",
            "2/2 [==============================] - 0s 5ms/step - loss: 0.6942 - mae: 0.6942\n",
            "Epoch 368/500\n",
            "2/2 [==============================] - 0s 5ms/step - loss: 0.9770 - mae: 0.9770\n",
            "Epoch 369/500\n",
            "2/2 [==============================] - 0s 4ms/step - loss: 1.4460 - mae: 1.4460\n",
            "Epoch 370/500\n",
            "2/2 [==============================] - 0s 5ms/step - loss: 0.5785 - mae: 0.5785\n",
            "Epoch 371/500\n",
            "2/2 [==============================] - 0s 4ms/step - loss: 0.5287 - mae: 0.5287\n",
            "Epoch 372/500\n",
            "2/2 [==============================] - 0s 4ms/step - loss: 0.2514 - mae: 0.2514\n",
            "Epoch 373/500\n",
            "2/2 [==============================] - 0s 5ms/step - loss: 0.4445 - mae: 0.4445\n",
            "Epoch 374/500\n",
            "2/2 [==============================] - 0s 5ms/step - loss: 0.3569 - mae: 0.3569\n",
            "Epoch 375/500\n",
            "2/2 [==============================] - 0s 7ms/step - loss: 0.2723 - mae: 0.2723\n",
            "Epoch 376/500\n",
            "2/2 [==============================] - 0s 4ms/step - loss: 0.4140 - mae: 0.4140\n",
            "Epoch 377/500\n",
            "2/2 [==============================] - 0s 4ms/step - loss: 0.2124 - mae: 0.2124\n",
            "Epoch 378/500\n",
            "2/2 [==============================] - 0s 5ms/step - loss: 0.0448 - mae: 0.0448\n",
            "Epoch 379/500\n",
            "2/2 [==============================] - 0s 5ms/step - loss: 0.3584 - mae: 0.3584\n",
            "Epoch 380/500\n",
            "2/2 [==============================] - 0s 5ms/step - loss: 0.1163 - mae: 0.1163\n",
            "Epoch 381/500\n",
            "2/2 [==============================] - 0s 5ms/step - loss: 0.0877 - mae: 0.0877\n",
            "Epoch 382/500\n",
            "2/2 [==============================] - 0s 12ms/step - loss: 0.1596 - mae: 0.1596\n",
            "Epoch 383/500\n",
            "2/2 [==============================] - 0s 5ms/step - loss: 0.4706 - mae: 0.4706\n",
            "Epoch 384/500\n",
            "2/2 [==============================] - 0s 5ms/step - loss: 0.3492 - mae: 0.3492\n",
            "Epoch 385/500\n",
            "2/2 [==============================] - 0s 12ms/step - loss: 0.3851 - mae: 0.3851\n",
            "Epoch 386/500\n",
            "2/2 [==============================] - 0s 5ms/step - loss: 0.2068 - mae: 0.2068\n",
            "Epoch 387/500\n",
            "2/2 [==============================] - 0s 5ms/step - loss: 0.1093 - mae: 0.1093\n",
            "Epoch 388/500\n",
            "2/2 [==============================] - 0s 5ms/step - loss: 0.4169 - mae: 0.4169\n",
            "Epoch 389/500\n",
            "2/2 [==============================] - 0s 4ms/step - loss: 0.5001 - mae: 0.5001\n",
            "Epoch 390/500\n",
            "2/2 [==============================] - 0s 5ms/step - loss: 0.4086 - mae: 0.4086\n",
            "Epoch 391/500\n",
            "2/2 [==============================] - 0s 5ms/step - loss: 0.3164 - mae: 0.3164\n",
            "Epoch 392/500\n",
            "2/2 [==============================] - 0s 5ms/step - loss: 0.1707 - mae: 0.1707\n",
            "Epoch 393/500\n",
            "2/2 [==============================] - 0s 5ms/step - loss: 0.1535 - mae: 0.1535\n",
            "Epoch 394/500\n",
            "2/2 [==============================] - 0s 6ms/step - loss: 0.2440 - mae: 0.2440\n",
            "Epoch 395/500\n",
            "2/2 [==============================] - 0s 5ms/step - loss: 0.2308 - mae: 0.2308\n",
            "Epoch 396/500\n",
            "2/2 [==============================] - 0s 5ms/step - loss: 0.0503 - mae: 0.0503\n",
            "Epoch 397/500\n",
            "2/2 [==============================] - 0s 5ms/step - loss: 0.1101 - mae: 0.1101\n",
            "Epoch 398/500\n",
            "2/2 [==============================] - 0s 4ms/step - loss: 0.0235 - mae: 0.0235\n",
            "Epoch 399/500\n",
            "2/2 [==============================] - 0s 5ms/step - loss: 0.2340 - mae: 0.2340\n",
            "Epoch 400/500\n",
            "2/2 [==============================] - 0s 5ms/step - loss: 0.2996 - mae: 0.2996\n",
            "Epoch 401/500\n",
            "2/2 [==============================] - 0s 11ms/step - loss: 0.1927 - mae: 0.1927\n",
            "Epoch 402/500\n",
            "2/2 [==============================] - 0s 5ms/step - loss: 0.4185 - mae: 0.4185\n",
            "Epoch 403/500\n",
            "2/2 [==============================] - 0s 4ms/step - loss: 0.4789 - mae: 0.4789\n",
            "Epoch 404/500\n",
            "2/2 [==============================] - 0s 12ms/step - loss: 0.3458 - mae: 0.3458\n",
            "Epoch 405/500\n",
            "2/2 [==============================] - 0s 6ms/step - loss: 0.2789 - mae: 0.2789\n",
            "Epoch 406/500\n",
            "2/2 [==============================] - 0s 5ms/step - loss: 0.4611 - mae: 0.4611\n",
            "Epoch 407/500\n",
            "2/2 [==============================] - 0s 7ms/step - loss: 0.3202 - mae: 0.3202\n",
            "Epoch 408/500\n",
            "2/2 [==============================] - 0s 5ms/step - loss: 0.1728 - mae: 0.1728\n",
            "Epoch 409/500\n",
            "2/2 [==============================] - 0s 5ms/step - loss: 0.0841 - mae: 0.0841\n",
            "Epoch 410/500\n",
            "2/2 [==============================] - 0s 5ms/step - loss: 0.1547 - mae: 0.1547\n",
            "Epoch 411/500\n",
            "2/2 [==============================] - 0s 12ms/step - loss: 0.2546 - mae: 0.2546\n",
            "Epoch 412/500\n",
            "2/2 [==============================] - 0s 5ms/step - loss: 0.5503 - mae: 0.5503\n",
            "Epoch 413/500\n",
            "2/2 [==============================] - 0s 19ms/step - loss: 0.3908 - mae: 0.3908\n",
            "Epoch 414/500\n",
            "2/2 [==============================] - 0s 6ms/step - loss: 0.2707 - mae: 0.2707\n",
            "Epoch 415/500\n",
            "2/2 [==============================] - 0s 6ms/step - loss: 0.2367 - mae: 0.2367\n",
            "Epoch 416/500\n",
            "2/2 [==============================] - 0s 5ms/step - loss: 0.1845 - mae: 0.1845\n",
            "Epoch 417/500\n",
            "2/2 [==============================] - 0s 5ms/step - loss: 0.1386 - mae: 0.1386\n",
            "Epoch 418/500\n",
            "2/2 [==============================] - 0s 17ms/step - loss: 0.1584 - mae: 0.1584\n",
            "Epoch 419/500\n",
            "2/2 [==============================] - 0s 6ms/step - loss: 0.3641 - mae: 0.3641\n",
            "Epoch 420/500\n",
            "2/2 [==============================] - 0s 6ms/step - loss: 0.1222 - mae: 0.1222\n",
            "Epoch 421/500\n",
            "2/2 [==============================] - 0s 5ms/step - loss: 0.6313 - mae: 0.6313\n",
            "Epoch 422/500\n",
            "2/2 [==============================] - 0s 5ms/step - loss: 0.1623 - mae: 0.1623\n",
            "Epoch 423/500\n",
            "2/2 [==============================] - 0s 5ms/step - loss: 0.1218 - mae: 0.1218\n",
            "Epoch 424/500\n",
            "2/2 [==============================] - 0s 5ms/step - loss: 0.2767 - mae: 0.2767\n",
            "Epoch 425/500\n",
            "2/2 [==============================] - 0s 6ms/step - loss: 0.6548 - mae: 0.6548\n",
            "Epoch 426/500\n",
            "2/2 [==============================] - 0s 5ms/step - loss: 0.5393 - mae: 0.5393\n",
            "Epoch 427/500\n",
            "2/2 [==============================] - 0s 5ms/step - loss: 0.7641 - mae: 0.7641\n",
            "Epoch 428/500\n",
            "2/2 [==============================] - 0s 5ms/step - loss: 0.9619 - mae: 0.9619\n",
            "Epoch 429/500\n",
            "2/2 [==============================] - 0s 5ms/step - loss: 0.1564 - mae: 0.1564\n",
            "Epoch 430/500\n",
            "2/2 [==============================] - 0s 5ms/step - loss: 0.2664 - mae: 0.2664\n",
            "Epoch 431/500\n",
            "2/2 [==============================] - 0s 5ms/step - loss: 0.1349 - mae: 0.1349\n",
            "Epoch 432/500\n",
            "2/2 [==============================] - 0s 5ms/step - loss: 0.1931 - mae: 0.1931\n",
            "Epoch 433/500\n",
            "2/2 [==============================] - 0s 6ms/step - loss: 0.2959 - mae: 0.2959\n",
            "Epoch 434/500\n",
            "2/2 [==============================] - 0s 4ms/step - loss: 0.6574 - mae: 0.6574\n",
            "Epoch 435/500\n",
            "2/2 [==============================] - 0s 4ms/step - loss: 0.7301 - mae: 0.7301\n",
            "Epoch 436/500\n",
            "2/2 [==============================] - 0s 4ms/step - loss: 0.4056 - mae: 0.4056\n",
            "Epoch 437/500\n",
            "2/2 [==============================] - 0s 5ms/step - loss: 0.7578 - mae: 0.7578\n",
            "Epoch 438/500\n",
            "2/2 [==============================] - 0s 4ms/step - loss: 0.0911 - mae: 0.0911\n",
            "Epoch 439/500\n",
            "2/2 [==============================] - 0s 4ms/step - loss: 0.1497 - mae: 0.1497\n",
            "Epoch 440/500\n",
            "2/2 [==============================] - 0s 5ms/step - loss: 0.2509 - mae: 0.2509\n",
            "Epoch 441/500\n",
            "2/2 [==============================] - 0s 5ms/step - loss: 0.0616 - mae: 0.0616\n",
            "Epoch 442/500\n",
            "2/2 [==============================] - 0s 5ms/step - loss: 0.4021 - mae: 0.4021\n",
            "Epoch 443/500\n",
            "2/2 [==============================] - 0s 5ms/step - loss: 0.1991 - mae: 0.1991\n",
            "Epoch 444/500\n",
            "2/2 [==============================] - 0s 4ms/step - loss: 0.6589 - mae: 0.6589\n",
            "Epoch 445/500\n",
            "2/2 [==============================] - 0s 5ms/step - loss: 0.1544 - mae: 0.1544\n",
            "Epoch 446/500\n",
            "2/2 [==============================] - 0s 5ms/step - loss: 0.9693 - mae: 0.9693\n",
            "Epoch 447/500\n",
            "2/2 [==============================] - 0s 4ms/step - loss: 0.4775 - mae: 0.4775\n",
            "Epoch 448/500\n",
            "2/2 [==============================] - 0s 4ms/step - loss: 0.6946 - mae: 0.6946\n",
            "Epoch 449/500\n",
            "2/2 [==============================] - 0s 4ms/step - loss: 0.4068 - mae: 0.4068\n",
            "Epoch 450/500\n",
            "2/2 [==============================] - 0s 4ms/step - loss: 0.2961 - mae: 0.2961\n",
            "Epoch 451/500\n",
            "2/2 [==============================] - 0s 14ms/step - loss: 0.3719 - mae: 0.3719\n",
            "Epoch 452/500\n",
            "2/2 [==============================] - 0s 4ms/step - loss: 0.1960 - mae: 0.1960\n",
            "Epoch 453/500\n",
            "2/2 [==============================] - 0s 6ms/step - loss: 0.8211 - mae: 0.8211\n",
            "Epoch 454/500\n",
            "2/2 [==============================] - 0s 4ms/step - loss: 0.2921 - mae: 0.2921\n",
            "Epoch 455/500\n",
            "2/2 [==============================] - 0s 5ms/step - loss: 1.0169 - mae: 1.0169\n",
            "Epoch 456/500\n",
            "2/2 [==============================] - 0s 11ms/step - loss: 0.5820 - mae: 0.5820\n",
            "Epoch 457/500\n",
            "2/2 [==============================] - 0s 5ms/step - loss: 0.8734 - mae: 0.8734\n",
            "Epoch 458/500\n",
            "2/2 [==============================] - 0s 5ms/step - loss: 1.2393 - mae: 1.2393\n",
            "Epoch 459/500\n",
            "2/2 [==============================] - 0s 4ms/step - loss: 0.4241 - mae: 0.4241\n",
            "Epoch 460/500\n",
            "2/2 [==============================] - 0s 5ms/step - loss: 1.0589 - mae: 1.0589\n",
            "Epoch 461/500\n",
            "2/2 [==============================] - 0s 5ms/step - loss: 0.7951 - mae: 0.7951\n",
            "Epoch 462/500\n",
            "2/2 [==============================] - 0s 5ms/step - loss: 0.6001 - mae: 0.6001\n",
            "Epoch 463/500\n",
            "2/2 [==============================] - 0s 4ms/step - loss: 0.7513 - mae: 0.7513\n",
            "Epoch 464/500\n",
            "2/2 [==============================] - 0s 5ms/step - loss: 0.3511 - mae: 0.3511\n",
            "Epoch 465/500\n",
            "2/2 [==============================] - 0s 4ms/step - loss: 0.3590 - mae: 0.3590\n",
            "Epoch 466/500\n",
            "2/2 [==============================] - 0s 4ms/step - loss: 0.1165 - mae: 0.1165\n",
            "Epoch 467/500\n",
            "2/2 [==============================] - 0s 4ms/step - loss: 0.0427 - mae: 0.0427\n",
            "Epoch 468/500\n",
            "2/2 [==============================] - 0s 5ms/step - loss: 0.0625 - mae: 0.0625\n",
            "Epoch 469/500\n",
            "2/2 [==============================] - 0s 4ms/step - loss: 0.2276 - mae: 0.2276\n",
            "Epoch 470/500\n",
            "2/2 [==============================] - 0s 5ms/step - loss: 0.2275 - mae: 0.2275\n",
            "Epoch 471/500\n",
            "2/2 [==============================] - 0s 11ms/step - loss: 0.1410 - mae: 0.1410\n",
            "Epoch 472/500\n",
            "2/2 [==============================] - 0s 4ms/step - loss: 0.0840 - mae: 0.0840\n",
            "Epoch 473/500\n",
            "2/2 [==============================] - 0s 4ms/step - loss: 0.0956 - mae: 0.0956\n",
            "Epoch 474/500\n",
            "2/2 [==============================] - 0s 5ms/step - loss: 0.3245 - mae: 0.3245\n",
            "Epoch 475/500\n",
            "2/2 [==============================] - 0s 4ms/step - loss: 0.0547 - mae: 0.0547\n",
            "Epoch 476/500\n",
            "2/2 [==============================] - 0s 5ms/step - loss: 0.2483 - mae: 0.2483\n",
            "Epoch 477/500\n",
            "2/2 [==============================] - 0s 4ms/step - loss: 0.3410 - mae: 0.3410\n",
            "Epoch 478/500\n",
            "2/2 [==============================] - 0s 5ms/step - loss: 0.2354 - mae: 0.2354\n",
            "Epoch 479/500\n",
            "2/2 [==============================] - 0s 5ms/step - loss: 0.6184 - mae: 0.6184\n",
            "Epoch 480/500\n",
            "2/2 [==============================] - 0s 4ms/step - loss: 0.1952 - mae: 0.1952\n",
            "Epoch 481/500\n",
            "2/2 [==============================] - 0s 5ms/step - loss: 1.0331 - mae: 1.0331\n",
            "Epoch 482/500\n",
            "2/2 [==============================] - 0s 4ms/step - loss: 0.5276 - mae: 0.5276\n",
            "Epoch 483/500\n",
            "2/2 [==============================] - 0s 4ms/step - loss: 0.6101 - mae: 0.6101\n",
            "Epoch 484/500\n",
            "2/2 [==============================] - 0s 4ms/step - loss: 0.3873 - mae: 0.3873\n",
            "Epoch 485/500\n",
            "2/2 [==============================] - 0s 5ms/step - loss: 0.4174 - mae: 0.4174\n",
            "Epoch 486/500\n",
            "2/2 [==============================] - 0s 5ms/step - loss: 0.1561 - mae: 0.1561\n",
            "Epoch 487/500\n",
            "2/2 [==============================] - 0s 5ms/step - loss: 0.1331 - mae: 0.1331\n",
            "Epoch 488/500\n",
            "2/2 [==============================] - 0s 5ms/step - loss: 0.2829 - mae: 0.2829\n",
            "Epoch 489/500\n",
            "2/2 [==============================] - 0s 5ms/step - loss: 0.3401 - mae: 0.3401\n",
            "Epoch 490/500\n",
            "2/2 [==============================] - 0s 4ms/step - loss: 0.2417 - mae: 0.2417\n",
            "Epoch 491/500\n",
            "2/2 [==============================] - 0s 5ms/step - loss: 0.0717 - mae: 0.0717\n",
            "Epoch 492/500\n",
            "2/2 [==============================] - 0s 4ms/step - loss: 0.3017 - mae: 0.3017\n",
            "Epoch 493/500\n",
            "2/2 [==============================] - 0s 5ms/step - loss: 0.0767 - mae: 0.0767\n",
            "Epoch 494/500\n",
            "2/2 [==============================] - 0s 5ms/step - loss: 0.2514 - mae: 0.2514\n",
            "Epoch 495/500\n",
            "2/2 [==============================] - 0s 9ms/step - loss: 0.1309 - mae: 0.1309\n",
            "Epoch 496/500\n",
            "2/2 [==============================] - 0s 5ms/step - loss: 0.2231 - mae: 0.2231\n",
            "Epoch 497/500\n",
            "2/2 [==============================] - 0s 4ms/step - loss: 0.2534 - mae: 0.2534\n",
            "Epoch 498/500\n",
            "2/2 [==============================] - 0s 5ms/step - loss: 0.0932 - mae: 0.0932\n",
            "Epoch 499/500\n",
            "2/2 [==============================] - 0s 5ms/step - loss: 0.2614 - mae: 0.2614\n",
            "Epoch 500/500\n",
            "2/2 [==============================] - 0s 4ms/step - loss: 0.0797 - mae: 0.0797\n"
          ]
        },
        {
          "output_type": "execute_result",
          "data": {
            "text/plain": [
              "<keras.callbacks.History at 0x7fa9a9767c50>"
            ]
          },
          "metadata": {},
          "execution_count": 59
        }
      ]
    },
    {
      "cell_type": "code",
      "source": [
        "# Make and plot predictions\n",
        "y_preds_5 = model_5.predict(X_test)\n",
        "plot_predictions(predictions=y_preds_5)"
      ],
      "metadata": {
        "colab": {
          "base_uri": "https://localhost:8080/",
          "height": 446
        },
        "id": "xtz0ClcwW6_C",
        "outputId": "fd014ec7-8fcf-401e-9731-7c004e971a47"
      },
      "execution_count": null,
      "outputs": [
        {
          "output_type": "stream",
          "name": "stdout",
          "text": [
            "1/1 [==============================] - 0s 68ms/step\n"
          ]
        },
        {
          "output_type": "display_data",
          "data": {
            "text/plain": [
              "<Figure size 720x504 with 1 Axes>"
            ],
            "image/png": "[encoded data removed]"
          },
          "metadata": {
            "needs_background": "light"
          }
        }
      ]
    },
    {
      "cell_type": "code",
      "source": [
        "# Check the evaluation metrics\n",
        "mae_5 = mae(y_test, y_preds_5)\n",
        "mse_5 = mse(y_test, y_preds_5)\n",
        "mae_5, mse_5"
      ],
      "metadata": {
        "colab": {
          "base_uri": "https://localhost:8080/"
        },
        "id": "BfN8LGl3YxcE",
        "outputId": "d3ebccc5-0257-466f-d663-90b59264bf94"
      },
      "execution_count": null,
      "outputs": [
        {
          "output_type": "execute_result",
          "data": {
            "text/plain": [
              "(<tf.Tensor: shape=(), dtype=float32, numpy=0.3995964>,\n",
              " <tf.Tensor: shape=(), dtype=float32, numpy=0.3995964>)"
            ]
          },
          "metadata": {},
          "execution_count": 61
        }
      ]
    },
    {
      "cell_type": "markdown",
      "source": [
        "You want to start with small experiments (small models) and make sure they work and then improve them"
      ],
      "metadata": {
        "id": "vnDIL70AYCKJ"
      }
    },
    {
      "cell_type": "markdown",
      "source": [
        "## Comparing the results of our experiments\n",
        "\n",
        "We've run a few experiments, let's compare the results."
      ],
      "metadata": {
        "id": "_xM_GBEUXdg4"
      }
    },
    {
      "cell_type": "code",
      "source": [
        "# Let's compare our model's results using a pandas DataFrame\n",
        "import pandas as pd\n",
        "\n",
        "model_results = [[\"model_1\", mae_1.numpy(), mse_1.numpy()],\n",
        "                 [\"model_2\", mae_2.numpy(), mse_2.numpy()],\n",
        "                 [\"model_3\", mae_3.numpy(), mse_3.numpy()],\n",
        "                 [\"model_4\", mae_4.numpy(), mse_4.numpy()],\n",
        "                 [\"model_5\", mae_5.numpy(), mse_5.numpy()]]\n",
        "\n",
        "all_results = pd.DataFrame(model_results, columns=[\"model\", \"mae\", \"mse\"])\n",
        "all_results\n"
      ],
      "metadata": {
        "colab": {
          "base_uri": "https://localhost:8080/",
          "height": 206
        },
        "id": "KLRzRDVTX0pC",
        "outputId": "c7cf2e89-e6aa-4b3a-8181-1236508012a4"
      },
      "execution_count": null,
      "outputs": [
        {
          "output_type": "execute_result",
          "data": {
            "text/plain": [
              "     model        mae        mse\n",
              "0  model_1  33.441204  33.441204\n",
              "1  model_2   0.397734   0.397734\n",
              "2  model_3  65.040070  65.040070\n",
              "3  model_4  71.469719  71.469719\n",
              "4  model_5   0.399596   0.399596"
            ],
            "text/html": [
              "\n",
              "  <div id=\"df-7943bc2c-a202-41ef-980a-f97dff9b1d5a\">\n",
              "    <div class=\"colab-df-container\">\n",
              "      <div>\n",
              "<style scoped>\n",
              "    .dataframe tbody tr th:only-of-type {\n",
              "        vertical-align: middle;\n",
              "    }\n",
              "\n",
              "    .dataframe tbody tr th {\n",
              "        vertical-align: top;\n",
              "    }\n",
              "\n",
              "    .dataframe thead th {\n",
              "        text-align: right;\n",
              "    }\n",
              "</style>\n",
              "<table border=\"1\" class=\"dataframe\">\n",
              "  <thead>\n",
              "    <tr style=\"text-align: right;\">\n",
              "      <th></th>\n",
              "      <th>model</th>\n",
              "      <th>mae</th>\n",
              "      <th>mse</th>\n",
              "    </tr>\n",
              "  </thead>\n",
              "  <tbody>\n",
              "    <tr>\n",
              "      <th>0</th>\n",
              "      <td>model_1</td>\n",
              "      <td>33.441204</td>\n",
              "      <td>33.441204</td>\n",
              "    </tr>\n",
              "    <tr>\n",
              "      <th>1</th>\n",
              "      <td>model_2</td>\n",
              "      <td>0.397734</td>\n",
              "      <td>0.397734</td>\n",
              "    </tr>\n",
              "    <tr>\n",
              "      <th>2</th>\n",
              "      <td>model_3</td>\n",
              "      <td>65.040070</td>\n",
              "      <td>65.040070</td>\n",
              "    </tr>\n",
              "    <tr>\n",
              "      <th>3</th>\n",
              "      <td>model_4</td>\n",
              "      <td>71.469719</td>\n",
              "      <td>71.469719</td>\n",
              "    </tr>\n",
              "    <tr>\n",
              "      <th>4</th>\n",
              "      <td>model_5</td>\n",
              "      <td>0.399596</td>\n",
              "      <td>0.399596</td>\n",
              "    </tr>\n",
              "  </tbody>\n",
              "</table>\n",
              "</div>\n",
              "      <button class=\"colab-df-convert\" onclick=\"convertToInteractive('df-7943bc2c-a202-41ef-980a-f97dff9b1d5a')\"\n",
              "              title=\"Convert this dataframe to an interactive table.\"\n",
              "              style=\"display:none;\">\n",
              "        \n",
              "  <svg xmlns=\"http://www.w3.org/2000/svg\" height=\"24px\"viewBox=\"0 0 24 24\"\n",
              "       width=\"24px\">\n",
              "    <path d=\"M0 0h24v24H0V0z\" fill=\"none\"/>\n",
              "    <path d=\"M18.56 5.44l.94 2.06.94-2.06 2.06-.94-2.06-.94-.94-2.06-.94 2.06-2.06.94zm-11 1L8.5 8.5l.94-2.06 2.06-.94-2.06-.94L8.5 2.5l-.94 2.06-2.06.94zm10 10l.94 2.06.94-2.06 2.06-.94-2.06-.94-.94-2.06-.94 2.06-2.06.94z\"/><path d=\"M17.41 7.96l-1.37-1.37c-.4-.4-.92-.59-1.43-.59-.52 0-1.04.2-1.43.59L10.3 9.45l-7.72 7.72c-.78.78-.78 2.05 0 2.83L4 21.41c.39.39.9.59 1.41.59.51 0 1.02-.2 1.41-.59l7.78-7.78 2.81-2.81c.8-.78.8-2.07 0-2.86zM5.41 20L4 18.59l7.72-7.72 1.47 1.35L5.41 20z\"/>\n",
              "  </svg>\n",
              "      </button>\n",
              "      \n",
              "  <style>\n",
              "    .colab-df-container {\n",
              "      display:flex;\n",
              "      flex-wrap:wrap;\n",
              "      gap: 12px;\n",
              "    }\n",
              "\n",
              "    .colab-df-convert {\n",
              "      background-color: #E8F0FE;\n",
              "      border: none;\n",
              "      border-radius: 50%;\n",
              "      cursor: pointer;\n",
              "      display: none;\n",
              "      fill: #1967D2;\n",
              "      height: 32px;\n",
              "      padding: 0 0 0 0;\n",
              "      width: 32px;\n",
              "    }\n",
              "\n",
              "    .colab-df-convert:hover {\n",
              "      background-color: #E2EBFA;\n",
              "      box-shadow: 0px 1px 2px rgba(60, 64, 67, 0.3), 0px 1px 3px 1px rgba(60, 64, 67, 0.15);\n",
              "      fill: #174EA6;\n",
              "    }\n",
              "\n",
              "    [theme=dark] .colab-df-convert {\n",
              "      background-color: #3B4455;\n",
              "      fill: #D2E3FC;\n",
              "    }\n",
              "\n",
              "    [theme=dark] .colab-df-convert:hover {\n",
              "      background-color: #434B5C;\n",
              "      box-shadow: 0px 1px 3px 1px rgba(0, 0, 0, 0.15);\n",
              "      filter: drop-shadow(0px 1px 2px rgba(0, 0, 0, 0.3));\n",
              "      fill: #FFFFFF;\n",
              "    }\n",
              "  </style>\n",
              "\n",
              "      <script>\n",
              "        const buttonEl =\n",
              "          document.querySelector('#df-7943bc2c-a202-41ef-980a-f97dff9b1d5a button.colab-df-convert');\n",
              "        buttonEl.style.display =\n",
              "          google.colab.kernel.accessAllowed ? 'block' : 'none';\n",
              "\n",
              "        async function convertToInteractive(key) {\n",
              "          const element = document.querySelector('#df-7943bc2c-a202-41ef-980a-f97dff9b1d5a');\n",
              "          const dataTable =\n",
              "            await google.colab.kernel.invokeFunction('convertToInteractive',\n",
              "                                                     [key], {});\n",
              "          if (!dataTable) return;\n",
              "\n",
              "          const docLinkHtml = 'Like what you see? Visit the ' +\n",
              "            '<a target=\"_blank\" href=https://colab.research.google.com/notebooks/data_table.ipynb>data table notebook</a>'\n",
              "            + ' to learn more about interactive tables.';\n",
              "          element.innerHTML = '';\n",
              "          dataTable['output_type'] = 'display_data';\n",
              "          await google.colab.output.renderOutput(dataTable, element);\n",
              "          const docLink = document.createElement('div');\n",
              "          docLink.innerHTML = docLinkHtml;\n",
              "          element.appendChild(docLink);\n",
              "        }\n",
              "      </script>\n",
              "    </div>\n",
              "  </div>\n",
              "  "
            ]
          },
          "metadata": {},
          "execution_count": 62
        }
      ]
    },
    {
      "cell_type": "markdown",
      "source": [
        "Looks like ``model_2`` perfomed the best..."
      ],
      "metadata": {
        "id": "x6q7PSS7aorD"
      }
    },
    {
      "cell_type": "code",
      "source": [
        "model_2.summary()"
      ],
      "metadata": {
        "colab": {
          "base_uri": "https://localhost:8080/"
        },
        "id": "dyD8UCKzZ7tK",
        "outputId": "b69b1060-3f66-4430-ee7f-180e5ee78bef"
      },
      "execution_count": null,
      "outputs": [
        {
          "output_type": "stream",
          "name": "stdout",
          "text": [
            "Model: \"sequential_7\"\n",
            "_________________________________________________________________\n",
            " Layer (type)                Output Shape              Param #   \n",
            "=================================================================\n",
            " dense_10 (Dense)            (None, 2)                 4         \n",
            "                                                                 \n",
            " dense_11 (Dense)            (None, 1)                 3         \n",
            "                                                                 \n",
            "=================================================================\n",
            "Total params: 7\n",
            "Trainable params: 7\n",
            "Non-trainable params: 0\n",
            "_________________________________________________________________\n"
          ]
        }
      ]
    },
    {
      "cell_type": "code",
      "source": [
        "model_5.summary()"
      ],
      "metadata": {
        "colab": {
          "base_uri": "https://localhost:8080/"
        },
        "id": "0x2bDM0RaOkH",
        "outputId": "b054c033-6211-477d-936b-8880845077d9"
      },
      "execution_count": null,
      "outputs": [
        {
          "output_type": "stream",
          "name": "stdout",
          "text": [
            "Model: \"sequential_10\"\n",
            "_________________________________________________________________\n",
            " Layer (type)                Output Shape              Param #   \n",
            "=================================================================\n",
            " dense_18 (Dense)            (None, 20)                40        \n",
            "                                                                 \n",
            " dense_19 (Dense)            (None, 1)                 21        \n",
            "                                                                 \n",
            "=================================================================\n",
            "Total params: 61\n",
            "Trainable params: 61\n",
            "Non-trainable params: 0\n",
            "_________________________________________________________________\n"
          ]
        }
      ]
    },
    {
      "cell_type": "markdown",
      "source": [
        "One of your main goals should be to minimize the time between your experiments. The more experiments you do, the more things you'll figure out which don't work and in turn, get closer to figuring out what does work. Remember the machine learning practioner's motto: \"experiment, experiment, experiment\""
      ],
      "metadata": {
        "id": "xU82P5n4aQwy"
      }
    },
    {
      "cell_type": "markdown",
      "source": [
        "## Tracking your experiments\n",
        "\n",
        "One really good habit in machine learning modelling is to track the results of your experiments.\n",
        "\n",
        "And when doing so, it can be tedious if you're running lots of experiments.\n",
        "\n",
        "Luckily, there are tools to help us!\n",
        "**Resource:** As you build more models, you'll want to look into using:\n",
        "* TensorBoard - a component of the TensorFlow library to help track modelling experiments (we'll see this one later).\n",
        "* Weights & Biases - a tool for tracking all kinds of machine learning experiments (plugs straight into TensorBoard)."
      ],
      "metadata": {
        "id": "ek3EcpZYbI9z"
      }
    },
    {
      "cell_type": "markdown",
      "source": [
        " ## Saving our models\n",
        "\n",
        " Saving our models allows us to use them ouside of Google Colab (or wherever they were trained) such as a web application or a mobile app\n",
        "\n",
        " There are two main formats we can save our model's too:\n",
        " 1. The SavedModel format\n",
        " 2. The HDF5 format"
      ],
      "metadata": {
        "id": "yrLG3Arpbs1r"
      }
    },
    {
      "cell_type": "code",
      "source": [
        "# Save model using the SavedModel format\n",
        "model_5.save(\"best_model_SavedModel_format\")"
      ],
      "metadata": {
        "id": "slFYQ-jicVJQ"
      },
      "execution_count": null,
      "outputs": []
    },
    {
      "cell_type": "code",
      "source": [
        "# Save model using the HDF5 format\n",
        "model_5.save(\"best_model_SavedModel_format.h5\")"
      ],
      "metadata": {
        "id": "yiR0ZaOveyqG"
      },
      "execution_count": null,
      "outputs": []
    },
    {
      "cell_type": "markdown",
      "source": [
        "### Loading in a saved model"
      ],
      "metadata": {
        "id": "MaK77lxAFVyT"
      }
    },
    {
      "cell_type": "code",
      "source": [
        "# Load in the SavedModel format model\n",
        "loaded_SavedModel_format = tf.keras.models.load_model(\"/content/best_model_SavedModel_format\")\n",
        "loaded_SavedModel_format.summary()"
      ],
      "metadata": {
        "colab": {
          "base_uri": "https://localhost:8080/"
        },
        "id": "pxEskE52FaUX",
        "outputId": "d93d24ef-ff4c-45c4-a4f4-79e0e4aad234"
      },
      "execution_count": null,
      "outputs": [
        {
          "output_type": "stream",
          "name": "stdout",
          "text": [
            "Model: \"sequential_10\"\n",
            "_________________________________________________________________\n",
            " Layer (type)                Output Shape              Param #   \n",
            "=================================================================\n",
            " dense_18 (Dense)            (None, 20)                40        \n",
            "                                                                 \n",
            " dense_19 (Dense)            (None, 1)                 21        \n",
            "                                                                 \n",
            "=================================================================\n",
            "Total params: 61\n",
            "Trainable params: 61\n",
            "Non-trainable params: 0\n",
            "_________________________________________________________________\n"
          ]
        }
      ]
    },
    {
      "cell_type": "code",
      "source": [
        "# Compare model_5 predictions with SavedModel format model predictions\n",
        "model_5_preds = model_5.predict(X_test)\n",
        "loaded_SavedModel_format_preds = loaded_SavedModel_format.predict(X_test)\n",
        "model_5_preds == loaded_SavedModel_format_preds"
      ],
      "metadata": {
        "colab": {
          "base_uri": "https://localhost:8080/"
        },
        "id": "rdkbYB9NFtZj",
        "outputId": "05f0058c-940b-4ed4-e727-00fe726ebe20"
      },
      "execution_count": null,
      "outputs": [
        {
          "output_type": "stream",
          "name": "stdout",
          "text": [
            "1/1 [==============================] - 0s 56ms/step\n",
            "1/1 [==============================] - 0s 84ms/step\n"
          ]
        },
        {
          "output_type": "execute_result",
          "data": {
            "text/plain": [
              "array([[ True],\n",
              "       [ True],\n",
              "       [ True],\n",
              "       [ True],\n",
              "       [ True],\n",
              "       [ True],\n",
              "       [ True],\n",
              "       [ True],\n",
              "       [ True],\n",
              "       [ True]])"
            ]
          },
          "metadata": {},
          "execution_count": 70
        }
      ]
    },
    {
      "cell_type": "code",
      "source": [
        "# Load in a model using the .h5 format\n",
        "loaded_h5_model = tf.keras.models.load_model(\"/content/best_model_SavedModel_format.h5\") \n",
        "loaded_h5_model.summary() == model_5.summary()"
      ],
      "metadata": {
        "colab": {
          "base_uri": "https://localhost:8080/"
        },
        "id": "0wrNSeIMGdVw",
        "outputId": "6235c1ce-41c8-4a7c-c6b9-6c4f4c5d9e39"
      },
      "execution_count": null,
      "outputs": [
        {
          "output_type": "stream",
          "name": "stdout",
          "text": [
            "Model: \"sequential_10\"\n",
            "_________________________________________________________________\n",
            " Layer (type)                Output Shape              Param #   \n",
            "=================================================================\n",
            " dense_18 (Dense)            (None, 20)                40        \n",
            "                                                                 \n",
            " dense_19 (Dense)            (None, 1)                 21        \n",
            "                                                                 \n",
            "=================================================================\n",
            "Total params: 61\n",
            "Trainable params: 61\n",
            "Non-trainable params: 0\n",
            "_________________________________________________________________\n",
            "Model: \"sequential_10\"\n",
            "_________________________________________________________________\n",
            " Layer (type)                Output Shape              Param #   \n",
            "=================================================================\n",
            " dense_18 (Dense)            (None, 20)                40        \n",
            "                                                                 \n",
            " dense_19 (Dense)            (None, 1)                 21        \n",
            "                                                                 \n",
            "=================================================================\n",
            "Total params: 61\n",
            "Trainable params: 61\n",
            "Non-trainable params: 0\n",
            "_________________________________________________________________\n"
          ]
        },
        {
          "output_type": "execute_result",
          "data": {
            "text/plain": [
              "True"
            ]
          },
          "metadata": {},
          "execution_count": 76
        }
      ]
    },
    {
      "cell_type": "code",
      "source": [
        "# Check to see if loaded .h5 predictions match model_5\n",
        "model_5_preds = model_5.predict(X_test)\n",
        "loaded_h5_model_preds = loaded_h5_model.predict(X_test)\n",
        "model_5_preds == loaded_h5_model_preds"
      ],
      "metadata": {
        "colab": {
          "base_uri": "https://localhost:8080/"
        },
        "id": "t1eQn1N2HBim",
        "outputId": "7a5b179d-2dc7-472a-a199-6efec656396b"
      },
      "execution_count": null,
      "outputs": [
        {
          "output_type": "stream",
          "name": "stdout",
          "text": [
            "1/1 [==============================] - 0s 18ms/step\n",
            "1/1 [==============================] - 0s 46ms/step\n"
          ]
        },
        {
          "output_type": "execute_result",
          "data": {
            "text/plain": [
              "array([[ True],\n",
              "       [ True],\n",
              "       [ True],\n",
              "       [ True],\n",
              "       [ True],\n",
              "       [ True],\n",
              "       [ True],\n",
              "       [ True],\n",
              "       [ True],\n",
              "       [ True]])"
            ]
          },
          "metadata": {},
          "execution_count": 78
        }
      ]
    },
    {
      "cell_type": "code",
      "source": [
        "plot_predictions(predictions = loaded_h5_model_preds)"
      ],
      "metadata": {
        "colab": {
          "base_uri": "https://localhost:8080/",
          "height": 428
        },
        "id": "K8F4nfQvHeQO",
        "outputId": "880e9f77-3d29-4a91-f420-3e3f7a8e5b45"
      },
      "execution_count": null,
      "outputs": [
        {
          "output_type": "display_data",
          "data": {
            "text/plain": [
              "<Figure size 720x504 with 1 Axes>"
            ],
            "image/png": "[encoded data removed]"
          },
          "metadata": {
            "needs_background": "light"
          }
        }
      ]
    },
    {
      "cell_type": "markdown",
      "source": [
        "### A larger example"
      ],
      "metadata": {
        "id": "ymdb0bPlHxHT"
      }
    },
    {
      "cell_type": "code",
      "source": [
        "# Import required libraries\n",
        "import tensorflow as tf\n",
        "import pandas as pd\n",
        "import matplotlib.pyplot as plt"
      ],
      "metadata": {
        "id": "P_7gLdh6IV8D"
      },
      "execution_count": null,
      "outputs": []
    },
    {
      "cell_type": "code",
      "source": [
        "# Read in the insurance dataset\n",
        "insurance = pd.read_csv(\"https://raw.githubusercontent.com/stedy/Machine-Learning-with-R-datasets/master/insurance.csv\")\n",
        "insurance"
      ],
      "metadata": {
        "colab": {
          "base_uri": "https://localhost:8080/",
          "height": 423
        },
        "id": "hSK1ftvxIYkg",
        "outputId": "15a00a6d-dd49-4b73-c3bf-0e587ed6ae08"
      },
      "execution_count": null,
      "outputs": [
        {
          "output_type": "execute_result",
          "data": {
            "text/plain": [
              "      age     sex     bmi  children smoker     region      charges\n",
              "0      19  female  27.900         0    yes  southwest  16884.92400\n",
              "1      18    male  33.770         1     no  southeast   1725.55230\n",
              "2      28    male  33.000         3     no  southeast   4449.46200\n",
              "3      33    male  22.705         0     no  northwest  21984.47061\n",
              "4      32    male  28.880         0     no  northwest   3866.85520\n",
              "...   ...     ...     ...       ...    ...        ...          ...\n",
              "1333   50    male  30.970         3     no  northwest  10600.54830\n",
              "1334   18  female  31.920         0     no  northeast   2205.98080\n",
              "1335   18  female  36.850         0     no  southeast   1629.83350\n",
              "1336   21  female  25.800         0     no  southwest   2007.94500\n",
              "1337   61  female  29.070         0    yes  northwest  29141.36030\n",
              "\n",
              "[1338 rows x 7 columns]"
            ],
            "text/html": [
              "\n",
              "  <div id=\"df-221e0b79-d1fd-476a-ad0b-9355370d3058\">\n",
              "    <div class=\"colab-df-container\">\n",
              "      <div>\n",
              "<style scoped>\n",
              "    .dataframe tbody tr th:only-of-type {\n",
              "        vertical-align: middle;\n",
              "    }\n",
              "\n",
              "    .dataframe tbody tr th {\n",
              "        vertical-align: top;\n",
              "    }\n",
              "\n",
              "    .dataframe thead th {\n",
              "        text-align: right;\n",
              "    }\n",
              "</style>\n",
              "<table border=\"1\" class=\"dataframe\">\n",
              "  <thead>\n",
              "    <tr style=\"text-align: right;\">\n",
              "      <th></th>\n",
              "      <th>age</th>\n",
              "      <th>sex</th>\n",
              "      <th>bmi</th>\n",
              "      <th>children</th>\n",
              "      <th>smoker</th>\n",
              "      <th>region</th>\n",
              "      <th>charges</th>\n",
              "    </tr>\n",
              "  </thead>\n",
              "  <tbody>\n",
              "    <tr>\n",
              "      <th>0</th>\n",
              "      <td>19</td>\n",
              "      <td>female</td>\n",
              "      <td>27.900</td>\n",
              "      <td>0</td>\n",
              "      <td>yes</td>\n",
              "      <td>southwest</td>\n",
              "      <td>16884.92400</td>\n",
              "    </tr>\n",
              "    <tr>\n",
              "      <th>1</th>\n",
              "      <td>18</td>\n",
              "      <td>male</td>\n",
              "      <td>33.770</td>\n",
              "      <td>1</td>\n",
              "      <td>no</td>\n",
              "      <td>southeast</td>\n",
              "      <td>1725.55230</td>\n",
              "    </tr>\n",
              "    <tr>\n",
              "      <th>2</th>\n",
              "      <td>28</td>\n",
              "      <td>male</td>\n",
              "      <td>33.000</td>\n",
              "      <td>3</td>\n",
              "      <td>no</td>\n",
              "      <td>southeast</td>\n",
              "      <td>4449.46200</td>\n",
              "    </tr>\n",
              "    <tr>\n",
              "      <th>3</th>\n",
              "      <td>33</td>\n",
              "      <td>male</td>\n",
              "      <td>22.705</td>\n",
              "      <td>0</td>\n",
              "      <td>no</td>\n",
              "      <td>northwest</td>\n",
              "      <td>21984.47061</td>\n",
              "    </tr>\n",
              "    <tr>\n",
              "      <th>4</th>\n",
              "      <td>32</td>\n",
              "      <td>male</td>\n",
              "      <td>28.880</td>\n",
              "      <td>0</td>\n",
              "      <td>no</td>\n",
              "      <td>northwest</td>\n",
              "      <td>3866.85520</td>\n",
              "    </tr>\n",
              "    <tr>\n",
              "      <th>...</th>\n",
              "      <td>...</td>\n",
              "      <td>...</td>\n",
              "      <td>...</td>\n",
              "      <td>...</td>\n",
              "      <td>...</td>\n",
              "      <td>...</td>\n",
              "      <td>...</td>\n",
              "    </tr>\n",
              "    <tr>\n",
              "      <th>1333</th>\n",
              "      <td>50</td>\n",
              "      <td>male</td>\n",
              "      <td>30.970</td>\n",
              "      <td>3</td>\n",
              "      <td>no</td>\n",
              "      <td>northwest</td>\n",
              "      <td>10600.54830</td>\n",
              "    </tr>\n",
              "    <tr>\n",
              "      <th>1334</th>\n",
              "      <td>18</td>\n",
              "      <td>female</td>\n",
              "      <td>31.920</td>\n",
              "      <td>0</td>\n",
              "      <td>no</td>\n",
              "      <td>northeast</td>\n",
              "      <td>2205.98080</td>\n",
              "    </tr>\n",
              "    <tr>\n",
              "      <th>1335</th>\n",
              "      <td>18</td>\n",
              "      <td>female</td>\n",
              "      <td>36.850</td>\n",
              "      <td>0</td>\n",
              "      <td>no</td>\n",
              "      <td>southeast</td>\n",
              "      <td>1629.83350</td>\n",
              "    </tr>\n",
              "    <tr>\n",
              "      <th>1336</th>\n",
              "      <td>21</td>\n",
              "      <td>female</td>\n",
              "      <td>25.800</td>\n",
              "      <td>0</td>\n",
              "      <td>no</td>\n",
              "      <td>southwest</td>\n",
              "      <td>2007.94500</td>\n",
              "    </tr>\n",
              "    <tr>\n",
              "      <th>1337</th>\n",
              "      <td>61</td>\n",
              "      <td>female</td>\n",
              "      <td>29.070</td>\n",
              "      <td>0</td>\n",
              "      <td>yes</td>\n",
              "      <td>northwest</td>\n",
              "      <td>29141.36030</td>\n",
              "    </tr>\n",
              "  </tbody>\n",
              "</table>\n",
              "<p>1338 rows × 7 columns</p>\n",
              "</div>\n",
              "      <button class=\"colab-df-convert\" onclick=\"convertToInteractive('df-221e0b79-d1fd-476a-ad0b-9355370d3058')\"\n",
              "              title=\"Convert this dataframe to an interactive table.\"\n",
              "              style=\"display:none;\">\n",
              "        \n",
              "  <svg xmlns=\"http://www.w3.org/2000/svg\" height=\"24px\"viewBox=\"0 0 24 24\"\n",
              "       width=\"24px\">\n",
              "    <path d=\"M0 0h24v24H0V0z\" fill=\"none\"/>\n",
              "    <path d=\"M18.56 5.44l.94 2.06.94-2.06 2.06-.94-2.06-.94-.94-2.06-.94 2.06-2.06.94zm-11 1L8.5 8.5l.94-2.06 2.06-.94-2.06-.94L8.5 2.5l-.94 2.06-2.06.94zm10 10l.94 2.06.94-2.06 2.06-.94-2.06-.94-.94-2.06-.94 2.06-2.06.94z\"/><path d=\"M17.41 7.96l-1.37-1.37c-.4-.4-.92-.59-1.43-.59-.52 0-1.04.2-1.43.59L10.3 9.45l-7.72 7.72c-.78.78-.78 2.05 0 2.83L4 21.41c.39.39.9.59 1.41.59.51 0 1.02-.2 1.41-.59l7.78-7.78 2.81-2.81c.8-.78.8-2.07 0-2.86zM5.41 20L4 18.59l7.72-7.72 1.47 1.35L5.41 20z\"/>\n",
              "  </svg>\n",
              "      </button>\n",
              "      \n",
              "  <style>\n",
              "    .colab-df-container {\n",
              "      display:flex;\n",
              "      flex-wrap:wrap;\n",
              "      gap: 12px;\n",
              "    }\n",
              "\n",
              "    .colab-df-convert {\n",
              "      background-color: #E8F0FE;\n",
              "      border: none;\n",
              "      border-radius: 50%;\n",
              "      cursor: pointer;\n",
              "      display: none;\n",
              "      fill: #1967D2;\n",
              "      height: 32px;\n",
              "      padding: 0 0 0 0;\n",
              "      width: 32px;\n",
              "    }\n",
              "\n",
              "    .colab-df-convert:hover {\n",
              "      background-color: #E2EBFA;\n",
              "      box-shadow: 0px 1px 2px rgba(60, 64, 67, 0.3), 0px 1px 3px 1px rgba(60, 64, 67, 0.15);\n",
              "      fill: #174EA6;\n",
              "    }\n",
              "\n",
              "    [theme=dark] .colab-df-convert {\n",
              "      background-color: #3B4455;\n",
              "      fill: #D2E3FC;\n",
              "    }\n",
              "\n",
              "    [theme=dark] .colab-df-convert:hover {\n",
              "      background-color: #434B5C;\n",
              "      box-shadow: 0px 1px 3px 1px rgba(0, 0, 0, 0.15);\n",
              "      filter: drop-shadow(0px 1px 2px rgba(0, 0, 0, 0.3));\n",
              "      fill: #FFFFFF;\n",
              "    }\n",
              "  </style>\n",
              "\n",
              "      <script>\n",
              "        const buttonEl =\n",
              "          document.querySelector('#df-221e0b79-d1fd-476a-ad0b-9355370d3058 button.colab-df-convert');\n",
              "        buttonEl.style.display =\n",
              "          google.colab.kernel.accessAllowed ? 'block' : 'none';\n",
              "\n",
              "        async function convertToInteractive(key) {\n",
              "          const element = document.querySelector('#df-221e0b79-d1fd-476a-ad0b-9355370d3058');\n",
              "          const dataTable =\n",
              "            await google.colab.kernel.invokeFunction('convertToInteractive',\n",
              "                                                     [key], {});\n",
              "          if (!dataTable) return;\n",
              "\n",
              "          const docLinkHtml = 'Like what you see? Visit the ' +\n",
              "            '<a target=\"_blank\" href=https://colab.research.google.com/notebooks/data_table.ipynb>data table notebook</a>'\n",
              "            + ' to learn more about interactive tables.';\n",
              "          element.innerHTML = '';\n",
              "          dataTable['output_type'] = 'display_data';\n",
              "          await google.colab.output.renderOutput(dataTable, element);\n",
              "          const docLink = document.createElement('div');\n",
              "          docLink.innerHTML = docLinkHtml;\n",
              "          element.appendChild(docLink);\n",
              "        }\n",
              "      </script>\n",
              "    </div>\n",
              "  </div>\n",
              "  "
            ]
          },
          "metadata": {},
          "execution_count": 84
        }
      ]
    },
    {
      "cell_type": "code",
      "source": [
        "# Let's try one-hot encode our DataFrame so it's all numbers\n",
        "insurance_one_hot = pd.get_dummies(insurance)\n",
        "insurance_one_hot.head()"
      ],
      "metadata": {
        "colab": {
          "base_uri": "https://localhost:8080/",
          "height": 270
        },
        "id": "T-8BnelTJ5F4",
        "outputId": "f3e30c27-b8d4-4664-e572-d0aba28dc8fc"
      },
      "execution_count": null,
      "outputs": [
        {
          "output_type": "execute_result",
          "data": {
            "text/plain": [
              "   age     bmi  children      charges  sex_female  sex_male  smoker_no  \\\n",
              "0   19  27.900         0  16884.92400           1         0          0   \n",
              "1   18  33.770         1   1725.55230           0         1          1   \n",
              "2   28  33.000         3   4449.46200           0         1          1   \n",
              "3   33  22.705         0  21984.47061           0         1          1   \n",
              "4   32  28.880         0   3866.85520           0         1          1   \n",
              "\n",
              "   smoker_yes  region_northeast  region_northwest  region_southeast  \\\n",
              "0           1                 0                 0                 0   \n",
              "1           0                 0                 0                 1   \n",
              "2           0                 0                 0                 1   \n",
              "3           0                 0                 1                 0   \n",
              "4           0                 0                 1                 0   \n",
              "\n",
              "   region_southwest  \n",
              "0                 1  \n",
              "1                 0  \n",
              "2                 0  \n",
              "3                 0  \n",
              "4                 0  "
            ],
            "text/html": [
              "\n",
              "  <div id=\"df-f31a3a83-ffa8-4f9d-9265-9b8215c44cd1\">\n",
              "    <div class=\"colab-df-container\">\n",
              "      <div>\n",
              "<style scoped>\n",
              "    .dataframe tbody tr th:only-of-type {\n",
              "        vertical-align: middle;\n",
              "    }\n",
              "\n",
              "    .dataframe tbody tr th {\n",
              "        vertical-align: top;\n",
              "    }\n",
              "\n",
              "    .dataframe thead th {\n",
              "        text-align: right;\n",
              "    }\n",
              "</style>\n",
              "<table border=\"1\" class=\"dataframe\">\n",
              "  <thead>\n",
              "    <tr style=\"text-align: right;\">\n",
              "      <th></th>\n",
              "      <th>age</th>\n",
              "      <th>bmi</th>\n",
              "      <th>children</th>\n",
              "      <th>charges</th>\n",
              "      <th>sex_female</th>\n",
              "      <th>sex_male</th>\n",
              "      <th>smoker_no</th>\n",
              "      <th>smoker_yes</th>\n",
              "      <th>region_northeast</th>\n",
              "      <th>region_northwest</th>\n",
              "      <th>region_southeast</th>\n",
              "      <th>region_southwest</th>\n",
              "    </tr>\n",
              "  </thead>\n",
              "  <tbody>\n",
              "    <tr>\n",
              "      <th>0</th>\n",
              "      <td>19</td>\n",
              "      <td>27.900</td>\n",
              "      <td>0</td>\n",
              "      <td>16884.92400</td>\n",
              "      <td>1</td>\n",
              "      <td>0</td>\n",
              "      <td>0</td>\n",
              "      <td>1</td>\n",
              "      <td>0</td>\n",
              "      <td>0</td>\n",
              "      <td>0</td>\n",
              "      <td>1</td>\n",
              "    </tr>\n",
              "    <tr>\n",
              "      <th>1</th>\n",
              "      <td>18</td>\n",
              "      <td>33.770</td>\n",
              "      <td>1</td>\n",
              "      <td>1725.55230</td>\n",
              "      <td>0</td>\n",
              "      <td>1</td>\n",
              "      <td>1</td>\n",
              "      <td>0</td>\n",
              "      <td>0</td>\n",
              "      <td>0</td>\n",
              "      <td>1</td>\n",
              "      <td>0</td>\n",
              "    </tr>\n",
              "    <tr>\n",
              "      <th>2</th>\n",
              "      <td>28</td>\n",
              "      <td>33.000</td>\n",
              "      <td>3</td>\n",
              "      <td>4449.46200</td>\n",
              "      <td>0</td>\n",
              "      <td>1</td>\n",
              "      <td>1</td>\n",
              "      <td>0</td>\n",
              "      <td>0</td>\n",
              "      <td>0</td>\n",
              "      <td>1</td>\n",
              "      <td>0</td>\n",
              "    </tr>\n",
              "    <tr>\n",
              "      <th>3</th>\n",
              "      <td>33</td>\n",
              "      <td>22.705</td>\n",
              "      <td>0</td>\n",
              "      <td>21984.47061</td>\n",
              "      <td>0</td>\n",
              "      <td>1</td>\n",
              "      <td>1</td>\n",
              "      <td>0</td>\n",
              "      <td>0</td>\n",
              "      <td>1</td>\n",
              "      <td>0</td>\n",
              "      <td>0</td>\n",
              "    </tr>\n",
              "    <tr>\n",
              "      <th>4</th>\n",
              "      <td>32</td>\n",
              "      <td>28.880</td>\n",
              "      <td>0</td>\n",
              "      <td>3866.85520</td>\n",
              "      <td>0</td>\n",
              "      <td>1</td>\n",
              "      <td>1</td>\n",
              "      <td>0</td>\n",
              "      <td>0</td>\n",
              "      <td>1</td>\n",
              "      <td>0</td>\n",
              "      <td>0</td>\n",
              "    </tr>\n",
              "  </tbody>\n",
              "</table>\n",
              "</div>\n",
              "      <button class=\"colab-df-convert\" onclick=\"convertToInteractive('df-f31a3a83-ffa8-4f9d-9265-9b8215c44cd1')\"\n",
              "              title=\"Convert this dataframe to an interactive table.\"\n",
              "              style=\"display:none;\">\n",
              "        \n",
              "  <svg xmlns=\"http://www.w3.org/2000/svg\" height=\"24px\"viewBox=\"0 0 24 24\"\n",
              "       width=\"24px\">\n",
              "    <path d=\"M0 0h24v24H0V0z\" fill=\"none\"/>\n",
              "    <path d=\"M18.56 5.44l.94 2.06.94-2.06 2.06-.94-2.06-.94-.94-2.06-.94 2.06-2.06.94zm-11 1L8.5 8.5l.94-2.06 2.06-.94-2.06-.94L8.5 2.5l-.94 2.06-2.06.94zm10 10l.94 2.06.94-2.06 2.06-.94-2.06-.94-.94-2.06-.94 2.06-2.06.94z\"/><path d=\"M17.41 7.96l-1.37-1.37c-.4-.4-.92-.59-1.43-.59-.52 0-1.04.2-1.43.59L10.3 9.45l-7.72 7.72c-.78.78-.78 2.05 0 2.83L4 21.41c.39.39.9.59 1.41.59.51 0 1.02-.2 1.41-.59l7.78-7.78 2.81-2.81c.8-.78.8-2.07 0-2.86zM5.41 20L4 18.59l7.72-7.72 1.47 1.35L5.41 20z\"/>\n",
              "  </svg>\n",
              "      </button>\n",
              "      \n",
              "  <style>\n",
              "    .colab-df-container {\n",
              "      display:flex;\n",
              "      flex-wrap:wrap;\n",
              "      gap: 12px;\n",
              "    }\n",
              "\n",
              "    .colab-df-convert {\n",
              "      background-color: #E8F0FE;\n",
              "      border: none;\n",
              "      border-radius: 50%;\n",
              "      cursor: pointer;\n",
              "      display: none;\n",
              "      fill: #1967D2;\n",
              "      height: 32px;\n",
              "      padding: 0 0 0 0;\n",
              "      width: 32px;\n",
              "    }\n",
              "\n",
              "    .colab-df-convert:hover {\n",
              "      background-color: #E2EBFA;\n",
              "      box-shadow: 0px 1px 2px rgba(60, 64, 67, 0.3), 0px 1px 3px 1px rgba(60, 64, 67, 0.15);\n",
              "      fill: #174EA6;\n",
              "    }\n",
              "\n",
              "    [theme=dark] .colab-df-convert {\n",
              "      background-color: #3B4455;\n",
              "      fill: #D2E3FC;\n",
              "    }\n",
              "\n",
              "    [theme=dark] .colab-df-convert:hover {\n",
              "      background-color: #434B5C;\n",
              "      box-shadow: 0px 1px 3px 1px rgba(0, 0, 0, 0.15);\n",
              "      filter: drop-shadow(0px 1px 2px rgba(0, 0, 0, 0.3));\n",
              "      fill: #FFFFFF;\n",
              "    }\n",
              "  </style>\n",
              "\n",
              "      <script>\n",
              "        const buttonEl =\n",
              "          document.querySelector('#df-f31a3a83-ffa8-4f9d-9265-9b8215c44cd1 button.colab-df-convert');\n",
              "        buttonEl.style.display =\n",
              "          google.colab.kernel.accessAllowed ? 'block' : 'none';\n",
              "\n",
              "        async function convertToInteractive(key) {\n",
              "          const element = document.querySelector('#df-f31a3a83-ffa8-4f9d-9265-9b8215c44cd1');\n",
              "          const dataTable =\n",
              "            await google.colab.kernel.invokeFunction('convertToInteractive',\n",
              "                                                     [key], {});\n",
              "          if (!dataTable) return;\n",
              "\n",
              "          const docLinkHtml = 'Like what you see? Visit the ' +\n",
              "            '<a target=\"_blank\" href=https://colab.research.google.com/notebooks/data_table.ipynb>data table notebook</a>'\n",
              "            + ' to learn more about interactive tables.';\n",
              "          element.innerHTML = '';\n",
              "          dataTable['output_type'] = 'display_data';\n",
              "          await google.colab.output.renderOutput(dataTable, element);\n",
              "          const docLink = document.createElement('div');\n",
              "          docLink.innerHTML = docLinkHtml;\n",
              "          element.appendChild(docLink);\n",
              "        }\n",
              "      </script>\n",
              "    </div>\n",
              "  </div>\n",
              "  "
            ]
          },
          "metadata": {},
          "execution_count": 90
        }
      ]
    },
    {
      "cell_type": "code",
      "source": [
        "# Create X & y values (features and labels)\n",
        "X = insurance_one_hot.drop(\"charges\", axis=1)\n",
        "y = insurance_one_hot[\"charges\"]\n"
      ],
      "metadata": {
        "id": "QPKLqRwlKdU3"
      },
      "execution_count": null,
      "outputs": []
    },
    {
      "cell_type": "code",
      "source": [
        "# View X\n",
        "X.head()"
      ],
      "metadata": {
        "colab": {
          "base_uri": "https://localhost:8080/",
          "height": 270
        },
        "id": "HEILYoaYM3q0",
        "outputId": "b41d27af-9bc8-4759-dee9-debd645a3401"
      },
      "execution_count": null,
      "outputs": [
        {
          "output_type": "execute_result",
          "data": {
            "text/plain": [
              "   age     bmi  children  sex_female  sex_male  smoker_no  smoker_yes  \\\n",
              "0   19  27.900         0           1         0          0           1   \n",
              "1   18  33.770         1           0         1          1           0   \n",
              "2   28  33.000         3           0         1          1           0   \n",
              "3   33  22.705         0           0         1          1           0   \n",
              "4   32  28.880         0           0         1          1           0   \n",
              "\n",
              "   region_northeast  region_northwest  region_southeast  region_southwest  \n",
              "0                 0                 0                 0                 1  \n",
              "1                 0                 0                 1                 0  \n",
              "2                 0                 0                 1                 0  \n",
              "3                 0                 1                 0                 0  \n",
              "4                 0                 1                 0                 0  "
            ],
            "text/html": [
              "\n",
              "  <div id=\"df-8e2a079b-1631-4998-b3a1-dd4e67dff690\">\n",
              "    <div class=\"colab-df-container\">\n",
              "      <div>\n",
              "<style scoped>\n",
              "    .dataframe tbody tr th:only-of-type {\n",
              "        vertical-align: middle;\n",
              "    }\n",
              "\n",
              "    .dataframe tbody tr th {\n",
              "        vertical-align: top;\n",
              "    }\n",
              "\n",
              "    .dataframe thead th {\n",
              "        text-align: right;\n",
              "    }\n",
              "</style>\n",
              "<table border=\"1\" class=\"dataframe\">\n",
              "  <thead>\n",
              "    <tr style=\"text-align: right;\">\n",
              "      <th></th>\n",
              "      <th>age</th>\n",
              "      <th>bmi</th>\n",
              "      <th>children</th>\n",
              "      <th>sex_female</th>\n",
              "      <th>sex_male</th>\n",
              "      <th>smoker_no</th>\n",
              "      <th>smoker_yes</th>\n",
              "      <th>region_northeast</th>\n",
              "      <th>region_northwest</th>\n",
              "      <th>region_southeast</th>\n",
              "      <th>region_southwest</th>\n",
              "    </tr>\n",
              "  </thead>\n",
              "  <tbody>\n",
              "    <tr>\n",
              "      <th>0</th>\n",
              "      <td>19</td>\n",
              "      <td>27.900</td>\n",
              "      <td>0</td>\n",
              "      <td>1</td>\n",
              "      <td>0</td>\n",
              "      <td>0</td>\n",
              "      <td>1</td>\n",
              "      <td>0</td>\n",
              "      <td>0</td>\n",
              "      <td>0</td>\n",
              "      <td>1</td>\n",
              "    </tr>\n",
              "    <tr>\n",
              "      <th>1</th>\n",
              "      <td>18</td>\n",
              "      <td>33.770</td>\n",
              "      <td>1</td>\n",
              "      <td>0</td>\n",
              "      <td>1</td>\n",
              "      <td>1</td>\n",
              "      <td>0</td>\n",
              "      <td>0</td>\n",
              "      <td>0</td>\n",
              "      <td>1</td>\n",
              "      <td>0</td>\n",
              "    </tr>\n",
              "    <tr>\n",
              "      <th>2</th>\n",
              "      <td>28</td>\n",
              "      <td>33.000</td>\n",
              "      <td>3</td>\n",
              "      <td>0</td>\n",
              "      <td>1</td>\n",
              "      <td>1</td>\n",
              "      <td>0</td>\n",
              "      <td>0</td>\n",
              "      <td>0</td>\n",
              "      <td>1</td>\n",
              "      <td>0</td>\n",
              "    </tr>\n",
              "    <tr>\n",
              "      <th>3</th>\n",
              "      <td>33</td>\n",
              "      <td>22.705</td>\n",
              "      <td>0</td>\n",
              "      <td>0</td>\n",
              "      <td>1</td>\n",
              "      <td>1</td>\n",
              "      <td>0</td>\n",
              "      <td>0</td>\n",
              "      <td>1</td>\n",
              "      <td>0</td>\n",
              "      <td>0</td>\n",
              "    </tr>\n",
              "    <tr>\n",
              "      <th>4</th>\n",
              "      <td>32</td>\n",
              "      <td>28.880</td>\n",
              "      <td>0</td>\n",
              "      <td>0</td>\n",
              "      <td>1</td>\n",
              "      <td>1</td>\n",
              "      <td>0</td>\n",
              "      <td>0</td>\n",
              "      <td>1</td>\n",
              "      <td>0</td>\n",
              "      <td>0</td>\n",
              "    </tr>\n",
              "  </tbody>\n",
              "</table>\n",
              "</div>\n",
              "      <button class=\"colab-df-convert\" onclick=\"convertToInteractive('df-8e2a079b-1631-4998-b3a1-dd4e67dff690')\"\n",
              "              title=\"Convert this dataframe to an interactive table.\"\n",
              "              style=\"display:none;\">\n",
              "        \n",
              "  <svg xmlns=\"http://www.w3.org/2000/svg\" height=\"24px\"viewBox=\"0 0 24 24\"\n",
              "       width=\"24px\">\n",
              "    <path d=\"M0 0h24v24H0V0z\" fill=\"none\"/>\n",
              "    <path d=\"M18.56 5.44l.94 2.06.94-2.06 2.06-.94-2.06-.94-.94-2.06-.94 2.06-2.06.94zm-11 1L8.5 8.5l.94-2.06 2.06-.94-2.06-.94L8.5 2.5l-.94 2.06-2.06.94zm10 10l.94 2.06.94-2.06 2.06-.94-2.06-.94-.94-2.06-.94 2.06-2.06.94z\"/><path d=\"M17.41 7.96l-1.37-1.37c-.4-.4-.92-.59-1.43-.59-.52 0-1.04.2-1.43.59L10.3 9.45l-7.72 7.72c-.78.78-.78 2.05 0 2.83L4 21.41c.39.39.9.59 1.41.59.51 0 1.02-.2 1.41-.59l7.78-7.78 2.81-2.81c.8-.78.8-2.07 0-2.86zM5.41 20L4 18.59l7.72-7.72 1.47 1.35L5.41 20z\"/>\n",
              "  </svg>\n",
              "      </button>\n",
              "      \n",
              "  <style>\n",
              "    .colab-df-container {\n",
              "      display:flex;\n",
              "      flex-wrap:wrap;\n",
              "      gap: 12px;\n",
              "    }\n",
              "\n",
              "    .colab-df-convert {\n",
              "      background-color: #E8F0FE;\n",
              "      border: none;\n",
              "      border-radius: 50%;\n",
              "      cursor: pointer;\n",
              "      display: none;\n",
              "      fill: #1967D2;\n",
              "      height: 32px;\n",
              "      padding: 0 0 0 0;\n",
              "      width: 32px;\n",
              "    }\n",
              "\n",
              "    .colab-df-convert:hover {\n",
              "      background-color: #E2EBFA;\n",
              "      box-shadow: 0px 1px 2px rgba(60, 64, 67, 0.3), 0px 1px 3px 1px rgba(60, 64, 67, 0.15);\n",
              "      fill: #174EA6;\n",
              "    }\n",
              "\n",
              "    [theme=dark] .colab-df-convert {\n",
              "      background-color: #3B4455;\n",
              "      fill: #D2E3FC;\n",
              "    }\n",
              "\n",
              "    [theme=dark] .colab-df-convert:hover {\n",
              "      background-color: #434B5C;\n",
              "      box-shadow: 0px 1px 3px 1px rgba(0, 0, 0, 0.15);\n",
              "      filter: drop-shadow(0px 1px 2px rgba(0, 0, 0, 0.3));\n",
              "      fill: #FFFFFF;\n",
              "    }\n",
              "  </style>\n",
              "\n",
              "      <script>\n",
              "        const buttonEl =\n",
              "          document.querySelector('#df-8e2a079b-1631-4998-b3a1-dd4e67dff690 button.colab-df-convert');\n",
              "        buttonEl.style.display =\n",
              "          google.colab.kernel.accessAllowed ? 'block' : 'none';\n",
              "\n",
              "        async function convertToInteractive(key) {\n",
              "          const element = document.querySelector('#df-8e2a079b-1631-4998-b3a1-dd4e67dff690');\n",
              "          const dataTable =\n",
              "            await google.colab.kernel.invokeFunction('convertToInteractive',\n",
              "                                                     [key], {});\n",
              "          if (!dataTable) return;\n",
              "\n",
              "          const docLinkHtml = 'Like what you see? Visit the ' +\n",
              "            '<a target=\"_blank\" href=https://colab.research.google.com/notebooks/data_table.ipynb>data table notebook</a>'\n",
              "            + ' to learn more about interactive tables.';\n",
              "          element.innerHTML = '';\n",
              "          dataTable['output_type'] = 'display_data';\n",
              "          await google.colab.output.renderOutput(dataTable, element);\n",
              "          const docLink = document.createElement('div');\n",
              "          docLink.innerHTML = docLinkHtml;\n",
              "          element.appendChild(docLink);\n",
              "        }\n",
              "      </script>\n",
              "    </div>\n",
              "  </div>\n",
              "  "
            ]
          },
          "metadata": {},
          "execution_count": 97
        }
      ]
    },
    {
      "cell_type": "code",
      "source": [
        "# View Y\n",
        "y.head()"
      ],
      "metadata": {
        "colab": {
          "base_uri": "https://localhost:8080/"
        },
        "id": "5UhiNOJ8MWHG",
        "outputId": "ffed85fc-d5c0-4bdc-fdbf-5d41bd66f824"
      },
      "execution_count": null,
      "outputs": [
        {
          "output_type": "execute_result",
          "data": {
            "text/plain": [
              "0    16884.92400\n",
              "1     1725.55230\n",
              "2     4449.46200\n",
              "3    21984.47061\n",
              "4     3866.85520\n",
              "Name: charges, dtype: float64"
            ]
          },
          "metadata": {},
          "execution_count": 99
        }
      ]
    },
    {
      "cell_type": "code",
      "source": [
        "# Create training and test sets\n",
        "from sklearn.model_selection import train_test_split\n",
        "X_train, X_test, y_train, y_test = train_test_split(X, y, test_size=0.2, random_state=42)\n",
        "len(X), len(X_train), len(X_test)"
      ],
      "metadata": {
        "colab": {
          "base_uri": "https://localhost:8080/"
        },
        "id": "TZfLF9vINBo4",
        "outputId": "0a98b9e1-f4e3-4201-98bf-88a6708e1aaa"
      },
      "execution_count": null,
      "outputs": [
        {
          "output_type": "execute_result",
          "data": {
            "text/plain": [
              "(1338, 1070, 268)"
            ]
          },
          "metadata": {},
          "execution_count": 100
        }
      ]
    },
    {
      "cell_type": "code",
      "source": [
        "# Build a neural network (sor of like model_5 above)\n",
        "tf.random.set_seed(42)\n",
        "\n",
        "# 1. Create a model\n",
        "insurance_model = tf.keras.Sequential([\n",
        "    tf.keras.layers.Dense(10),\n",
        "    tf.keras.layers.Dense(1)\n",
        "])\n",
        "\n",
        "# 2. Compile the model\n",
        "insurance_model.compile(loss=tf.keras.losses.mae,\n",
        "                        optimizer=tf.keras.optimizers.SGD(),\n",
        "                        metrics=[\"mae\"])\n",
        "\n",
        "# 3. Fit the model\n",
        "insurance_model.fit(X_train, y_train, epochs=300, verbose=0)"
      ],
      "metadata": {
        "id": "cB9JsKYZOjUt"
      },
      "execution_count": null,
      "outputs": []
    },
    {
      "cell_type": "code",
      "source": [
        "# Check the results of the insurance model on the test data\n",
        "insurance_model.evaluate(X_test, y_test)"
      ],
      "metadata": {
        "colab": {
          "base_uri": "https://localhost:8080/"
        },
        "id": "pLue8x9POxa8",
        "outputId": "355b03b0-19a1-4c55-8d9f-6d3207578b18"
      },
      "execution_count": null,
      "outputs": [
        {
          "output_type": "stream",
          "name": "stdout",
          "text": [
            "9/9 [==============================] - 0s 3ms/step - loss: 3415.4319 - mae: 3415.4319\n"
          ]
        },
        {
          "output_type": "execute_result",
          "data": {
            "text/plain": [
              "[3415.431884765625, 3415.431884765625]"
            ]
          },
          "metadata": {},
          "execution_count": 109
        }
      ]
    },
    {
      "cell_type": "code",
      "source": [
        "y_train.median(), y_train.mean()"
      ],
      "metadata": {
        "colab": {
          "base_uri": "https://localhost:8080/"
        },
        "id": "XJL2mHYSQIXG",
        "outputId": "6600e75b-6859-4d50-adc6-b6e7835ce1f9"
      },
      "execution_count": null,
      "outputs": [
        {
          "output_type": "execute_result",
          "data": {
            "text/plain": [
              "(9575.4421, 13346.089736364485)"
            ]
          },
          "metadata": {},
          "execution_count": 110
        }
      ]
    },
    {
      "cell_type": "markdown",
      "source": [
        "Right now it looks like our model isn't performing too well... let's try and improve it!\n",
        "\n",
        "To (try) improve our model, we'll run 2 experiments:\n",
        "1. Add an extra layer with more hidden units and use the Adam optimizer\n",
        "2. Train for longer (200 epochs)\n",
        "3. Change the learning rate"
      ],
      "metadata": {
        "id": "yDAFJF0cQPoW"
      }
    },
    {
      "cell_type": "code",
      "source": [
        "# Set random seed\n",
        "tf.random.set_seed(42)\n",
        "\n",
        "# 1. Create the model\n",
        "insurance_model_2 = tf.keras.Sequential([\n",
        "    tf.keras.layers.Dense(100),\n",
        "    tf.keras.layers.Dense(10),\n",
        "    tf.keras.layers.Dense(1)\n",
        "])\n",
        "\n",
        "# 2. Compile our model\n",
        "insurance_model_2.compile(loss=tf.keras.losses.mae,\n",
        "                          optimizer=tf.keras.optimizers.Adam(),\n",
        "                          metrics=[\"mae\"])\n",
        "\n",
        "# 3. Fit the model\n",
        "insurance_model_2.fit(X_train, y_train, epochs=100, verbose=0)"
      ],
      "metadata": {
        "colab": {
          "base_uri": "https://localhost:8080/"
        },
        "id": "QbBWHOClSRiq",
        "outputId": "ed3457f7-cc89-4278-a96d-246fa2d65e8c"
      },
      "execution_count": null,
      "outputs": [
        {
          "output_type": "execute_result",
          "data": {
            "text/plain": [
              "<keras.callbacks.History at 0x7fa9a8034550>"
            ]
          },
          "metadata": {},
          "execution_count": 115
        }
      ]
    },
    {
      "cell_type": "code",
      "source": [
        "# Evaluate the larger model\n",
        "insurance_model_2.evaluate(X_test, y_test)"
      ],
      "metadata": {
        "colab": {
          "base_uri": "https://localhost:8080/"
        },
        "id": "-jD7yirhSyBU",
        "outputId": "67ba4eaa-a113-4cd5-c9ff-00d87f479d5a"
      },
      "execution_count": null,
      "outputs": [
        {
          "output_type": "stream",
          "name": "stdout",
          "text": [
            "9/9 [==============================] - 0s 3ms/step - loss: 4924.4956 - mae: 4924.4956\n"
          ]
        },
        {
          "output_type": "execute_result",
          "data": {
            "text/plain": [
              "[4924.49560546875, 4924.49560546875]"
            ]
          },
          "metadata": {},
          "execution_count": 116
        }
      ]
    },
    {
      "cell_type": "code",
      "source": [
        "insurance_model.evaluate(X_test, y_test)"
      ],
      "metadata": {
        "colab": {
          "base_uri": "https://localhost:8080/"
        },
        "id": "q0TEou1CTY2t",
        "outputId": "046375e9-a07d-4fc9-e96a-97fdbc7d3384"
      },
      "execution_count": null,
      "outputs": [
        {
          "output_type": "stream",
          "name": "stdout",
          "text": [
            "9/9 [==============================] - 0s 2ms/step - loss: 7097.6890 - mae: 7097.6890\n"
          ]
        },
        {
          "output_type": "execute_result",
          "data": {
            "text/plain": [
              "[7097.68896484375, 7097.68896484375]"
            ]
          },
          "metadata": {},
          "execution_count": 119
        }
      ]
    },
    {
      "cell_type": "code",
      "source": [
        "# Set random seed\n",
        "tf.random.set_seed(42)\n",
        "\n",
        "# 1. Create the model\n",
        "insurance_model_3 = tf.keras.Sequential([\n",
        "    tf.keras.layers.Dense(100),\n",
        "    tf.keras.layers.Dense(10),\n",
        "    tf.keras.layers.Dense(1)\n",
        "])\n",
        "\n",
        "# 2. Compile the model\n",
        "insurance_model_3.compile(loss=tf.keras.losses.mae,\n",
        "                          optimizer=tf.keras.optimizers.Adam(),\n",
        "                          metrics=[\"mae\"])\n",
        "\n",
        "# 3. Fit the model\n",
        "history = insurance_model_3.fit(X_train, y_train, verbose=0, epochs=200)"
      ],
      "metadata": {
        "id": "_WhbFKesTcTl"
      },
      "execution_count": null,
      "outputs": []
    },
    {
      "cell_type": "code",
      "source": [
        "# Evaluate our third model\n",
        "insurance_model_3.evaluate(X_test, y_test)"
      ],
      "metadata": {
        "colab": {
          "base_uri": "https://localhost:8080/"
        },
        "id": "dgXr3XYhUb_I",
        "outputId": "58196359-90c9-41ec-9cb1-db4da13e3f35"
      },
      "execution_count": null,
      "outputs": [
        {
          "output_type": "stream",
          "name": "stdout",
          "text": [
            "9/9 [==============================] - 0s 4ms/step - loss: 3488.7854 - mae: 3488.7856\n"
          ]
        },
        {
          "output_type": "execute_result",
          "data": {
            "text/plain": [
              "[3488.785400390625, 3488.78564453125]"
            ]
          },
          "metadata": {},
          "execution_count": 123
        }
      ]
    },
    {
      "cell_type": "code",
      "source": [
        "insurance_model.evaluate(X_test, y_test)"
      ],
      "metadata": {
        "colab": {
          "base_uri": "https://localhost:8080/"
        },
        "id": "bzSlh-UCUl2y",
        "outputId": "4c726ca7-38a7-42c7-903d-cd7891a99966"
      },
      "execution_count": null,
      "outputs": [
        {
          "output_type": "stream",
          "name": "stdout",
          "text": [
            "9/9 [==============================] - 0s 3ms/step - loss: 7097.6890 - mae: 7097.6890\n"
          ]
        },
        {
          "output_type": "execute_result",
          "data": {
            "text/plain": [
              "[7097.68896484375, 7097.68896484375]"
            ]
          },
          "metadata": {},
          "execution_count": 124
        }
      ]
    },
    {
      "cell_type": "code",
      "source": [
        "tf.random.set_seed(42)\n",
        "\n",
        "# Create the model\n",
        "insurance_model_4 = tf.keras.Sequential([\n",
        "    tf.keras.layers.Dense(100),\n",
        "    tf.keras.layers.Dense(10),\n",
        "    tf.keras.layers.Dense(1)\n",
        "])\n",
        "\n",
        "# Compile the model\n",
        "insurance_model_4.compile(loss=tf.keras.losses.mae,\n",
        "                          optimizer=tf.keras.optimizers.Adam(learning_rate=0.01),\n",
        "                          metrics=[\"mae\"])\n",
        "\n",
        "# Fit the model\n",
        "insurance_model_4.fit(X_train, y_train, epochs= 200, verbose=0)"
      ],
      "metadata": {
        "colab": {
          "base_uri": "https://localhost:8080/"
        },
        "id": "rl4rWUXQWWpQ",
        "outputId": "23069dcc-9822-4798-88bb-a244777429de"
      },
      "execution_count": null,
      "outputs": [
        {
          "output_type": "execute_result",
          "data": {
            "text/plain": [
              "<keras.callbacks.History at 0x7fa9a71abd90>"
            ]
          },
          "metadata": {},
          "execution_count": 136
        }
      ]
    },
    {
      "cell_type": "code",
      "source": [
        "# Evaluate our fourth model\n",
        "insurance_model_4.evaluate(X_test, y_test)"
      ],
      "metadata": {
        "colab": {
          "base_uri": "https://localhost:8080/"
        },
        "id": "Mb6awguhXDva",
        "outputId": "d92f7aa3-eed2-4a59-b0da-0122d38eead4"
      },
      "execution_count": null,
      "outputs": [
        {
          "output_type": "stream",
          "name": "stdout",
          "text": [
            "9/9 [==============================] - 0s 3ms/step - loss: 3186.3906 - mae: 3186.3906\n"
          ]
        },
        {
          "output_type": "execute_result",
          "data": {
            "text/plain": [
              "[3186.390625, 3186.390625]"
            ]
          },
          "metadata": {},
          "execution_count": 137
        }
      ]
    },
    {
      "cell_type": "code",
      "source": [
        "# Plot history (also known as a loss curve or a training curve)\n",
        "pd.DataFrame(history.history).plot()\n",
        "plt.ylabel(\"loss\")\n",
        "plt.xlabel(\"epochs\")"
      ],
      "metadata": {
        "colab": {
          "base_uri": "https://localhost:8080/",
          "height": 297
        },
        "id": "0ciI7Wt8UooQ",
        "outputId": "3c165e1d-1b44-4c3e-e588-bd307db2660d"
      },
      "execution_count": null,
      "outputs": [
        {
          "output_type": "execute_result",
          "data": {
            "text/plain": [
              "Text(0.5, 0, 'epochs')"
            ]
          },
          "metadata": {},
          "execution_count": 125
        },
        {
          "output_type": "display_data",
          "data": {
            "text/plain": [
              "<Figure size 432x288 with 1 Axes>"
            ],
            "image/png": "[encoded data removed]"
          },
          "metadata": {
            "needs_background": "light"
          }
        }
      ]
    },
    {
      "cell_type": "markdown",
      "source": [
        "**Question:** How long should you train for?\n",
        "\n",
        "It depends. Really... it depends on the problem you're working on. However, many people have asked this question before... so TensorFlow has a solution! It's called the EarlyStopping Callback, which is a TensorFlow component you can add to your model to stop training once it stops improving a certain metric.  "
      ],
      "metadata": {
        "id": "Kc2C2JDfU3iJ"
      }
    },
    {
      "cell_type": "markdown",
      "source": [
        "## Preprocessing data (normalization and standardization)\n",
        "\n",
        "In terms of scaling values, neural networks tend to prefer normalization.\n",
        "If you're not sure on which to use, you could try both and see which performs better."
      ],
      "metadata": {
        "id": "U6KrCVc-V16n"
      }
    },
    {
      "cell_type": "code",
      "source": [
        "import pandas as pd\n",
        "import matplotlib.pyplot as plt\n",
        "import tensorflow as tf\n",
        "\n",
        "# Read in the insurance dataframe\n",
        "insurance = pd.read_csv(\"https://raw.githubusercontent.com/stedy/Machine-Learning-with-R-datasets/master/insurance.csv\")\n",
        "insurance"
      ],
      "metadata": {
        "colab": {
          "base_uri": "https://localhost:8080/",
          "height": 423
        },
        "id": "m6Jg5z37aGz4",
        "outputId": "fba08a20-4705-4dbb-b5e3-6957d4a914fd"
      },
      "execution_count": null,
      "outputs": [
        {
          "output_type": "execute_result",
          "data": {
            "text/plain": [
              "      age     sex     bmi  children smoker     region      charges\n",
              "0      19  female  27.900         0    yes  southwest  16884.92400\n",
              "1      18    male  33.770         1     no  southeast   1725.55230\n",
              "2      28    male  33.000         3     no  southeast   4449.46200\n",
              "3      33    male  22.705         0     no  northwest  21984.47061\n",
              "4      32    male  28.880         0     no  northwest   3866.85520\n",
              "...   ...     ...     ...       ...    ...        ...          ...\n",
              "1333   50    male  30.970         3     no  northwest  10600.54830\n",
              "1334   18  female  31.920         0     no  northeast   2205.98080\n",
              "1335   18  female  36.850         0     no  southeast   1629.83350\n",
              "1336   21  female  25.800         0     no  southwest   2007.94500\n",
              "1337   61  female  29.070         0    yes  northwest  29141.36030\n",
              "\n",
              "[1338 rows x 7 columns]"
            ],
            "text/html": [
              "\n",
              "  <div id=\"df-bf5d254b-0cde-429e-80e0-cfc09a903bf2\">\n",
              "    <div class=\"colab-df-container\">\n",
              "      <div>\n",
              "<style scoped>\n",
              "    .dataframe tbody tr th:only-of-type {\n",
              "        vertical-align: middle;\n",
              "    }\n",
              "\n",
              "    .dataframe tbody tr th {\n",
              "        vertical-align: top;\n",
              "    }\n",
              "\n",
              "    .dataframe thead th {\n",
              "        text-align: right;\n",
              "    }\n",
              "</style>\n",
              "<table border=\"1\" class=\"dataframe\">\n",
              "  <thead>\n",
              "    <tr style=\"text-align: right;\">\n",
              "      <th></th>\n",
              "      <th>age</th>\n",
              "      <th>sex</th>\n",
              "      <th>bmi</th>\n",
              "      <th>children</th>\n",
              "      <th>smoker</th>\n",
              "      <th>region</th>\n",
              "      <th>charges</th>\n",
              "    </tr>\n",
              "  </thead>\n",
              "  <tbody>\n",
              "    <tr>\n",
              "      <th>0</th>\n",
              "      <td>19</td>\n",
              "      <td>female</td>\n",
              "      <td>27.900</td>\n",
              "      <td>0</td>\n",
              "      <td>yes</td>\n",
              "      <td>southwest</td>\n",
              "      <td>16884.92400</td>\n",
              "    </tr>\n",
              "    <tr>\n",
              "      <th>1</th>\n",
              "      <td>18</td>\n",
              "      <td>male</td>\n",
              "      <td>33.770</td>\n",
              "      <td>1</td>\n",
              "      <td>no</td>\n",
              "      <td>southeast</td>\n",
              "      <td>1725.55230</td>\n",
              "    </tr>\n",
              "    <tr>\n",
              "      <th>2</th>\n",
              "      <td>28</td>\n",
              "      <td>male</td>\n",
              "      <td>33.000</td>\n",
              "      <td>3</td>\n",
              "      <td>no</td>\n",
              "      <td>southeast</td>\n",
              "      <td>4449.46200</td>\n",
              "    </tr>\n",
              "    <tr>\n",
              "      <th>3</th>\n",
              "      <td>33</td>\n",
              "      <td>male</td>\n",
              "      <td>22.705</td>\n",
              "      <td>0</td>\n",
              "      <td>no</td>\n",
              "      <td>northwest</td>\n",
              "      <td>21984.47061</td>\n",
              "    </tr>\n",
              "    <tr>\n",
              "      <th>4</th>\n",
              "      <td>32</td>\n",
              "      <td>male</td>\n",
              "      <td>28.880</td>\n",
              "      <td>0</td>\n",
              "      <td>no</td>\n",
              "      <td>northwest</td>\n",
              "      <td>3866.85520</td>\n",
              "    </tr>\n",
              "    <tr>\n",
              "      <th>...</th>\n",
              "      <td>...</td>\n",
              "      <td>...</td>\n",
              "      <td>...</td>\n",
              "      <td>...</td>\n",
              "      <td>...</td>\n",
              "      <td>...</td>\n",
              "      <td>...</td>\n",
              "    </tr>\n",
              "    <tr>\n",
              "      <th>1333</th>\n",
              "      <td>50</td>\n",
              "      <td>male</td>\n",
              "      <td>30.970</td>\n",
              "      <td>3</td>\n",
              "      <td>no</td>\n",
              "      <td>northwest</td>\n",
              "      <td>10600.54830</td>\n",
              "    </tr>\n",
              "    <tr>\n",
              "      <th>1334</th>\n",
              "      <td>18</td>\n",
              "      <td>female</td>\n",
              "      <td>31.920</td>\n",
              "      <td>0</td>\n",
              "      <td>no</td>\n",
              "      <td>northeast</td>\n",
              "      <td>2205.98080</td>\n",
              "    </tr>\n",
              "    <tr>\n",
              "      <th>1335</th>\n",
              "      <td>18</td>\n",
              "      <td>female</td>\n",
              "      <td>36.850</td>\n",
              "      <td>0</td>\n",
              "      <td>no</td>\n",
              "      <td>southeast</td>\n",
              "      <td>1629.83350</td>\n",
              "    </tr>\n",
              "    <tr>\n",
              "      <th>1336</th>\n",
              "      <td>21</td>\n",
              "      <td>female</td>\n",
              "      <td>25.800</td>\n",
              "      <td>0</td>\n",
              "      <td>no</td>\n",
              "      <td>southwest</td>\n",
              "      <td>2007.94500</td>\n",
              "    </tr>\n",
              "    <tr>\n",
              "      <th>1337</th>\n",
              "      <td>61</td>\n",
              "      <td>female</td>\n",
              "      <td>29.070</td>\n",
              "      <td>0</td>\n",
              "      <td>yes</td>\n",
              "      <td>northwest</td>\n",
              "      <td>29141.36030</td>\n",
              "    </tr>\n",
              "  </tbody>\n",
              "</table>\n",
              "<p>1338 rows × 7 columns</p>\n",
              "</div>\n",
              "      <button class=\"colab-df-convert\" onclick=\"convertToInteractive('df-bf5d254b-0cde-429e-80e0-cfc09a903bf2')\"\n",
              "              title=\"Convert this dataframe to an interactive table.\"\n",
              "              style=\"display:none;\">\n",
              "        \n",
              "  <svg xmlns=\"http://www.w3.org/2000/svg\" height=\"24px\"viewBox=\"0 0 24 24\"\n",
              "       width=\"24px\">\n",
              "    <path d=\"M0 0h24v24H0V0z\" fill=\"none\"/>\n",
              "    <path d=\"M18.56 5.44l.94 2.06.94-2.06 2.06-.94-2.06-.94-.94-2.06-.94 2.06-2.06.94zm-11 1L8.5 8.5l.94-2.06 2.06-.94-2.06-.94L8.5 2.5l-.94 2.06-2.06.94zm10 10l.94 2.06.94-2.06 2.06-.94-2.06-.94-.94-2.06-.94 2.06-2.06.94z\"/><path d=\"M17.41 7.96l-1.37-1.37c-.4-.4-.92-.59-1.43-.59-.52 0-1.04.2-1.43.59L10.3 9.45l-7.72 7.72c-.78.78-.78 2.05 0 2.83L4 21.41c.39.39.9.59 1.41.59.51 0 1.02-.2 1.41-.59l7.78-7.78 2.81-2.81c.8-.78.8-2.07 0-2.86zM5.41 20L4 18.59l7.72-7.72 1.47 1.35L5.41 20z\"/>\n",
              "  </svg>\n",
              "      </button>\n",
              "      \n",
              "  <style>\n",
              "    .colab-df-container {\n",
              "      display:flex;\n",
              "      flex-wrap:wrap;\n",
              "      gap: 12px;\n",
              "    }\n",
              "\n",
              "    .colab-df-convert {\n",
              "      background-color: #E8F0FE;\n",
              "      border: none;\n",
              "      border-radius: 50%;\n",
              "      cursor: pointer;\n",
              "      display: none;\n",
              "      fill: #1967D2;\n",
              "      height: 32px;\n",
              "      padding: 0 0 0 0;\n",
              "      width: 32px;\n",
              "    }\n",
              "\n",
              "    .colab-df-convert:hover {\n",
              "      background-color: #E2EBFA;\n",
              "      box-shadow: 0px 1px 2px rgba(60, 64, 67, 0.3), 0px 1px 3px 1px rgba(60, 64, 67, 0.15);\n",
              "      fill: #174EA6;\n",
              "    }\n",
              "\n",
              "    [theme=dark] .colab-df-convert {\n",
              "      background-color: #3B4455;\n",
              "      fill: #D2E3FC;\n",
              "    }\n",
              "\n",
              "    [theme=dark] .colab-df-convert:hover {\n",
              "      background-color: #434B5C;\n",
              "      box-shadow: 0px 1px 3px 1px rgba(0, 0, 0, 0.15);\n",
              "      filter: drop-shadow(0px 1px 2px rgba(0, 0, 0, 0.3));\n",
              "      fill: #FFFFFF;\n",
              "    }\n",
              "  </style>\n",
              "\n",
              "      <script>\n",
              "        const buttonEl =\n",
              "          document.querySelector('#df-bf5d254b-0cde-429e-80e0-cfc09a903bf2 button.colab-df-convert');\n",
              "        buttonEl.style.display =\n",
              "          google.colab.kernel.accessAllowed ? 'block' : 'none';\n",
              "\n",
              "        async function convertToInteractive(key) {\n",
              "          const element = document.querySelector('#df-bf5d254b-0cde-429e-80e0-cfc09a903bf2');\n",
              "          const dataTable =\n",
              "            await google.colab.kernel.invokeFunction('convertToInteractive',\n",
              "                                                     [key], {});\n",
              "          if (!dataTable) return;\n",
              "\n",
              "          const docLinkHtml = 'Like what you see? Visit the ' +\n",
              "            '<a target=\"_blank\" href=https://colab.research.google.com/notebooks/data_table.ipynb>data table notebook</a>'\n",
              "            + ' to learn more about interactive tables.';\n",
              "          element.innerHTML = '';\n",
              "          dataTable['output_type'] = 'display_data';\n",
              "          await google.colab.output.renderOutput(dataTable, element);\n",
              "          const docLink = document.createElement('div');\n",
              "          docLink.innerHTML = docLinkHtml;\n",
              "          element.appendChild(docLink);\n",
              "        }\n",
              "      </script>\n",
              "    </div>\n",
              "  </div>\n",
              "  "
            ]
          },
          "metadata": {},
          "execution_count": 144
        }
      ]
    },
    {
      "cell_type": "markdown",
      "source": [
        "To prepare our data, we can borrow a few classes from Scikit-Learn"
      ],
      "metadata": {
        "id": "Jg7cyYJraGxB"
      }
    },
    {
      "cell_type": "code",
      "source": [
        "from sklearn.compose import make_column_transformer\n",
        "from sklearn.preprocessing import MinMaxScaler, OneHotEncoder\n",
        "from sklearn.model_selection import train_test_split\n",
        "\n",
        "# Create a column transformer\n",
        "ct = make_column_transformer(\n",
        "    (MinMaxScaler(), [\"age\", \"bmi\", \"children\"]), # turn all values in these columns between 0s and 1s\n",
        "    (OneHotEncoder(handle_unknown=\"ignore\"), [\"sex\", \"smoker\", \"region\"])\n",
        ")\n",
        "\n",
        "# Create X & y\n",
        "X = insurance.drop(\"charges\", axis=1)\n",
        "y = insurance[\"charges\"]\n",
        "\n",
        "# Build our train and test sets\n",
        "X_train, X_test, y_train, y_test = train_test_split(X, y, test_size=0.2, random_state=42)\n",
        "\n",
        "# Fit the column transformer to our training data\n",
        "ct.fit(X_train)\n",
        "\n",
        "# Transform training and test data with normalization (MinMaxScaler) and OneHotEncoder\n",
        "X_train_normal = ct.transform(X_train)\n",
        "X_test_normal = ct.transform(X_test)"
      ],
      "metadata": {
        "id": "ZmTDRNrba-wn"
      },
      "execution_count": null,
      "outputs": []
    },
    {
      "cell_type": "code",
      "source": [
        "# What does our data look like now?\n",
        "X_train.loc[0]"
      ],
      "metadata": {
        "colab": {
          "base_uri": "https://localhost:8080/"
        },
        "id": "6orLKpFucmxR",
        "outputId": "ba31fb8c-0c64-4172-8662-1560bd4d49da"
      },
      "execution_count": null,
      "outputs": [
        {
          "output_type": "execute_result",
          "data": {
            "text/plain": [
              "age                19\n",
              "sex            female\n",
              "bmi              27.9\n",
              "children            0\n",
              "smoker            yes\n",
              "region      southwest\n",
              "Name: 0, dtype: object"
            ]
          },
          "metadata": {},
          "execution_count": 152
        }
      ]
    },
    {
      "cell_type": "code",
      "source": [
        "X_train_normal[0]"
      ],
      "metadata": {
        "colab": {
          "base_uri": "https://localhost:8080/"
        },
        "id": "hsF3j4jecuxl",
        "outputId": "cf3f8889-5196-4b99-cadc-00e45fec322f"
      },
      "execution_count": null,
      "outputs": [
        {
          "output_type": "execute_result",
          "data": {
            "text/plain": [
              "array([0.60869565, 0.10734463, 0.4       , 1.        , 0.        ,\n",
              "       1.        , 0.        , 0.        , 1.        , 0.        ,\n",
              "       0.        ])"
            ]
          },
          "metadata": {},
          "execution_count": 153
        }
      ]
    },
    {
      "cell_type": "code",
      "source": [
        "X_train.shape, X_train_normal.shape"
      ],
      "metadata": {
        "colab": {
          "base_uri": "https://localhost:8080/"
        },
        "id": "l5Vc6grvc5Fl",
        "outputId": "3acf6154-fa68-40e9-c8e7-42be332e04a1"
      },
      "execution_count": null,
      "outputs": [
        {
          "output_type": "execute_result",
          "data": {
            "text/plain": [
              "((1070, 6), (1070, 11))"
            ]
          },
          "metadata": {},
          "execution_count": 154
        }
      ]
    },
    {
      "cell_type": "markdown",
      "source": [
        "Beautiful! Our data has been normalized and one hot encoded. Now let's build a neural network model on it and see how it goes."
      ],
      "metadata": {
        "id": "vqo__2vHdecB"
      }
    },
    {
      "cell_type": "code",
      "source": [
        "# Build a neural network model to fit on our normalized data\n",
        "tf.random.set_seed(42)\n",
        "\n",
        "# 1. Create the model\n",
        "insurance_model_4 = tf.keras.Sequential([\n",
        "    tf.keras.layers.Dense(100),\n",
        "    tf.keras.layers.Dense(10),\n",
        "    tf.keras.layers.Dense(1)\n",
        "])\n",
        "\n",
        "# 2. Compile the model\n",
        "insurance_model_4.compile(loss=tf.keras.losses.mae,\n",
        "                               optimizer=tf.keras.optimizers.Adam(),\n",
        "                               metrics=[\"mae\"])\n",
        "\n",
        "# 3. Fit the model\n",
        "insurance_model_4.fit(X_train_normal, y_train, epochs=100, verbose=0)"
      ],
      "metadata": {
        "colab": {
          "base_uri": "https://localhost:8080/"
        },
        "id": "AD-D3FovdpyN",
        "outputId": "d6b3487f-aa14-4fa6-ac76-f61a6363b39c"
      },
      "execution_count": null,
      "outputs": [
        {
          "output_type": "execute_result",
          "data": {
            "text/plain": [
              "<keras.callbacks.History at 0x7fa9a6a99910>"
            ]
          },
          "metadata": {},
          "execution_count": 157
        }
      ]
    },
    {
      "cell_type": "code",
      "source": [
        "# Evaluate our insurance model trained on normalized data\n",
        "insurance_model_4.evaluate(X_test_normal, y_test)"
      ],
      "metadata": {
        "id": "2PbtOiA5ej4Z",
        "outputId": "6274168e-2688-4e2a-a57a-ad01bc968455",
        "colab": {
          "base_uri": "https://localhost:8080/"
        }
      },
      "execution_count": null,
      "outputs": [
        {
          "output_type": "stream",
          "name": "stdout",
          "text": [
            "9/9 [==============================] - 0s 3ms/step - loss: 3438.7844 - mae: 3438.7844\n"
          ]
        },
        {
          "output_type": "execute_result",
          "data": {
            "text/plain": [
              "[3438.784423828125, 3438.784423828125]"
            ]
          },
          "metadata": {},
          "execution_count": 158
        }
      ]
    },
    {
      "cell_type": "code",
      "source": [
        "X[\"age\"].plot(kind=\"hist\")"
      ],
      "metadata": {
        "colab": {
          "base_uri": "https://localhost:8080/",
          "height": 283
        },
        "id": "0XTcSs0fWEhF",
        "outputId": "c008a826-6871-4dbd-b6f6-4ad057cab252"
      },
      "execution_count": null,
      "outputs": [
        {
          "output_type": "execute_result",
          "data": {
            "text/plain": [
              "<matplotlib.axes._subplots.AxesSubplot at 0x7fa9a6fdd8d0>"
            ]
          },
          "metadata": {},
          "execution_count": 140
        },
        {
          "output_type": "display_data",
          "data": {
            "text/plain": [
              "<Figure size 432x288 with 1 Axes>"
            ],
            "image/png": "[encoded data removed]"
          },
          "metadata": {
            "needs_background": "light"
          }
        }
      ]
    },
    {
      "cell_type": "code",
      "source": [
        "X[\"bmi\"].plot(kind=\"hist\")"
      ],
      "metadata": {
        "colab": {
          "base_uri": "https://localhost:8080/",
          "height": 283
        },
        "id": "w7nqmlKpWD3r",
        "outputId": "db2e5427-a83c-4110-fccf-88b900446e68"
      },
      "execution_count": null,
      "outputs": [
        {
          "output_type": "execute_result",
          "data": {
            "text/plain": [
              "<matplotlib.axes._subplots.AxesSubplot at 0x7fa9a6c375d0>"
            ]
          },
          "metadata": {},
          "execution_count": 142
        },
        {
          "output_type": "display_data",
          "data": {
            "text/plain": [
              "<Figure size 432x288 with 1 Axes>"
            ],
            "image/png": "[encoded data removed]"
          },
          "metadata": {
            "needs_background": "light"
          }
        }
      ]
    },
    {
      "cell_type": "code",
      "source": [
        "X[\"children\"].value_counts()"
      ],
      "metadata": {
        "colab": {
          "base_uri": "https://localhost:8080/"
        },
        "id": "8MMliZxxZa_P",
        "outputId": "a1c8132d-156d-4883-c939-b52262bd656a"
      },
      "execution_count": null,
      "outputs": [
        {
          "output_type": "execute_result",
          "data": {
            "text/plain": [
              "0    574\n",
              "1    324\n",
              "2    240\n",
              "3    157\n",
              "4     25\n",
              "5     18\n",
              "Name: children, dtype: int64"
            ]
          },
          "metadata": {},
          "execution_count": 143
        }
      ]
    },
    {
      "cell_type": "markdown",
      "source": [
        "### Exercises and extra-curriculum"
      ],
      "metadata": {
        "id": "LOCB6UiCZhD6"
      }
    },
    {
      "cell_type": "code",
      "source": [
        "import tensorflow as tf\n",
        "import matplotlib.pyplot as plt\n",
        "import numpy as np\n",
        "import pandas as pd"
      ],
      "metadata": {
        "id": "fQCSbhYVe--z"
      },
      "execution_count": null,
      "outputs": []
    },
    {
      "cell_type": "code",
      "source": [
        "# Creating the bigger dataset\n",
        "X = [-7]\n",
        "y = [3]\n",
        "for i in range(200):\n",
        "  X.append(X[i] + 3)  \n",
        "for i in range(200):\n",
        "  y.append(y[i] + 3)\n",
        "plt.plot(X, y)"
      ],
      "metadata": {
        "colab": {
          "base_uri": "https://localhost:8080/",
          "height": 283
        },
        "id": "39vt0ugCUhad",
        "outputId": "98fd5174-b2f9-4dab-eca1-d7a401d5d0a2"
      },
      "execution_count": null,
      "outputs": [
        {
          "output_type": "execute_result",
          "data": {
            "text/plain": [
              "[<matplotlib.lines.Line2D at 0x7f6513ede290>]"
            ]
          },
          "metadata": {},
          "execution_count": 2
        },
        {
          "output_type": "display_data",
          "data": {
            "text/plain": [
              "<Figure size 432x288 with 1 Axes>"
            ],
            "image/png": "[encoded data removed]"
          },
          "metadata": {
            "needs_background": "light"
          }
        }
      ]
    },
    {
      "cell_type": "code",
      "source": [
        "# Diving our data into training and test sets\n",
        "X_train = tf.constant(X[:160])\n",
        "y_train = tf.constant(y[:160])\n",
        "X_test = tf.constant(X[160:])\n",
        "y_test = tf.constant(y[160:])"
      ],
      "metadata": {
        "id": "rFuEkTfnXq0F"
      },
      "execution_count": null,
      "outputs": []
    },
    {
      "cell_type": "code",
      "source": [
        "# Building the model\n",
        "tf.random.set_seed(42)\n",
        "model = tf.keras.Sequential([\n",
        "    tf.keras.layers.Dense(10),\n",
        "    tf.keras.layers.Dense(10),\n",
        "    tf.keras.layers.Dense(10),\n",
        "    tf.keras.layers.Dense(1)\n",
        "])\n",
        "\n",
        "model.compile(loss=tf.losses.mae,\n",
        "              optimizer=tf.optimizers.Adam(learning_rate=0.001),\n",
        "              metrics=[\"mae\"])\n",
        "\n",
        "model.fit(tf.expand_dims(X_train, axis=-1), y_train, epochs=100, verbose=0)"
      ],
      "metadata": {
        "colab": {
          "base_uri": "https://localhost:8080/"
        },
        "id": "KQb4w1rPUjwY",
        "outputId": "99f4bf52-4f03-43f2-a9a5-7697325434a9"
      },
      "execution_count": null,
      "outputs": [
        {
          "output_type": "execute_result",
          "data": {
            "text/plain": [
              "<keras.callbacks.History at 0x7f650f6d8950>"
            ]
          },
          "metadata": {},
          "execution_count": 4
        }
      ]
    },
    {
      "cell_type": "code",
      "source": [
        "# Evaluating our model\n",
        "model.evaluate(X_test, y_test)"
      ],
      "metadata": {
        "colab": {
          "base_uri": "https://localhost:8080/"
        },
        "id": "OMKeAi1jVJVB",
        "outputId": "6c1b779d-e956-470a-f2a0-3ec276a6f38d"
      },
      "execution_count": null,
      "outputs": [
        {
          "output_type": "stream",
          "name": "stdout",
          "text": [
            "2/2 [==============================] - 0s 8ms/step - loss: 5.7791 - mae: 4.5434\n"
          ]
        },
        {
          "output_type": "execute_result",
          "data": {
            "text/plain": [
              "[5.77910852432251, 4.543420314788818]"
            ]
          },
          "metadata": {},
          "execution_count": 5
        }
      ]
    },
    {
      "cell_type": "code",
      "source": [
        "# Predicting with our model\n",
        "y_pred = model.predict(X_test)"
      ],
      "metadata": {
        "colab": {
          "base_uri": "https://localhost:8080/"
        },
        "id": "ZcPwdgXLZjXM",
        "outputId": "335ceae6-bb0e-4c0a-a5f7-a26b298afeb2"
      },
      "execution_count": null,
      "outputs": [
        {
          "output_type": "stream",
          "name": "stdout",
          "text": [
            "2/2 [==============================] - 0s 5ms/step\n"
          ]
        }
      ]
    },
    {
      "cell_type": "code",
      "source": [
        "# Let's create a plotting function\n",
        "def plot_predictions(train_data=X_train,\n",
        "                     train_labels=y_train,\n",
        "                     test_data=X_test,\n",
        "                     test_labels=y_test,\n",
        "                     predictions=y_pred):\n",
        "  \"\"\"\n",
        "  Plots training data, test data and compares predictions to ground truth labels.\n",
        "  \"\"\"\n",
        "  plt.figure(figsize=(10, 7))\n",
        "  \n",
        "  # Plot training data in blue\n",
        "  plt.scatter(train_data, train_labels, c=\"b\", label=\"Training data\")\n",
        "\n",
        "  # Plot testing data in green\n",
        "  plt.scatter(test_data, test_labels, c=\"g\", label=\"Testing data\")\n",
        "\n",
        "  # Plot model's predictions in red\n",
        "  plt.scatter(test_data, predictions, c=\"r\", label=\"Predictions\")\n",
        "\n",
        "  # Show the legend\n",
        "  plt.legend();"
      ],
      "metadata": {
        "id": "HcxGBflFcs1U"
      },
      "execution_count": null,
      "outputs": []
    },
    {
      "cell_type": "code",
      "source": [
        "plot_predictions()"
      ],
      "metadata": {
        "colab": {
          "base_uri": "https://localhost:8080/",
          "height": 428
        },
        "id": "kWH23nMWbNd_",
        "outputId": "485ce44a-fd8a-4819-c7de-77647f1ac57b"
      },
      "execution_count": null,
      "outputs": [
        {
          "output_type": "display_data",
          "data": {
            "text/plain": [
              "<Figure size 720x504 with 1 Axes>"
            ],
            "image/png": "[encoded data removed]"
          },
          "metadata": {
            "needs_background": "light"
          }
        }
      ]
    },
    {
      "cell_type": "code",
      "source": [
        "# Creating the insurance model\n",
        "insurance = pd.read_csv(\"https://raw.githubusercontent.com/stedy/Machine-Learning-with-R-datasets/master/insurance.csv\")\n",
        "insurance"
      ],
      "metadata": {
        "colab": {
          "base_uri": "https://localhost:8080/",
          "height": 423
        },
        "id": "RPTh8hdMeHfq",
        "outputId": "0868b970-2717-45aa-b64f-dc5296a80fda"
      },
      "execution_count": null,
      "outputs": [
        {
          "output_type": "execute_result",
          "data": {
            "text/plain": [
              "      age     sex     bmi  children smoker     region      charges\n",
              "0      19  female  27.900         0    yes  southwest  16884.92400\n",
              "1      18    male  33.770         1     no  southeast   1725.55230\n",
              "2      28    male  33.000         3     no  southeast   4449.46200\n",
              "3      33    male  22.705         0     no  northwest  21984.47061\n",
              "4      32    male  28.880         0     no  northwest   3866.85520\n",
              "...   ...     ...     ...       ...    ...        ...          ...\n",
              "1333   50    male  30.970         3     no  northwest  10600.54830\n",
              "1334   18  female  31.920         0     no  northeast   2205.98080\n",
              "1335   18  female  36.850         0     no  southeast   1629.83350\n",
              "1336   21  female  25.800         0     no  southwest   2007.94500\n",
              "1337   61  female  29.070         0    yes  northwest  29141.36030\n",
              "\n",
              "[1338 rows x 7 columns]"
            ],
            "text/html": [
              "\n",
              "  <div id=\"df-9b8b09f9-1ba5-4d40-80b9-7180fa3ceef9\">\n",
              "    <div class=\"colab-df-container\">\n",
              "      <div>\n",
              "<style scoped>\n",
              "    .dataframe tbody tr th:only-of-type {\n",
              "        vertical-align: middle;\n",
              "    }\n",
              "\n",
              "    .dataframe tbody tr th {\n",
              "        vertical-align: top;\n",
              "    }\n",
              "\n",
              "    .dataframe thead th {\n",
              "        text-align: right;\n",
              "    }\n",
              "</style>\n",
              "<table border=\"1\" class=\"dataframe\">\n",
              "  <thead>\n",
              "    <tr style=\"text-align: right;\">\n",
              "      <th></th>\n",
              "      <th>age</th>\n",
              "      <th>sex</th>\n",
              "      <th>bmi</th>\n",
              "      <th>children</th>\n",
              "      <th>smoker</th>\n",
              "      <th>region</th>\n",
              "      <th>charges</th>\n",
              "    </tr>\n",
              "  </thead>\n",
              "  <tbody>\n",
              "    <tr>\n",
              "      <th>0</th>\n",
              "      <td>19</td>\n",
              "      <td>female</td>\n",
              "      <td>27.900</td>\n",
              "      <td>0</td>\n",
              "      <td>yes</td>\n",
              "      <td>southwest</td>\n",
              "      <td>16884.92400</td>\n",
              "    </tr>\n",
              "    <tr>\n",
              "      <th>1</th>\n",
              "      <td>18</td>\n",
              "      <td>male</td>\n",
              "      <td>33.770</td>\n",
              "      <td>1</td>\n",
              "      <td>no</td>\n",
              "      <td>southeast</td>\n",
              "      <td>1725.55230</td>\n",
              "    </tr>\n",
              "    <tr>\n",
              "      <th>2</th>\n",
              "      <td>28</td>\n",
              "      <td>male</td>\n",
              "      <td>33.000</td>\n",
              "      <td>3</td>\n",
              "      <td>no</td>\n",
              "      <td>southeast</td>\n",
              "      <td>4449.46200</td>\n",
              "    </tr>\n",
              "    <tr>\n",
              "      <th>3</th>\n",
              "      <td>33</td>\n",
              "      <td>male</td>\n",
              "      <td>22.705</td>\n",
              "      <td>0</td>\n",
              "      <td>no</td>\n",
              "      <td>northwest</td>\n",
              "      <td>21984.47061</td>\n",
              "    </tr>\n",
              "    <tr>\n",
              "      <th>4</th>\n",
              "      <td>32</td>\n",
              "      <td>male</td>\n",
              "      <td>28.880</td>\n",
              "      <td>0</td>\n",
              "      <td>no</td>\n",
              "      <td>northwest</td>\n",
              "      <td>3866.85520</td>\n",
              "    </tr>\n",
              "    <tr>\n",
              "      <th>...</th>\n",
              "      <td>...</td>\n",
              "      <td>...</td>\n",
              "      <td>...</td>\n",
              "      <td>...</td>\n",
              "      <td>...</td>\n",
              "      <td>...</td>\n",
              "      <td>...</td>\n",
              "    </tr>\n",
              "    <tr>\n",
              "      <th>1333</th>\n",
              "      <td>50</td>\n",
              "      <td>male</td>\n",
              "      <td>30.970</td>\n",
              "      <td>3</td>\n",
              "      <td>no</td>\n",
              "      <td>northwest</td>\n",
              "      <td>10600.54830</td>\n",
              "    </tr>\n",
              "    <tr>\n",
              "      <th>1334</th>\n",
              "      <td>18</td>\n",
              "      <td>female</td>\n",
              "      <td>31.920</td>\n",
              "      <td>0</td>\n",
              "      <td>no</td>\n",
              "      <td>northeast</td>\n",
              "      <td>2205.98080</td>\n",
              "    </tr>\n",
              "    <tr>\n",
              "      <th>1335</th>\n",
              "      <td>18</td>\n",
              "      <td>female</td>\n",
              "      <td>36.850</td>\n",
              "      <td>0</td>\n",
              "      <td>no</td>\n",
              "      <td>southeast</td>\n",
              "      <td>1629.83350</td>\n",
              "    </tr>\n",
              "    <tr>\n",
              "      <th>1336</th>\n",
              "      <td>21</td>\n",
              "      <td>female</td>\n",
              "      <td>25.800</td>\n",
              "      <td>0</td>\n",
              "      <td>no</td>\n",
              "      <td>southwest</td>\n",
              "      <td>2007.94500</td>\n",
              "    </tr>\n",
              "    <tr>\n",
              "      <th>1337</th>\n",
              "      <td>61</td>\n",
              "      <td>female</td>\n",
              "      <td>29.070</td>\n",
              "      <td>0</td>\n",
              "      <td>yes</td>\n",
              "      <td>northwest</td>\n",
              "      <td>29141.36030</td>\n",
              "    </tr>\n",
              "  </tbody>\n",
              "</table>\n",
              "<p>1338 rows × 7 columns</p>\n",
              "</div>\n",
              "      <button class=\"colab-df-convert\" onclick=\"convertToInteractive('df-9b8b09f9-1ba5-4d40-80b9-7180fa3ceef9')\"\n",
              "              title=\"Convert this dataframe to an interactive table.\"\n",
              "              style=\"display:none;\">\n",
              "        \n",
              "  <svg xmlns=\"http://www.w3.org/2000/svg\" height=\"24px\"viewBox=\"0 0 24 24\"\n",
              "       width=\"24px\">\n",
              "    <path d=\"M0 0h24v24H0V0z\" fill=\"none\"/>\n",
              "    <path d=\"M18.56 5.44l.94 2.06.94-2.06 2.06-.94-2.06-.94-.94-2.06-.94 2.06-2.06.94zm-11 1L8.5 8.5l.94-2.06 2.06-.94-2.06-.94L8.5 2.5l-.94 2.06-2.06.94zm10 10l.94 2.06.94-2.06 2.06-.94-2.06-.94-.94-2.06-.94 2.06-2.06.94z\"/><path d=\"M17.41 7.96l-1.37-1.37c-.4-.4-.92-.59-1.43-.59-.52 0-1.04.2-1.43.59L10.3 9.45l-7.72 7.72c-.78.78-.78 2.05 0 2.83L4 21.41c.39.39.9.59 1.41.59.51 0 1.02-.2 1.41-.59l7.78-7.78 2.81-2.81c.8-.78.8-2.07 0-2.86zM5.41 20L4 18.59l7.72-7.72 1.47 1.35L5.41 20z\"/>\n",
              "  </svg>\n",
              "      </button>\n",
              "      \n",
              "  <style>\n",
              "    .colab-df-container {\n",
              "      display:flex;\n",
              "      flex-wrap:wrap;\n",
              "      gap: 12px;\n",
              "    }\n",
              "\n",
              "    .colab-df-convert {\n",
              "      background-color: #E8F0FE;\n",
              "      border: none;\n",
              "      border-radius: 50%;\n",
              "      cursor: pointer;\n",
              "      display: none;\n",
              "      fill: #1967D2;\n",
              "      height: 32px;\n",
              "      padding: 0 0 0 0;\n",
              "      width: 32px;\n",
              "    }\n",
              "\n",
              "    .colab-df-convert:hover {\n",
              "      background-color: #E2EBFA;\n",
              "      box-shadow: 0px 1px 2px rgba(60, 64, 67, 0.3), 0px 1px 3px 1px rgba(60, 64, 67, 0.15);\n",
              "      fill: #174EA6;\n",
              "    }\n",
              "\n",
              "    [theme=dark] .colab-df-convert {\n",
              "      background-color: #3B4455;\n",
              "      fill: #D2E3FC;\n",
              "    }\n",
              "\n",
              "    [theme=dark] .colab-df-convert:hover {\n",
              "      background-color: #434B5C;\n",
              "      box-shadow: 0px 1px 3px 1px rgba(0, 0, 0, 0.15);\n",
              "      filter: drop-shadow(0px 1px 2px rgba(0, 0, 0, 0.3));\n",
              "      fill: #FFFFFF;\n",
              "    }\n",
              "  </style>\n",
              "\n",
              "      <script>\n",
              "        const buttonEl =\n",
              "          document.querySelector('#df-9b8b09f9-1ba5-4d40-80b9-7180fa3ceef9 button.colab-df-convert');\n",
              "        buttonEl.style.display =\n",
              "          google.colab.kernel.accessAllowed ? 'block' : 'none';\n",
              "\n",
              "        async function convertToInteractive(key) {\n",
              "          const element = document.querySelector('#df-9b8b09f9-1ba5-4d40-80b9-7180fa3ceef9');\n",
              "          const dataTable =\n",
              "            await google.colab.kernel.invokeFunction('convertToInteractive',\n",
              "                                                     [key], {});\n",
              "          if (!dataTable) return;\n",
              "\n",
              "          const docLinkHtml = 'Like what you see? Visit the ' +\n",
              "            '<a target=\"_blank\" href=https://colab.research.google.com/notebooks/data_table.ipynb>data table notebook</a>'\n",
              "            + ' to learn more about interactive tables.';\n",
              "          element.innerHTML = '';\n",
              "          dataTable['output_type'] = 'display_data';\n",
              "          await google.colab.output.renderOutput(dataTable, element);\n",
              "          const docLink = document.createElement('div');\n",
              "          docLink.innerHTML = docLinkHtml;\n",
              "          element.appendChild(docLink);\n",
              "        }\n",
              "      </script>\n",
              "    </div>\n",
              "  </div>\n",
              "  "
            ]
          },
          "metadata": {},
          "execution_count": 9
        }
      ]
    },
    {
      "cell_type": "code",
      "source": [
        "# Create X and y\n",
        "X_insurance = insurance.drop(\"charges\", axis=1)\n",
        "y_insurance = insurance[\"charges\"]\n",
        "X_insurance.head() "
      ],
      "metadata": {
        "colab": {
          "base_uri": "https://localhost:8080/",
          "height": 206
        },
        "id": "hHtfj49hfo2i",
        "outputId": "237ffb97-eb1f-4a7a-8d39-10a6f6e08a20"
      },
      "execution_count": null,
      "outputs": [
        {
          "output_type": "execute_result",
          "data": {
            "text/plain": [
              "   age     sex     bmi  children smoker     region\n",
              "0   19  female  27.900         0    yes  southwest\n",
              "1   18    male  33.770         1     no  southeast\n",
              "2   28    male  33.000         3     no  southeast\n",
              "3   33    male  22.705         0     no  northwest\n",
              "4   32    male  28.880         0     no  northwest"
            ],
            "text/html": [
              "\n",
              "  <div id=\"df-dfc2cdb4-63f6-472a-92dc-85741807c828\">\n",
              "    <div class=\"colab-df-container\">\n",
              "      <div>\n",
              "<style scoped>\n",
              "    .dataframe tbody tr th:only-of-type {\n",
              "        vertical-align: middle;\n",
              "    }\n",
              "\n",
              "    .dataframe tbody tr th {\n",
              "        vertical-align: top;\n",
              "    }\n",
              "\n",
              "    .dataframe thead th {\n",
              "        text-align: right;\n",
              "    }\n",
              "</style>\n",
              "<table border=\"1\" class=\"dataframe\">\n",
              "  <thead>\n",
              "    <tr style=\"text-align: right;\">\n",
              "      <th></th>\n",
              "      <th>age</th>\n",
              "      <th>sex</th>\n",
              "      <th>bmi</th>\n",
              "      <th>children</th>\n",
              "      <th>smoker</th>\n",
              "      <th>region</th>\n",
              "    </tr>\n",
              "  </thead>\n",
              "  <tbody>\n",
              "    <tr>\n",
              "      <th>0</th>\n",
              "      <td>19</td>\n",
              "      <td>female</td>\n",
              "      <td>27.900</td>\n",
              "      <td>0</td>\n",
              "      <td>yes</td>\n",
              "      <td>southwest</td>\n",
              "    </tr>\n",
              "    <tr>\n",
              "      <th>1</th>\n",
              "      <td>18</td>\n",
              "      <td>male</td>\n",
              "      <td>33.770</td>\n",
              "      <td>1</td>\n",
              "      <td>no</td>\n",
              "      <td>southeast</td>\n",
              "    </tr>\n",
              "    <tr>\n",
              "      <th>2</th>\n",
              "      <td>28</td>\n",
              "      <td>male</td>\n",
              "      <td>33.000</td>\n",
              "      <td>3</td>\n",
              "      <td>no</td>\n",
              "      <td>southeast</td>\n",
              "    </tr>\n",
              "    <tr>\n",
              "      <th>3</th>\n",
              "      <td>33</td>\n",
              "      <td>male</td>\n",
              "      <td>22.705</td>\n",
              "      <td>0</td>\n",
              "      <td>no</td>\n",
              "      <td>northwest</td>\n",
              "    </tr>\n",
              "    <tr>\n",
              "      <th>4</th>\n",
              "      <td>32</td>\n",
              "      <td>male</td>\n",
              "      <td>28.880</td>\n",
              "      <td>0</td>\n",
              "      <td>no</td>\n",
              "      <td>northwest</td>\n",
              "    </tr>\n",
              "  </tbody>\n",
              "</table>\n",
              "</div>\n",
              "      <button class=\"colab-df-convert\" onclick=\"convertToInteractive('df-dfc2cdb4-63f6-472a-92dc-85741807c828')\"\n",
              "              title=\"Convert this dataframe to an interactive table.\"\n",
              "              style=\"display:none;\">\n",
              "        \n",
              "  <svg xmlns=\"http://www.w3.org/2000/svg\" height=\"24px\"viewBox=\"0 0 24 24\"\n",
              "       width=\"24px\">\n",
              "    <path d=\"M0 0h24v24H0V0z\" fill=\"none\"/>\n",
              "    <path d=\"M18.56 5.44l.94 2.06.94-2.06 2.06-.94-2.06-.94-.94-2.06-.94 2.06-2.06.94zm-11 1L8.5 8.5l.94-2.06 2.06-.94-2.06-.94L8.5 2.5l-.94 2.06-2.06.94zm10 10l.94 2.06.94-2.06 2.06-.94-2.06-.94-.94-2.06-.94 2.06-2.06.94z\"/><path d=\"M17.41 7.96l-1.37-1.37c-.4-.4-.92-.59-1.43-.59-.52 0-1.04.2-1.43.59L10.3 9.45l-7.72 7.72c-.78.78-.78 2.05 0 2.83L4 21.41c.39.39.9.59 1.41.59.51 0 1.02-.2 1.41-.59l7.78-7.78 2.81-2.81c.8-.78.8-2.07 0-2.86zM5.41 20L4 18.59l7.72-7.72 1.47 1.35L5.41 20z\"/>\n",
              "  </svg>\n",
              "      </button>\n",
              "      \n",
              "  <style>\n",
              "    .colab-df-container {\n",
              "      display:flex;\n",
              "      flex-wrap:wrap;\n",
              "      gap: 12px;\n",
              "    }\n",
              "\n",
              "    .colab-df-convert {\n",
              "      background-color: #E8F0FE;\n",
              "      border: none;\n",
              "      border-radius: 50%;\n",
              "      cursor: pointer;\n",
              "      display: none;\n",
              "      fill: #1967D2;\n",
              "      height: 32px;\n",
              "      padding: 0 0 0 0;\n",
              "      width: 32px;\n",
              "    }\n",
              "\n",
              "    .colab-df-convert:hover {\n",
              "      background-color: #E2EBFA;\n",
              "      box-shadow: 0px 1px 2px rgba(60, 64, 67, 0.3), 0px 1px 3px 1px rgba(60, 64, 67, 0.15);\n",
              "      fill: #174EA6;\n",
              "    }\n",
              "\n",
              "    [theme=dark] .colab-df-convert {\n",
              "      background-color: #3B4455;\n",
              "      fill: #D2E3FC;\n",
              "    }\n",
              "\n",
              "    [theme=dark] .colab-df-convert:hover {\n",
              "      background-color: #434B5C;\n",
              "      box-shadow: 0px 1px 3px 1px rgba(0, 0, 0, 0.15);\n",
              "      filter: drop-shadow(0px 1px 2px rgba(0, 0, 0, 0.3));\n",
              "      fill: #FFFFFF;\n",
              "    }\n",
              "  </style>\n",
              "\n",
              "      <script>\n",
              "        const buttonEl =\n",
              "          document.querySelector('#df-dfc2cdb4-63f6-472a-92dc-85741807c828 button.colab-df-convert');\n",
              "        buttonEl.style.display =\n",
              "          google.colab.kernel.accessAllowed ? 'block' : 'none';\n",
              "\n",
              "        async function convertToInteractive(key) {\n",
              "          const element = document.querySelector('#df-dfc2cdb4-63f6-472a-92dc-85741807c828');\n",
              "          const dataTable =\n",
              "            await google.colab.kernel.invokeFunction('convertToInteractive',\n",
              "                                                     [key], {});\n",
              "          if (!dataTable) return;\n",
              "\n",
              "          const docLinkHtml = 'Like what you see? Visit the ' +\n",
              "            '<a target=\"_blank\" href=https://colab.research.google.com/notebooks/data_table.ipynb>data table notebook</a>'\n",
              "            + ' to learn more about interactive tables.';\n",
              "          element.innerHTML = '';\n",
              "          dataTable['output_type'] = 'display_data';\n",
              "          await google.colab.output.renderOutput(dataTable, element);\n",
              "          const docLink = document.createElement('div');\n",
              "          docLink.innerHTML = docLinkHtml;\n",
              "          element.appendChild(docLink);\n",
              "        }\n",
              "      </script>\n",
              "    </div>\n",
              "  </div>\n",
              "  "
            ]
          },
          "metadata": {},
          "execution_count": 23
        }
      ]
    },
    {
      "cell_type": "code",
      "source": [
        "y_insurance.head()"
      ],
      "metadata": {
        "colab": {
          "base_uri": "https://localhost:8080/"
        },
        "id": "6JXAxaOMfy8N",
        "outputId": "48d5fc36-7ada-499d-a91f-b75ea4c07254"
      },
      "execution_count": null,
      "outputs": [
        {
          "output_type": "execute_result",
          "data": {
            "text/plain": [
              "0    16884.92400\n",
              "1     1725.55230\n",
              "2     4449.46200\n",
              "3    21984.47061\n",
              "4     3866.85520\n",
              "Name: charges, dtype: float64"
            ]
          },
          "metadata": {},
          "execution_count": 24
        }
      ]
    },
    {
      "cell_type": "code",
      "source": [
        "from sklearn.compose import make_column_transformer\n",
        "from sklearn.preprocessing import MinMaxScaler, OneHotEncoder\n",
        "from sklearn.model_selection import train_test_split\n",
        "\n",
        "# Create a column transformer\n",
        "ct = make_column_transformer( # method that receives both the 'portraits' of how u want to transform the columns and the columns to be transformed\n",
        "    (MinMaxScaler(), [\"age\", \"bmi\", \"children\"]), # turn all values in these columns between 0s and 1s\n",
        "    (OneHotEncoder(handle_unknown=\"ignore\"), [\"sex\", \"smoker\", \"region\"]) # hot encode the columns (handle_unknown parameter sets the mode how to handle when finding unknown data)\n",
        ")\n",
        "\n",
        "# Build our train and test sets\n",
        "X_train, X_test, y_train, y_test = train_test_split(X_insurance, y_insurance, test_size=0.2, random_state=42)\n",
        "\n",
        "# Fit the transformer to our training data\n",
        "ct.fit(X_train)\n",
        "\n",
        "# Transform our data and store it (there is no need to do that with y data because no transformer is needed there)\n",
        "X_train = ct.transform(X_train)\n",
        "X_test = ct.transform(X_test)"
      ],
      "metadata": {
        "id": "86z86dK2gu0p"
      },
      "execution_count": null,
      "outputs": []
    },
    {
      "cell_type": "code",
      "source": [
        "# Now that our data is pre processed, we'll create the model\n",
        "\n",
        "# 1. Create a model\n",
        "insurance_model = tf.keras.Sequential([\n",
        "    tf.keras.layers.Dense(100),\n",
        "    tf.keras.layers.Dense(10),\n",
        "    tf.keras.layers.Dense(1)\n",
        "])\n",
        "\n",
        "# 2. Compile our model\n",
        "insurance_model.compile(loss=tf.losses.mae,\n",
        "                        optimizer=tf.optimizers.Adam(learning_rate=0.01),\n",
        "                        metrics=[\"mae\"])\n",
        "\n",
        "# 3. Fit our model\n",
        "insurance_model.fit(X_train, y_train, epochs=300, verbose=0)"
      ],
      "metadata": {
        "colab": {
          "base_uri": "https://localhost:8080/"
        },
        "id": "2XQwCjlRky5r",
        "outputId": "20056792-d11f-42f1-813e-a754c017f19b"
      },
      "execution_count": null,
      "outputs": [
        {
          "output_type": "execute_result",
          "data": {
            "text/plain": [
              "<keras.callbacks.History at 0x7f64f466b2d0>"
            ]
          },
          "metadata": {},
          "execution_count": 84
        }
      ]
    },
    {
      "cell_type": "code",
      "source": [
        "# Evaluating our model \n",
        "insurance_model.evaluate(X_test, y_test)\n"
      ],
      "metadata": {
        "colab": {
          "base_uri": "https://localhost:8080/"
        },
        "id": "jlPj4pkhldGX",
        "outputId": "820ac595-4b0d-4b7d-dfcd-b4879754f3bf"
      },
      "execution_count": null,
      "outputs": [
        {
          "output_type": "stream",
          "name": "stdout",
          "text": [
            "9/9 [==============================] - 0s 2ms/step - loss: 3168.5474 - mae: 3168.5474\n"
          ]
        },
        {
          "output_type": "execute_result",
          "data": {
            "text/plain": [
              "[3168.54736328125, 3168.54736328125]"
            ]
          },
          "metadata": {},
          "execution_count": 86
        }
      ]
    },
    {
      "cell_type": "code",
      "source": [
        "# Loading the boston dataset\n",
        "train, test = tf.keras.datasets.boston_housing.load_data(\n",
        "    path='boston_housing.npz', test_split=0.2, seed=42\n",
        ")\n",
        "X_train = train[0]\n",
        "y_train = train[1]\n",
        "X_test = test[0]\n",
        "y_test = test[1]"
      ],
      "metadata": {
        "id": "KghmWheDnWh_"
      },
      "execution_count": null,
      "outputs": []
    },
    {
      "cell_type": "code",
      "source": [
        "# 1. Creating a model\n",
        "boston_model = tf.keras.Sequential([\n",
        "    tf.keras.layers.Dense(50),\n",
        "    tf.keras.layers.Dense(10),\n",
        "    tf.keras.layers.Dense(1)\n",
        "])\n",
        "\n",
        "# 2. Compile the model\n",
        "boston_model.compile(loss=tf.losses.mae,\n",
        "                     optimizer=tf.optimizers.Adam(learning_rate=0.01),\n",
        "                     metrics=[\"mae\"])\n",
        "\n",
        "# 3. Fit the model\n",
        "boston_model.fit(X_train, y_train, epochs=500, verbose=0)"
      ],
      "metadata": {
        "colab": {
          "base_uri": "https://localhost:8080/"
        },
        "id": "HuBv2h8ksAS0",
        "outputId": "76dd8025-be99-46e9-be66-8909f5b50f5f"
      },
      "execution_count": null,
      "outputs": [
        {
          "output_type": "execute_result",
          "data": {
            "text/plain": [
              "<keras.callbacks.History at 0x7f650ab91810>"
            ]
          },
          "metadata": {},
          "execution_count": 107
        }
      ]
    },
    {
      "cell_type": "code",
      "source": [
        "# Evaluate our model\n",
        "boston_model.evaluate(X_test, y_test)"
      ],
      "metadata": {
        "colab": {
          "base_uri": "https://localhost:8080/"
        },
        "id": "yAN2UhzFtjar",
        "outputId": "b4d3f0dc-deb4-44b1-b25a-12246cbda030"
      },
      "execution_count": null,
      "outputs": [
        {
          "output_type": "stream",
          "name": "stdout",
          "text": [
            "4/4 [==============================] - 0s 3ms/step - loss: 3.4546 - mae: 3.4546\n"
          ]
        },
        {
          "output_type": "execute_result",
          "data": {
            "text/plain": [
              "[3.4546029567718506, 3.4546029567718506]"
            ]
          },
          "metadata": {},
          "execution_count": 106
        }
      ]
    },
    {
      "cell_type": "code",
      "source": [
        "# Getting and modeling another dataset\n",
        "car_price = pd.read_csv(\"/content/archive.zip\", encoding=\"ISO-8859-1\")\n",
        "car_price = car_price.drop(\"customer e-mail\", axis=1)\n",
        "car_price = car_price.drop(\"country\", axis=1)\n",
        "car_price = car_price.drop(\"gender\", axis=1)\n",
        "car_price = car_price.drop(\"customer name\", axis=1)\n",
        "\n",
        "car_price"
      ],
      "metadata": {
        "id": "MFNwDhR5uSpe",
        "colab": {
          "base_uri": "https://localhost:8080/",
          "height": 423
        },
        "outputId": "a5191261-02ae-4b15-f91a-9d8dafe999ca"
      },
      "execution_count": null,
      "outputs": [
        {
          "output_type": "execute_result",
          "data": {
            "text/plain": [
              "           age  annual Salary  credit card debt    net worth  \\\n",
              "0    41.851720    62812.09301      11609.380910  238961.2505   \n",
              "1    40.870623    66646.89292       9572.957136  530973.9078   \n",
              "2    43.152897    53798.55112      11160.355060  638467.1773   \n",
              "3    58.271369    79370.03798      14426.164850  548599.0524   \n",
              "4    57.313749    59729.15130       5358.712177  560304.0671   \n",
              "..         ...            ...               ...          ...   \n",
              "495  41.462515    71942.40291       6995.902524  541670.1016   \n",
              "496  37.642000    56039.49793      12301.456790  360419.0988   \n",
              "497  53.943497    68888.77805      10611.606860  764531.3203   \n",
              "498  59.160509    49811.99062      14013.034510  337826.6382   \n",
              "499  46.731152    61370.67766       9391.341628  462946.4924   \n",
              "\n",
              "     car purchase amount  \n",
              "0            35321.45877  \n",
              "1            45115.52566  \n",
              "2            42925.70921  \n",
              "3            67422.36313  \n",
              "4            55915.46248  \n",
              "..                   ...  \n",
              "495          48901.44342  \n",
              "496          31491.41457  \n",
              "497          64147.28888  \n",
              "498          45442.15353  \n",
              "499          45107.22566  \n",
              "\n",
              "[500 rows x 5 columns]"
            ],
            "text/html": [
              "\n",
              "  <div id=\"df-6f27e025-db34-43ba-a5d8-a29a28a3fc6a\">\n",
              "    <div class=\"colab-df-container\">\n",
              "      <div>\n",
              "<style scoped>\n",
              "    .dataframe tbody tr th:only-of-type {\n",
              "        vertical-align: middle;\n",
              "    }\n",
              "\n",
              "    .dataframe tbody tr th {\n",
              "        vertical-align: top;\n",
              "    }\n",
              "\n",
              "    .dataframe thead th {\n",
              "        text-align: right;\n",
              "    }\n",
              "</style>\n",
              "<table border=\"1\" class=\"dataframe\">\n",
              "  <thead>\n",
              "    <tr style=\"text-align: right;\">\n",
              "      <th></th>\n",
              "      <th>age</th>\n",
              "      <th>annual Salary</th>\n",
              "      <th>credit card debt</th>\n",
              "      <th>net worth</th>\n",
              "      <th>car purchase amount</th>\n",
              "    </tr>\n",
              "  </thead>\n",
              "  <tbody>\n",
              "    <tr>\n",
              "      <th>0</th>\n",
              "      <td>41.851720</td>\n",
              "      <td>62812.09301</td>\n",
              "      <td>11609.380910</td>\n",
              "      <td>238961.2505</td>\n",
              "      <td>35321.45877</td>\n",
              "    </tr>\n",
              "    <tr>\n",
              "      <th>1</th>\n",
              "      <td>40.870623</td>\n",
              "      <td>66646.89292</td>\n",
              "      <td>9572.957136</td>\n",
              "      <td>530973.9078</td>\n",
              "      <td>45115.52566</td>\n",
              "    </tr>\n",
              "    <tr>\n",
              "      <th>2</th>\n",
              "      <td>43.152897</td>\n",
              "      <td>53798.55112</td>\n",
              "      <td>11160.355060</td>\n",
              "      <td>638467.1773</td>\n",
              "      <td>42925.70921</td>\n",
              "    </tr>\n",
              "    <tr>\n",
              "      <th>3</th>\n",
              "      <td>58.271369</td>\n",
              "      <td>79370.03798</td>\n",
              "      <td>14426.164850</td>\n",
              "      <td>548599.0524</td>\n",
              "      <td>67422.36313</td>\n",
              "    </tr>\n",
              "    <tr>\n",
              "      <th>4</th>\n",
              "      <td>57.313749</td>\n",
              "      <td>59729.15130</td>\n",
              "      <td>5358.712177</td>\n",
              "      <td>560304.0671</td>\n",
              "      <td>55915.46248</td>\n",
              "    </tr>\n",
              "    <tr>\n",
              "      <th>...</th>\n",
              "      <td>...</td>\n",
              "      <td>...</td>\n",
              "      <td>...</td>\n",
              "      <td>...</td>\n",
              "      <td>...</td>\n",
              "    </tr>\n",
              "    <tr>\n",
              "      <th>495</th>\n",
              "      <td>41.462515</td>\n",
              "      <td>71942.40291</td>\n",
              "      <td>6995.902524</td>\n",
              "      <td>541670.1016</td>\n",
              "      <td>48901.44342</td>\n",
              "    </tr>\n",
              "    <tr>\n",
              "      <th>496</th>\n",
              "      <td>37.642000</td>\n",
              "      <td>56039.49793</td>\n",
              "      <td>12301.456790</td>\n",
              "      <td>360419.0988</td>\n",
              "      <td>31491.41457</td>\n",
              "    </tr>\n",
              "    <tr>\n",
              "      <th>497</th>\n",
              "      <td>53.943497</td>\n",
              "      <td>68888.77805</td>\n",
              "      <td>10611.606860</td>\n",
              "      <td>764531.3203</td>\n",
              "      <td>64147.28888</td>\n",
              "    </tr>\n",
              "    <tr>\n",
              "      <th>498</th>\n",
              "      <td>59.160509</td>\n",
              "      <td>49811.99062</td>\n",
              "      <td>14013.034510</td>\n",
              "      <td>337826.6382</td>\n",
              "      <td>45442.15353</td>\n",
              "    </tr>\n",
              "    <tr>\n",
              "      <th>499</th>\n",
              "      <td>46.731152</td>\n",
              "      <td>61370.67766</td>\n",
              "      <td>9391.341628</td>\n",
              "      <td>462946.4924</td>\n",
              "      <td>45107.22566</td>\n",
              "    </tr>\n",
              "  </tbody>\n",
              "</table>\n",
              "<p>500 rows × 5 columns</p>\n",
              "</div>\n",
              "      <button class=\"colab-df-convert\" onclick=\"convertToInteractive('df-6f27e025-db34-43ba-a5d8-a29a28a3fc6a')\"\n",
              "              title=\"Convert this dataframe to an interactive table.\"\n",
              "              style=\"display:none;\">\n",
              "        \n",
              "  <svg xmlns=\"http://www.w3.org/2000/svg\" height=\"24px\"viewBox=\"0 0 24 24\"\n",
              "       width=\"24px\">\n",
              "    <path d=\"M0 0h24v24H0V0z\" fill=\"none\"/>\n",
              "    <path d=\"M18.56 5.44l.94 2.06.94-2.06 2.06-.94-2.06-.94-.94-2.06-.94 2.06-2.06.94zm-11 1L8.5 8.5l.94-2.06 2.06-.94-2.06-.94L8.5 2.5l-.94 2.06-2.06.94zm10 10l.94 2.06.94-2.06 2.06-.94-2.06-.94-.94-2.06-.94 2.06-2.06.94z\"/><path d=\"M17.41 7.96l-1.37-1.37c-.4-.4-.92-.59-1.43-.59-.52 0-1.04.2-1.43.59L10.3 9.45l-7.72 7.72c-.78.78-.78 2.05 0 2.83L4 21.41c.39.39.9.59 1.41.59.51 0 1.02-.2 1.41-.59l7.78-7.78 2.81-2.81c.8-.78.8-2.07 0-2.86zM5.41 20L4 18.59l7.72-7.72 1.47 1.35L5.41 20z\"/>\n",
              "  </svg>\n",
              "      </button>\n",
              "      \n",
              "  <style>\n",
              "    .colab-df-container {\n",
              "      display:flex;\n",
              "      flex-wrap:wrap;\n",
              "      gap: 12px;\n",
              "    }\n",
              "\n",
              "    .colab-df-convert {\n",
              "      background-color: #E8F0FE;\n",
              "      border: none;\n",
              "      border-radius: 50%;\n",
              "      cursor: pointer;\n",
              "      display: none;\n",
              "      fill: #1967D2;\n",
              "      height: 32px;\n",
              "      padding: 0 0 0 0;\n",
              "      width: 32px;\n",
              "    }\n",
              "\n",
              "    .colab-df-convert:hover {\n",
              "      background-color: #E2EBFA;\n",
              "      box-shadow: 0px 1px 2px rgba(60, 64, 67, 0.3), 0px 1px 3px 1px rgba(60, 64, 67, 0.15);\n",
              "      fill: #174EA6;\n",
              "    }\n",
              "\n",
              "    [theme=dark] .colab-df-convert {\n",
              "      background-color: #3B4455;\n",
              "      fill: #D2E3FC;\n",
              "    }\n",
              "\n",
              "    [theme=dark] .colab-df-convert:hover {\n",
              "      background-color: #434B5C;\n",
              "      box-shadow: 0px 1px 3px 1px rgba(0, 0, 0, 0.15);\n",
              "      filter: drop-shadow(0px 1px 2px rgba(0, 0, 0, 0.3));\n",
              "      fill: #FFFFFF;\n",
              "    }\n",
              "  </style>\n",
              "\n",
              "      <script>\n",
              "        const buttonEl =\n",
              "          document.querySelector('#df-6f27e025-db34-43ba-a5d8-a29a28a3fc6a button.colab-df-convert');\n",
              "        buttonEl.style.display =\n",
              "          google.colab.kernel.accessAllowed ? 'block' : 'none';\n",
              "\n",
              "        async function convertToInteractive(key) {\n",
              "          const element = document.querySelector('#df-6f27e025-db34-43ba-a5d8-a29a28a3fc6a');\n",
              "          const dataTable =\n",
              "            await google.colab.kernel.invokeFunction('convertToInteractive',\n",
              "                                                     [key], {});\n",
              "          if (!dataTable) return;\n",
              "\n",
              "          const docLinkHtml = 'Like what you see? Visit the ' +\n",
              "            '<a target=\"_blank\" href=https://colab.research.google.com/notebooks/data_table.ipynb>data table notebook</a>'\n",
              "            + ' to learn more about interactive tables.';\n",
              "          element.innerHTML = '';\n",
              "          dataTable['output_type'] = 'display_data';\n",
              "          await google.colab.output.renderOutput(dataTable, element);\n",
              "          const docLink = document.createElement('div');\n",
              "          docLink.innerHTML = docLinkHtml;\n",
              "          element.appendChild(docLink);\n",
              "        }\n",
              "      </script>\n",
              "    </div>\n",
              "  </div>\n",
              "  "
            ]
          },
          "metadata": {},
          "execution_count": 15
        }
      ]
    },
    {
      "cell_type": "code",
      "source": [
        "# Splitting the training and test sets\n",
        "X_train = car_price.drop(\"car purchase amount\", axis=1)[:400]\n",
        "y_train = car_price[\"car purchase amount\"][:400]\n",
        "\n",
        "# Now for the test sets\n",
        "X_test = car_price.drop(\"car purchase amount\", axis=1)[400:]\n",
        "y_test = car_price[\"car purchase amount\"][400:]"
      ],
      "metadata": {
        "colab": {
          "base_uri": "https://localhost:8080/",
          "height": 423
        },
        "id": "ymsk2I-WaT79",
        "outputId": "596e189f-c805-4d04-a192-b27667ca265f"
      },
      "execution_count": null,
      "outputs": [
        {
          "output_type": "execute_result",
          "data": {
            "text/plain": [
              "           age  annual Salary  credit card debt    net worth\n",
              "400  61.704299    66655.41420       8001.644302  805075.5197\n",
              "401  48.593221    63718.88120      11863.064280  298920.0067\n",
              "402  42.884536    60862.97749       8033.550461  344060.1754\n",
              "403  36.245257    67508.12293      10188.686850  141587.6498\n",
              "404  61.224725    61639.76386      17870.637650  684209.5510\n",
              "..         ...            ...               ...          ...\n",
              "495  41.462515    71942.40291       6995.902524  541670.1016\n",
              "496  37.642000    56039.49793      12301.456790  360419.0988\n",
              "497  53.943497    68888.77805      10611.606860  764531.3203\n",
              "498  59.160509    49811.99062      14013.034510  337826.6382\n",
              "499  46.731152    61370.67766       9391.341628  462946.4924\n",
              "\n",
              "[100 rows x 4 columns]"
            ],
            "text/html": [
              "\n",
              "  <div id=\"df-9a7cfe30-56fa-4bb1-b86d-ecbe62b07b14\">\n",
              "    <div class=\"colab-df-container\">\n",
              "      <div>\n",
              "<style scoped>\n",
              "    .dataframe tbody tr th:only-of-type {\n",
              "        vertical-align: middle;\n",
              "    }\n",
              "\n",
              "    .dataframe tbody tr th {\n",
              "        vertical-align: top;\n",
              "    }\n",
              "\n",
              "    .dataframe thead th {\n",
              "        text-align: right;\n",
              "    }\n",
              "</style>\n",
              "<table border=\"1\" class=\"dataframe\">\n",
              "  <thead>\n",
              "    <tr style=\"text-align: right;\">\n",
              "      <th></th>\n",
              "      <th>age</th>\n",
              "      <th>annual Salary</th>\n",
              "      <th>credit card debt</th>\n",
              "      <th>net worth</th>\n",
              "    </tr>\n",
              "  </thead>\n",
              "  <tbody>\n",
              "    <tr>\n",
              "      <th>400</th>\n",
              "      <td>61.704299</td>\n",
              "      <td>66655.41420</td>\n",
              "      <td>8001.644302</td>\n",
              "      <td>805075.5197</td>\n",
              "    </tr>\n",
              "    <tr>\n",
              "      <th>401</th>\n",
              "      <td>48.593221</td>\n",
              "      <td>63718.88120</td>\n",
              "      <td>11863.064280</td>\n",
              "      <td>298920.0067</td>\n",
              "    </tr>\n",
              "    <tr>\n",
              "      <th>402</th>\n",
              "      <td>42.884536</td>\n",
              "      <td>60862.97749</td>\n",
              "      <td>8033.550461</td>\n",
              "      <td>344060.1754</td>\n",
              "    </tr>\n",
              "    <tr>\n",
              "      <th>403</th>\n",
              "      <td>36.245257</td>\n",
              "      <td>67508.12293</td>\n",
              "      <td>10188.686850</td>\n",
              "      <td>141587.6498</td>\n",
              "    </tr>\n",
              "    <tr>\n",
              "      <th>404</th>\n",
              "      <td>61.224725</td>\n",
              "      <td>61639.76386</td>\n",
              "      <td>17870.637650</td>\n",
              "      <td>684209.5510</td>\n",
              "    </tr>\n",
              "    <tr>\n",
              "      <th>...</th>\n",
              "      <td>...</td>\n",
              "      <td>...</td>\n",
              "      <td>...</td>\n",
              "      <td>...</td>\n",
              "    </tr>\n",
              "    <tr>\n",
              "      <th>495</th>\n",
              "      <td>41.462515</td>\n",
              "      <td>71942.40291</td>\n",
              "      <td>6995.902524</td>\n",
              "      <td>541670.1016</td>\n",
              "    </tr>\n",
              "    <tr>\n",
              "      <th>496</th>\n",
              "      <td>37.642000</td>\n",
              "      <td>56039.49793</td>\n",
              "      <td>12301.456790</td>\n",
              "      <td>360419.0988</td>\n",
              "    </tr>\n",
              "    <tr>\n",
              "      <th>497</th>\n",
              "      <td>53.943497</td>\n",
              "      <td>68888.77805</td>\n",
              "      <td>10611.606860</td>\n",
              "      <td>764531.3203</td>\n",
              "    </tr>\n",
              "    <tr>\n",
              "      <th>498</th>\n",
              "      <td>59.160509</td>\n",
              "      <td>49811.99062</td>\n",
              "      <td>14013.034510</td>\n",
              "      <td>337826.6382</td>\n",
              "    </tr>\n",
              "    <tr>\n",
              "      <th>499</th>\n",
              "      <td>46.731152</td>\n",
              "      <td>61370.67766</td>\n",
              "      <td>9391.341628</td>\n",
              "      <td>462946.4924</td>\n",
              "    </tr>\n",
              "  </tbody>\n",
              "</table>\n",
              "<p>100 rows × 4 columns</p>\n",
              "</div>\n",
              "      <button class=\"colab-df-convert\" onclick=\"convertToInteractive('df-9a7cfe30-56fa-4bb1-b86d-ecbe62b07b14')\"\n",
              "              title=\"Convert this dataframe to an interactive table.\"\n",
              "              style=\"display:none;\">\n",
              "        \n",
              "  <svg xmlns=\"http://www.w3.org/2000/svg\" height=\"24px\"viewBox=\"0 0 24 24\"\n",
              "       width=\"24px\">\n",
              "    <path d=\"M0 0h24v24H0V0z\" fill=\"none\"/>\n",
              "    <path d=\"M18.56 5.44l.94 2.06.94-2.06 2.06-.94-2.06-.94-.94-2.06-.94 2.06-2.06.94zm-11 1L8.5 8.5l.94-2.06 2.06-.94-2.06-.94L8.5 2.5l-.94 2.06-2.06.94zm10 10l.94 2.06.94-2.06 2.06-.94-2.06-.94-.94-2.06-.94 2.06-2.06.94z\"/><path d=\"M17.41 7.96l-1.37-1.37c-.4-.4-.92-.59-1.43-.59-.52 0-1.04.2-1.43.59L10.3 9.45l-7.72 7.72c-.78.78-.78 2.05 0 2.83L4 21.41c.39.39.9.59 1.41.59.51 0 1.02-.2 1.41-.59l7.78-7.78 2.81-2.81c.8-.78.8-2.07 0-2.86zM5.41 20L4 18.59l7.72-7.72 1.47 1.35L5.41 20z\"/>\n",
              "  </svg>\n",
              "      </button>\n",
              "      \n",
              "  <style>\n",
              "    .colab-df-container {\n",
              "      display:flex;\n",
              "      flex-wrap:wrap;\n",
              "      gap: 12px;\n",
              "    }\n",
              "\n",
              "    .colab-df-convert {\n",
              "      background-color: #E8F0FE;\n",
              "      border: none;\n",
              "      border-radius: 50%;\n",
              "      cursor: pointer;\n",
              "      display: none;\n",
              "      fill: #1967D2;\n",
              "      height: 32px;\n",
              "      padding: 0 0 0 0;\n",
              "      width: 32px;\n",
              "    }\n",
              "\n",
              "    .colab-df-convert:hover {\n",
              "      background-color: #E2EBFA;\n",
              "      box-shadow: 0px 1px 2px rgba(60, 64, 67, 0.3), 0px 1px 3px 1px rgba(60, 64, 67, 0.15);\n",
              "      fill: #174EA6;\n",
              "    }\n",
              "\n",
              "    [theme=dark] .colab-df-convert {\n",
              "      background-color: #3B4455;\n",
              "      fill: #D2E3FC;\n",
              "    }\n",
              "\n",
              "    [theme=dark] .colab-df-convert:hover {\n",
              "      background-color: #434B5C;\n",
              "      box-shadow: 0px 1px 3px 1px rgba(0, 0, 0, 0.15);\n",
              "      filter: drop-shadow(0px 1px 2px rgba(0, 0, 0, 0.3));\n",
              "      fill: #FFFFFF;\n",
              "    }\n",
              "  </style>\n",
              "\n",
              "      <script>\n",
              "        const buttonEl =\n",
              "          document.querySelector('#df-9a7cfe30-56fa-4bb1-b86d-ecbe62b07b14 button.colab-df-convert');\n",
              "        buttonEl.style.display =\n",
              "          google.colab.kernel.accessAllowed ? 'block' : 'none';\n",
              "\n",
              "        async function convertToInteractive(key) {\n",
              "          const element = document.querySelector('#df-9a7cfe30-56fa-4bb1-b86d-ecbe62b07b14');\n",
              "          const dataTable =\n",
              "            await google.colab.kernel.invokeFunction('convertToInteractive',\n",
              "                                                     [key], {});\n",
              "          if (!dataTable) return;\n",
              "\n",
              "          const docLinkHtml = 'Like what you see? Visit the ' +\n",
              "            '<a target=\"_blank\" href=https://colab.research.google.com/notebooks/data_table.ipynb>data table notebook</a>'\n",
              "            + ' to learn more about interactive tables.';\n",
              "          element.innerHTML = '';\n",
              "          dataTable['output_type'] = 'display_data';\n",
              "          await google.colab.output.renderOutput(dataTable, element);\n",
              "          const docLink = document.createElement('div');\n",
              "          docLink.innerHTML = docLinkHtml;\n",
              "          element.appendChild(docLink);\n",
              "        }\n",
              "      </script>\n",
              "    </div>\n",
              "  </div>\n",
              "  "
            ]
          },
          "metadata": {},
          "execution_count": 22
        }
      ]
    },
    {
      "cell_type": "code",
      "source": [
        "# Now for the model\n",
        "tf.random.set_seed(42)\n",
        "model_car = tf.keras.Sequential([\n",
        "    tf.keras.layers.Dense(10),\n",
        "    tf.keras.layers.Dense(20),\n",
        "    tf.keras.layers.Dense(10),\n",
        "    tf.keras.layers.Dense(1)\n",
        "])\n",
        "\n",
        "model_car.compile(loss=tf.keras.losses.mae,\n",
        "                  optimizer=tf.keras.optimizers.Adam(learning_rate=0.1),\n",
        "                  metrics=[\"mae\"])\n",
        "\n",
        "model_car.fit(X_train, y_train, epochs=500, verbose=0)"
      ],
      "metadata": {
        "colab": {
          "base_uri": "https://localhost:8080/"
        },
        "id": "Kdj0cfTablqO",
        "outputId": "ae3976fb-6de8-4ede-8487-08293dcb3155"
      },
      "execution_count": null,
      "outputs": [
        {
          "output_type": "execute_result",
          "data": {
            "text/plain": [
              "<keras.callbacks.History at 0x7f630f29c990>"
            ]
          },
          "metadata": {},
          "execution_count": 52
        }
      ]
    },
    {
      "cell_type": "code",
      "source": [
        "# Evaluate our model \n",
        "model_car.evaluate(X_test, y_test)"
      ],
      "metadata": {
        "colab": {
          "base_uri": "https://localhost:8080/"
        },
        "id": "fPr2e12YgJ2F",
        "outputId": "832336a3-1ea9-44c4-cf57-0629892ed253"
      },
      "execution_count": null,
      "outputs": [
        {
          "output_type": "stream",
          "name": "stdout",
          "text": [
            "4/4 [==============================] - 0s 3ms/step - loss: 5491.3394 - mae: 5491.3394\n"
          ]
        },
        {
          "output_type": "execute_result",
          "data": {
            "text/plain": [
              "[5491.33935546875, 5491.33935546875]"
            ]
          },
          "metadata": {},
          "execution_count": 51
        }
      ]
    }
  ]
}