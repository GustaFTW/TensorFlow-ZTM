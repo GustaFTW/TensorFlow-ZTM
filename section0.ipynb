{
  "nbformat": 4,
  "nbformat_minor": 0,
  "metadata": {
    "colab": {
      "provenance": [],
      "collapsed_sections": [
        "xp9fTOjbFGK3",
        "pZAOD92IGUaK",
        "huQV6oyqJKXe",
        "8Oq77km5N04D",
        "KTBGiaBjL3Lb",
        "dtjs8U8_MN6l"
      ],
      "toc_visible": true,
      "authorship_tag": "ABX9TyMQM9E1TqT5TkiJoPR+qIbh",
      "include_colab_link": true
    },
    "kernelspec": {
      "name": "python3",
      "display_name": "Python 3"
    },
    "language_info": {
      "name": "python"
    },
    "accelerator": "TPU"
  },
  "cells": [
    {
      "cell_type": "markdown",
      "metadata": {
        "id": "view-in-github",
        "colab_type": "text"
      },
      "source": [
        "<a href=\"https://colab.research.google.com/github/GustaFTW/TensorFlow-ZTM/blob/main/section0.ipynb\" target=\"_parent\"><img src=\"https://colab.research.google.com/assets/colab-badge.svg\" alt=\"Open In Colab\"/></a>"
      ]
    },
    {
      "cell_type": "markdown",
      "source": [
        "In this notebook, we're going to cover some of the most fundamental concepts of tensors using TensorFlow.\n",
        "* Introduction\n",
        "* Getting information from tensors\n",
        "* Manipulating tensors\n",
        "* Tensors & NumPy\n",
        "* Using @tf.function (a wat to speed up your regular Python Functions)\n",
        "* Using GPUs with TensorFlow\n",
        "* Exercises\n"
      ],
      "metadata": {
        "id": "Wa1bxAG4kWYL"
      }
    },
    {
      "cell_type": "markdown",
      "source": [
        "###**Introduction to Tensors**"
      ],
      "metadata": {
        "id": "1Z3majrQlAcg"
      }
    },
    {
      "cell_type": "code",
      "source": [
        "# Import TensorFlow\n",
        "import numpy as np\n",
        "import tensorflow as tf\n",
        "print(tf.__version__)"
      ],
      "metadata": {
        "colab": {
          "base_uri": "https://localhost:8080/"
        },
        "id": "ahK36mjYlKwa",
        "outputId": "05c6475f-ad59-4d02-eb6a-1a661ac9ad0f"
      },
      "execution_count": null,
      "outputs": [
        {
          "output_type": "stream",
          "name": "stdout",
          "text": [
            "2.9.2\n"
          ]
        }
      ]
    },
    {
      "cell_type": "code",
      "source": [
        "# Create tensors with tf.constant()\n",
        "scalar = tf.constant(7)\n",
        "scalar"
      ],
      "metadata": {
        "colab": {
          "base_uri": "https://localhost:8080/"
        },
        "id": "TZ9tOF2ulpea",
        "outputId": "ec1708e1-8f1d-413f-aea4-7f4ba284d6f9"
      },
      "execution_count": null,
      "outputs": [
        {
          "output_type": "execute_result",
          "data": {
            "text/plain": [
              "<tf.Tensor: shape=(), dtype=int32, numpy=7>"
            ]
          },
          "metadata": {},
          "execution_count": 136
        }
      ]
    },
    {
      "cell_type": "code",
      "source": [
        "# check the numbers of dimensions of a tensor\n",
        "scalar.ndim"
      ],
      "metadata": {
        "colab": {
          "base_uri": "https://localhost:8080/"
        },
        "id": "I1fxqB-zl8WD",
        "outputId": "aed9e4d3-dfe7-4703-b89b-be6ee6ca3086"
      },
      "execution_count": null,
      "outputs": [
        {
          "output_type": "execute_result",
          "data": {
            "text/plain": [
              "0"
            ]
          },
          "metadata": {},
          "execution_count": 137
        }
      ]
    },
    {
      "cell_type": "code",
      "source": [
        "# Create a vector\n",
        "vector = tf.constant([10, 10])\n",
        "vector"
      ],
      "metadata": {
        "colab": {
          "base_uri": "https://localhost:8080/"
        },
        "id": "YX0JBR4hmgoZ",
        "outputId": "b6e5e78e-1672-4d83-aeab-f6be0d5eb642"
      },
      "execution_count": null,
      "outputs": [
        {
          "output_type": "execute_result",
          "data": {
            "text/plain": [
              "<tf.Tensor: shape=(2,), dtype=int32, numpy=array([10, 10], dtype=int32)>"
            ]
          },
          "metadata": {},
          "execution_count": 138
        }
      ]
    },
    {
      "cell_type": "code",
      "source": [
        "vector.ndim"
      ],
      "metadata": {
        "colab": {
          "base_uri": "https://localhost:8080/"
        },
        "id": "dIWMV-c_mrfe",
        "outputId": "0e5506e5-7e89-466b-fe73-dd95c2728c27"
      },
      "execution_count": null,
      "outputs": [
        {
          "output_type": "execute_result",
          "data": {
            "text/plain": [
              "1"
            ]
          },
          "metadata": {},
          "execution_count": 139
        }
      ]
    },
    {
      "cell_type": "code",
      "source": [
        "# Create a matrix (has more than 1 dimension)\n",
        "matrix = tf.constant([[10, 7],\n",
        "                     [7, 10]])\n",
        "matrix"
      ],
      "metadata": {
        "colab": {
          "base_uri": "https://localhost:8080/"
        },
        "id": "wBCTZ_DDmtjN",
        "outputId": "cd30923c-c022-4a98-c3e4-4de69f700384"
      },
      "execution_count": null,
      "outputs": [
        {
          "output_type": "execute_result",
          "data": {
            "text/plain": [
              "<tf.Tensor: shape=(2, 2), dtype=int32, numpy=\n",
              "array([[10,  7],\n",
              "       [ 7, 10]], dtype=int32)>"
            ]
          },
          "metadata": {},
          "execution_count": 140
        }
      ]
    },
    {
      "cell_type": "code",
      "source": [
        "matrix.ndim"
      ],
      "metadata": {
        "colab": {
          "base_uri": "https://localhost:8080/"
        },
        "id": "zuPsOOsunARk",
        "outputId": "249c0815-07ba-4ab9-ed00-77a0eea76c98"
      },
      "execution_count": null,
      "outputs": [
        {
          "output_type": "execute_result",
          "data": {
            "text/plain": [
              "2"
            ]
          },
          "metadata": {},
          "execution_count": 141
        }
      ]
    },
    {
      "cell_type": "code",
      "source": [
        "# Create another matrix\n",
        "another_matrix = tf.constant([[4., 9.],\n",
        "                              [3, 2.],\n",
        "                              [8., 9.]], dtype=tf.float16)\n",
        "another_matrix"
      ],
      "metadata": {
        "colab": {
          "base_uri": "https://localhost:8080/"
        },
        "id": "Q0vdrDQvnLwP",
        "outputId": "7a69f75b-e847-4f85-b454-e682dae85128"
      },
      "execution_count": null,
      "outputs": [
        {
          "output_type": "execute_result",
          "data": {
            "text/plain": [
              "<tf.Tensor: shape=(3, 2), dtype=float16, numpy=\n",
              "array([[4., 9.],\n",
              "       [3., 2.],\n",
              "       [8., 9.]], dtype=float16)>"
            ]
          },
          "metadata": {},
          "execution_count": 142
        }
      ]
    },
    {
      "cell_type": "code",
      "source": [
        "another_matrix.ndim"
      ],
      "metadata": {
        "colab": {
          "base_uri": "https://localhost:8080/"
        },
        "id": "yYgouYZgnnq5",
        "outputId": "3d15c447-3a7a-4b3d-9d13-320df270ed02"
      },
      "execution_count": null,
      "outputs": [
        {
          "output_type": "execute_result",
          "data": {
            "text/plain": [
              "2"
            ]
          },
          "metadata": {},
          "execution_count": 143
        }
      ]
    },
    {
      "cell_type": "markdown",
      "source": [
        "### What we've created so far:\n",
        "\n",
        "* Scalar: a single number\n",
        "* Vector: a number with direction (e.g. wind speed and direction)\n",
        "* Matrix: a 2-dimension array of numbers\n",
        "* Tensor: an n-dimensional array of number "
      ],
      "metadata": {
        "id": "IjSnLSOMntV4"
      }
    },
    {
      "cell_type": "code",
      "source": [
        "# Create the same tensor with tf.Variable() as above\n",
        "changeable_tensor = tf.Variable([10, 7])\n",
        "unchangeable_tensor = tf.constant([10, 7])\n",
        "changeable_tensor, unchangeable_tensor"
      ],
      "metadata": {
        "id": "-dWB_PGfRJe1",
        "colab": {
          "base_uri": "https://localhost:8080/"
        },
        "outputId": "e7baf789-6e62-43cd-c5b0-64dff85fc7bb"
      },
      "execution_count": null,
      "outputs": [
        {
          "output_type": "execute_result",
          "data": {
            "text/plain": [
              "(<tf.Variable 'Variable:0' shape=(2,) dtype=int32, numpy=array([10,  7], dtype=int32)>,\n",
              " <tf.Tensor: shape=(2,), dtype=int32, numpy=array([10,  7], dtype=int32)>)"
            ]
          },
          "metadata": {},
          "execution_count": 144
        }
      ]
    },
    {
      "cell_type": "code",
      "source": [
        "# Let's try change of the elements in our changeable tensor\n",
        "# changeable_tensor[0] = 12"
      ],
      "metadata": {
        "id": "vmMxCC1GUDM_"
      },
      "execution_count": null,
      "outputs": []
    },
    {
      "cell_type": "code",
      "source": [
        "# How about we try .assign()\n",
        "changeable_tensor[0].assign(232)\n",
        "changeable_tensor"
      ],
      "metadata": {
        "id": "Wg7el_SpUQgJ",
        "colab": {
          "base_uri": "https://localhost:8080/"
        },
        "outputId": "9e34cce3-ba42-492d-f201-9649b1278cb0"
      },
      "execution_count": null,
      "outputs": [
        {
          "output_type": "execute_result",
          "data": {
            "text/plain": [
              "<tf.Variable 'Variable:0' shape=(2,) dtype=int32, numpy=array([232,   7], dtype=int32)>"
            ]
          },
          "metadata": {},
          "execution_count": 146
        }
      ]
    },
    {
      "cell_type": "code",
      "source": [
        "# Let's try change our unchangeable tensor\n",
        "# unchangeable_tensor[0].assign(232)\n",
        "# unchangeable_tensor"
      ],
      "metadata": {
        "id": "0cfP-BeKUlz4"
      },
      "execution_count": null,
      "outputs": []
    },
    {
      "cell_type": "markdown",
      "source": [
        "### Creating random tensor\n",
        "\n",
        "Random tensor are tensors of some arbitrary size which contain random numbers. "
      ],
      "metadata": {
        "id": "0EpTvVzcUrvC"
      }
    },
    {
      "cell_type": "code",
      "source": [
        "# Create two random (but the same) tensors\n",
        "random_1 = tf.random.Generator.from_seed(42) # set seed for reproducibility\n",
        "random_1 = random_1.normal(shape = (4, 3))\n",
        "random_2 = tf.random.Generator.from_seed(42)\n",
        "random_2 = random_2.normal(shape = (4, 3))\n",
        "\n",
        "# Are they equal?\n",
        "random_1, random_2, random_1 == random_2"
      ],
      "metadata": {
        "id": "SQNugV7rW8P3",
        "colab": {
          "base_uri": "https://localhost:8080/"
        },
        "outputId": "1b90a55e-e4ba-4e68-b398-423b9cdf194c"
      },
      "execution_count": null,
      "outputs": [
        {
          "output_type": "execute_result",
          "data": {
            "text/plain": [
              "(<tf.Tensor: shape=(4, 3), dtype=float32, numpy=\n",
              " array([[-0.7565803 , -0.06854702,  0.07595026],\n",
              "        [-1.2573844 , -0.23193763, -1.8107855 ],\n",
              "        [ 0.09988727, -0.50998646, -0.7535805 ],\n",
              "        [-0.57166284,  0.1480774 , -0.23362993]], dtype=float32)>,\n",
              " <tf.Tensor: shape=(4, 3), dtype=float32, numpy=\n",
              " array([[-0.7565803 , -0.06854702,  0.07595026],\n",
              "        [-1.2573844 , -0.23193763, -1.8107855 ],\n",
              "        [ 0.09988727, -0.50998646, -0.7535805 ],\n",
              "        [-0.57166284,  0.1480774 , -0.23362993]], dtype=float32)>,\n",
              " <tf.Tensor: shape=(4, 3), dtype=bool, numpy=\n",
              " array([[ True,  True,  True],\n",
              "        [ True,  True,  True],\n",
              "        [ True,  True,  True],\n",
              "        [ True,  True,  True]])>)"
            ]
          },
          "metadata": {},
          "execution_count": 148
        }
      ]
    },
    {
      "cell_type": "markdown",
      "source": [
        "Shuffle the order of elements in a tensor"
      ],
      "metadata": {
        "id": "WYcLwwghYDGi"
      }
    },
    {
      "cell_type": "code",
      "source": [
        "# Shuffle a tensor (valuable for when you want to shuffle your data so the inherent order\n",
        "# doesn't affect learning)\n",
        "not_shuffled = tf.constant([[10, 7],\n",
        "                            [3, 5],\n",
        "                            [2, 5]])\n",
        "# Shuffle our non-shuffled tensor\n",
        "tf.random.shuffle(not_shuffled)"
      ],
      "metadata": {
        "id": "CZAeoWE7xdfF",
        "colab": {
          "base_uri": "https://localhost:8080/"
        },
        "outputId": "92965d8d-4b10-46c4-da20-a1b35983297f"
      },
      "execution_count": null,
      "outputs": [
        {
          "output_type": "execute_result",
          "data": {
            "text/plain": [
              "<tf.Tensor: shape=(3, 2), dtype=int32, numpy=\n",
              "array([[10,  7],\n",
              "       [ 2,  5],\n",
              "       [ 3,  5]], dtype=int32)>"
            ]
          },
          "metadata": {},
          "execution_count": 149
        }
      ]
    },
    {
      "cell_type": "code",
      "source": [
        "# Shuffle our non-shuffled tensor\n",
        "tf.random.set_seed(42)\n",
        "tf.random.shuffle(not_shuffled, seed=42)"
      ],
      "metadata": {
        "id": "noqOYjHDyZcV",
        "colab": {
          "base_uri": "https://localhost:8080/"
        },
        "outputId": "dd8c9b1d-3844-4c3e-bad4-fb704f5138ba"
      },
      "execution_count": null,
      "outputs": [
        {
          "output_type": "execute_result",
          "data": {
            "text/plain": [
              "<tf.Tensor: shape=(3, 2), dtype=int32, numpy=\n",
              "array([[10,  7],\n",
              "       [ 3,  5],\n",
              "       [ 2,  5]], dtype=int32)>"
            ]
          },
          "metadata": {},
          "execution_count": 150
        }
      ]
    },
    {
      "cell_type": "markdown",
      "source": [
        "**Exercise**\n"
      ],
      "metadata": {
        "id": "3AOolQKtxZpi"
      }
    },
    {
      "cell_type": "code",
      "source": [
        "# Create 5 random tensors and shuffle them\n",
        "random = tf.random.Generator.from_seed(69)\n",
        "random1 = random.normal(shape=(3, 2))\n",
        "tf.random.shuffle(random1)\n",
        "random2 = random.normal(shape=(3,2))\n",
        "tf.random.shuffle(random2)\n",
        "random3 = random.normal(shape=(3,2))\n",
        "tf.random.shuffle(random3)\n",
        "random4 = random.normal(shape=(3,2))\n",
        "tf.random.shuffle(random4)\n",
        "random5 = random.normal(shape=(3,2))\n",
        "tf.random.shuffle(random5)\n",
        "random1, random2, random3, random4, random5"
      ],
      "metadata": {
        "id": "9TaF3XMjzqg2",
        "colab": {
          "base_uri": "https://localhost:8080/"
        },
        "outputId": "95199421-5f73-4125-d063-c4adb7e411de"
      },
      "execution_count": null,
      "outputs": [
        {
          "output_type": "execute_result",
          "data": {
            "text/plain": [
              "(<tf.Tensor: shape=(3, 2), dtype=float32, numpy=\n",
              " array([[ 0.29164317,  1.4531525 ],\n",
              "        [-0.8223833 , -1.3446563 ],\n",
              "        [-0.7183838 , -0.20373915]], dtype=float32)>,\n",
              " <tf.Tensor: shape=(3, 2), dtype=float32, numpy=\n",
              " array([[ 0.6094785 , -0.20813271],\n",
              "        [-1.8241427 ,  0.82461065],\n",
              "        [-0.17353141,  0.52762544]], dtype=float32)>,\n",
              " <tf.Tensor: shape=(3, 2), dtype=float32, numpy=\n",
              " array([[ 2.0006597 , -0.52585185],\n",
              "        [ 0.23797339, -0.06052312],\n",
              "        [ 0.0166028 ,  0.42335185]], dtype=float32)>,\n",
              " <tf.Tensor: shape=(3, 2), dtype=float32, numpy=\n",
              " array([[-1.6806577 , -0.8685411 ],\n",
              "        [ 1.3559858 ,  0.52442944],\n",
              "        [-0.41015142, -0.43921748]], dtype=float32)>,\n",
              " <tf.Tensor: shape=(3, 2), dtype=float32, numpy=\n",
              " array([[-1.41136   , -1.0980463 ],\n",
              "        [-0.7666738 , -0.08916527],\n",
              "        [ 0.6265605 , -1.1105936 ]], dtype=float32)>)"
            ]
          },
          "metadata": {},
          "execution_count": 151
        }
      ]
    },
    {
      "cell_type": "code",
      "source": [
        "# If we want our shuffled tensors to be in the same order, both the global lvl seed\n",
        "# and the operational level seed must be determined\n",
        "tf.random.set_seed(42)\n",
        "tf.random.shuffle(not_shuffled, seed=42)"
      ],
      "metadata": {
        "id": "Xynp9kA307YO",
        "colab": {
          "base_uri": "https://localhost:8080/"
        },
        "outputId": "8983d2fd-1340-4c35-b417-6f703861f4bc"
      },
      "execution_count": null,
      "outputs": [
        {
          "output_type": "execute_result",
          "data": {
            "text/plain": [
              "<tf.Tensor: shape=(3, 2), dtype=int32, numpy=\n",
              "array([[10,  7],\n",
              "       [ 3,  5],\n",
              "       [ 2,  5]], dtype=int32)>"
            ]
          },
          "metadata": {},
          "execution_count": 152
        }
      ]
    },
    {
      "cell_type": "markdown",
      "source": [
        "### Other ways to make tensors\n"
      ],
      "metadata": {
        "id": "xp9fTOjbFGK3"
      }
    },
    {
      "cell_type": "code",
      "source": [
        "# Create a tensor of all ones\n",
        "tf.ones([10, 7])"
      ],
      "metadata": {
        "id": "W-0UCldhGMCW",
        "colab": {
          "base_uri": "https://localhost:8080/"
        },
        "outputId": "63ec7ac2-9152-4f4a-81d7-c745a02ea4ab"
      },
      "execution_count": null,
      "outputs": [
        {
          "output_type": "execute_result",
          "data": {
            "text/plain": [
              "<tf.Tensor: shape=(10, 7), dtype=float32, numpy=\n",
              "array([[1., 1., 1., 1., 1., 1., 1.],\n",
              "       [1., 1., 1., 1., 1., 1., 1.],\n",
              "       [1., 1., 1., 1., 1., 1., 1.],\n",
              "       [1., 1., 1., 1., 1., 1., 1.],\n",
              "       [1., 1., 1., 1., 1., 1., 1.],\n",
              "       [1., 1., 1., 1., 1., 1., 1.],\n",
              "       [1., 1., 1., 1., 1., 1., 1.],\n",
              "       [1., 1., 1., 1., 1., 1., 1.],\n",
              "       [1., 1., 1., 1., 1., 1., 1.],\n",
              "       [1., 1., 1., 1., 1., 1., 1.]], dtype=float32)>"
            ]
          },
          "metadata": {},
          "execution_count": 153
        }
      ]
    },
    {
      "cell_type": "code",
      "source": [
        "# Create a tensor of all zeros\n",
        "tf.zeros([2,2])"
      ],
      "metadata": {
        "id": "aY-4kpvCGRQb",
        "colab": {
          "base_uri": "https://localhost:8080/"
        },
        "outputId": "7ae3bced-df23-4aca-f63e-bcfddcd1cd1f"
      },
      "execution_count": null,
      "outputs": [
        {
          "output_type": "execute_result",
          "data": {
            "text/plain": [
              "<tf.Tensor: shape=(2, 2), dtype=float32, numpy=\n",
              "array([[0., 0.],\n",
              "       [0., 0.]], dtype=float32)>"
            ]
          },
          "metadata": {},
          "execution_count": 154
        }
      ]
    },
    {
      "cell_type": "markdown",
      "source": [
        "### NumPy arrays into tensors\n",
        "The main difference between NumPy arrays and TensorFlow tensors is that tensors can be run on a GPU (much faster for numerical computing).\n"
      ],
      "metadata": {
        "id": "pZAOD92IGUaK"
      }
    },
    {
      "cell_type": "code",
      "source": [
        "import numpy as np\n",
        "numpy_A = np.arange(1, 25, dtype=np.int32)\n",
        "numpy_A\n",
        "\n",
        "# X = tf.constant(some_matrix) # capital for matrix or tensor\n",
        "# y = tf.constant(vector) # non-capital for vector "
      ],
      "metadata": {
        "id": "AbgkimihGvEW",
        "colab": {
          "base_uri": "https://localhost:8080/"
        },
        "outputId": "3f398379-ccf8-4766-96ed-345b0b88dc14"
      },
      "execution_count": null,
      "outputs": [
        {
          "output_type": "execute_result",
          "data": {
            "text/plain": [
              "array([ 1,  2,  3,  4,  5,  6,  7,  8,  9, 10, 11, 12, 13, 14, 15, 16, 17,\n",
              "       18, 19, 20, 21, 22, 23, 24], dtype=int32)"
            ]
          },
          "metadata": {},
          "execution_count": 155
        }
      ]
    },
    {
      "cell_type": "code",
      "source": [
        "A = tf.constant(numpy_A, shape=(3, 2, 4))\n",
        "A\n"
      ],
      "metadata": {
        "id": "lPtAsNZEHAwr",
        "colab": {
          "base_uri": "https://localhost:8080/"
        },
        "outputId": "3658391d-fd5f-4730-e4da-23b692af7ad1"
      },
      "execution_count": null,
      "outputs": [
        {
          "output_type": "execute_result",
          "data": {
            "text/plain": [
              "<tf.Tensor: shape=(3, 2, 4), dtype=int32, numpy=\n",
              "array([[[ 1,  2,  3,  4],\n",
              "        [ 5,  6,  7,  8]],\n",
              "\n",
              "       [[ 9, 10, 11, 12],\n",
              "        [13, 14, 15, 16]],\n",
              "\n",
              "       [[17, 18, 19, 20],\n",
              "        [21, 22, 23, 24]]], dtype=int32)>"
            ]
          },
          "metadata": {},
          "execution_count": 156
        }
      ]
    },
    {
      "cell_type": "markdown",
      "source": [
        "### Getting information from tensors\n",
        "\n",
        "When dealing with tensor you probably want to be aware of the following attributes: \n",
        "* Shape\n",
        "* Rank\n",
        "* Axis or dimension\n",
        "* Size"
      ],
      "metadata": {
        "id": "huQV6oyqJKXe"
      }
    },
    {
      "cell_type": "code",
      "source": [
        "# Create a rank 4 tensor (4 dimensions)\n",
        "\n",
        "rank_4_tensor = tf.ones(shape=[2, 3, 4, 5])\n",
        "rank_4_tensor\n"
      ],
      "metadata": {
        "id": "Z5g2ZZrIL4gC",
        "colab": {
          "base_uri": "https://localhost:8080/"
        },
        "outputId": "e8c4894e-94a9-4f17-c3df-e896c7bda64f"
      },
      "execution_count": null,
      "outputs": [
        {
          "output_type": "execute_result",
          "data": {
            "text/plain": [
              "<tf.Tensor: shape=(2, 3, 4, 5), dtype=float32, numpy=\n",
              "array([[[[1., 1., 1., 1., 1.],\n",
              "         [1., 1., 1., 1., 1.],\n",
              "         [1., 1., 1., 1., 1.],\n",
              "         [1., 1., 1., 1., 1.]],\n",
              "\n",
              "        [[1., 1., 1., 1., 1.],\n",
              "         [1., 1., 1., 1., 1.],\n",
              "         [1., 1., 1., 1., 1.],\n",
              "         [1., 1., 1., 1., 1.]],\n",
              "\n",
              "        [[1., 1., 1., 1., 1.],\n",
              "         [1., 1., 1., 1., 1.],\n",
              "         [1., 1., 1., 1., 1.],\n",
              "         [1., 1., 1., 1., 1.]]],\n",
              "\n",
              "\n",
              "       [[[1., 1., 1., 1., 1.],\n",
              "         [1., 1., 1., 1., 1.],\n",
              "         [1., 1., 1., 1., 1.],\n",
              "         [1., 1., 1., 1., 1.]],\n",
              "\n",
              "        [[1., 1., 1., 1., 1.],\n",
              "         [1., 1., 1., 1., 1.],\n",
              "         [1., 1., 1., 1., 1.],\n",
              "         [1., 1., 1., 1., 1.]],\n",
              "\n",
              "        [[1., 1., 1., 1., 1.],\n",
              "         [1., 1., 1., 1., 1.],\n",
              "         [1., 1., 1., 1., 1.],\n",
              "         [1., 1., 1., 1., 1.]]]], dtype=float32)>"
            ]
          },
          "metadata": {},
          "execution_count": 157
        }
      ]
    },
    {
      "cell_type": "code",
      "source": [
        "rank_4_tensor.shape, rank_4_tensor.ndim, tf.size(rank_4_tensor)"
      ],
      "metadata": {
        "id": "yzN68DE4MWBB",
        "colab": {
          "base_uri": "https://localhost:8080/"
        },
        "outputId": "c1d5a77d-8a13-4f27-dcf6-df51f5cc149c"
      },
      "execution_count": null,
      "outputs": [
        {
          "output_type": "execute_result",
          "data": {
            "text/plain": [
              "(TensorShape([2, 3, 4, 5]), 4, <tf.Tensor: shape=(), dtype=int32, numpy=120>)"
            ]
          },
          "metadata": {},
          "execution_count": 158
        }
      ]
    },
    {
      "cell_type": "code",
      "source": [
        "# Get various attributes of our tensor\n",
        "print(\"Datatype of every element: \", rank_4_tensor.dtype)\n",
        "print(\"Number of dimensions (rank): \", rank_4_tensor.ndim)\n",
        "print(\"Shape of tensor: \", rank_4_tensor.shape)\n",
        "print(\"Elements along the 0 axis: \", rank_4_tensor.shape[0])\n",
        "print(\"Elements along the last axis: \", rank_4_tensor.shape[-1])\n",
        "print(\"Total number of elements in our tensor: \", tf.size(rank_4_tensor).numpy())\n"
      ],
      "metadata": {
        "id": "lhT6JFTTNUFn",
        "colab": {
          "base_uri": "https://localhost:8080/"
        },
        "outputId": "6fa49ec5-8e6c-49be-9100-b4c85a42aa01"
      },
      "execution_count": null,
      "outputs": [
        {
          "output_type": "stream",
          "name": "stdout",
          "text": [
            "Datatype of every element:  <dtype: 'float32'>\n",
            "Number of dimensions (rank):  4\n",
            "Shape of tensor:  (2, 3, 4, 5)\n",
            "Elements along the 0 axis:  2\n",
            "Elements along the last axis:  5\n",
            "Total number of elements in our tensor:  120\n"
          ]
        }
      ]
    },
    {
      "cell_type": "markdown",
      "source": [
        "### Indexing tensor\n",
        "\n",
        "Tensor can be indexed just like Python lists."
      ],
      "metadata": {
        "id": "8Oq77km5N04D"
      }
    },
    {
      "cell_type": "code",
      "source": [
        "# Get the firts 2 elements of each dimension\n",
        "rank_4_tensor[:2, :2, :2, :2]"
      ],
      "metadata": {
        "id": "eRDd9aWDPRao",
        "colab": {
          "base_uri": "https://localhost:8080/"
        },
        "outputId": "aca30dcb-6537-45c0-a34e-58ad3bd1d35c"
      },
      "execution_count": null,
      "outputs": [
        {
          "output_type": "execute_result",
          "data": {
            "text/plain": [
              "<tf.Tensor: shape=(2, 2, 2, 2), dtype=float32, numpy=\n",
              "array([[[[1., 1.],\n",
              "         [1., 1.]],\n",
              "\n",
              "        [[1., 1.],\n",
              "         [1., 1.]]],\n",
              "\n",
              "\n",
              "       [[[1., 1.],\n",
              "         [1., 1.]],\n",
              "\n",
              "        [[1., 1.],\n",
              "         [1., 1.]]]], dtype=float32)>"
            ]
          },
          "metadata": {},
          "execution_count": 160
        }
      ]
    },
    {
      "cell_type": "code",
      "source": [
        "# Get the first element from each dimension from each index except for the final one\n",
        "rank_4_tensor[1:, :1, :1, :]"
      ],
      "metadata": {
        "id": "A48yvjHyPezE",
        "colab": {
          "base_uri": "https://localhost:8080/"
        },
        "outputId": "2b644394-5cd9-48dd-ca4c-d5d116bd78b8"
      },
      "execution_count": null,
      "outputs": [
        {
          "output_type": "execute_result",
          "data": {
            "text/plain": [
              "<tf.Tensor: shape=(1, 1, 1, 5), dtype=float32, numpy=array([[[[1., 1., 1., 1., 1.]]]], dtype=float32)>"
            ]
          },
          "metadata": {},
          "execution_count": 161
        }
      ]
    },
    {
      "cell_type": "code",
      "source": [
        "# Create a rank 2 tensor (2 dimensions)\n",
        "rank_2_tensor = tf.constant([[10, 7],\n",
        "                            [3, 4]])\n",
        "rank_2_tensor.shape, rank_2_tensor.ndim"
      ],
      "metadata": {
        "id": "GitK3M3dRW2T",
        "colab": {
          "base_uri": "https://localhost:8080/"
        },
        "outputId": "59fff981-6d14-42e6-f4c2-f730c8297af4"
      },
      "execution_count": null,
      "outputs": [
        {
          "output_type": "execute_result",
          "data": {
            "text/plain": [
              "(TensorShape([2, 2]), 2)"
            ]
          },
          "metadata": {},
          "execution_count": 162
        }
      ]
    },
    {
      "cell_type": "code",
      "source": [
        "# Get the last item of each row of our rank 2 tensor\n",
        "rank_2_tensor[..., -1]"
      ],
      "metadata": {
        "id": "vtgLhrrcSHXA",
        "colab": {
          "base_uri": "https://localhost:8080/"
        },
        "outputId": "b196f8e0-3d38-4575-fc24-c4f4782d046b"
      },
      "execution_count": null,
      "outputs": [
        {
          "output_type": "execute_result",
          "data": {
            "text/plain": [
              "<tf.Tensor: shape=(2,), dtype=int32, numpy=array([7, 4], dtype=int32)>"
            ]
          },
          "metadata": {},
          "execution_count": 163
        }
      ]
    },
    {
      "cell_type": "code",
      "source": [
        "# Add in extra dimension to our rank 2 tensor\n",
        "rank_3_tensor = rank_2_tensor[..., tf.newaxis]\n",
        "rank_3_tensor"
      ],
      "metadata": {
        "id": "hwWXJhSnSnxe",
        "colab": {
          "base_uri": "https://localhost:8080/"
        },
        "outputId": "0dd203d1-1f49-4b54-89e3-0db537f78ac0"
      },
      "execution_count": null,
      "outputs": [
        {
          "output_type": "execute_result",
          "data": {
            "text/plain": [
              "<tf.Tensor: shape=(2, 2, 1), dtype=int32, numpy=\n",
              "array([[[10],\n",
              "        [ 7]],\n",
              "\n",
              "       [[ 3],\n",
              "        [ 4]]], dtype=int32)>"
            ]
          },
          "metadata": {},
          "execution_count": 164
        }
      ]
    },
    {
      "cell_type": "code",
      "source": [
        "# Alternative to tf.newaxis\n",
        "tf.expand_dims(rank_2_tensor, axis = -1) # \"-1\" expands the final axis "
      ],
      "metadata": {
        "id": "QLPFVgngTK5I",
        "colab": {
          "base_uri": "https://localhost:8080/"
        },
        "outputId": "206a22fa-69a4-47eb-a757-6953b59b132c"
      },
      "execution_count": null,
      "outputs": [
        {
          "output_type": "execute_result",
          "data": {
            "text/plain": [
              "<tf.Tensor: shape=(2, 2, 1), dtype=int32, numpy=\n",
              "array([[[10],\n",
              "        [ 7]],\n",
              "\n",
              "       [[ 3],\n",
              "        [ 4]]], dtype=int32)>"
            ]
          },
          "metadata": {},
          "execution_count": 165
        }
      ]
    },
    {
      "cell_type": "code",
      "source": [
        "# Expand the 0-axis\n",
        "tf.expand_dims(rank_2_tensor, axis = 0) "
      ],
      "metadata": {
        "id": "tl3hD3KbTu9E",
        "colab": {
          "base_uri": "https://localhost:8080/"
        },
        "outputId": "8f2f38c1-51fb-4cae-b82d-96aa4c117d54"
      },
      "execution_count": null,
      "outputs": [
        {
          "output_type": "execute_result",
          "data": {
            "text/plain": [
              "<tf.Tensor: shape=(1, 2, 2), dtype=int32, numpy=\n",
              "array([[[10,  7],\n",
              "        [ 3,  4]]], dtype=int32)>"
            ]
          },
          "metadata": {},
          "execution_count": 166
        }
      ]
    },
    {
      "cell_type": "markdown",
      "source": [
        "### Manipulating tensor (tensor operations)\n",
        "\n",
        "**Basic operations**\n",
        "\n",
        "`+`, `-`, `*`, `/`"
      ],
      "metadata": {
        "id": "i4zh-IZCUAg8"
      }
    },
    {
      "cell_type": "code",
      "source": [
        "# You can add values to a tensor using the addition operator\n",
        "tensor = tf.constant([[10, 7], [3, 4]])\n",
        "tensor + 10"
      ],
      "metadata": {
        "id": "Ai-SkhNEVukt",
        "colab": {
          "base_uri": "https://localhost:8080/"
        },
        "outputId": "32f3d7cf-ee3d-4540-99b0-237819272e09"
      },
      "execution_count": null,
      "outputs": [
        {
          "output_type": "execute_result",
          "data": {
            "text/plain": [
              "<tf.Tensor: shape=(2, 2), dtype=int32, numpy=\n",
              "array([[20, 17],\n",
              "       [13, 14]], dtype=int32)>"
            ]
          },
          "metadata": {},
          "execution_count": 167
        }
      ]
    },
    {
      "cell_type": "code",
      "source": [
        "# Original tensor is unchanged\n",
        "tensor"
      ],
      "metadata": {
        "id": "UPUm9t-VVrqR",
        "colab": {
          "base_uri": "https://localhost:8080/"
        },
        "outputId": "457b6aff-a31e-4c1f-a788-35a301012230"
      },
      "execution_count": null,
      "outputs": [
        {
          "output_type": "execute_result",
          "data": {
            "text/plain": [
              "<tf.Tensor: shape=(2, 2), dtype=int32, numpy=\n",
              "array([[10,  7],\n",
              "       [ 3,  4]], dtype=int32)>"
            ]
          },
          "metadata": {},
          "execution_count": 168
        }
      ]
    },
    {
      "cell_type": "code",
      "source": [
        "# Multiplication\n",
        "tensor * 10"
      ],
      "metadata": {
        "id": "seMaezUNV9MU",
        "colab": {
          "base_uri": "https://localhost:8080/"
        },
        "outputId": "20fc05b9-ca1a-4916-ee7f-a4d4efa831fe"
      },
      "execution_count": null,
      "outputs": [
        {
          "output_type": "execute_result",
          "data": {
            "text/plain": [
              "<tf.Tensor: shape=(2, 2), dtype=int32, numpy=\n",
              "array([[100,  70],\n",
              "       [ 30,  40]], dtype=int32)>"
            ]
          },
          "metadata": {},
          "execution_count": 169
        }
      ]
    },
    {
      "cell_type": "code",
      "source": [
        "# Division \n",
        "tensor / 10"
      ],
      "metadata": {
        "id": "fp1C8U_bWIAN",
        "colab": {
          "base_uri": "https://localhost:8080/"
        },
        "outputId": "e43e77d7-3c3c-4e2b-9fc5-b26f60fd09db"
      },
      "execution_count": null,
      "outputs": [
        {
          "output_type": "execute_result",
          "data": {
            "text/plain": [
              "<tf.Tensor: shape=(2, 2), dtype=float64, numpy=\n",
              "array([[1. , 0.7],\n",
              "       [0.3, 0.4]])>"
            ]
          },
          "metadata": {},
          "execution_count": 170
        }
      ]
    },
    {
      "cell_type": "code",
      "source": [
        "# Subtraction\n",
        "tensor - 10"
      ],
      "metadata": {
        "id": "x1qxDThsWKMC",
        "colab": {
          "base_uri": "https://localhost:8080/"
        },
        "outputId": "51b23e13-f24f-4ebe-b05b-c116e6d5ffef"
      },
      "execution_count": null,
      "outputs": [
        {
          "output_type": "execute_result",
          "data": {
            "text/plain": [
              "<tf.Tensor: shape=(2, 2), dtype=int32, numpy=\n",
              "array([[ 0, -3],\n",
              "       [-7, -6]], dtype=int32)>"
            ]
          },
          "metadata": {},
          "execution_count": 171
        }
      ]
    },
    {
      "cell_type": "code",
      "source": [
        "# We can use the tensorflow built-in function too \n",
        "# (it gets speed up through the GPU, so it's faster)\n",
        "tf.multiply(tensor, 10)"
      ],
      "metadata": {
        "id": "S2ZqkshjWNRz",
        "colab": {
          "base_uri": "https://localhost:8080/"
        },
        "outputId": "c1127801-e6d3-4d95-f0d2-2d9f733ea65c"
      },
      "execution_count": null,
      "outputs": [
        {
          "output_type": "execute_result",
          "data": {
            "text/plain": [
              "<tf.Tensor: shape=(2, 2), dtype=int32, numpy=\n",
              "array([[100,  70],\n",
              "       [ 30,  40]], dtype=int32)>"
            ]
          },
          "metadata": {},
          "execution_count": 172
        }
      ]
    },
    {
      "cell_type": "code",
      "source": [
        "tensor"
      ],
      "metadata": {
        "id": "9AmgI6UtWXN3",
        "colab": {
          "base_uri": "https://localhost:8080/"
        },
        "outputId": "dfb9cf42-1da0-40a1-c13e-b2040c01c4ae"
      },
      "execution_count": null,
      "outputs": [
        {
          "output_type": "execute_result",
          "data": {
            "text/plain": [
              "<tf.Tensor: shape=(2, 2), dtype=int32, numpy=\n",
              "array([[10,  7],\n",
              "       [ 3,  4]], dtype=int32)>"
            ]
          },
          "metadata": {},
          "execution_count": 173
        }
      ]
    },
    {
      "cell_type": "markdown",
      "source": [
        "### **Matrix multiplication**\n",
        "\n",
        "In machine learning, Is one of the most common operations \n",
        "\n",
        "There are two rules our tensors (or matrices) need to fullfil if we're going to matrix multiply them:\n",
        "1. The inner dimensions must match\n",
        "2. The resulting matrix has the shape of the outer dimensions"
      ],
      "metadata": {
        "id": "CM3aMzFTXNaP"
      }
    },
    {
      "cell_type": "code",
      "source": [
        "# Matrix multiplication in tensorflow\n",
        "tf.matmul(tensor, tensor)"
      ],
      "metadata": {
        "id": "CIGzPVQgYzrq",
        "colab": {
          "base_uri": "https://localhost:8080/"
        },
        "outputId": "09d94b36-fde7-4b27-93c0-845b53cecdf4"
      },
      "execution_count": null,
      "outputs": [
        {
          "output_type": "execute_result",
          "data": {
            "text/plain": [
              "<tf.Tensor: shape=(2, 2), dtype=int32, numpy=\n",
              "array([[121,  98],\n",
              "       [ 42,  37]], dtype=int32)>"
            ]
          },
          "metadata": {},
          "execution_count": 174
        }
      ]
    },
    {
      "cell_type": "code",
      "source": [
        "# Matrix multiplication with Python operator \"@\"\n",
        "tensor @ tensor\n"
      ],
      "metadata": {
        "id": "QTOdpfJUY8wQ",
        "colab": {
          "base_uri": "https://localhost:8080/"
        },
        "outputId": "23cc5462-d725-4943-9179-9306131a5a09"
      },
      "execution_count": null,
      "outputs": [
        {
          "output_type": "execute_result",
          "data": {
            "text/plain": [
              "<tf.Tensor: shape=(2, 2), dtype=int32, numpy=\n",
              "array([[121,  98],\n",
              "       [ 42,  37]], dtype=int32)>"
            ]
          },
          "metadata": {},
          "execution_count": 175
        }
      ]
    },
    {
      "cell_type": "code",
      "source": [
        "tensor.shape"
      ],
      "metadata": {
        "id": "et_NKPe1Z9oK",
        "colab": {
          "base_uri": "https://localhost:8080/"
        },
        "outputId": "fb5fde72-ab98-47bd-db1b-8eb0797031c3"
      },
      "execution_count": null,
      "outputs": [
        {
          "output_type": "execute_result",
          "data": {
            "text/plain": [
              "TensorShape([2, 2])"
            ]
          },
          "metadata": {},
          "execution_count": 176
        }
      ]
    },
    {
      "cell_type": "code",
      "source": [
        "# Create a tensor (3, 2) tensor\n",
        "X = tf.constant([[1, 2],\n",
        "                 [3, 4],\n",
        "                 [5, 6]])\n",
        "# Create another (3, 2) tensor\n",
        "Y = tf.constant([[7, 8],\n",
        "                 [9, 10],\n",
        "                 [11, 12]])\n",
        "X, Y"
      ],
      "metadata": {
        "id": "MolaMqpjZ_Z0",
        "colab": {
          "base_uri": "https://localhost:8080/"
        },
        "outputId": "a1e8737e-ad21-4f39-e9fe-d8fc362bbaca"
      },
      "execution_count": null,
      "outputs": [
        {
          "output_type": "execute_result",
          "data": {
            "text/plain": [
              "(<tf.Tensor: shape=(3, 2), dtype=int32, numpy=\n",
              " array([[1, 2],\n",
              "        [3, 4],\n",
              "        [5, 6]], dtype=int32)>, <tf.Tensor: shape=(3, 2), dtype=int32, numpy=\n",
              " array([[ 7,  8],\n",
              "        [ 9, 10],\n",
              "        [11, 12]], dtype=int32)>)"
            ]
          },
          "metadata": {},
          "execution_count": 177
        }
      ]
    },
    {
      "cell_type": "code",
      "source": [
        "# Try to matrix multiply tensors of same shape\n",
        "# tf.matmul(X, Y)"
      ],
      "metadata": {
        "id": "3VlNziwjaUAk"
      },
      "execution_count": null,
      "outputs": []
    },
    {
      "cell_type": "code",
      "source": [
        "# Fixing the error \n",
        "\n",
        "# Create a tensor (3, 2) tensor\n",
        "X = tf.constant([[1, 2],\n",
        "                 [3, 4],\n",
        "                 [5, 6]])\n",
        "# Create another (2, 3) tensor\n",
        "Y = tf.constant([[7, 8, 9],\n",
        "                 [10, 11, 12]])\n",
        "# Inner dimensions now match\n",
        "tf.matmul(X, Y)"
      ],
      "metadata": {
        "id": "-2jjatSaabZt",
        "colab": {
          "base_uri": "https://localhost:8080/"
        },
        "outputId": "6fce4b33-fd77-4c66-d75e-d5782f18779c"
      },
      "execution_count": null,
      "outputs": [
        {
          "output_type": "execute_result",
          "data": {
            "text/plain": [
              "<tf.Tensor: shape=(3, 3), dtype=int32, numpy=\n",
              "array([[ 27,  30,  33],\n",
              "       [ 61,  68,  75],\n",
              "       [ 95, 106, 117]], dtype=int32)>"
            ]
          },
          "metadata": {},
          "execution_count": 179
        }
      ]
    },
    {
      "cell_type": "markdown",
      "source": [
        "**The dot product**\n",
        "\n",
        "Matrix multiplication is also referred to as the dot product.\n",
        "\n",
        "You can perform matrix multiplication using:\n",
        "* `tf.matmul()`\n",
        "* `tf.tensordot()`"
      ],
      "metadata": {
        "id": "B_o6KpruwQFZ"
      }
    },
    {
      "cell_type": "code",
      "source": [
        "Y = tf.reshape(Y, [3, 2])\n",
        "X, Y\n"
      ],
      "metadata": {
        "id": "Jhc-0HYFyrlv",
        "colab": {
          "base_uri": "https://localhost:8080/"
        },
        "outputId": "4cd731ae-e941-4a18-9a3e-c01cc7ed1d8c"
      },
      "execution_count": null,
      "outputs": [
        {
          "output_type": "execute_result",
          "data": {
            "text/plain": [
              "(<tf.Tensor: shape=(3, 2), dtype=int32, numpy=\n",
              " array([[1, 2],\n",
              "        [3, 4],\n",
              "        [5, 6]], dtype=int32)>, <tf.Tensor: shape=(3, 2), dtype=int32, numpy=\n",
              " array([[ 7,  8],\n",
              "        [ 9, 10],\n",
              "        [11, 12]], dtype=int32)>)"
            ]
          },
          "metadata": {},
          "execution_count": 180
        }
      ]
    },
    {
      "cell_type": "code",
      "source": [
        "# Perform the dot product on X and Y (requires X or Y to be transposed)\n",
        "tf.tensordot(tf.transpose(X), Y, axes=1)\n"
      ],
      "metadata": {
        "id": "5Cw6MYDoyVn1",
        "colab": {
          "base_uri": "https://localhost:8080/"
        },
        "outputId": "e7fa550e-1935-48e9-ca78-28540fc9a4e0"
      },
      "execution_count": null,
      "outputs": [
        {
          "output_type": "execute_result",
          "data": {
            "text/plain": [
              "<tf.Tensor: shape=(2, 2), dtype=int32, numpy=\n",
              "array([[ 89,  98],\n",
              "       [116, 128]], dtype=int32)>"
            ]
          },
          "metadata": {},
          "execution_count": 181
        }
      ]
    },
    {
      "cell_type": "code",
      "source": [
        "# Perform matrix multiplication between X and Y (transposed)\n",
        "tf.matmul (X, tf.transpose(Y))"
      ],
      "metadata": {
        "id": "B-A3FqyUzXds",
        "colab": {
          "base_uri": "https://localhost:8080/"
        },
        "outputId": "6c86e068-996f-4ac9-c2da-77f78c2a7626"
      },
      "execution_count": null,
      "outputs": [
        {
          "output_type": "execute_result",
          "data": {
            "text/plain": [
              "<tf.Tensor: shape=(3, 3), dtype=int32, numpy=\n",
              "array([[ 23,  29,  35],\n",
              "       [ 53,  67,  81],\n",
              "       [ 83, 105, 127]], dtype=int32)>"
            ]
          },
          "metadata": {},
          "execution_count": 182
        }
      ]
    },
    {
      "cell_type": "code",
      "source": [
        "# Perform matrix multiplication between X and Y (reshaped)\n",
        "tf.matmul(X, tf.reshape(Y, shape=(2, 3)))"
      ],
      "metadata": {
        "id": "WzP7kxefzr93",
        "colab": {
          "base_uri": "https://localhost:8080/"
        },
        "outputId": "03c91fa8-14bb-46fa-ea40-d8d49a2eadd4"
      },
      "execution_count": null,
      "outputs": [
        {
          "output_type": "execute_result",
          "data": {
            "text/plain": [
              "<tf.Tensor: shape=(3, 3), dtype=int32, numpy=\n",
              "array([[ 27,  30,  33],\n",
              "       [ 61,  68,  75],\n",
              "       [ 95, 106, 117]], dtype=int32)>"
            ]
          },
          "metadata": {},
          "execution_count": 183
        }
      ]
    },
    {
      "cell_type": "code",
      "source": [
        "# Check the values of Y, reshape Y and transposed Y\n",
        "print(\"Normal Y: \")\n",
        "print(Y, \"\\n\")\n",
        "\n",
        "print(\"Y reshaped to (2, 3):\")\n",
        "print(tf.reshape(Y, (2, 3)), \"\\n\")\n",
        "\n",
        "print(\"Transposed Y: \")\n",
        "print(tf.transpose(Y))\n"
      ],
      "metadata": {
        "id": "kREU8_Iuz1bE",
        "colab": {
          "base_uri": "https://localhost:8080/"
        },
        "outputId": "a60b18ee-6339-43f2-a37d-cb55c2fe1122"
      },
      "execution_count": null,
      "outputs": [
        {
          "output_type": "stream",
          "name": "stdout",
          "text": [
            "Normal Y: \n",
            "tf.Tensor(\n",
            "[[ 7  8]\n",
            " [ 9 10]\n",
            " [11 12]], shape=(3, 2), dtype=int32) \n",
            "\n",
            "Y reshaped to (2, 3):\n",
            "tf.Tensor(\n",
            "[[ 7  8  9]\n",
            " [10 11 12]], shape=(2, 3), dtype=int32) \n",
            "\n",
            "Transposed Y: \n",
            "tf.Tensor(\n",
            "[[ 7  9 11]\n",
            " [ 8 10 12]], shape=(2, 3), dtype=int32)\n"
          ]
        }
      ]
    },
    {
      "cell_type": "markdown",
      "source": [
        "Generally, when perfoming matrix multiplication on two tensors and one of the axes doesn't line up, you will transpose (rather than reshape) one of the tensors to satisfy the matrix rules\n"
      ],
      "metadata": {
        "id": "EmTdQ9wE0BWj"
      }
    },
    {
      "cell_type": "markdown",
      "source": [
        "### Changing the dataype of a tensor"
      ],
      "metadata": {
        "id": "Ne6wQG9818uB"
      }
    },
    {
      "cell_type": "code",
      "source": [
        "# Create a new tensor with default datatype (float32)\n",
        "B = tf.constant([1.7, 7.4])\n",
        "B.dtype"
      ],
      "metadata": {
        "id": "icyIRNcHa7EV",
        "colab": {
          "base_uri": "https://localhost:8080/"
        },
        "outputId": "e7a8ccfc-a532-4e45-9a2e-6229febe2758"
      },
      "execution_count": null,
      "outputs": [
        {
          "output_type": "execute_result",
          "data": {
            "text/plain": [
              "tf.float32"
            ]
          },
          "metadata": {},
          "execution_count": 185
        }
      ]
    },
    {
      "cell_type": "code",
      "source": [
        "C = tf.constant([7, 10])\n",
        "C.dtype"
      ],
      "metadata": {
        "id": "sQJK_RFia3zr",
        "colab": {
          "base_uri": "https://localhost:8080/"
        },
        "outputId": "97aee0ae-72c8-49b1-b9e0-9e1fb46ead5d"
      },
      "execution_count": null,
      "outputs": [
        {
          "output_type": "execute_result",
          "data": {
            "text/plain": [
              "tf.int32"
            ]
          },
          "metadata": {},
          "execution_count": 186
        }
      ]
    },
    {
      "cell_type": "code",
      "source": [
        "# Change from float32 to float16 (reduced precision)\n",
        "B = tf.cast(B, dtype = tf.float16)\n",
        "B"
      ],
      "metadata": {
        "id": "E1Rd6L1AbIsO",
        "colab": {
          "base_uri": "https://localhost:8080/"
        },
        "outputId": "964f9bcb-a3b5-4928-c7a3-f1d656864807"
      },
      "execution_count": null,
      "outputs": [
        {
          "output_type": "execute_result",
          "data": {
            "text/plain": [
              "<tf.Tensor: shape=(2,), dtype=float16, numpy=array([1.7, 7.4], dtype=float16)>"
            ]
          },
          "metadata": {},
          "execution_count": 187
        }
      ]
    },
    {
      "cell_type": "code",
      "source": [
        "# Change from int32 to float32\n",
        "E = tf.cast(C, dtype = tf.float32)\n",
        "E"
      ],
      "metadata": {
        "id": "PpFkAFeFbuj9",
        "colab": {
          "base_uri": "https://localhost:8080/"
        },
        "outputId": "d66163a8-caa9-40fa-887a-2dcff86fac4c"
      },
      "execution_count": null,
      "outputs": [
        {
          "output_type": "execute_result",
          "data": {
            "text/plain": [
              "<tf.Tensor: shape=(2,), dtype=float32, numpy=array([ 7., 10.], dtype=float32)>"
            ]
          },
          "metadata": {},
          "execution_count": 188
        }
      ]
    },
    {
      "cell_type": "code",
      "source": [
        "E_float16 = tf.cast(E, dtype = tf.float16)\n",
        "E_float16"
      ],
      "metadata": {
        "id": "rhOL66plcHYe",
        "colab": {
          "base_uri": "https://localhost:8080/"
        },
        "outputId": "7b1c39eb-ecdc-402e-9ffa-eb967eebe8eb"
      },
      "execution_count": null,
      "outputs": [
        {
          "output_type": "execute_result",
          "data": {
            "text/plain": [
              "<tf.Tensor: shape=(2,), dtype=float16, numpy=array([ 7., 10.], dtype=float16)>"
            ]
          },
          "metadata": {},
          "execution_count": 189
        }
      ]
    },
    {
      "cell_type": "markdown",
      "source": [
        "### Aggregating tensors\n",
        "\n",
        "Aggregating tensors = condensing them from multiple values down to a smaller amount of values."
      ],
      "metadata": {
        "id": "DFxQAP6QcPf6"
      }
    },
    {
      "cell_type": "code",
      "source": [
        "# Get the absolute values\n",
        "D = tf.constant([-7, -10])\n",
        "D"
      ],
      "metadata": {
        "id": "7IEgM160ccMp",
        "colab": {
          "base_uri": "https://localhost:8080/"
        },
        "outputId": "26dc0897-e9d4-4bda-cadd-b4052f58da16"
      },
      "execution_count": null,
      "outputs": [
        {
          "output_type": "execute_result",
          "data": {
            "text/plain": [
              "<tf.Tensor: shape=(2,), dtype=int32, numpy=array([ -7, -10], dtype=int32)>"
            ]
          },
          "metadata": {},
          "execution_count": 190
        }
      ]
    },
    {
      "cell_type": "code",
      "source": [
        "# Get the absolute values\n",
        "tf.abs(D)"
      ],
      "metadata": {
        "id": "tFWp_NBsdWTj",
        "colab": {
          "base_uri": "https://localhost:8080/"
        },
        "outputId": "81182674-74e9-42cc-dc17-4884af7a38a4"
      },
      "execution_count": null,
      "outputs": [
        {
          "output_type": "execute_result",
          "data": {
            "text/plain": [
              "<tf.Tensor: shape=(2,), dtype=int32, numpy=array([ 7, 10], dtype=int32)>"
            ]
          },
          "metadata": {},
          "execution_count": 191
        }
      ]
    },
    {
      "cell_type": "markdown",
      "source": [
        "Let's go through the following forms of aggregation:\n",
        "\n",
        "* Get the minimum\n",
        "* Get the maximum\n",
        "* Get the mean of a tensor\n",
        "* Get the sum of a tensor"
      ],
      "metadata": {
        "id": "LQQ3Jlu4df_8"
      }
    },
    {
      "cell_type": "code",
      "source": [
        "# Tensor 1\n",
        "X = tf.constant(np.random.randint(0, 101, size = 50))\n",
        "X\n",
        "# Tensor 2\n",
        "Y = tf.constant([[5, 6],\n",
        "                 [7, 8]])\n",
        "\n",
        "# Getting the minimum\n",
        "tf.reduce_min(X)"
      ],
      "metadata": {
        "id": "l8yHFJl4drVi",
        "colab": {
          "base_uri": "https://localhost:8080/"
        },
        "outputId": "3169971b-de26-460f-f3ac-cb7bfed618ca"
      },
      "execution_count": null,
      "outputs": [
        {
          "output_type": "execute_result",
          "data": {
            "text/plain": [
              "<tf.Tensor: shape=(), dtype=int64, numpy=1>"
            ]
          },
          "metadata": {},
          "execution_count": 192
        }
      ]
    },
    {
      "cell_type": "code",
      "source": [
        "# Getting the maximum \n",
        "tf.reduce_max(X)"
      ],
      "metadata": {
        "id": "qsKqKrkHeYzy",
        "colab": {
          "base_uri": "https://localhost:8080/"
        },
        "outputId": "0bee6df0-dcbb-44f9-a3ce-a463b648aa09"
      },
      "execution_count": null,
      "outputs": [
        {
          "output_type": "execute_result",
          "data": {
            "text/plain": [
              "<tf.Tensor: shape=(), dtype=int64, numpy=98>"
            ]
          },
          "metadata": {},
          "execution_count": 193
        }
      ]
    },
    {
      "cell_type": "code",
      "source": [
        "# Getting the mean\n",
        "tf.reduce_mean(X)"
      ],
      "metadata": {
        "id": "4u5ZzoM0eeVZ",
        "colab": {
          "base_uri": "https://localhost:8080/"
        },
        "outputId": "b1321182-2537-4f7b-a76e-4baa16bfee5b"
      },
      "execution_count": null,
      "outputs": [
        {
          "output_type": "execute_result",
          "data": {
            "text/plain": [
              "<tf.Tensor: shape=(), dtype=int64, numpy=45>"
            ]
          },
          "metadata": {},
          "execution_count": 194
        }
      ]
    },
    {
      "cell_type": "code",
      "source": [
        "# Getting the sum\n",
        "tf.reduce_sum(X)"
      ],
      "metadata": {
        "id": "F2mBN_Z9fiji",
        "colab": {
          "base_uri": "https://localhost:8080/"
        },
        "outputId": "950b1816-f422-4eb5-fb0b-ae7049756d84"
      },
      "execution_count": null,
      "outputs": [
        {
          "output_type": "execute_result",
          "data": {
            "text/plain": [
              "<tf.Tensor: shape=(), dtype=int64, numpy=2283>"
            ]
          },
          "metadata": {},
          "execution_count": 195
        }
      ]
    },
    {
      "cell_type": "code",
      "source": [
        "# Getting the variance\n",
        "tf.math.reduce_variance(tf.cast(X, dtype = tf.float32))"
      ],
      "metadata": {
        "id": "N17ETJSGfmcq",
        "colab": {
          "base_uri": "https://localhost:8080/"
        },
        "outputId": "e0076c32-af06-4e69-811b-b36cd2ae571a"
      },
      "execution_count": null,
      "outputs": [
        {
          "output_type": "execute_result",
          "data": {
            "text/plain": [
              "<tf.Tensor: shape=(), dtype=float32, numpy=786.90436>"
            ]
          },
          "metadata": {},
          "execution_count": 196
        }
      ]
    },
    {
      "cell_type": "code",
      "source": [
        "# Getting the standard deviation\n",
        "tf.math.reduce_std(tf.cast(X, dtype = tf.float32))"
      ],
      "metadata": {
        "id": "A4cZNyOSf8bF",
        "colab": {
          "base_uri": "https://localhost:8080/"
        },
        "outputId": "8f250033-6634-4d9a-ed8a-262a93adee9b"
      },
      "execution_count": null,
      "outputs": [
        {
          "output_type": "execute_result",
          "data": {
            "text/plain": [
              "<tf.Tensor: shape=(), dtype=float32, numpy=28.051815>"
            ]
          },
          "metadata": {},
          "execution_count": 197
        }
      ]
    },
    {
      "cell_type": "code",
      "source": [
        "tf.math.reduce_std(E)"
      ],
      "metadata": {
        "id": "mmSvLs2-g649",
        "colab": {
          "base_uri": "https://localhost:8080/"
        },
        "outputId": "f529f674-55a4-45df-a6d1-356e2a444d2b"
      },
      "execution_count": null,
      "outputs": [
        {
          "output_type": "execute_result",
          "data": {
            "text/plain": [
              "<tf.Tensor: shape=(), dtype=float32, numpy=1.5>"
            ]
          },
          "metadata": {},
          "execution_count": 198
        }
      ]
    },
    {
      "cell_type": "markdown",
      "source": [
        "### Find the positional maximum and minimum ###"
      ],
      "metadata": {
        "id": "S-p9c-GSh_PP"
      }
    },
    {
      "cell_type": "code",
      "source": [
        "# Create a new tensor for finding positional minimum and maximum\n",
        "tf.random.set_seed(42)\n",
        "F = tf.random.uniform(shape = [50])\n",
        "F"
      ],
      "metadata": {
        "id": "77XXMTniima4",
        "colab": {
          "base_uri": "https://localhost:8080/"
        },
        "outputId": "2b445c19-3600-4779-d9c6-a6e02bbcd9fa"
      },
      "execution_count": null,
      "outputs": [
        {
          "output_type": "execute_result",
          "data": {
            "text/plain": [
              "<tf.Tensor: shape=(50,), dtype=float32, numpy=\n",
              "array([0.6645621 , 0.44100678, 0.3528825 , 0.46448255, 0.03366041,\n",
              "       0.68467236, 0.74011743, 0.8724445 , 0.22632635, 0.22319686,\n",
              "       0.3103881 , 0.7223358 , 0.13318717, 0.5480639 , 0.5746088 ,\n",
              "       0.8996835 , 0.00946367, 0.5212307 , 0.6345445 , 0.1993283 ,\n",
              "       0.72942245, 0.54583454, 0.10756552, 0.6767061 , 0.6602763 ,\n",
              "       0.33695042, 0.60141766, 0.21062577, 0.8527372 , 0.44062173,\n",
              "       0.9485276 , 0.23752594, 0.81179297, 0.5263394 , 0.494308  ,\n",
              "       0.21612847, 0.8457197 , 0.8718841 , 0.3083862 , 0.6868038 ,\n",
              "       0.23764038, 0.7817228 , 0.9671384 , 0.06870162, 0.79873943,\n",
              "       0.66028714, 0.5871513 , 0.16461694, 0.7381023 , 0.32054043],\n",
              "      dtype=float32)>"
            ]
          },
          "metadata": {},
          "execution_count": 199
        }
      ]
    },
    {
      "cell_type": "code",
      "source": [
        "# Find the positional maximum (argmax)\n",
        "tf.argmax(F)"
      ],
      "metadata": {
        "id": "vcbsn-VXjeh2",
        "colab": {
          "base_uri": "https://localhost:8080/"
        },
        "outputId": "109841ba-7da4-4cf6-d2e1-b68250ccd243"
      },
      "execution_count": null,
      "outputs": [
        {
          "output_type": "execute_result",
          "data": {
            "text/plain": [
              "<tf.Tensor: shape=(), dtype=int64, numpy=42>"
            ]
          },
          "metadata": {},
          "execution_count": 200
        }
      ]
    },
    {
      "cell_type": "code",
      "source": [
        "# Index on our largest values position\n",
        "F[tf.argmax(F)]"
      ],
      "metadata": {
        "id": "oXAK1LpQjwPs",
        "colab": {
          "base_uri": "https://localhost:8080/"
        },
        "outputId": "70b62460-4506-4723-b350-b99750134614"
      },
      "execution_count": null,
      "outputs": [
        {
          "output_type": "execute_result",
          "data": {
            "text/plain": [
              "<tf.Tensor: shape=(), dtype=float32, numpy=0.9671384>"
            ]
          },
          "metadata": {},
          "execution_count": 201
        }
      ]
    },
    {
      "cell_type": "code",
      "source": [
        "# Find the max value of F\n",
        "tf.reduce_max(F)"
      ],
      "metadata": {
        "id": "0iwvEEgBj7z_",
        "colab": {
          "base_uri": "https://localhost:8080/"
        },
        "outputId": "3688b43b-d8d7-4a98-e05a-29c3c4a526bf"
      },
      "execution_count": null,
      "outputs": [
        {
          "output_type": "execute_result",
          "data": {
            "text/plain": [
              "<tf.Tensor: shape=(), dtype=float32, numpy=0.9671384>"
            ]
          },
          "metadata": {},
          "execution_count": 202
        }
      ]
    },
    {
      "cell_type": "code",
      "source": [
        "# Check for equality\n",
        "F[tf.argmax(F)] == tf.reduce_max(F)"
      ],
      "metadata": {
        "id": "Asq6jdJwkB2D",
        "colab": {
          "base_uri": "https://localhost:8080/"
        },
        "outputId": "e0efd02f-4439-4e90-d43b-c182f343c526"
      },
      "execution_count": null,
      "outputs": [
        {
          "output_type": "execute_result",
          "data": {
            "text/plain": [
              "<tf.Tensor: shape=(), dtype=bool, numpy=True>"
            ]
          },
          "metadata": {},
          "execution_count": 203
        }
      ]
    },
    {
      "cell_type": "code",
      "source": [
        "# Find the positional minimum\n",
        "tf.argmin(F)"
      ],
      "metadata": {
        "id": "Vt-q1qywkMVl",
        "colab": {
          "base_uri": "https://localhost:8080/"
        },
        "outputId": "ffe93c68-c3d2-4f30-c048-2cd28cc0261c"
      },
      "execution_count": null,
      "outputs": [
        {
          "output_type": "execute_result",
          "data": {
            "text/plain": [
              "<tf.Tensor: shape=(), dtype=int64, numpy=16>"
            ]
          },
          "metadata": {},
          "execution_count": 204
        }
      ]
    },
    {
      "cell_type": "code",
      "source": [
        "tf.reduce_min(F)"
      ],
      "metadata": {
        "id": "YRw002jwkZg4",
        "colab": {
          "base_uri": "https://localhost:8080/"
        },
        "outputId": "02df586b-8ab4-4bb9-8c2b-39fcc7534a2d"
      },
      "execution_count": null,
      "outputs": [
        {
          "output_type": "execute_result",
          "data": {
            "text/plain": [
              "<tf.Tensor: shape=(), dtype=float32, numpy=0.009463668>"
            ]
          },
          "metadata": {},
          "execution_count": 205
        }
      ]
    },
    {
      "cell_type": "code",
      "source": [
        "F[tf.argmin(F)] == tf.reduce_min(F)"
      ],
      "metadata": {
        "id": "Ip5ngz0XkcR7",
        "colab": {
          "base_uri": "https://localhost:8080/"
        },
        "outputId": "c3c430d4-a246-412e-bc05-8ef74e613e3d"
      },
      "execution_count": null,
      "outputs": [
        {
          "output_type": "execute_result",
          "data": {
            "text/plain": [
              "<tf.Tensor: shape=(), dtype=bool, numpy=True>"
            ]
          },
          "metadata": {},
          "execution_count": 206
        }
      ]
    },
    {
      "cell_type": "markdown",
      "source": [
        "### Squeezing a tensor (removing all single dimensions)"
      ],
      "metadata": {
        "id": "juDv-ZeVkgU9"
      }
    },
    {
      "cell_type": "code",
      "source": [
        "# Create a tensor to get started\n",
        "tf.random.set_seed(42)\n",
        "G = tf.constant(tf.random.uniform(shape=[50]), shape =(1, 1, 1, 1, 50))\n",
        "G"
      ],
      "metadata": {
        "id": "_dnzDWDnUL_V",
        "colab": {
          "base_uri": "https://localhost:8080/"
        },
        "outputId": "beab9e94-fd30-46ce-c9a9-d08dfeb2779f"
      },
      "execution_count": null,
      "outputs": [
        {
          "output_type": "execute_result",
          "data": {
            "text/plain": [
              "<tf.Tensor: shape=(1, 1, 1, 1, 50), dtype=float32, numpy=\n",
              "array([[[[[0.6645621 , 0.44100678, 0.3528825 , 0.46448255, 0.03366041,\n",
              "           0.68467236, 0.74011743, 0.8724445 , 0.22632635, 0.22319686,\n",
              "           0.3103881 , 0.7223358 , 0.13318717, 0.5480639 , 0.5746088 ,\n",
              "           0.8996835 , 0.00946367, 0.5212307 , 0.6345445 , 0.1993283 ,\n",
              "           0.72942245, 0.54583454, 0.10756552, 0.6767061 , 0.6602763 ,\n",
              "           0.33695042, 0.60141766, 0.21062577, 0.8527372 , 0.44062173,\n",
              "           0.9485276 , 0.23752594, 0.81179297, 0.5263394 , 0.494308  ,\n",
              "           0.21612847, 0.8457197 , 0.8718841 , 0.3083862 , 0.6868038 ,\n",
              "           0.23764038, 0.7817228 , 0.9671384 , 0.06870162, 0.79873943,\n",
              "           0.66028714, 0.5871513 , 0.16461694, 0.7381023 , 0.32054043]]]]],\n",
              "      dtype=float32)>"
            ]
          },
          "metadata": {},
          "execution_count": 207
        }
      ]
    },
    {
      "cell_type": "code",
      "source": [
        "G.shape"
      ],
      "metadata": {
        "id": "yTiGqO2WUYMw",
        "colab": {
          "base_uri": "https://localhost:8080/"
        },
        "outputId": "683e5484-31bd-4a58-8f9f-23a44bafa0f7"
      },
      "execution_count": null,
      "outputs": [
        {
          "output_type": "execute_result",
          "data": {
            "text/plain": [
              "TensorShape([1, 1, 1, 1, 50])"
            ]
          },
          "metadata": {},
          "execution_count": 208
        }
      ]
    },
    {
      "cell_type": "code",
      "source": [
        "G_squeezed = tf.squeeze(G)\n",
        "G_squeezed, G"
      ],
      "metadata": {
        "id": "W-aCGnZAUhzA",
        "colab": {
          "base_uri": "https://localhost:8080/"
        },
        "outputId": "66244a7a-6d95-48c3-aef8-5bc2b62a48b5"
      },
      "execution_count": null,
      "outputs": [
        {
          "output_type": "execute_result",
          "data": {
            "text/plain": [
              "(<tf.Tensor: shape=(50,), dtype=float32, numpy=\n",
              " array([0.6645621 , 0.44100678, 0.3528825 , 0.46448255, 0.03366041,\n",
              "        0.68467236, 0.74011743, 0.8724445 , 0.22632635, 0.22319686,\n",
              "        0.3103881 , 0.7223358 , 0.13318717, 0.5480639 , 0.5746088 ,\n",
              "        0.8996835 , 0.00946367, 0.5212307 , 0.6345445 , 0.1993283 ,\n",
              "        0.72942245, 0.54583454, 0.10756552, 0.6767061 , 0.6602763 ,\n",
              "        0.33695042, 0.60141766, 0.21062577, 0.8527372 , 0.44062173,\n",
              "        0.9485276 , 0.23752594, 0.81179297, 0.5263394 , 0.494308  ,\n",
              "        0.21612847, 0.8457197 , 0.8718841 , 0.3083862 , 0.6868038 ,\n",
              "        0.23764038, 0.7817228 , 0.9671384 , 0.06870162, 0.79873943,\n",
              "        0.66028714, 0.5871513 , 0.16461694, 0.7381023 , 0.32054043],\n",
              "       dtype=float32)>,\n",
              " <tf.Tensor: shape=(1, 1, 1, 1, 50), dtype=float32, numpy=\n",
              " array([[[[[0.6645621 , 0.44100678, 0.3528825 , 0.46448255, 0.03366041,\n",
              "            0.68467236, 0.74011743, 0.8724445 , 0.22632635, 0.22319686,\n",
              "            0.3103881 , 0.7223358 , 0.13318717, 0.5480639 , 0.5746088 ,\n",
              "            0.8996835 , 0.00946367, 0.5212307 , 0.6345445 , 0.1993283 ,\n",
              "            0.72942245, 0.54583454, 0.10756552, 0.6767061 , 0.6602763 ,\n",
              "            0.33695042, 0.60141766, 0.21062577, 0.8527372 , 0.44062173,\n",
              "            0.9485276 , 0.23752594, 0.81179297, 0.5263394 , 0.494308  ,\n",
              "            0.21612847, 0.8457197 , 0.8718841 , 0.3083862 , 0.6868038 ,\n",
              "            0.23764038, 0.7817228 , 0.9671384 , 0.06870162, 0.79873943,\n",
              "            0.66028714, 0.5871513 , 0.16461694, 0.7381023 , 0.32054043]]]]],\n",
              "       dtype=float32)>)"
            ]
          },
          "metadata": {},
          "execution_count": 209
        }
      ]
    },
    {
      "cell_type": "markdown",
      "source": [
        "### One-hot enconding tensor"
      ],
      "metadata": {
        "id": "QOio3X-YUoh1"
      }
    },
    {
      "cell_type": "code",
      "source": [
        "# Create a list of indices\n",
        "some_list = [0, 1, 2, 3] # could be red, green, blue, purple\n",
        "\n",
        "# One hot encode our list of indices\n",
        "tf.one_hot(some_list, 4)"
      ],
      "metadata": {
        "id": "ev_E06SuVAT-",
        "colab": {
          "base_uri": "https://localhost:8080/"
        },
        "outputId": "7e1debc9-821a-4c3a-ec35-1809375b3096"
      },
      "execution_count": null,
      "outputs": [
        {
          "output_type": "execute_result",
          "data": {
            "text/plain": [
              "<tf.Tensor: shape=(4, 4), dtype=float32, numpy=\n",
              "array([[1., 0., 0., 0.],\n",
              "       [0., 1., 0., 0.],\n",
              "       [0., 0., 1., 0.],\n",
              "       [0., 0., 0., 1.]], dtype=float32)>"
            ]
          },
          "metadata": {},
          "execution_count": 210
        }
      ]
    },
    {
      "cell_type": "code",
      "source": [
        "# Specify custom values for one hot encoding\n",
        "tf.one_hot(some_list, 4, on_value=\"on\", off_value=\"off\")"
      ],
      "metadata": {
        "id": "aTVa-oMKVhdF",
        "colab": {
          "base_uri": "https://localhost:8080/"
        },
        "outputId": "f7dceb73-9fb1-4c47-99b2-59fde24830fd"
      },
      "execution_count": null,
      "outputs": [
        {
          "output_type": "execute_result",
          "data": {
            "text/plain": [
              "<tf.Tensor: shape=(4, 4), dtype=string, numpy=\n",
              "array([[b'on', b'off', b'off', b'off'],\n",
              "       [b'off', b'on', b'off', b'off'],\n",
              "       [b'off', b'off', b'on', b'off'],\n",
              "       [b'off', b'off', b'off', b'on']], dtype=object)>"
            ]
          },
          "metadata": {},
          "execution_count": 211
        }
      ]
    },
    {
      "cell_type": "markdown",
      "source": [
        "### Squaring, log, square root"
      ],
      "metadata": {
        "id": "Q0HwC4jaWf4W"
      }
    },
    {
      "cell_type": "code",
      "source": [
        "# Create a new tensor\n",
        "H = tf.range(1, 10)\n",
        "H"
      ],
      "metadata": {
        "id": "oz6M-T0OXEe5",
        "colab": {
          "base_uri": "https://localhost:8080/"
        },
        "outputId": "d0acbac3-2f80-4ef7-f51b-1503edb4c835"
      },
      "execution_count": null,
      "outputs": [
        {
          "output_type": "execute_result",
          "data": {
            "text/plain": [
              "<tf.Tensor: shape=(9,), dtype=int32, numpy=array([1, 2, 3, 4, 5, 6, 7, 8, 9], dtype=int32)>"
            ]
          },
          "metadata": {},
          "execution_count": 212
        }
      ]
    },
    {
      "cell_type": "code",
      "source": [
        "# Square it\n",
        "tf.square(H)"
      ],
      "metadata": {
        "id": "JTusZMFcXHFf",
        "colab": {
          "base_uri": "https://localhost:8080/"
        },
        "outputId": "c56d7a0a-5247-4041-bd19-79713330c0a5"
      },
      "execution_count": null,
      "outputs": [
        {
          "output_type": "execute_result",
          "data": {
            "text/plain": [
              "<tf.Tensor: shape=(9,), dtype=int32, numpy=array([ 1,  4,  9, 16, 25, 36, 49, 64, 81], dtype=int32)>"
            ]
          },
          "metadata": {},
          "execution_count": 213
        }
      ]
    },
    {
      "cell_type": "code",
      "source": [
        "# Find the squareroot (method require a non int type of data)\n",
        "tf.sqrt(tf.cast(H, tf.float32))"
      ],
      "metadata": {
        "id": "8MNoxs5BXKIB",
        "colab": {
          "base_uri": "https://localhost:8080/"
        },
        "outputId": "73db59b6-f925-4a1f-ada8-66469d58e1b6"
      },
      "execution_count": null,
      "outputs": [
        {
          "output_type": "execute_result",
          "data": {
            "text/plain": [
              "<tf.Tensor: shape=(9,), dtype=float32, numpy=\n",
              "array([1.       , 1.4142135, 1.7320508, 2.       , 2.236068 , 2.4494898,\n",
              "       2.6457512, 2.828427 , 3.       ], dtype=float32)>"
            ]
          },
          "metadata": {},
          "execution_count": 214
        }
      ]
    },
    {
      "cell_type": "code",
      "source": [
        "# Find the log\n",
        "tf.math.log(tf.cast(H, tf.float32))"
      ],
      "metadata": {
        "id": "U9bugAdnXPZ5",
        "colab": {
          "base_uri": "https://localhost:8080/"
        },
        "outputId": "8cacb174-5be6-4d3d-a3f7-9f7053fcc40e"
      },
      "execution_count": null,
      "outputs": [
        {
          "output_type": "execute_result",
          "data": {
            "text/plain": [
              "<tf.Tensor: shape=(9,), dtype=float32, numpy=\n",
              "array([0.       , 0.6931472, 1.0986123, 1.3862944, 1.609438 , 1.7917595,\n",
              "       1.9459102, 2.0794415, 2.1972246], dtype=float32)>"
            ]
          },
          "metadata": {},
          "execution_count": 215
        }
      ]
    },
    {
      "cell_type": "markdown",
      "source": [
        "### Tensors and NumPy\n",
        "\n",
        "TensorFlow interacts beautifully with NumPy arrays.\n",
        "***Note:*** One of the main differents between a NumPy array and a Tensor is that a TensorFlow tensor can be run on a GPU or TPU (for faster numerical processing)."
      ],
      "metadata": {
        "id": "YGFWvXolYM7u"
      }
    },
    {
      "cell_type": "code",
      "source": [
        "# Create a tensor directly from a NumPy array\n",
        "J = tf.constant(np.array([3., 7., 10.]))\n",
        "J"
      ],
      "metadata": {
        "id": "ASHzFBD9YzNk",
        "colab": {
          "base_uri": "https://localhost:8080/"
        },
        "outputId": "3f622cf1-f610-49be-9338-752c007d2438"
      },
      "execution_count": null,
      "outputs": [
        {
          "output_type": "execute_result",
          "data": {
            "text/plain": [
              "<tf.Tensor: shape=(3,), dtype=float64, numpy=array([ 3.,  7., 10.])>"
            ]
          },
          "metadata": {},
          "execution_count": 216
        }
      ]
    },
    {
      "cell_type": "code",
      "source": [
        "# Convert our tensor back to a NumPy array\n",
        "np.array(J)"
      ],
      "metadata": {
        "id": "Is8-1KPrYpGI",
        "colab": {
          "base_uri": "https://localhost:8080/"
        },
        "outputId": "7c1180e5-175c-461a-837e-850bddcf0131"
      },
      "execution_count": null,
      "outputs": [
        {
          "output_type": "execute_result",
          "data": {
            "text/plain": [
              "array([ 3.,  7., 10.])"
            ]
          },
          "metadata": {},
          "execution_count": 217
        }
      ]
    },
    {
      "cell_type": "code",
      "source": [
        "# Convert tensor J to a NumPy array\n",
        "J.numpy(), type(J.numpy())"
      ],
      "metadata": {
        "id": "7APzOGQUY_0F",
        "colab": {
          "base_uri": "https://localhost:8080/"
        },
        "outputId": "1506c21e-a033-44f1-fa4e-790ae6d55235"
      },
      "execution_count": null,
      "outputs": [
        {
          "output_type": "execute_result",
          "data": {
            "text/plain": [
              "(array([ 3.,  7., 10.]), numpy.ndarray)"
            ]
          },
          "metadata": {},
          "execution_count": 218
        }
      ]
    },
    {
      "cell_type": "code",
      "source": [
        "# The default types of each are slightly different\n",
        "numpy_J = tf.constant(np.array([3., 7., 10.]))\n",
        "tensor_J = tf.constant([3., 7., 10.])\n",
        "# Check the datatypes of each\n",
        "numpy_J.dtype, tensor_J.dtype"
      ],
      "metadata": {
        "id": "ArXR7nfJZJKO",
        "colab": {
          "base_uri": "https://localhost:8080/"
        },
        "outputId": "80ce20be-d85d-42b8-cd73-6d8318cca9ad"
      },
      "execution_count": null,
      "outputs": [
        {
          "output_type": "execute_result",
          "data": {
            "text/plain": [
              "(tf.float64, tf.float32)"
            ]
          },
          "metadata": {},
          "execution_count": 219
        }
      ]
    },
    {
      "cell_type": "markdown",
      "source": [
        "### Finding access to GPUs"
      ],
      "metadata": {
        "id": "xiAE6qw_ZNIk"
      }
    },
    {
      "cell_type": "code",
      "source": [
        "tf.config.list_physical_devices(\"GPU\")"
      ],
      "metadata": {
        "colab": {
          "base_uri": "https://localhost:8080/"
        },
        "id": "DaZJaW-lZOwD",
        "outputId": "18b628ba-78ce-40db-8605-d7bebdcd76b1"
      },
      "execution_count": null,
      "outputs": [
        {
          "output_type": "execute_result",
          "data": {
            "text/plain": [
              "[]"
            ]
          },
          "metadata": {},
          "execution_count": 220
        }
      ]
    },
    {
      "cell_type": "code",
      "source": [
        "!nvidia-smi"
      ],
      "metadata": {
        "colab": {
          "base_uri": "https://localhost:8080/"
        },
        "id": "6h0iBZSfarns",
        "outputId": "deffd60f-8b04-43c1-fde6-a71daa2b56b2"
      },
      "execution_count": null,
      "outputs": [
        {
          "output_type": "stream",
          "name": "stdout",
          "text": [
            "NVIDIA-SMI has failed because it couldn't communicate with the NVIDIA driver. Make sure that the latest NVIDIA driver is installed and running.\n",
            "\n"
          ]
        }
      ]
    },
    {
      "cell_type": "markdown",
      "source": [
        "> ***Note:*** If you have access to a CUDA-enabled GPU, TensorFlow will automatically use it whenever possible"
      ],
      "metadata": {
        "id": "gjprRfDZbdv5"
      }
    },
    {
      "cell_type": "markdown",
      "source": [
        "### Extra-curriculum exercises"
      ],
      "metadata": {
        "id": "b49xO66AdCIW"
      }
    },
    {
      "cell_type": "code",
      "source": [
        "# 1. Create a vector, scalar, matrix and tensor with values of your choosing using tf.constant()\n",
        "scalar = tf.constant(1)\n",
        "vector = tf.constant([1, 2])\n",
        "matrix = tf.constant([[1, 2],\n",
        "                      [3, 4]])\n",
        "tensor = tf.constant([[1, 2],\n",
        "                      [3, 4],\n",
        "                      [5, 6]])\n",
        "scalar, vector, matrix, tensor"
      ],
      "metadata": {
        "colab": {
          "base_uri": "https://localhost:8080/"
        },
        "id": "fSfw0jzTdHfY",
        "outputId": "aee92308-0e23-472f-d327-f28c130cfae1"
      },
      "execution_count": null,
      "outputs": [
        {
          "output_type": "execute_result",
          "data": {
            "text/plain": [
              "(<tf.Tensor: shape=(), dtype=int32, numpy=1>,\n",
              " <tf.Tensor: shape=(2,), dtype=int32, numpy=array([1, 2], dtype=int32)>,\n",
              " <tf.Tensor: shape=(2, 2), dtype=int32, numpy=\n",
              " array([[1, 2],\n",
              "        [3, 4]], dtype=int32)>,\n",
              " <tf.Tensor: shape=(3, 2), dtype=int32, numpy=\n",
              " array([[1, 2],\n",
              "        [3, 4],\n",
              "        [5, 6]], dtype=int32)>)"
            ]
          },
          "metadata": {},
          "execution_count": 222
        }
      ]
    },
    {
      "cell_type": "code",
      "source": [
        "# 2. Find the shape, rank and size of the tensors you created in 1.\n",
        "print(f\"shape: {tf.shape(tensor)}\")\n",
        "print(f\"size: {tf.size(tensor)}\")\n",
        "print(f\"rank: {tf.rank(tensor)}\")"
      ],
      "metadata": {
        "id": "S5Oxn-yidgDO",
        "colab": {
          "base_uri": "https://localhost:8080/"
        },
        "outputId": "1e069762-5b36-4f24-8bcc-9534f645c636"
      },
      "execution_count": null,
      "outputs": [
        {
          "output_type": "stream",
          "name": "stdout",
          "text": [
            "shape: [3 2]\n",
            "size: 6\n",
            "rank: 2\n"
          ]
        }
      ]
    },
    {
      "cell_type": "code",
      "source": [
        "# 3. Create two tensors containing random values between 0 and 1 with shape [5, 100]\n",
        "tensor1 = tf.random.uniform(shape=[5, 100], minval=0, maxval=1)\n",
        "print(tensor1)\n",
        "tensor2 = tf.random.uniform(shape=[5, 100], minval=0, maxval=1)\n",
        "print(tensor2)\n",
        "\n",
        "\n",
        "\n"
      ],
      "metadata": {
        "id": "paLzAQIBhle3",
        "colab": {
          "base_uri": "https://localhost:8080/"
        },
        "outputId": "b07a37ac-c7bd-40cd-e49a-bab0e5c33196"
      },
      "execution_count": null,
      "outputs": [
        {
          "output_type": "stream",
          "name": "stdout",
          "text": [
            "tf.Tensor(\n",
            "[[6.87891245e-01 4.84478831e-01 9.30994391e-01 2.52187014e-01\n",
            "  7.31153965e-01 8.92568231e-01 9.46748257e-01 7.49334097e-01\n",
            "  3.49256277e-01 5.47182560e-01 2.61603951e-01 6.97343230e-01\n",
            "  1.19625807e-01 5.34843445e-01 7.14896798e-01 8.75017762e-01\n",
            "  3.39674950e-01 1.73776269e-01 4.41852093e-01 9.00826097e-01\n",
            "  1.38038635e-01 1.22179747e-01 5.75449109e-01 9.41718102e-01\n",
            "  9.18658495e-01 5.97084761e-01 6.10948205e-01 8.20862651e-01\n",
            "  8.32697868e-01 8.91584873e-01 1.37722492e-02 4.98074651e-01\n",
            "  5.75036645e-01 6.85619473e-01 7.59727836e-01 9.08944011e-01\n",
            "  4.09002185e-01 8.76515388e-01 5.38900256e-01 4.27330971e-01\n",
            "  4.01172996e-01 6.66232467e-01 1.63480639e-01 1.82202458e-01\n",
            "  9.70401764e-01 6.13973141e-02 5.30347466e-01 9.86999393e-01\n",
            "  4.74694490e-01 8.64675403e-01 2.03010678e-01 1.14484549e-01\n",
            "  3.51002455e-01 6.82271838e-01 1.81088686e-01 8.16348076e-01\n",
            "  6.56516552e-01 9.25825596e-01 2.39171505e-01 8.36595774e-01\n",
            "  4.76527214e-02 8.00715685e-01 8.29926729e-01 1.43283725e-01\n",
            "  8.61687779e-01 9.70720172e-01 6.77959323e-01 5.64124227e-01\n",
            "  6.25370026e-01 8.65315914e-01 1.61045671e-01 1.11013651e-01\n",
            "  6.16472244e-01 6.03556037e-01 6.30386829e-01 5.21300793e-01\n",
            "  8.18662286e-01 2.05699682e-01 1.90417886e-01 1.46486878e-01\n",
            "  1.49196029e-01 8.59481573e-01 9.16732788e-01 5.04495382e-01\n",
            "  8.65668416e-01 7.03337431e-01 5.34371495e-01 3.50930333e-01\n",
            "  6.33134842e-01 8.41598749e-01 4.34604406e-01 2.96587825e-01\n",
            "  8.49066973e-01 2.05561638e-01 3.90226483e-01 5.90919971e-01\n",
            "  8.78771901e-01 7.19726682e-01 9.94721651e-02 9.48075175e-01]\n",
            " [4.46272492e-01 3.36091995e-01 4.46870685e-01 7.89791822e-01\n",
            "  6.17462635e-01 5.48260570e-01 9.36025262e-01 1.98935390e-01\n",
            "  8.55564594e-01 2.97200799e-01 1.29809737e-01 5.90321302e-01\n",
            "  7.22684860e-02 7.99001694e-01 3.74188423e-01 8.00439715e-01\n",
            "  7.43545294e-02 4.68344212e-01 3.97670388e-01 4.36539292e-01\n",
            "  2.39535213e-01 7.24946380e-01 4.36644197e-01 5.42808414e-01\n",
            "  9.50149417e-01 5.11352658e-01 9.49573517e-01 1.05839610e-01\n",
            "  7.80334592e-01 9.31329370e-01 9.16322112e-01 7.41233945e-01\n",
            "  3.32781553e-01 8.98086190e-01 3.42475057e-01 5.76055765e-01\n",
            "  9.94889021e-01 6.34980440e-01 9.07959938e-01 6.83556199e-01\n",
            "  3.41896057e-01 3.70069623e-01 3.83494020e-01 9.61771011e-01\n",
            "  5.28048992e-01 2.03329802e-01 2.80536532e-01 6.86178684e-01\n",
            "  8.30521584e-01 1.72950625e-01 3.83119583e-01 3.60430837e-01\n",
            "  4.31462526e-01 9.20127153e-01 9.38506842e-01 5.35561562e-01\n",
            "  2.89724350e-01 6.31305456e-01 9.27119970e-01 5.59410810e-01\n",
            "  4.58888888e-01 3.00925016e-01 8.44438791e-01 7.94572473e-01\n",
            "  1.68455482e-01 5.00970483e-01 5.34514785e-01 8.16843390e-01\n",
            "  2.67147899e-01 7.51518965e-01 3.15358043e-01 6.23232722e-01\n",
            "  2.10112453e-01 9.21640277e-01 9.60234642e-01 2.69160390e-01\n",
            "  1.73444986e-01 8.77467394e-01 1.79169416e-01 9.50680733e-01\n",
            "  7.22839594e-01 5.96815348e-01 5.28050184e-01 6.94626570e-02\n",
            "  2.23957300e-02 5.25833011e-01 4.71002221e-01 3.82860899e-02\n",
            "  2.45585084e-01 6.40271425e-01 1.18741989e-01 3.70935798e-01\n",
            "  7.57660985e-01 4.23809052e-01 4.01034355e-01 6.27136707e-01\n",
            "  1.00385785e-01 2.23830938e-01 2.90045738e-01 5.77788353e-02]\n",
            " [8.05728197e-01 9.77212429e-01 7.73265004e-01 5.83416700e-01\n",
            "  2.39693642e-01 5.83573103e-01 7.85795450e-01 2.47143030e-01\n",
            "  4.67370868e-01 9.81726885e-01 1.97929382e-01 7.46305704e-01\n",
            "  3.54431391e-01 1.55549049e-01 5.44155359e-01 4.96847868e-01\n",
            "  4.75833058e-01 1.98220968e-01 7.86604047e-01 8.87897730e-01\n",
            "  4.42264080e-01 9.18925762e-01 8.56256962e-01 7.05313444e-01\n",
            "  9.60019708e-01 9.58736658e-01 3.52309704e-01 7.51322746e-01\n",
            "  6.39195800e-01 5.19311786e-01 8.11165571e-01 4.46854591e-01\n",
            "  7.10866332e-01 1.33754730e-01 2.90071130e-01 6.97023988e-01\n",
            "  2.04237580e-01 1.28851414e-01 5.99576235e-01 2.07826376e-01\n",
            "  1.62568092e-02 3.88608217e-01 4.99403119e-01 3.99644732e-01\n",
            "  8.61331224e-01 8.54346991e-01 1.84130669e-03 7.63949513e-01\n",
            "  7.93247581e-01 8.01684260e-01 4.22909379e-01 7.30639338e-01\n",
            "  7.54046202e-01 2.43059754e-01 4.20184135e-02 1.76515579e-01\n",
            "  3.21204543e-01 7.95956135e-01 2.82718897e-01 3.89244199e-01\n",
            "  7.63261318e-03 6.52570963e-01 9.42623615e-01 8.48012686e-01\n",
            "  1.45654559e-01 5.02259016e-01 5.00802398e-01 6.67071939e-01\n",
            "  7.95574546e-01 1.97914720e-01 3.20254683e-01 3.00641060e-01\n",
            "  9.45492983e-01 8.47681761e-01 7.82128334e-01 4.04308438e-01\n",
            "  9.04588103e-01 4.47835565e-01 4.50701118e-01 5.42919993e-01\n",
            "  8.70293856e-01 8.10094595e-01 6.43266439e-02 1.86014533e-01\n",
            "  1.05375051e-02 3.83579493e-01 6.49020314e-01 1.34482741e-01\n",
            "  8.79745483e-02 7.76373863e-01 3.08268070e-01 1.03683829e-01\n",
            "  5.16151309e-01 3.38107467e-01 6.18588686e-01 1.55141711e-01\n",
            "  2.67027617e-01 6.92076206e-01 3.31802130e-01 9.21256304e-01]\n",
            " [2.73699284e-01 1.06318593e-01 6.21861696e-01 6.06759071e-01\n",
            "  3.87469172e-01 3.52707267e-01 3.51033092e-01 8.38424444e-01\n",
            "  2.79881954e-01 7.51965165e-01 4.05955076e-01 7.94499159e-01\n",
            "  6.52922869e-01 2.51003742e-01 2.53449082e-01 6.14570379e-01\n",
            "  4.42690372e-01 6.84108257e-01 5.59784889e-01 6.07075572e-01\n",
            "  9.67483163e-01 4.89061356e-01 2.92356849e-01 1.61170721e-01\n",
            "  1.17256165e-01 3.73268247e-01 1.35183334e-01 6.00394011e-01\n",
            "  1.70706630e-01 5.89730740e-02 9.82264042e-01 8.04527998e-02\n",
            "  9.21477914e-01 3.33182096e-01 6.49059892e-01 3.28217268e-01\n",
            "  9.85384107e-01 3.05630565e-01 3.40560913e-01 9.86031413e-01\n",
            "  3.37176561e-01 5.83687305e-01 6.74362659e-01 1.66871905e-01\n",
            "  3.23037624e-01 1.52338028e-01 6.68100715e-01 7.41268396e-02\n",
            "  1.42855883e-01 2.77285457e-01 6.62159920e-03 9.96887684e-01\n",
            "  3.01415563e-01 1.66073322e-01 4.14191723e-01 3.29615355e-01\n",
            "  5.52117825e-01 1.19099259e-01 7.43775368e-02 1.35934353e-03\n",
            "  7.33972192e-01 8.96839857e-01 5.86493254e-01 4.30403709e-01\n",
            "  7.11433411e-01 7.43950486e-01 1.93560719e-01 5.60738921e-01\n",
            "  3.70011568e-01 1.37199163e-01 9.50171351e-01 6.57345533e-01\n",
            "  7.27276683e-01 6.93294644e-01 4.42265987e-01 8.51637840e-01\n",
            "  6.08756900e-01 3.62926245e-01 8.04646969e-01 9.87497926e-01\n",
            "  6.34331107e-01 8.70843410e-01 3.27320457e-01 9.46720839e-01\n",
            "  6.10910058e-01 7.39611506e-01 3.45691919e-01 6.76299214e-01\n",
            "  3.09837818e-01 6.77535772e-01 4.70373988e-01 9.99832988e-01\n",
            "  9.30253029e-01 7.89380550e-01 6.47870421e-01 1.07782960e-01\n",
            "  3.00210118e-01 7.22780466e-01 3.65051508e-01 4.14835095e-01]\n",
            " [8.46639752e-01 6.06443167e-01 1.02692842e-01 4.07418132e-01\n",
            "  3.93046737e-01 4.87184882e-01 7.85524845e-01 4.68659282e-01\n",
            "  5.23207426e-01 6.57168865e-01 9.75893974e-01 2.01012492e-01\n",
            "  4.44096327e-02 7.88080931e-01 8.11438918e-01 7.31760740e-01\n",
            "  7.80967474e-01 5.85267186e-01 2.98103333e-01 2.69530654e-01\n",
            "  6.20468736e-01 3.56676579e-02 5.86907387e-01 8.28085661e-01\n",
            "  7.08811522e-01 2.26290464e-01 3.50184321e-01 2.74954081e-01\n",
            "  8.56859684e-01 1.42935514e-01 2.99245119e-01 4.86261487e-01\n",
            "  3.17039490e-02 4.29527521e-01 3.22818756e-04 1.35606885e-01\n",
            "  3.52038741e-01 4.16317105e-01 1.69781566e-01 8.82592082e-01\n",
            "  9.00375843e-03 2.67494559e-01 6.70172811e-01 4.19482827e-01\n",
            "  5.07242918e-01 9.27755475e-01 7.69033313e-01 3.49684596e-01\n",
            "  1.17130876e-01 7.76648521e-03 7.66167879e-01 2.73753047e-01\n",
            "  3.05392027e-01 9.78371024e-01 8.68108749e-01 2.61708260e-01\n",
            "  1.79281116e-01 4.63037372e-01 8.87690902e-01 9.84267116e-01\n",
            "  8.05071115e-01 3.23668599e-01 6.21531129e-01 1.25585794e-02\n",
            "  3.71219277e-01 1.25539541e-01 5.66347718e-01 2.63186216e-01\n",
            "  5.61105013e-01 5.76070428e-01 6.69041872e-01 2.28801489e-01\n",
            "  9.65771317e-01 3.63649726e-01 7.38461494e-01 7.37625360e-01\n",
            "  2.23124743e-01 7.75348663e-01 8.28531265e-01 6.46296620e-01\n",
            "  5.48890829e-01 3.82241726e-01 9.46414709e-01 7.69985557e-01\n",
            "  4.60815787e-01 2.32892275e-01 8.40965152e-01 2.20620871e-01\n",
            "  1.19577050e-01 9.87456799e-01 6.06616139e-01 5.50765276e-01\n",
            "  4.43664789e-02 3.42448473e-01 1.23397827e-01 6.43181682e-01\n",
            "  5.77013135e-01 8.05149198e-01 9.42119241e-01 6.95896149e-01]], shape=(5, 100), dtype=float32)\n",
            "tf.Tensor(\n",
            "[[0.7413678  0.62854624 0.01738465 0.3431449  0.51063764 0.3777541\n",
            "  0.07321596 0.02137029 0.2871771  0.4710616  0.6936141  0.07321334\n",
            "  0.93251204 0.20843053 0.70105827 0.45856392 0.8596262  0.92934334\n",
            "  0.20291913 0.76865506 0.60016024 0.27039742 0.88180614 0.05365038\n",
            "  0.42274463 0.89037776 0.7887033  0.10165584 0.19408834 0.27896714\n",
            "  0.39512634 0.12235212 0.38412368 0.9455296  0.77594674 0.94442344\n",
            "  0.04296565 0.4746096  0.6548251  0.5657116  0.13858628 0.3004663\n",
            "  0.3311677  0.12907016 0.6435652  0.45473957 0.68881893 0.30203617\n",
            "  0.49152803 0.26529062 0.7122741  0.72297084 0.18866003 0.24155617\n",
            "  0.8013923  0.9717448  0.704507   0.28954244 0.5491171  0.05062342\n",
            "  0.1928184  0.4541731  0.21889174 0.87243795 0.56308484 0.316792\n",
            "  0.68497694 0.39252186 0.7106304  0.7038053  0.71630967 0.8375633\n",
            "  0.9909723  0.94025004 0.21663237 0.7143645  0.539435   0.5229018\n",
            "  0.3451408  0.969429   0.9890361  0.31063735 0.9489944  0.59065425\n",
            "  0.5401238  0.26383626 0.49390125 0.51443005 0.69443834 0.37080622\n",
            "  0.51013005 0.91926074 0.20885623 0.4022926  0.26109898 0.91494703\n",
            "  0.87439096 0.16771638 0.6596291  0.8011217 ]\n",
            " [0.03326142 0.5679704  0.2947669  0.95180404 0.42315996 0.8294318\n",
            "  0.21666467 0.276919   0.2744521  0.7441251  0.9237778  0.87372565\n",
            "  0.8173491  0.95248055 0.9349098  0.3453257  0.82638395 0.257635\n",
            "  0.54752195 0.3548969  0.45873654 0.99113786 0.42692852 0.6182103\n",
            "  0.6676439  0.8054024  0.8585732  0.4297372  0.8957572  0.1445055\n",
            "  0.74193025 0.4329232  0.7495061  0.4628352  0.5023675  0.597067\n",
            "  0.38990688 0.12060452 0.61893713 0.2203505  0.7606771  0.5109856\n",
            "  0.26882923 0.25886452 0.08104873 0.80274415 0.56557393 0.01859415\n",
            "  0.32432842 0.42752385 0.4557699  0.55953324 0.47236276 0.04891348\n",
            "  0.5170618  0.2644478  0.12738156 0.84868646 0.9480152  0.09179306\n",
            "  0.8771688  0.54360616 0.10874224 0.33190954 0.69027674 0.06322289\n",
            "  0.55533123 0.09288526 0.07996941 0.5027487  0.7589246  0.46777785\n",
            "  0.11839616 0.02391088 0.49331462 0.99829125 0.96125877 0.4612682\n",
            "  0.4921552  0.01184416 0.05776811 0.11090887 0.26911902 0.77675223\n",
            "  0.16955602 0.22082734 0.09938574 0.04275978 0.03870451 0.3576336\n",
            "  0.77756083 0.01153886 0.9677906  0.69133985 0.97415257 0.60398614\n",
            "  0.29634583 0.76560533 0.9200524  0.43656433]\n",
            " [0.4465475  0.35183287 0.06118858 0.5667697  0.15598416 0.9980459\n",
            "  0.8335235  0.70917773 0.7311219  0.8690274  0.06386852 0.29621172\n",
            "  0.03665018 0.9484229  0.35436928 0.7208067  0.80761147 0.9963504\n",
            "  0.6085106  0.32743692 0.7529328  0.3448136  0.1964674  0.9854249\n",
            "  0.15083957 0.37003982 0.48755693 0.0054487  0.22853923 0.80923414\n",
            "  0.39232755 0.48053277 0.3330474  0.5033636  0.07019162 0.2582227\n",
            "  0.9440123  0.5092076  0.93569064 0.07250988 0.70196605 0.37649465\n",
            "  0.09204769 0.30825877 0.4666984  0.67432475 0.03536487 0.5650786\n",
            "  0.48957837 0.2723651  0.04912949 0.96913695 0.7004999  0.8341361\n",
            "  0.41221488 0.83476734 0.08017623 0.3062142  0.9448205  0.5976821\n",
            "  0.90010595 0.9120327  0.55930126 0.87508893 0.13013518 0.41423166\n",
            "  0.5867878  0.04454982 0.28953695 0.4956293  0.5436951  0.93612695\n",
            "  0.98727    0.8110671  0.5706967  0.15081906 0.01059318 0.6436914\n",
            "  0.90595555 0.21621025 0.11584783 0.44574034 0.01346576 0.47917616\n",
            "  0.3147806  0.08843875 0.7353611  0.30980015 0.03658295 0.06162\n",
            "  0.92738247 0.2680205  0.61388636 0.357908   0.30811274 0.2667389\n",
            "  0.4208995  0.4851334  0.21059811 0.25082767]\n",
            " [0.10842848 0.48783147 0.8240961  0.9631555  0.53807914 0.5639429\n",
            "  0.19506073 0.44575202 0.5731118  0.49068975 0.75628984 0.5059655\n",
            "  0.30014443 0.02898252 0.963164   0.7552457  0.22797728 0.8501382\n",
            "  0.98734975 0.2635355  0.07333744 0.5207758  0.34811223 0.51241744\n",
            "  0.4743476  0.46476352 0.49868178 0.53725266 0.96598005 0.37696803\n",
            "  0.4578365  0.5290389  0.04221201 0.6708201  0.36915648 0.9609853\n",
            "  0.54672027 0.49264455 0.6340246  0.08605182 0.48715985 0.10673606\n",
            "  0.01709187 0.8972261  0.5103744  0.28145742 0.47907996 0.84747136\n",
            "  0.6769248  0.78554046 0.06158185 0.942502   0.88760626 0.3143376\n",
            "  0.4636221  0.85592866 0.5422101  0.8226179  0.44362402 0.49131382\n",
            "  0.5081184  0.09852791 0.2875042  0.281788   0.6520326  0.17210305\n",
            "  0.497159   0.586952   0.24074149 0.87191474 0.01556087 0.7327869\n",
            "  0.6631007  0.18523669 0.3431039  0.45585632 0.19933152 0.39117992\n",
            "  0.7789601  0.3535713  0.7774668  0.7112652  0.49975598 0.8879316\n",
            "  0.74034584 0.51881206 0.10052526 0.28750753 0.91521585 0.8978015\n",
            "  0.5935745  0.61129606 0.8917961  0.79251635 0.41779482 0.75009155\n",
            "  0.5853412  0.03454173 0.46739113 0.6045333 ]\n",
            " [0.35433424 0.76952684 0.6694168  0.50006974 0.11424839 0.035303\n",
            "  0.46458602 0.34650385 0.4278158  0.80036163 0.6372267  0.15651357\n",
            "  0.8740562  0.96120286 0.16713    0.81867635 0.31264377 0.8147656\n",
            "  0.6620815  0.158072   0.98085666 0.8072649  0.47271812 0.21523118\n",
            "  0.9974202  0.04538095 0.65154314 0.22533739 0.57689476 0.82600844\n",
            "  0.87512314 0.74114704 0.11768568 0.08377111 0.21691883 0.7232901\n",
            "  0.503327   0.583081   0.1455344  0.33128    0.6926391  0.41661072\n",
            "  0.78104115 0.48886955 0.17327976 0.74965644 0.44160342 0.9900174\n",
            "  0.6094496  0.9954903  0.26073444 0.90281665 0.28340364 0.01222563\n",
            "  0.5454825  0.2734443  0.7323326  0.72239375 0.41698682 0.43674123\n",
            "  0.09087288 0.19549835 0.4336394  0.4273392  0.3437506  0.78903925\n",
            "  0.58592117 0.9642234  0.78374267 0.42334974 0.71614397 0.4163792\n",
            "  0.51707506 0.5721357  0.46195734 0.803761   0.74419355 0.7873509\n",
            "  0.86363053 0.587523   0.46806383 0.42713475 0.8770875  0.9472233\n",
            "  0.08052957 0.16619825 0.30998445 0.867942   0.5520536  0.24738598\n",
            "  0.08997774 0.62598944 0.5635606  0.3021735  0.07420874 0.44602954\n",
            "  0.3401929  0.05799413 0.49125683 0.7758584 ]], shape=(5, 100), dtype=float32)\n"
          ]
        }
      ]
    },
    {
      "cell_type": "code",
      "source": [
        "# 4. Multiply the two tensors you created in 3 using matrix multiplication.\n",
        "tensor2 = tf.reshape(tensor2, shape=(100, 5))\n",
        "tf.matmul(tensor1, tensor2)\n"
      ],
      "metadata": {
        "id": "czsYSUVmjLnm",
        "colab": {
          "base_uri": "https://localhost:8080/"
        },
        "outputId": "3dde9a4c-46ea-4ce0-c0a1-52b3bcc1d79b"
      },
      "execution_count": null,
      "outputs": [
        {
          "output_type": "execute_result",
          "data": {
            "text/plain": [
              "<tf.Tensor: shape=(5, 5), dtype=float32, numpy=\n",
              "array([[30.307102, 27.889404, 25.027458, 29.813896, 25.67709 ],\n",
              "       [26.830631, 26.173355, 24.788078, 27.239925, 24.331419],\n",
              "       [28.694496, 26.392677, 22.148926, 27.540264, 24.473476],\n",
              "       [25.872168, 24.174068, 23.73175 , 27.332026, 23.81073 ],\n",
              "       [24.80532 , 25.899158, 24.123388, 27.099855, 23.368618]],\n",
              "      dtype=float32)>"
            ]
          },
          "metadata": {},
          "execution_count": 225
        }
      ]
    },
    {
      "cell_type": "code",
      "source": [
        "# 5. Multiply the two tensors you created in 3 using dot product.\n",
        "tf.tensordot(tensor1, tensor2, 1)"
      ],
      "metadata": {
        "id": "Pj-kDErBlGJd",
        "colab": {
          "base_uri": "https://localhost:8080/"
        },
        "outputId": "27c59c35-a94f-47d7-8f26-9b53852fe807"
      },
      "execution_count": null,
      "outputs": [
        {
          "output_type": "execute_result",
          "data": {
            "text/plain": [
              "<tf.Tensor: shape=(5, 5), dtype=float32, numpy=\n",
              "array([[30.307102, 27.889404, 25.027458, 29.813896, 25.67709 ],\n",
              "       [26.830631, 26.173355, 24.788078, 27.239925, 24.331419],\n",
              "       [28.694496, 26.392677, 22.148926, 27.540264, 24.473476],\n",
              "       [25.872168, 24.174068, 23.73175 , 27.332026, 23.81073 ],\n",
              "       [24.80532 , 25.899158, 24.123388, 27.099855, 23.368618]],\n",
              "      dtype=float32)>"
            ]
          },
          "metadata": {},
          "execution_count": 226
        }
      ]
    },
    {
      "cell_type": "code",
      "source": [
        "# 6. Create a tensor with random values between 0 and 1 with shape [224, 224, 3]\n",
        "tensor1 = tf.random.uniform(shape=[224, 224, 3], minval=0, maxval=1)\n",
        "tensor1"
      ],
      "metadata": {
        "id": "DNGAWy-smIH5",
        "colab": {
          "base_uri": "https://localhost:8080/"
        },
        "outputId": "59dc7c87-9f45-46cb-a56e-325397fd690e"
      },
      "execution_count": null,
      "outputs": [
        {
          "output_type": "execute_result",
          "data": {
            "text/plain": [
              "<tf.Tensor: shape=(224, 224, 3), dtype=float32, numpy=\n",
              "array([[[7.4023080e-01, 3.3938193e-01, 5.6925058e-01],\n",
              "        [4.4811392e-01, 2.9285502e-01, 4.2600560e-01],\n",
              "        [6.2890387e-01, 6.9106102e-01, 3.0925727e-01],\n",
              "        ...,\n",
              "        [9.1063976e-04, 6.9863999e-01, 1.7180574e-01],\n",
              "        [6.7542684e-01, 8.3492923e-01, 3.9038682e-01],\n",
              "        [2.3664141e-01, 6.2239432e-01, 1.0117912e-01]],\n",
              "\n",
              "       [[9.7064960e-01, 5.4594779e-01, 7.6819682e-01],\n",
              "        [2.6893330e-01, 2.6959443e-01, 2.8982997e-01],\n",
              "        [2.9215467e-01, 1.7108858e-01, 6.5597153e-01],\n",
              "        ...,\n",
              "        [9.5621395e-01, 5.4591870e-01, 5.3843534e-01],\n",
              "        [9.8861516e-01, 1.5786767e-01, 6.1375093e-01],\n",
              "        [7.2668612e-01, 6.1637163e-03, 1.6534305e-01]],\n",
              "\n",
              "       [[6.4095867e-01, 7.6697862e-01, 3.0138540e-01],\n",
              "        [1.5474892e-01, 1.7183411e-01, 2.7192724e-01],\n",
              "        [3.1211805e-01, 6.1451709e-01, 4.3001354e-01],\n",
              "        ...,\n",
              "        [8.4168065e-01, 5.0247252e-01, 2.8834987e-01],\n",
              "        [3.3173549e-01, 4.5103800e-01, 6.7354202e-02],\n",
              "        [1.0118127e-01, 4.2389810e-01, 6.8379509e-01]],\n",
              "\n",
              "       ...,\n",
              "\n",
              "       [[1.8096626e-01, 8.5838544e-01, 3.4178734e-02],\n",
              "        [5.9386420e-01, 3.8502932e-01, 8.7150073e-01],\n",
              "        [1.0209656e-01, 3.7833798e-01, 1.1331165e-01],\n",
              "        ...,\n",
              "        [8.5692227e-01, 4.2525017e-01, 3.6130440e-01],\n",
              "        [5.2397156e-01, 1.3922489e-01, 2.2725856e-01],\n",
              "        [9.1044855e-01, 9.1889143e-02, 1.5898192e-01]],\n",
              "\n",
              "       [[6.5610647e-02, 1.5236783e-01, 7.9822493e-01],\n",
              "        [3.0753601e-01, 4.3507314e-01, 7.9526460e-01],\n",
              "        [8.3535135e-01, 3.8671303e-01, 4.4709980e-01],\n",
              "        ...,\n",
              "        [6.8944788e-01, 6.5163302e-01, 9.1498744e-01],\n",
              "        [3.2730651e-01, 4.3430209e-01, 8.7547708e-01],\n",
              "        [1.8118513e-01, 6.4113998e-01, 4.3338275e-01]],\n",
              "\n",
              "       [[4.1520441e-01, 1.7824161e-01, 9.2302203e-02],\n",
              "        [4.3809581e-01, 4.6262145e-01, 3.8647270e-01],\n",
              "        [4.6021819e-02, 7.6314330e-02, 3.2944894e-01],\n",
              "        ...,\n",
              "        [3.7793708e-01, 8.7314355e-01, 5.2063870e-01],\n",
              "        [7.3511279e-01, 7.9594767e-01, 8.2211494e-02],\n",
              "        [9.7483528e-01, 8.2736588e-01, 7.6870322e-01]]], dtype=float32)>"
            ]
          },
          "metadata": {},
          "execution_count": 227
        }
      ]
    },
    {
      "cell_type": "code",
      "source": [
        "# 7. Find the min and max values of the tensor you created in 6 along the first axis.\n",
        "print(tf.reduce_min(tensor1, 1))\n",
        "print(tf.reduce_max(tensor1, 1))"
      ],
      "metadata": {
        "id": "jQOOyn32o69C",
        "colab": {
          "base_uri": "https://localhost:8080/"
        },
        "outputId": "d0439948-7dcd-4797-c9ba-da1ed224b6d5"
      },
      "execution_count": null,
      "outputs": [
        {
          "output_type": "stream",
          "name": "stdout",
          "text": [
            "tf.Tensor(\n",
            "[[9.10639763e-04 6.54578209e-04 3.16035748e-03]\n",
            " [8.35013390e-03 1.16729736e-03 1.09343529e-02]\n",
            " [3.31878662e-03 1.99556351e-04 1.74641609e-03]\n",
            " [4.14729118e-03 3.09562683e-03 1.42467022e-03]\n",
            " [7.07781315e-03 2.19345093e-05 5.38456440e-03]\n",
            " [5.42986393e-03 2.22206116e-04 7.89272785e-03]\n",
            " [5.10823727e-03 6.99520111e-04 2.83420086e-03]\n",
            " [1.07038021e-03 2.34723091e-04 7.52758980e-03]\n",
            " [1.66893005e-03 9.80639458e-03 2.58088112e-03]\n",
            " [2.11358070e-04 1.70731544e-03 1.35517120e-03]\n",
            " [8.23807716e-03 5.60522079e-04 8.54849815e-03]\n",
            " [1.17849112e-02 1.96158886e-03 4.79292870e-03]\n",
            " [5.68139553e-03 6.36565685e-03 9.84787941e-04]\n",
            " [2.73835659e-03 4.16231155e-03 4.78243828e-03]\n",
            " [3.51417065e-03 3.18551064e-03 6.12378120e-04]\n",
            " [3.91662121e-03 4.14466858e-03 3.65471840e-03]\n",
            " [1.91652775e-03 3.83377075e-04 8.68165493e-03]\n",
            " [3.22473049e-03 7.75098801e-04 1.14122629e-02]\n",
            " [2.74443626e-03 3.63159180e-03 9.50610638e-03]\n",
            " [1.45959854e-03 1.34799480e-02 6.45637512e-04]\n",
            " [5.43975830e-03 2.92778015e-04 1.36017799e-03]\n",
            " [2.92658806e-04 3.08239460e-03 1.39951706e-03]\n",
            " [1.69658661e-03 3.04305553e-03 1.94859505e-03]\n",
            " [3.72767448e-03 1.27875805e-03 5.18178940e-03]\n",
            " [9.83595848e-04 4.05347347e-03 2.85875797e-03]\n",
            " [7.77566433e-03 1.82247162e-03 8.32080841e-04]\n",
            " [5.08391857e-03 1.67036057e-02 6.55078888e-03]\n",
            " [1.51796341e-02 4.28748131e-03 7.28392601e-03]\n",
            " [9.06062126e-03 4.80651855e-04 1.72853470e-03]\n",
            " [6.66856766e-04 2.39968300e-04 4.64558601e-04]\n",
            " [1.98338032e-02 1.23548508e-02 4.42266464e-04]\n",
            " [2.16722488e-04 2.43782997e-03 1.28769875e-03]\n",
            " [1.47366524e-03 3.91840935e-04 1.46305561e-03]\n",
            " [1.05261803e-04 7.30919838e-03 5.00011444e-03]\n",
            " [6.05142117e-03 2.09712982e-03 8.29935074e-04]\n",
            " [5.29885292e-04 7.14588165e-03 2.60519981e-03]\n",
            " [1.22666359e-03 2.53057480e-03 8.95810127e-03]\n",
            " [3.08275223e-04 2.41160393e-04 4.54831123e-03]\n",
            " [2.75254250e-04 1.76429749e-04 7.77256489e-03]\n",
            " [5.15615940e-03 1.85251236e-04 3.62026691e-03]\n",
            " [1.59192085e-03 8.46350193e-03 4.91142273e-03]\n",
            " [1.90520287e-03 3.87310982e-04 2.01952457e-03]\n",
            " [8.18967819e-03 3.07691097e-03 7.52794743e-03]\n",
            " [1.00139380e-02 1.38663054e-02 6.17873669e-03]\n",
            " [3.68094444e-03 5.78403473e-04 1.20595694e-02]\n",
            " [1.27267838e-03 3.40223312e-04 1.60694122e-03]\n",
            " [2.02000141e-03 6.75702095e-03 3.61442566e-04]\n",
            " [6.46793842e-03 6.78157806e-03 5.31923771e-03]\n",
            " [5.63454628e-03 1.68992281e-02 7.43138790e-03]\n",
            " [1.30016804e-02 3.45110893e-03 9.64403152e-04]\n",
            " [1.42431259e-03 4.03916836e-03 1.20549202e-02]\n",
            " [1.23786926e-03 9.68575478e-03 2.32815742e-04]\n",
            " [1.97899342e-03 3.81708145e-04 1.09672546e-05]\n",
            " [1.91128254e-03 5.05447388e-04 6.11388683e-03]\n",
            " [7.61783123e-03 1.06203556e-02 1.50023699e-02]\n",
            " [1.11770630e-03 1.10983849e-03 6.77704811e-04]\n",
            " [4.52244282e-03 3.19445133e-03 9.86814499e-04]\n",
            " [5.00023365e-03 1.29222870e-03 5.36799431e-04]\n",
            " [1.19924545e-03 4.66620922e-03 4.58121300e-04]\n",
            " [2.03466415e-03 5.87606430e-03 8.79812241e-03]\n",
            " [2.71356106e-03 1.28710270e-03 2.38084793e-03]\n",
            " [2.54571438e-03 4.41646576e-03 9.63640213e-03]\n",
            " [2.92646885e-03 1.25169754e-05 9.07659531e-04]\n",
            " [1.54006481e-03 4.54545021e-04 1.46031380e-04]\n",
            " [8.41426849e-03 2.43997574e-03 1.80971622e-03]\n",
            " [8.25285912e-04 6.22808933e-03 2.54404545e-03]\n",
            " [1.24621391e-03 1.72924995e-03 1.51324272e-03]\n",
            " [6.81638718e-04 1.42526627e-03 9.50014591e-03]\n",
            " [6.37364388e-03 2.54297256e-03 1.43229961e-03]\n",
            " [3.06034088e-03 1.06419325e-02 2.70605087e-04]\n",
            " [2.98941135e-03 1.44653320e-02 5.21516800e-03]\n",
            " [1.86443329e-04 5.69605827e-03 2.32505798e-03]\n",
            " [4.73082066e-03 3.19600105e-03 2.16805935e-03]\n",
            " [6.57665730e-03 5.17654419e-03 1.53928995e-02]\n",
            " [1.84248686e-02 6.33955002e-04 2.15399265e-03]\n",
            " [2.49862671e-03 5.36775589e-03 1.52218342e-03]\n",
            " [3.31056118e-03 6.50286674e-04 4.77612019e-03]\n",
            " [1.00501776e-02 3.36158276e-03 8.14318657e-03]\n",
            " [2.13277340e-03 1.86169147e-03 7.86793232e-03]\n",
            " [2.28309631e-03 1.56521797e-03 1.48004293e-02]\n",
            " [1.60861015e-03 4.41062450e-03 9.93251801e-04]\n",
            " [1.53775215e-02 9.98795033e-03 3.38304043e-03]\n",
            " [5.94484806e-03 3.64482403e-03 1.34587288e-04]\n",
            " [8.82160664e-03 2.05695629e-03 9.53435898e-04]\n",
            " [4.47881222e-03 1.38556957e-03 2.52974033e-03]\n",
            " [1.70612335e-03 7.57622719e-03 7.53283501e-04]\n",
            " [3.57460976e-03 2.70891190e-03 1.84881687e-03]\n",
            " [3.75461578e-03 1.53964758e-02 1.34229660e-03]\n",
            " [2.30777264e-03 1.28568411e-02 2.21204758e-03]\n",
            " [1.55055523e-02 1.41390562e-02 3.52597237e-03]\n",
            " [7.06279278e-03 6.21914864e-04 2.10726261e-03]\n",
            " [3.11958790e-03 1.37650967e-03 5.03528118e-03]\n",
            " [7.78198242e-04 5.85544109e-03 8.89682770e-03]\n",
            " [4.00900841e-04 4.39941883e-03 1.35743618e-03]\n",
            " [2.21955776e-03 1.37687922e-02 3.70383263e-04]\n",
            " [1.89423561e-03 1.78587437e-03 1.37388706e-03]\n",
            " [3.97586823e-03 9.15527344e-04 5.61285019e-03]\n",
            " [7.63034821e-03 2.97057629e-03 1.12378597e-03]\n",
            " [3.07607651e-03 1.66118145e-03 1.07387304e-02]\n",
            " [2.09343433e-03 9.77683067e-03 5.29921055e-03]\n",
            " [1.71947479e-03 4.03404236e-04 1.56855583e-03]\n",
            " [1.82752609e-02 4.43196297e-03 2.86221504e-04]\n",
            " [9.19961929e-03 6.89220428e-03 2.48718262e-03]\n",
            " [1.49583817e-03 3.80873680e-04 6.90937042e-04]\n",
            " [1.12330914e-03 3.44085693e-03 1.64964199e-02]\n",
            " [2.44975090e-04 3.66926193e-03 2.63679028e-03]\n",
            " [5.34415245e-04 3.94165516e-03 6.34634495e-03]\n",
            " [5.13434410e-04 2.25690603e-02 3.76164913e-03]\n",
            " [1.82509422e-03 9.73534584e-03 7.64966011e-03]\n",
            " [4.53186035e-03 6.29520416e-03 5.64885139e-03]\n",
            " [1.77371502e-03 1.25050545e-04 1.76680088e-03]\n",
            " [4.38570976e-04 1.13999844e-03 5.22923470e-03]\n",
            " [1.04713440e-03 1.61039829e-03 4.50503826e-03]\n",
            " [4.53460217e-03 1.41239166e-03 4.30655479e-03]\n",
            " [4.99629974e-03 3.92794609e-04 1.10971928e-03]\n",
            " [9.52947140e-03 5.42724133e-03 1.79270506e-02]\n",
            " [2.12073326e-03 1.80244446e-03 2.31695175e-03]\n",
            " [1.63674355e-04 3.64756584e-03 3.46899033e-04]\n",
            " [5.63120842e-03 5.60867786e-03 4.44328785e-03]\n",
            " [3.14939022e-03 7.83836842e-03 1.79362297e-03]\n",
            " [5.09989262e-03 4.48250771e-03 3.88669968e-03]\n",
            " [3.65376472e-04 2.72738934e-03 3.70311737e-03]\n",
            " [2.89678574e-05 1.58904791e-02 1.73603296e-02]\n",
            " [3.46422195e-04 1.63352489e-03 1.17802620e-02]\n",
            " [4.75668907e-03 6.67071342e-03 1.59943104e-03]\n",
            " [5.90085983e-04 2.90262699e-03 1.23631954e-03]\n",
            " [9.93609428e-04 2.33042240e-03 1.71852112e-03]\n",
            " [1.78742409e-03 2.73168087e-03 8.57734680e-03]\n",
            " [7.26640224e-03 4.18329239e-03 1.88863277e-03]\n",
            " [1.00733042e-02 5.31077385e-03 4.44173813e-04]\n",
            " [3.48985195e-03 4.64856625e-03 1.37741566e-02]\n",
            " [2.92766094e-03 1.54531002e-03 3.03399563e-03]\n",
            " [1.48773193e-03 4.65893745e-03 6.71923161e-03]\n",
            " [4.67753410e-03 7.74335861e-03 7.94613361e-03]\n",
            " [3.08036804e-04 2.24304199e-03 3.15153599e-03]\n",
            " [1.09556913e-02 3.42130661e-04 7.45463371e-03]\n",
            " [1.39558315e-03 3.78847122e-03 4.46569920e-03]\n",
            " [7.37500191e-03 1.78587437e-03 1.37135983e-02]\n",
            " [7.26759434e-03 6.07359409e-03 2.86877155e-03]\n",
            " [6.37912750e-03 1.11138821e-03 3.46994400e-03]\n",
            " [1.14679337e-04 3.63981724e-03 5.87284565e-03]\n",
            " [7.31420517e-03 1.10930204e-02 3.82542610e-04]\n",
            " [1.54352188e-03 1.40118599e-03 4.02462482e-03]\n",
            " [1.11180544e-02 2.64251232e-03 1.29506588e-02]\n",
            " [1.31011009e-03 3.01826000e-03 2.49981880e-04]\n",
            " [1.65951252e-03 4.85157967e-03 3.66115570e-03]\n",
            " [4.32193279e-03 1.98030472e-03 1.78806782e-02]\n",
            " [8.56208801e-03 4.64320183e-04 5.61833382e-03]\n",
            " [8.58628750e-03 7.38966465e-03 1.49593353e-02]\n",
            " [1.06484890e-02 1.75714493e-04 3.12292576e-03]\n",
            " [7.75063038e-03 3.16047668e-03 1.52087212e-03]\n",
            " [2.30169296e-03 2.98297405e-03 1.39620304e-02]\n",
            " [2.98452377e-03 5.02681732e-03 9.30666924e-04]\n",
            " [7.46011734e-03 3.82781029e-04 6.10923767e-03]\n",
            " [6.17837906e-03 7.74383545e-04 1.43554211e-02]\n",
            " [1.50454044e-03 1.11198425e-03 2.23529339e-03]\n",
            " [7.37524033e-03 2.61056423e-03 6.66677952e-03]\n",
            " [3.95393372e-03 7.44521618e-03 5.10430336e-03]\n",
            " [2.17640400e-03 3.09586525e-04 1.73234940e-03]\n",
            " [3.24237347e-03 5.28192520e-03 5.48338890e-03]\n",
            " [4.36413288e-03 3.99374962e-03 3.96275520e-03]\n",
            " [5.10215759e-05 1.26075745e-03 7.25591183e-03]\n",
            " [4.93395329e-03 5.83004951e-03 1.82306767e-03]\n",
            " [3.24904919e-03 1.09307766e-02 5.68044186e-03]\n",
            " [3.15113068e-02 1.16444826e-02 7.58850574e-03]\n",
            " [1.89542770e-04 4.03523445e-03 6.91890717e-03]\n",
            " [1.27756596e-02 6.80565834e-04 4.14776802e-03]\n",
            " [4.31728363e-03 2.97498703e-03 2.18534470e-03]\n",
            " [1.74295902e-03 1.00040436e-02 6.32703304e-03]\n",
            " [5.77557087e-03 1.45101547e-03 1.81400776e-03]\n",
            " [1.56081915e-02 4.82761860e-03 1.59478188e-03]\n",
            " [7.36236572e-04 3.39269638e-03 1.22404099e-03]\n",
            " [4.44126129e-03 1.70958042e-03 2.24864483e-03]\n",
            " [1.56342983e-03 3.35323811e-03 8.41379166e-04]\n",
            " [9.78827477e-04 4.45055962e-03 2.44426727e-03]\n",
            " [1.04761124e-03 1.75714493e-03 6.40153885e-05]\n",
            " [1.12860203e-02 5.27977943e-04 6.47020340e-03]\n",
            " [4.43065166e-03 2.75373459e-05 8.40902328e-04]\n",
            " [3.81827354e-04 3.20160389e-03 1.82223320e-03]\n",
            " [9.18614864e-03 5.14149666e-03 7.50219822e-03]\n",
            " [2.52437592e-03 2.19511986e-03 2.29442120e-03]\n",
            " [4.04262543e-03 5.15401363e-03 5.73456287e-03]\n",
            " [4.34279442e-03 4.66942787e-04 2.00331211e-03]\n",
            " [5.53965569e-04 5.66601753e-04 2.28643417e-04]\n",
            " [7.76052475e-05 5.12564182e-03 3.74078751e-04]\n",
            " [1.63745880e-03 5.08260727e-03 3.36027145e-03]\n",
            " [1.72865391e-03 2.93612480e-04 2.82645226e-04]\n",
            " [5.01716137e-03 1.87754631e-04 1.03056431e-03]\n",
            " [2.72274017e-03 3.74591351e-03 3.64136696e-03]\n",
            " [4.63449955e-03 1.98364258e-04 3.01790237e-03]\n",
            " [3.13889980e-03 3.92198563e-03 1.02332830e-02]\n",
            " [1.08335018e-02 7.07566738e-03 4.39381599e-03]\n",
            " [3.21972370e-03 6.56259060e-03 8.52572918e-03]\n",
            " [6.47294521e-03 1.99830532e-03 1.03285313e-02]\n",
            " [5.77843189e-03 1.43706799e-03 7.44462013e-04]\n",
            " [1.21319294e-03 2.20775604e-04 4.69017029e-03]\n",
            " [1.29665136e-02 3.26597691e-03 3.79920006e-04]\n",
            " [1.87563896e-03 9.77814198e-03 5.19621372e-03]\n",
            " [4.34172153e-03 2.04718113e-03 1.84178352e-04]\n",
            " [1.94705725e-02 8.61763954e-04 2.55453587e-03]\n",
            " [9.85443592e-03 4.39167023e-04 3.06415558e-03]\n",
            " [5.91838360e-03 1.76787376e-04 7.98094273e-03]\n",
            " [1.88422203e-03 1.48999691e-03 1.90055370e-03]\n",
            " [1.53685808e-02 7.53760338e-04 7.16340542e-03]\n",
            " [1.59478188e-03 8.29339027e-04 1.13105774e-03]\n",
            " [1.90007687e-03 1.19948387e-03 3.02851200e-03]\n",
            " [5.52213192e-03 7.62224197e-04 9.65476036e-04]\n",
            " [1.22821331e-03 6.27911091e-03 4.29642200e-03]\n",
            " [8.86917114e-05 8.18121433e-03 2.71749496e-03]\n",
            " [1.54721737e-03 6.40261173e-03 3.45695019e-03]\n",
            " [1.36649609e-03 2.38418579e-03 2.53117085e-03]\n",
            " [4.49502468e-03 4.45485115e-04 4.68671322e-03]\n",
            " [7.80200958e-03 8.52704048e-04 3.90768051e-04]\n",
            " [9.37986374e-03 8.95655155e-03 1.30653381e-04]\n",
            " [6.90066814e-03 1.28986835e-02 1.54137611e-04]\n",
            " [1.85096264e-03 8.24928284e-04 2.65002251e-04]\n",
            " [7.42089748e-03 2.53427029e-03 3.78370285e-04]\n",
            " [2.30228901e-03 5.62489033e-03 2.86471844e-03]\n",
            " [1.26619339e-02 4.03761864e-04 9.59801674e-03]\n",
            " [3.94833088e-03 7.48324394e-03 6.87658787e-03]\n",
            " [1.08110905e-03 3.56566906e-03 1.96254253e-03]\n",
            " [5.16271591e-03 3.61597538e-03 1.00221634e-02]\n",
            " [5.47766685e-03 1.67012215e-04 9.62257385e-04]\n",
            " [2.97069550e-03 4.99880314e-03 9.63211060e-04]], shape=(224, 3), dtype=float32)\n",
            "tf.Tensor(\n",
            "[[0.99864674 0.9914986  0.9986403 ]\n",
            " [0.98861516 0.99712765 0.9933816 ]\n",
            " [0.99973166 0.99491036 0.99884486]\n",
            " [0.9961568  0.99361646 0.99390936]\n",
            " [0.9983411  0.9995916  0.9963262 ]\n",
            " [0.9927087  0.9945804  0.9993119 ]\n",
            " [0.9998385  0.9988018  0.99992466]\n",
            " [0.9912667  0.9970081  0.9999547 ]\n",
            " [0.99714875 0.9989723  0.9943049 ]\n",
            " [0.9987453  0.99241745 0.98267853]\n",
            " [0.9958049  0.9932009  0.99749184]\n",
            " [0.99941504 0.9938396  0.9995291 ]\n",
            " [0.9979832  0.99474216 0.99120116]\n",
            " [0.99996805 0.9996389  0.9902766 ]\n",
            " [0.9952936  0.99606645 0.9971938 ]\n",
            " [0.9979472  0.9971491  0.99530685]\n",
            " [0.9973743  0.9976038  0.99941623]\n",
            " [0.99872625 0.994753   0.9837471 ]\n",
            " [0.98770046 0.9972795  0.99876463]\n",
            " [0.99615407 0.99293363 0.9937253 ]\n",
            " [0.9970466  0.9942806  0.9942508 ]\n",
            " [0.9910227  0.9988351  0.99969304]\n",
            " [0.9877341  0.99609387 0.9989197 ]\n",
            " [0.9999763  0.9916439  0.9956907 ]\n",
            " [0.99678063 0.9935802  0.9902276 ]\n",
            " [0.9980155  0.9997779  0.9930123 ]\n",
            " [0.999496   0.9942956  0.99722624]\n",
            " [0.989655   0.9981898  0.99816144]\n",
            " [0.99134004 0.9964255  0.9941113 ]\n",
            " [0.9960307  0.9969338  0.9888779 ]\n",
            " [0.9984422  0.98824704 0.9997617 ]\n",
            " [0.9955319  0.9992423  0.99983394]\n",
            " [0.998911   0.99358475 0.9937005 ]\n",
            " [0.98986113 0.99368274 0.99663043]\n",
            " [0.9929899  0.9907619  0.997355  ]\n",
            " [0.99907744 0.9998369  0.99595773]\n",
            " [0.9953853  0.9985595  0.9999902 ]\n",
            " [0.9855268  0.9874331  0.9943731 ]\n",
            " [0.99423957 0.99964416 0.9981972 ]\n",
            " [0.9978399  0.9969646  0.9893544 ]\n",
            " [0.99895644 0.9996741  0.9991609 ]\n",
            " [0.9893137  0.99955666 0.99765503]\n",
            " [0.99003303 0.99886715 0.9986298 ]\n",
            " [0.99514997 0.9948144  0.9909023 ]\n",
            " [0.99913955 0.9977921  0.99868274]\n",
            " [0.99398696 0.9998325  0.9986769 ]\n",
            " [0.99490345 0.99673176 0.9987112 ]\n",
            " [0.9795816  0.99995816 0.9988768 ]\n",
            " [0.99499714 0.995087   0.99931955]\n",
            " [0.99276614 0.9988848  0.9972999 ]\n",
            " [0.9973092  0.99910593 0.9898455 ]\n",
            " [0.99724984 0.98212194 0.98657954]\n",
            " [0.99805355 0.99617803 0.98879063]\n",
            " [0.9983555  0.98883164 0.994609  ]\n",
            " [0.99798155 0.9915806  0.992949  ]\n",
            " [0.9959829  0.998487   0.99656606]\n",
            " [0.9957285  0.9986428  0.99859107]\n",
            " [0.9903052  0.9964807  0.9985765 ]\n",
            " [0.997815   0.9963012  0.98908484]\n",
            " [0.9994464  0.98348236 0.9996797 ]\n",
            " [0.9912001  0.9920963  0.99570036]\n",
            " [0.9966997  0.999298   0.9992795 ]\n",
            " [0.99957466 0.99890375 0.9958379 ]\n",
            " [0.9976789  0.99727845 0.9904697 ]\n",
            " [0.998464   0.9982499  0.999881  ]\n",
            " [0.99375427 0.9968957  0.99835   ]\n",
            " [0.99672174 0.999545   0.9993398 ]\n",
            " [0.98794615 0.98473835 0.9991392 ]\n",
            " [0.99874675 0.99877846 0.99263275]\n",
            " [0.99737275 0.9949719  0.9969939 ]\n",
            " [0.9989413  0.99852264 0.99810314]\n",
            " [0.99946916 0.9962491  0.9998672 ]\n",
            " [0.9985316  0.99956906 0.9954736 ]\n",
            " [0.99587965 0.996642   0.9935851 ]\n",
            " [0.9996135  0.9975264  0.98172545]\n",
            " [0.99499834 0.99599075 0.9977943 ]\n",
            " [0.9986031  0.99375105 0.99889076]\n",
            " [0.991511   0.9887296  0.9968568 ]\n",
            " [0.9983002  0.9993619  0.99253964]\n",
            " [0.9986905  0.99775374 0.99209595]\n",
            " [0.9988198  0.9994631  0.9981171 ]\n",
            " [0.9987446  0.9893522  0.9877331 ]\n",
            " [0.9977522  0.9834399  0.9959229 ]\n",
            " [0.9990926  0.9998524  0.9940791 ]\n",
            " [0.99653006 0.9990523  0.9920634 ]\n",
            " [0.9918382  0.9983735  0.99642336]\n",
            " [0.998026   0.9972385  0.98987794]\n",
            " [0.99832404 0.9869138  0.99392176]\n",
            " [0.9956336  0.9992113  0.98900926]\n",
            " [0.9962895  0.99756515 0.99885523]\n",
            " [0.999406   0.99560356 0.9941857 ]\n",
            " [0.98407614 0.9869318  0.99504256]\n",
            " [0.9990282  0.99501956 0.9977877 ]\n",
            " [0.9999696  0.99020314 0.996344  ]\n",
            " [0.99853706 0.99692225 0.99952304]\n",
            " [0.99334884 0.9987345  0.9994521 ]\n",
            " [0.9955058  0.9987     0.99631894]\n",
            " [0.9977484  0.9970095  0.99996924]\n",
            " [0.999879   0.99452305 0.9985657 ]\n",
            " [0.9997461  0.9971411  0.9956596 ]\n",
            " [0.9963366  0.99193895 0.99905074]\n",
            " [0.99769735 0.993314   0.99499893]\n",
            " [0.99925864 0.9995593  0.97976327]\n",
            " [0.99871993 0.9982493  0.997558  ]\n",
            " [0.998078   0.99198675 0.9976386 ]\n",
            " [0.9945315  0.9987415  0.99537766]\n",
            " [0.9929037  0.9980631  0.9895861 ]\n",
            " [0.9971181  0.99870825 0.994786  ]\n",
            " [0.9982916  0.9982313  0.9976531 ]\n",
            " [0.9992931  0.99945295 0.9943954 ]\n",
            " [0.9997976  0.99997246 0.9946438 ]\n",
            " [0.99005747 0.9922464  0.9997735 ]\n",
            " [0.9935522  0.990687   0.99685514]\n",
            " [0.9816643  0.99756145 0.99869156]\n",
            " [0.9998696  0.9887279  0.999771  ]\n",
            " [0.99449944 0.99886143 0.9966953 ]\n",
            " [0.99848723 0.9986931  0.99854636]\n",
            " [0.99962175 0.9982486  0.99893737]\n",
            " [0.9982172  0.9985117  0.9958073 ]\n",
            " [0.99411416 0.9976512  0.999076  ]\n",
            " [0.9954454  0.99599206 0.99588275]\n",
            " [0.9976356  0.9830828  0.99914956]\n",
            " [0.9941039  0.99451697 0.99968374]\n",
            " [0.9996983  0.9987035  0.98427856]\n",
            " [0.9986278  0.9998181  0.9977958 ]\n",
            " [0.9980937  0.9969915  0.98894036]\n",
            " [0.99746346 0.9912313  0.99690163]\n",
            " [0.9996023  0.9999418  0.9978404 ]\n",
            " [0.9933443  0.99371326 0.99750936]\n",
            " [0.9984139  0.9934083  0.99705803]\n",
            " [0.9989133  0.99022293 0.9998553 ]\n",
            " [0.9989687  0.9987185  0.9840046 ]\n",
            " [0.9981965  0.98759866 0.9959017 ]\n",
            " [0.9992558  0.99975884 0.9967978 ]\n",
            " [0.99988925 0.99860287 0.99028814]\n",
            " [0.99141586 0.9944749  0.9981489 ]\n",
            " [0.9987407  0.9995842  0.997067  ]\n",
            " [0.99731076 0.99570584 0.9898405 ]\n",
            " [0.99796045 0.99932563 0.9967756 ]\n",
            " [0.9997364  0.9989637  0.99597216]\n",
            " [0.99629176 0.9941076  0.9950578 ]\n",
            " [0.99295163 0.99693596 0.9986954 ]\n",
            " [0.99506056 0.9959464  0.9877062 ]\n",
            " [0.9993845  0.9927256  0.99833405]\n",
            " [0.99661255 0.99860084 0.9978887 ]\n",
            " [0.9792417  0.9975369  0.9915565 ]\n",
            " [0.99853754 0.9991361  0.9980972 ]\n",
            " [0.9970317  0.9765365  0.99913955]\n",
            " [0.9987576  0.9995222  0.9956856 ]\n",
            " [0.9965056  0.99644136 0.9983051 ]\n",
            " [0.9964467  0.9980209  0.99461794]\n",
            " [0.98509526 0.99104404 0.99960685]\n",
            " [0.99916077 0.9764898  0.9996245 ]\n",
            " [0.9979893  0.99817944 0.99822295]\n",
            " [0.98919725 0.99497426 0.9917103 ]\n",
            " [0.9971194  0.99983525 0.99560356]\n",
            " [0.9992796  0.9853027  0.99858797]\n",
            " [0.99901974 0.9942751  0.98345697]\n",
            " [0.9986942  0.99720824 0.9999443 ]\n",
            " [0.99149203 0.99884796 0.997908  ]\n",
            " [0.99397516 0.9981898  0.9973072 ]\n",
            " [0.9939834  0.99933636 0.9930303 ]\n",
            " [0.999233   0.99433136 0.9970324 ]\n",
            " [0.98855877 0.99551237 0.99981713]\n",
            " [0.9984076  0.99541926 0.9966904 ]\n",
            " [0.9969834  0.99667406 0.99242616]\n",
            " [0.999913   0.9910464  0.9984962 ]\n",
            " [0.9934964  0.98606384 0.9985504 ]\n",
            " [0.9888692  0.99526405 0.99381375]\n",
            " [0.9986012  0.9914324  0.9987954 ]\n",
            " [0.99492955 0.9938339  0.9976622 ]\n",
            " [0.9995594  0.9982356  0.9964465 ]\n",
            " [0.99629796 0.9917543  0.993536  ]\n",
            " [0.98218393 0.9968468  0.99922335]\n",
            " [0.99716234 0.9984102  0.9994538 ]\n",
            " [0.9886005  0.99840784 0.9962057 ]\n",
            " [0.9930265  0.99754584 0.99996555]\n",
            " [0.99744666 0.9900187  0.9978161 ]\n",
            " [0.9961066  0.99879277 0.9963831 ]\n",
            " [0.99848044 0.9979304  0.9984182 ]\n",
            " [0.9947226  0.98441005 0.9998121 ]\n",
            " [0.99427724 0.99659336 0.99060214]\n",
            " [0.9974116  0.9949479  0.9977257 ]\n",
            " [0.99515915 0.9862466  0.99496627]\n",
            " [0.9983883  0.9961693  0.99339104]\n",
            " [0.9989034  0.9986242  0.9975176 ]\n",
            " [0.99837434 0.98300374 0.9956249 ]\n",
            " [0.99661803 0.9968053  0.9876646 ]\n",
            " [0.9954635  0.9983454  0.9989171 ]\n",
            " [0.9975308  0.99907684 0.99285364]\n",
            " [0.99868965 0.9788803  0.99770844]\n",
            " [0.99602985 0.9998512  0.997702  ]\n",
            " [0.9968374  0.9923682  0.99303377]\n",
            " [0.9964533  0.99493515 0.9999541 ]\n",
            " [0.99611413 0.98138034 0.9972259 ]\n",
            " [0.99683106 0.9985677  0.99513376]\n",
            " [0.99966717 0.99545276 0.9860022 ]\n",
            " [0.9834378  0.9962628  0.9956186 ]\n",
            " [0.9917841  0.99783826 0.9975754 ]\n",
            " [0.997959   0.99933875 0.99693155]\n",
            " [0.99695516 0.99681807 0.9962263 ]\n",
            " [0.9994391  0.99968636 0.9982785 ]\n",
            " [0.9963969  0.9854969  0.9991487 ]\n",
            " [0.99609363 0.9980736  0.99679756]\n",
            " [0.99554634 0.9873766  0.99884224]\n",
            " [0.9952383  0.99572384 0.99836755]\n",
            " [0.99575436 0.9994633  0.9959537 ]\n",
            " [0.99853516 0.9955547  0.9930302 ]\n",
            " [0.9992206  0.99510837 0.9979577 ]\n",
            " [0.99203503 0.9976958  0.9995111 ]\n",
            " [0.99257445 0.9897219  0.9978659 ]\n",
            " [0.987985   0.99093115 0.99967194]\n",
            " [0.9901681  0.99278665 0.99450445]\n",
            " [0.99914396 0.99937534 0.99537265]\n",
            " [0.9943638  0.9917426  0.9992411 ]\n",
            " [0.9933915  0.99944484 0.9980061 ]\n",
            " [0.9941908  0.9984999  0.99945307]\n",
            " [0.9956299  0.9985192  0.9985771 ]\n",
            " [0.9983369  0.9991983  0.9911002 ]\n",
            " [0.9968997  0.9990822  0.99600947]\n",
            " [0.99872243 0.98024    0.9976915 ]\n",
            " [0.9964814  0.99765646 0.99987435]\n",
            " [0.99653614 0.99988914 0.99764884]\n",
            " [0.9962617  0.9976977  0.9949913 ]], shape=(224, 3), dtype=float32)\n"
          ]
        }
      ]
    },
    {
      "cell_type": "code",
      "source": [
        "# 8. Created a tensor with random values of shape [1, 224, 224, 3] then squeeze it to change the shape to [224, 224, 3]\n",
        "tensor1 = tf.random.uniform(shape=[1, 224, 224, 3], minval=0, maxval=1)\n",
        "print(tensor1)\n",
        "print(tf.squeeze(tensor1))\n"
      ],
      "metadata": {
        "id": "f8Q5PmyDpjNU",
        "colab": {
          "base_uri": "https://localhost:8080/"
        },
        "outputId": "f844334f-efa5-4275-fbc4-3f8595467971"
      },
      "execution_count": null,
      "outputs": [
        {
          "output_type": "stream",
          "name": "stdout",
          "text": [
            "tf.Tensor(\n",
            "[[[[8.0315602e-01 4.9777734e-01 3.7054038e-01]\n",
            "   [9.1186738e-01 6.3764203e-01 1.8209696e-01]\n",
            "   [6.3791955e-01 2.7701473e-01 4.2271137e-02]\n",
            "   ...\n",
            "   [1.0830712e-01 4.5979273e-01 2.5716281e-01]\n",
            "   [8.7138689e-01 1.8434000e-01 4.4757760e-01]\n",
            "   [7.4110627e-02 9.0852141e-01 5.3693414e-01]]\n",
            "\n",
            "  [[5.5596435e-01 6.8776274e-01 7.6051474e-02]\n",
            "   [1.6737962e-01 7.1785092e-01 2.7642274e-01]\n",
            "   [2.6995218e-01 3.2203627e-01 8.8224900e-01]\n",
            "   ...\n",
            "   [4.8168826e-01 5.0150025e-01 8.6756039e-01]\n",
            "   [4.1261053e-01 1.2770486e-01 5.8186901e-01]\n",
            "   [2.5495613e-01 3.9036548e-01 9.8529553e-01]]\n",
            "\n",
            "  [[8.0935180e-01 1.9740558e-01 3.5899937e-01]\n",
            "   [1.1216915e-01 9.1016293e-04 3.6382091e-01]\n",
            "   [5.1202202e-01 3.9188230e-01 8.8335538e-01]\n",
            "   ...\n",
            "   [2.0133841e-01 9.1663551e-01 1.9890130e-01]\n",
            "   [8.0388057e-01 3.9227080e-01 2.9688942e-01]\n",
            "   [8.9319050e-01 2.9692888e-01 2.6492047e-01]]\n",
            "\n",
            "  ...\n",
            "\n",
            "  [[7.3653197e-01 5.9242892e-01 8.1022096e-01]\n",
            "   [3.2385099e-01 9.4225824e-01 8.4279275e-01]\n",
            "   [5.2548873e-01 8.8999271e-02 1.2152910e-01]\n",
            "   ...\n",
            "   [4.4721401e-01 2.0952868e-01 9.3782067e-02]\n",
            "   [5.1644707e-01 7.4352753e-01 7.4530303e-01]\n",
            "   [4.3693781e-03 1.0793984e-01 1.7783213e-01]]\n",
            "\n",
            "  [[7.6054347e-01 8.0798697e-01 3.9492905e-01]\n",
            "   [4.0577006e-01 9.6265435e-02 8.8253260e-01]\n",
            "   [6.7700970e-01 7.8380144e-01 9.3841922e-01]\n",
            "   ...\n",
            "   [3.1409883e-01 2.0651186e-01 5.1043892e-01]\n",
            "   [6.6967010e-02 3.1983531e-01 7.4677360e-01]\n",
            "   [7.0548081e-01 8.2629704e-01 7.0540214e-01]]\n",
            "\n",
            "  [[6.4126742e-01 5.8223104e-01 5.1815867e-02]\n",
            "   [6.2203467e-01 5.7224095e-01 9.0543139e-01]\n",
            "   [9.6411026e-01 2.6061213e-01 7.4845552e-02]\n",
            "   ...\n",
            "   [5.8922923e-01 1.2655807e-01 7.0523393e-01]\n",
            "   [9.5485377e-01 6.6495812e-01 6.4105380e-01]\n",
            "   [4.4474745e-01 9.7424459e-01 9.1788459e-01]]]], shape=(1, 224, 224, 3), dtype=float32)\n",
            "tf.Tensor(\n",
            "[[[8.0315602e-01 4.9777734e-01 3.7054038e-01]\n",
            "  [9.1186738e-01 6.3764203e-01 1.8209696e-01]\n",
            "  [6.3791955e-01 2.7701473e-01 4.2271137e-02]\n",
            "  ...\n",
            "  [1.0830712e-01 4.5979273e-01 2.5716281e-01]\n",
            "  [8.7138689e-01 1.8434000e-01 4.4757760e-01]\n",
            "  [7.4110627e-02 9.0852141e-01 5.3693414e-01]]\n",
            "\n",
            " [[5.5596435e-01 6.8776274e-01 7.6051474e-02]\n",
            "  [1.6737962e-01 7.1785092e-01 2.7642274e-01]\n",
            "  [2.6995218e-01 3.2203627e-01 8.8224900e-01]\n",
            "  ...\n",
            "  [4.8168826e-01 5.0150025e-01 8.6756039e-01]\n",
            "  [4.1261053e-01 1.2770486e-01 5.8186901e-01]\n",
            "  [2.5495613e-01 3.9036548e-01 9.8529553e-01]]\n",
            "\n",
            " [[8.0935180e-01 1.9740558e-01 3.5899937e-01]\n",
            "  [1.1216915e-01 9.1016293e-04 3.6382091e-01]\n",
            "  [5.1202202e-01 3.9188230e-01 8.8335538e-01]\n",
            "  ...\n",
            "  [2.0133841e-01 9.1663551e-01 1.9890130e-01]\n",
            "  [8.0388057e-01 3.9227080e-01 2.9688942e-01]\n",
            "  [8.9319050e-01 2.9692888e-01 2.6492047e-01]]\n",
            "\n",
            " ...\n",
            "\n",
            " [[7.3653197e-01 5.9242892e-01 8.1022096e-01]\n",
            "  [3.2385099e-01 9.4225824e-01 8.4279275e-01]\n",
            "  [5.2548873e-01 8.8999271e-02 1.2152910e-01]\n",
            "  ...\n",
            "  [4.4721401e-01 2.0952868e-01 9.3782067e-02]\n",
            "  [5.1644707e-01 7.4352753e-01 7.4530303e-01]\n",
            "  [4.3693781e-03 1.0793984e-01 1.7783213e-01]]\n",
            "\n",
            " [[7.6054347e-01 8.0798697e-01 3.9492905e-01]\n",
            "  [4.0577006e-01 9.6265435e-02 8.8253260e-01]\n",
            "  [6.7700970e-01 7.8380144e-01 9.3841922e-01]\n",
            "  ...\n",
            "  [3.1409883e-01 2.0651186e-01 5.1043892e-01]\n",
            "  [6.6967010e-02 3.1983531e-01 7.4677360e-01]\n",
            "  [7.0548081e-01 8.2629704e-01 7.0540214e-01]]\n",
            "\n",
            " [[6.4126742e-01 5.8223104e-01 5.1815867e-02]\n",
            "  [6.2203467e-01 5.7224095e-01 9.0543139e-01]\n",
            "  [9.6411026e-01 2.6061213e-01 7.4845552e-02]\n",
            "  ...\n",
            "  [5.8922923e-01 1.2655807e-01 7.0523393e-01]\n",
            "  [9.5485377e-01 6.6495812e-01 6.4105380e-01]\n",
            "  [4.4474745e-01 9.7424459e-01 9.1788459e-01]]], shape=(224, 224, 3), dtype=float32)\n"
          ]
        }
      ]
    },
    {
      "cell_type": "code",
      "source": [
        "# 9. Create a tensor with shape [10] using your own choice of values, then find the index which has the maximum value.\n",
        "tensor1 = tf.Variable([0, 1, 2, 3, 4, 5, 6, 7, 8, 9])\n",
        "tf.argmax(tensor1)"
      ],
      "metadata": {
        "colab": {
          "base_uri": "https://localhost:8080/"
        },
        "id": "JqIoDopivEgi",
        "outputId": "344bf5b2-02d1-4fed-ce00-15fa9b96d811"
      },
      "execution_count": null,
      "outputs": [
        {
          "output_type": "execute_result",
          "data": {
            "text/plain": [
              "<tf.Tensor: shape=(), dtype=int64, numpy=9>"
            ]
          },
          "metadata": {},
          "execution_count": 230
        }
      ]
    },
    {
      "cell_type": "code",
      "source": [
        "# 10. One-hot encode the tensor you created in 9\n",
        "tf.one_hot(tensor1, 10)\n"
      ],
      "metadata": {
        "colab": {
          "base_uri": "https://localhost:8080/"
        },
        "id": "RWDwcpunvtaQ",
        "outputId": "33fbb2b6-20a6-4ba4-e463-b26cb471c319"
      },
      "execution_count": null,
      "outputs": [
        {
          "output_type": "execute_result",
          "data": {
            "text/plain": [
              "<tf.Tensor: shape=(10, 10), dtype=float32, numpy=\n",
              "array([[1., 0., 0., 0., 0., 0., 0., 0., 0., 0.],\n",
              "       [0., 1., 0., 0., 0., 0., 0., 0., 0., 0.],\n",
              "       [0., 0., 1., 0., 0., 0., 0., 0., 0., 0.],\n",
              "       [0., 0., 0., 1., 0., 0., 0., 0., 0., 0.],\n",
              "       [0., 0., 0., 0., 1., 0., 0., 0., 0., 0.],\n",
              "       [0., 0., 0., 0., 0., 1., 0., 0., 0., 0.],\n",
              "       [0., 0., 0., 0., 0., 0., 1., 0., 0., 0.],\n",
              "       [0., 0., 0., 0., 0., 0., 0., 1., 0., 0.],\n",
              "       [0., 0., 0., 0., 0., 0., 0., 0., 1., 0.],\n",
              "       [0., 0., 0., 0., 0., 0., 0., 0., 0., 1.]], dtype=float32)>"
            ]
          },
          "metadata": {},
          "execution_count": 231
        }
      ]
    },
    {
      "cell_type": "code",
      "source": [
        "# Trying a new API (tf.summary)\n",
        "writer = tf.summary.create_file_writer(\"/tmp/mylogs\")\n",
        "with writer.as_default():\n",
        "  for step in range(100):\n",
        "    # other model code would go here\n",
        "    tf.summary.scalar(\"my_metric\", 0.5, step=step)\n",
        "    writer.flush()\n",
        "writer"
      ],
      "metadata": {
        "id": "AXPC6qHNv6RT",
        "colab": {
          "base_uri": "https://localhost:8080/"
        },
        "outputId": "007ccea2-6f77-4305-8118-c0a8fb486a56"
      },
      "execution_count": null,
      "outputs": [
        {
          "output_type": "execute_result",
          "data": {
            "text/plain": [
              "<tensorflow.python.ops.summary_ops_v2._ResourceSummaryWriter at 0x7fee308bcd90>"
            ]
          },
          "metadata": {},
          "execution_count": 232
        }
      ]
    },
    {
      "cell_type": "code",
      "source": [
        "# Creating tensors for a bill\n",
        "tensor = tf.Variable([[20., 3., 50.],\n",
        "                     [70., 32., 56.],\n",
        "                     [3., 12., 40.],\n",
        "                      [2., 32., 45.]])\n",
        "print(f\"My bill for this month is: {tf.reduce_sum(tensor)}\\nAnd for the year is: {tf.reduce_sum(tensor * 12)}\")"
      ],
      "metadata": {
        "colab": {
          "base_uri": "https://localhost:8080/"
        },
        "id": "zQgVdroUTlk-",
        "outputId": "83cac369-8252-42b1-a05d-e31e27aa854d"
      },
      "execution_count": null,
      "outputs": [
        {
          "output_type": "stream",
          "name": "stdout",
          "text": [
            "My bill for this month is: 365.0\n",
            "And for the year is: 4380.0\n"
          ]
        }
      ]
    },
    {
      "cell_type": "markdown",
      "source": [
        "### Go through tensorflow2 quickstart for beginners"
      ],
      "metadata": {
        "id": "Li1GoCWELMs8"
      }
    },
    {
      "cell_type": "markdown",
      "source": [
        "### Load a dataset"
      ],
      "metadata": {
        "id": "KTBGiaBjL3Lb"
      }
    },
    {
      "cell_type": "code",
      "source": [
        "mnist = tf.keras.datasets.mnist\n",
        "(x_train, y_train), (x_test, y_test) = mnist.load_data()\n",
        "x_train, x_test = x_train / 255.0, x_test / 255.0"
      ],
      "metadata": {
        "id": "6XN7bXf1L7T0"
      },
      "execution_count": null,
      "outputs": []
    },
    {
      "cell_type": "markdown",
      "source": [
        "### Build a machine learning model"
      ],
      "metadata": {
        "id": "dtjs8U8_MN6l"
      }
    },
    {
      "cell_type": "code",
      "source": [
        "model = tf.keras.models.Sequential([\n",
        "    tf.keras.layers.Flatten(input_shape=(28, 28)),\n",
        "    tf.keras.layers.Dense(128, activation=\"relu\"),\n",
        "    tf.keras.layers.Dropout(0.2),\n",
        "    tf.keras.layers.Dense(10)\n",
        "])"
      ],
      "metadata": {
        "id": "GyUX_iIEMRMP"
      },
      "execution_count": null,
      "outputs": []
    },
    {
      "cell_type": "code",
      "source": [
        "predictions = model(x_train[:1]).numpy()\n",
        "predictions"
      ],
      "metadata": {
        "colab": {
          "base_uri": "https://localhost:8080/"
        },
        "id": "lXV_DK2hMfCE",
        "outputId": "0ace1cf8-0f05-4b77-dccd-2916a2449641"
      },
      "execution_count": null,
      "outputs": [
        {
          "output_type": "execute_result",
          "data": {
            "text/plain": [
              "array([[ 0.4965537 ,  0.00359851,  0.2802872 ,  0.5352049 , -0.02380387,\n",
              "        -0.07239889, -0.13487822, -0.1146393 , -0.11549064,  0.06245585]],\n",
              "      dtype=float32)"
            ]
          },
          "metadata": {},
          "execution_count": 235
        }
      ]
    },
    {
      "cell_type": "code",
      "source": [
        "tf.nn.softmax(predictions).numpy()"
      ],
      "metadata": {
        "colab": {
          "base_uri": "https://localhost:8080/"
        },
        "id": "UCftXvszMl4Q",
        "outputId": "3d5df0c1-fcae-4807-b487-e9944f236a2b"
      },
      "execution_count": null,
      "outputs": [
        {
          "output_type": "execute_result",
          "data": {
            "text/plain": [
              "array([[0.14533202, 0.08877151, 0.11706795, 0.15105926, 0.08637198,\n",
              "        0.08227509, 0.07729188, 0.07887214, 0.07880501, 0.0941532 ]],\n",
              "      dtype=float32)"
            ]
          },
          "metadata": {},
          "execution_count": 236
        }
      ]
    },
    {
      "cell_type": "code",
      "source": [
        "loss_fn = tf.keras.losses.SparseCategoricalCrossentropy(from_logits=True)"
      ],
      "metadata": {
        "id": "SFqUBkC1MtYx"
      },
      "execution_count": null,
      "outputs": []
    },
    {
      "cell_type": "code",
      "source": [
        "loss_fn(y_train[:1], predictions).numpy()"
      ],
      "metadata": {
        "colab": {
          "base_uri": "https://localhost:8080/"
        },
        "id": "6xHA1ELdM_TS",
        "outputId": "d7b82051-4971-4642-d112-fa41c98230e2"
      },
      "execution_count": null,
      "outputs": [
        {
          "output_type": "execute_result",
          "data": {
            "text/plain": [
              "2.4976869"
            ]
          },
          "metadata": {},
          "execution_count": 238
        }
      ]
    },
    {
      "cell_type": "code",
      "source": [
        "model.compile(optimizer=\"adam\",\n",
        "              loss=loss_fn,\n",
        "              metrics=[\"accuracy\"])"
      ],
      "metadata": {
        "id": "ikWCNRPQNVCM"
      },
      "execution_count": null,
      "outputs": []
    },
    {
      "cell_type": "code",
      "source": [
        "model.fit(x_train, y_train, epochs=10)"
      ],
      "metadata": {
        "colab": {
          "base_uri": "https://localhost:8080/",
          "height": 433
        },
        "id": "r7fEuUjtNKtN",
        "outputId": "25b6b71c-12bb-4786-ca15-9c0b47358cae"
      },
      "execution_count": null,
      "outputs": [
        {
          "output_type": "stream",
          "name": "stdout",
          "text": [
            "Epoch 1/10\n",
            "1875/1875 [==============================] - 6s 3ms/step - loss: 0.2975 - accuracy: 0.9126\n",
            "Epoch 2/10\n",
            "1875/1875 [==============================] - 6s 3ms/step - loss: 0.1452 - accuracy: 0.9564\n",
            "Epoch 3/10\n",
            " 923/1875 [=============>................] - ETA: 2s - loss: 0.1099 - accuracy: 0.9674"
          ]
        },
        {
          "output_type": "error",
          "ename": "KeyboardInterrupt",
          "evalue": "ignored",
          "traceback": [
            "\u001b[0;31m---------------------------------------------------------------------------\u001b[0m",
            "\u001b[0;31mKeyboardInterrupt\u001b[0m                         Traceback (most recent call last)",
            "\u001b[0;32m<ipython-input-240-c0002c3040bd>\u001b[0m in \u001b[0;36m<module>\u001b[0;34m\u001b[0m\n\u001b[0;32m----> 1\u001b[0;31m \u001b[0mmodel\u001b[0m\u001b[0;34m.\u001b[0m\u001b[0mfit\u001b[0m\u001b[0;34m(\u001b[0m\u001b[0mx_train\u001b[0m\u001b[0;34m,\u001b[0m \u001b[0my_train\u001b[0m\u001b[0;34m,\u001b[0m \u001b[0mepochs\u001b[0m\u001b[0;34m=\u001b[0m\u001b[0;36m10\u001b[0m\u001b[0;34m)\u001b[0m\u001b[0;34m\u001b[0m\u001b[0;34m\u001b[0m\u001b[0m\n\u001b[0m",
            "\u001b[0;32m/usr/local/lib/python3.7/dist-packages/keras/utils/traceback_utils.py\u001b[0m in \u001b[0;36merror_handler\u001b[0;34m(*args, **kwargs)\u001b[0m\n\u001b[1;32m     62\u001b[0m     \u001b[0mfiltered_tb\u001b[0m \u001b[0;34m=\u001b[0m \u001b[0;32mNone\u001b[0m\u001b[0;34m\u001b[0m\u001b[0;34m\u001b[0m\u001b[0m\n\u001b[1;32m     63\u001b[0m     \u001b[0;32mtry\u001b[0m\u001b[0;34m:\u001b[0m\u001b[0;34m\u001b[0m\u001b[0;34m\u001b[0m\u001b[0m\n\u001b[0;32m---> 64\u001b[0;31m       \u001b[0;32mreturn\u001b[0m \u001b[0mfn\u001b[0m\u001b[0;34m(\u001b[0m\u001b[0;34m*\u001b[0m\u001b[0margs\u001b[0m\u001b[0;34m,\u001b[0m \u001b[0;34m**\u001b[0m\u001b[0mkwargs\u001b[0m\u001b[0;34m)\u001b[0m\u001b[0;34m\u001b[0m\u001b[0;34m\u001b[0m\u001b[0m\n\u001b[0m\u001b[1;32m     65\u001b[0m     \u001b[0;32mexcept\u001b[0m \u001b[0mException\u001b[0m \u001b[0;32mas\u001b[0m \u001b[0me\u001b[0m\u001b[0;34m:\u001b[0m  \u001b[0;31m# pylint: disable=broad-except\u001b[0m\u001b[0;34m\u001b[0m\u001b[0;34m\u001b[0m\u001b[0m\n\u001b[1;32m     66\u001b[0m       \u001b[0mfiltered_tb\u001b[0m \u001b[0;34m=\u001b[0m \u001b[0m_process_traceback_frames\u001b[0m\u001b[0;34m(\u001b[0m\u001b[0me\u001b[0m\u001b[0;34m.\u001b[0m\u001b[0m__traceback__\u001b[0m\u001b[0;34m)\u001b[0m\u001b[0;34m\u001b[0m\u001b[0;34m\u001b[0m\u001b[0m\n",
            "\u001b[0;32m/usr/local/lib/python3.7/dist-packages/keras/engine/training.py\u001b[0m in \u001b[0;36mfit\u001b[0;34m(self, x, y, batch_size, epochs, verbose, callbacks, validation_split, validation_data, shuffle, class_weight, sample_weight, initial_epoch, steps_per_epoch, validation_steps, validation_batch_size, validation_freq, max_queue_size, workers, use_multiprocessing)\u001b[0m\n\u001b[1;32m   1399\u001b[0m         \u001b[0;32mwith\u001b[0m \u001b[0mdata_handler\u001b[0m\u001b[0;34m.\u001b[0m\u001b[0mcatch_stop_iteration\u001b[0m\u001b[0;34m(\u001b[0m\u001b[0;34m)\u001b[0m\u001b[0;34m:\u001b[0m\u001b[0;34m\u001b[0m\u001b[0;34m\u001b[0m\u001b[0m\n\u001b[1;32m   1400\u001b[0m           \u001b[0mdata_handler\u001b[0m\u001b[0;34m.\u001b[0m\u001b[0m_initial_step\u001b[0m \u001b[0;34m=\u001b[0m \u001b[0mself\u001b[0m\u001b[0;34m.\u001b[0m\u001b[0m_maybe_load_initial_step_from_ckpt\u001b[0m\u001b[0;34m(\u001b[0m\u001b[0;34m)\u001b[0m  \u001b[0;31m# pylint: disable=protected-access\u001b[0m\u001b[0;34m\u001b[0m\u001b[0;34m\u001b[0m\u001b[0m\n\u001b[0;32m-> 1401\u001b[0;31m           \u001b[0;32mfor\u001b[0m \u001b[0mstep\u001b[0m \u001b[0;32min\u001b[0m \u001b[0mdata_handler\u001b[0m\u001b[0;34m.\u001b[0m\u001b[0msteps\u001b[0m\u001b[0;34m(\u001b[0m\u001b[0;34m)\u001b[0m\u001b[0;34m:\u001b[0m\u001b[0;34m\u001b[0m\u001b[0;34m\u001b[0m\u001b[0m\n\u001b[0m\u001b[1;32m   1402\u001b[0m             with tf.profiler.experimental.Trace(\n\u001b[1;32m   1403\u001b[0m                 \u001b[0;34m'train'\u001b[0m\u001b[0;34m,\u001b[0m\u001b[0;34m\u001b[0m\u001b[0;34m\u001b[0m\u001b[0m\n",
            "\u001b[0;32m/usr/local/lib/python3.7/dist-packages/keras/engine/data_adapter.py\u001b[0m in \u001b[0;36msteps\u001b[0;34m(self)\u001b[0m\n\u001b[1;32m   1246\u001b[0m       \u001b[0;32mif\u001b[0m \u001b[0mself\u001b[0m\u001b[0;34m.\u001b[0m\u001b[0m_insufficient_data\u001b[0m\u001b[0;34m:\u001b[0m  \u001b[0;31m# Set by `catch_stop_iteration`.\u001b[0m\u001b[0;34m\u001b[0m\u001b[0;34m\u001b[0m\u001b[0m\n\u001b[1;32m   1247\u001b[0m         \u001b[0;32mbreak\u001b[0m\u001b[0;34m\u001b[0m\u001b[0;34m\u001b[0m\u001b[0m\n\u001b[0;32m-> 1248\u001b[0;31m       \u001b[0moriginal_spe\u001b[0m \u001b[0;34m=\u001b[0m \u001b[0mself\u001b[0m\u001b[0;34m.\u001b[0m\u001b[0m_steps_per_execution\u001b[0m\u001b[0;34m.\u001b[0m\u001b[0mnumpy\u001b[0m\u001b[0;34m(\u001b[0m\u001b[0;34m)\u001b[0m\u001b[0;34m.\u001b[0m\u001b[0mitem\u001b[0m\u001b[0;34m(\u001b[0m\u001b[0;34m)\u001b[0m\u001b[0;34m\u001b[0m\u001b[0;34m\u001b[0m\u001b[0m\n\u001b[0m\u001b[1;32m   1249\u001b[0m       can_run_full_execution = (\n\u001b[1;32m   1250\u001b[0m           \u001b[0moriginal_spe\u001b[0m \u001b[0;34m==\u001b[0m \u001b[0;36m1\u001b[0m \u001b[0;32mor\u001b[0m\u001b[0;34m\u001b[0m\u001b[0;34m\u001b[0m\u001b[0m\n",
            "\u001b[0;32m/usr/local/lib/python3.7/dist-packages/tensorflow/python/ops/resource_variable_ops.py\u001b[0m in \u001b[0;36mnumpy\u001b[0;34m(self)\u001b[0m\n\u001b[1;32m    635\u001b[0m   \u001b[0;32mdef\u001b[0m \u001b[0mnumpy\u001b[0m\u001b[0;34m(\u001b[0m\u001b[0mself\u001b[0m\u001b[0;34m)\u001b[0m\u001b[0;34m:\u001b[0m\u001b[0;34m\u001b[0m\u001b[0;34m\u001b[0m\u001b[0m\n\u001b[1;32m    636\u001b[0m     \u001b[0;32mif\u001b[0m \u001b[0mcontext\u001b[0m\u001b[0;34m.\u001b[0m\u001b[0mexecuting_eagerly\u001b[0m\u001b[0;34m(\u001b[0m\u001b[0;34m)\u001b[0m\u001b[0;34m:\u001b[0m\u001b[0;34m\u001b[0m\u001b[0;34m\u001b[0m\u001b[0m\n\u001b[0;32m--> 637\u001b[0;31m       \u001b[0;32mreturn\u001b[0m \u001b[0mself\u001b[0m\u001b[0;34m.\u001b[0m\u001b[0mread_value\u001b[0m\u001b[0;34m(\u001b[0m\u001b[0;34m)\u001b[0m\u001b[0;34m.\u001b[0m\u001b[0mnumpy\u001b[0m\u001b[0;34m(\u001b[0m\u001b[0;34m)\u001b[0m\u001b[0;34m\u001b[0m\u001b[0;34m\u001b[0m\u001b[0m\n\u001b[0m\u001b[1;32m    638\u001b[0m     raise NotImplementedError(\n\u001b[1;32m    639\u001b[0m         \"numpy() is only available when eager execution is enabled.\")\n",
            "\u001b[0;32m/usr/local/lib/python3.7/dist-packages/tensorflow/python/ops/resource_variable_ops.py\u001b[0m in \u001b[0;36mread_value\u001b[0;34m(self)\u001b[0m\n\u001b[1;32m    710\u001b[0m     \"\"\"\n\u001b[1;32m    711\u001b[0m     \u001b[0;32mwith\u001b[0m \u001b[0mops\u001b[0m\u001b[0;34m.\u001b[0m\u001b[0mname_scope\u001b[0m\u001b[0;34m(\u001b[0m\u001b[0;34m\"Read\"\u001b[0m\u001b[0;34m)\u001b[0m\u001b[0;34m:\u001b[0m\u001b[0;34m\u001b[0m\u001b[0;34m\u001b[0m\u001b[0m\n\u001b[0;32m--> 712\u001b[0;31m       \u001b[0mvalue\u001b[0m \u001b[0;34m=\u001b[0m \u001b[0mself\u001b[0m\u001b[0;34m.\u001b[0m\u001b[0m_read_variable_op\u001b[0m\u001b[0;34m(\u001b[0m\u001b[0;34m)\u001b[0m\u001b[0;34m\u001b[0m\u001b[0;34m\u001b[0m\u001b[0m\n\u001b[0m\u001b[1;32m    713\u001b[0m     \u001b[0;31m# Return an identity so it can get placed on whatever device the context\u001b[0m\u001b[0;34m\u001b[0m\u001b[0;34m\u001b[0m\u001b[0;34m\u001b[0m\u001b[0m\n\u001b[1;32m    714\u001b[0m     \u001b[0;31m# specifies instead of the device where the variable is.\u001b[0m\u001b[0;34m\u001b[0m\u001b[0;34m\u001b[0m\u001b[0;34m\u001b[0m\u001b[0m\n",
            "\u001b[0;32m/usr/local/lib/python3.7/dist-packages/tensorflow/python/ops/resource_variable_ops.py\u001b[0m in \u001b[0;36m_read_variable_op\u001b[0;34m(self)\u001b[0m\n\u001b[1;32m    689\u001b[0m           \u001b[0mresult\u001b[0m \u001b[0;34m=\u001b[0m \u001b[0mread_and_set_handle\u001b[0m\u001b[0;34m(\u001b[0m\u001b[0;34m)\u001b[0m\u001b[0;34m\u001b[0m\u001b[0;34m\u001b[0m\u001b[0m\n\u001b[1;32m    690\u001b[0m     \u001b[0;32melse\u001b[0m\u001b[0;34m:\u001b[0m\u001b[0;34m\u001b[0m\u001b[0;34m\u001b[0m\u001b[0m\n\u001b[0;32m--> 691\u001b[0;31m       \u001b[0mresult\u001b[0m \u001b[0;34m=\u001b[0m \u001b[0mread_and_set_handle\u001b[0m\u001b[0;34m(\u001b[0m\u001b[0;34m)\u001b[0m\u001b[0;34m\u001b[0m\u001b[0;34m\u001b[0m\u001b[0m\n\u001b[0m\u001b[1;32m    692\u001b[0m \u001b[0;34m\u001b[0m\u001b[0m\n\u001b[1;32m    693\u001b[0m     \u001b[0;32mif\u001b[0m \u001b[0;32mnot\u001b[0m \u001b[0mcontext\u001b[0m\u001b[0;34m.\u001b[0m\u001b[0mexecuting_eagerly\u001b[0m\u001b[0;34m(\u001b[0m\u001b[0;34m)\u001b[0m\u001b[0;34m:\u001b[0m\u001b[0;34m\u001b[0m\u001b[0;34m\u001b[0m\u001b[0m\n",
            "\u001b[0;32m/usr/local/lib/python3.7/dist-packages/tensorflow/python/ops/resource_variable_ops.py\u001b[0m in \u001b[0;36mread_and_set_handle\u001b[0;34m()\u001b[0m\n\u001b[1;32m    680\u001b[0m     \u001b[0;32mdef\u001b[0m \u001b[0mread_and_set_handle\u001b[0m\u001b[0;34m(\u001b[0m\u001b[0;34m)\u001b[0m\u001b[0;34m:\u001b[0m\u001b[0;34m\u001b[0m\u001b[0;34m\u001b[0m\u001b[0m\n\u001b[1;32m    681\u001b[0m       result = gen_resource_variable_ops.read_variable_op(\n\u001b[0;32m--> 682\u001b[0;31m           self.handle, self._dtype)\n\u001b[0m\u001b[1;32m    683\u001b[0m       \u001b[0m_maybe_set_handle_data\u001b[0m\u001b[0;34m(\u001b[0m\u001b[0mself\u001b[0m\u001b[0;34m.\u001b[0m\u001b[0m_dtype\u001b[0m\u001b[0;34m,\u001b[0m \u001b[0mself\u001b[0m\u001b[0;34m.\u001b[0m\u001b[0mhandle\u001b[0m\u001b[0;34m,\u001b[0m \u001b[0mresult\u001b[0m\u001b[0;34m)\u001b[0m\u001b[0;34m\u001b[0m\u001b[0;34m\u001b[0m\u001b[0m\n\u001b[1;32m    684\u001b[0m       \u001b[0;32mreturn\u001b[0m \u001b[0mresult\u001b[0m\u001b[0;34m\u001b[0m\u001b[0;34m\u001b[0m\u001b[0m\n",
            "\u001b[0;32m/usr/local/lib/python3.7/dist-packages/tensorflow/python/ops/gen_resource_variable_ops.py\u001b[0m in \u001b[0;36mread_variable_op\u001b[0;34m(resource, dtype, name)\u001b[0m\n\u001b[1;32m    478\u001b[0m     \u001b[0;32mtry\u001b[0m\u001b[0;34m:\u001b[0m\u001b[0;34m\u001b[0m\u001b[0;34m\u001b[0m\u001b[0m\n\u001b[1;32m    479\u001b[0m       _result = pywrap_tfe.TFE_Py_FastPathExecute(\n\u001b[0;32m--> 480\u001b[0;31m         _ctx, \"ReadVariableOp\", name, resource, \"dtype\", dtype)\n\u001b[0m\u001b[1;32m    481\u001b[0m       \u001b[0;32mreturn\u001b[0m \u001b[0m_result\u001b[0m\u001b[0;34m\u001b[0m\u001b[0;34m\u001b[0m\u001b[0m\n\u001b[1;32m    482\u001b[0m     \u001b[0;32mexcept\u001b[0m \u001b[0m_core\u001b[0m\u001b[0;34m.\u001b[0m\u001b[0m_NotOkStatusException\u001b[0m \u001b[0;32mas\u001b[0m \u001b[0me\u001b[0m\u001b[0;34m:\u001b[0m\u001b[0;34m\u001b[0m\u001b[0;34m\u001b[0m\u001b[0m\n",
            "\u001b[0;31mKeyboardInterrupt\u001b[0m: "
          ]
        }
      ]
    },
    {
      "cell_type": "code",
      "source": [
        "model.evaluate(x_test, y_test, verbose=2)"
      ],
      "metadata": {
        "id": "TnYklKTVNe_P"
      },
      "execution_count": null,
      "outputs": []
    },
    {
      "cell_type": "code",
      "source": [
        "probability_model = tf.keras.Sequential([\n",
        "    model,\n",
        "    tf.keras.layers.Softmax()\n",
        "])"
      ],
      "metadata": {
        "id": "iw3Zs02eOPde"
      },
      "execution_count": null,
      "outputs": []
    },
    {
      "cell_type": "code",
      "source": [
        "probability_model(x_test[:5])"
      ],
      "metadata": {
        "id": "0aGfDKenOXmc"
      },
      "execution_count": null,
      "outputs": []
    }
  ]
}